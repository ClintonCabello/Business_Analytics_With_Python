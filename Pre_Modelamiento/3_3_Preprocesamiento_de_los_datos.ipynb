{
  "cells": [
    {
      "cell_type": "code",
      "execution_count": null,
      "id": "d60d7734-980f-410d-a7e1-f2997486fd4d",
      "metadata": {
        "id": "d60d7734-980f-410d-a7e1-f2997486fd4d"
      },
      "outputs": [],
      "source": [
        "# Importamos las librerías necesarias\n",
        "import pandas as pd\n",
        "import numpy as np\n",
        "import seaborn as sns\n",
        "import matplotlib.pyplot as plt\n",
        "import os\n",
        "import warnings\n",
        "warnings.filterwarnings(\"ignore\")"
      ]
    },
    {
      "cell_type": "code",
      "execution_count": null,
      "id": "25bb80a9-33d2-4bf5-9736-a4d068d2ae0e",
      "metadata": {
        "id": "25bb80a9-33d2-4bf5-9736-a4d068d2ae0e"
      },
      "outputs": [],
      "source": [
        "# Creamos variables para su posterior uso en la importación de la base\n",
        "path = r\"D:\\Briam\\Clases\\GEM PERU\\1. Bussiness Analytics con Python\\2. Inputs\".replace(\"\\\\\",\"/\")\n",
        "name = \"MarketingDirecto_limpio.csv\""
      ]
    },
    {
      "cell_type": "code",
      "execution_count": null,
      "id": "cf848fb1-37e7-49d5-92f6-b45992aecaf3",
      "metadata": {
        "id": "cf848fb1-37e7-49d5-92f6-b45992aecaf3",
        "outputId": "41ed8ba4-44a7-4131-dd0b-9a2c116cb337"
      },
      "outputs": [
        {
          "data": {
            "text/html": [
              "<div>\n",
              "<style scoped>\n",
              "    .dataframe tbody tr th:only-of-type {\n",
              "        vertical-align: middle;\n",
              "    }\n",
              "\n",
              "    .dataframe tbody tr th {\n",
              "        vertical-align: top;\n",
              "    }\n",
              "\n",
              "    .dataframe thead th {\n",
              "        text-align: right;\n",
              "    }\n",
              "</style>\n",
              "<table border=\"1\" class=\"dataframe\">\n",
              "  <thead>\n",
              "    <tr style=\"text-align: right;\">\n",
              "      <th></th>\n",
              "      <th>Edad</th>\n",
              "      <th>Genero</th>\n",
              "      <th>Vivienda</th>\n",
              "      <th>Ecivil</th>\n",
              "      <th>Ubicacion</th>\n",
              "      <th>Salario</th>\n",
              "      <th>Hijos</th>\n",
              "      <th>Historial</th>\n",
              "      <th>Catalogos</th>\n",
              "      <th>Monto</th>\n",
              "    </tr>\n",
              "  </thead>\n",
              "  <tbody>\n",
              "    <tr>\n",
              "      <th>0</th>\n",
              "      <td>Adulta</td>\n",
              "      <td>Femenino</td>\n",
              "      <td>Propia</td>\n",
              "      <td>Soltero</td>\n",
              "      <td>Lejos</td>\n",
              "      <td>47500</td>\n",
              "      <td>0</td>\n",
              "      <td>Alto</td>\n",
              "      <td>6</td>\n",
              "      <td>755</td>\n",
              "    </tr>\n",
              "    <tr>\n",
              "      <th>1</th>\n",
              "      <td>Media</td>\n",
              "      <td>Masculino</td>\n",
              "      <td>Alquilada</td>\n",
              "      <td>Soltero</td>\n",
              "      <td>Cerca</td>\n",
              "      <td>63600</td>\n",
              "      <td>0</td>\n",
              "      <td>Alto</td>\n",
              "      <td>6</td>\n",
              "      <td>1318</td>\n",
              "    </tr>\n",
              "    <tr>\n",
              "      <th>2</th>\n",
              "      <td>Joven</td>\n",
              "      <td>Femenino</td>\n",
              "      <td>Alquilada</td>\n",
              "      <td>Soltero</td>\n",
              "      <td>Cerca</td>\n",
              "      <td>13500</td>\n",
              "      <td>0</td>\n",
              "      <td>Bajo</td>\n",
              "      <td>18</td>\n",
              "      <td>296</td>\n",
              "    </tr>\n",
              "    <tr>\n",
              "      <th>3</th>\n",
              "      <td>Media</td>\n",
              "      <td>Masculino</td>\n",
              "      <td>Propia</td>\n",
              "      <td>Casado</td>\n",
              "      <td>Cerca</td>\n",
              "      <td>85600</td>\n",
              "      <td>1</td>\n",
              "      <td>Alto</td>\n",
              "      <td>18</td>\n",
              "      <td>2436</td>\n",
              "    </tr>\n",
              "    <tr>\n",
              "      <th>4</th>\n",
              "      <td>Media</td>\n",
              "      <td>Femenino</td>\n",
              "      <td>Propia</td>\n",
              "      <td>Soltero</td>\n",
              "      <td>Cerca</td>\n",
              "      <td>68400</td>\n",
              "      <td>0</td>\n",
              "      <td>Alto</td>\n",
              "      <td>12</td>\n",
              "      <td>1304</td>\n",
              "    </tr>\n",
              "  </tbody>\n",
              "</table>\n",
              "</div>"
            ],
            "text/plain": [
              "     Edad     Genero   Vivienda   Ecivil Ubicacion  Salario  Hijos Historial  \\\n",
              "0  Adulta   Femenino     Propia  Soltero     Lejos    47500      0      Alto   \n",
              "1   Media  Masculino  Alquilada  Soltero     Cerca    63600      0      Alto   \n",
              "2   Joven   Femenino  Alquilada  Soltero     Cerca    13500      0      Bajo   \n",
              "3   Media  Masculino     Propia   Casado     Cerca    85600      1      Alto   \n",
              "4   Media   Femenino     Propia  Soltero     Cerca    68400      0      Alto   \n",
              "\n",
              "   Catalogos  Monto  \n",
              "0          6    755  \n",
              "1          6   1318  \n",
              "2         18    296  \n",
              "3         18   2436  \n",
              "4         12   1304  "
            ]
          },
          "execution_count": 3,
          "metadata": {},
          "output_type": "execute_result"
        }
      ],
      "source": [
        "# Importamos la base\n",
        "df = pd.read_csv(path+\"/\"+name, sep = \",\", header = 0)\n",
        "df.head()"
      ]
    },
    {
      "cell_type": "code",
      "execution_count": null,
      "id": "78251a98-4f74-4383-bf56-f70374cab354",
      "metadata": {
        "id": "78251a98-4f74-4383-bf56-f70374cab354"
      },
      "outputs": [],
      "source": [
        "df_pre = df.copy()"
      ]
    },
    {
      "cell_type": "markdown",
      "id": "bc0fa6f3-0e92-42c4-9467-21f28f8146b8",
      "metadata": {
        "id": "bc0fa6f3-0e92-42c4-9467-21f28f8146b8"
      },
      "source": [
        "### Datos Categóricos"
      ]
    },
    {
      "cell_type": "markdown",
      "id": "7b6610f2-6f3f-4f9c-ae1d-e49aef726054",
      "metadata": {
        "id": "7b6610f2-6f3f-4f9c-ae1d-e49aef726054"
      },
      "source": [
        "Analizamos nuestras variables de tipo categórico"
      ]
    },
    {
      "cell_type": "code",
      "execution_count": null,
      "id": "656a669e-b2d7-4103-90af-1ea56f9c467f",
      "metadata": {
        "id": "656a669e-b2d7-4103-90af-1ea56f9c467f",
        "outputId": "28bb93ce-9377-4c8e-d528-192e355c62f3"
      },
      "outputs": [
        {
          "data": {
            "text/html": [
              "<div>\n",
              "<style scoped>\n",
              "    .dataframe tbody tr th:only-of-type {\n",
              "        vertical-align: middle;\n",
              "    }\n",
              "\n",
              "    .dataframe tbody tr th {\n",
              "        vertical-align: top;\n",
              "    }\n",
              "\n",
              "    .dataframe thead th {\n",
              "        text-align: right;\n",
              "    }\n",
              "</style>\n",
              "<table border=\"1\" class=\"dataframe\">\n",
              "  <thead>\n",
              "    <tr style=\"text-align: right;\">\n",
              "      <th></th>\n",
              "      <th>Edad</th>\n",
              "      <th>Genero</th>\n",
              "      <th>Vivienda</th>\n",
              "      <th>Ecivil</th>\n",
              "      <th>Ubicacion</th>\n",
              "      <th>Historial</th>\n",
              "    </tr>\n",
              "  </thead>\n",
              "  <tbody>\n",
              "    <tr>\n",
              "      <th>0</th>\n",
              "      <td>Adulta</td>\n",
              "      <td>Femenino</td>\n",
              "      <td>Propia</td>\n",
              "      <td>Soltero</td>\n",
              "      <td>Lejos</td>\n",
              "      <td>Alto</td>\n",
              "    </tr>\n",
              "    <tr>\n",
              "      <th>1</th>\n",
              "      <td>Media</td>\n",
              "      <td>Masculino</td>\n",
              "      <td>Alquilada</td>\n",
              "      <td>Soltero</td>\n",
              "      <td>Cerca</td>\n",
              "      <td>Alto</td>\n",
              "    </tr>\n",
              "    <tr>\n",
              "      <th>2</th>\n",
              "      <td>Joven</td>\n",
              "      <td>Femenino</td>\n",
              "      <td>Alquilada</td>\n",
              "      <td>Soltero</td>\n",
              "      <td>Cerca</td>\n",
              "      <td>Bajo</td>\n",
              "    </tr>\n",
              "    <tr>\n",
              "      <th>3</th>\n",
              "      <td>Media</td>\n",
              "      <td>Masculino</td>\n",
              "      <td>Propia</td>\n",
              "      <td>Casado</td>\n",
              "      <td>Cerca</td>\n",
              "      <td>Alto</td>\n",
              "    </tr>\n",
              "    <tr>\n",
              "      <th>4</th>\n",
              "      <td>Media</td>\n",
              "      <td>Femenino</td>\n",
              "      <td>Propia</td>\n",
              "      <td>Soltero</td>\n",
              "      <td>Cerca</td>\n",
              "      <td>Alto</td>\n",
              "    </tr>\n",
              "  </tbody>\n",
              "</table>\n",
              "</div>"
            ],
            "text/plain": [
              "     Edad     Genero   Vivienda   Ecivil Ubicacion Historial\n",
              "0  Adulta   Femenino     Propia  Soltero     Lejos      Alto\n",
              "1   Media  Masculino  Alquilada  Soltero     Cerca      Alto\n",
              "2   Joven   Femenino  Alquilada  Soltero     Cerca      Bajo\n",
              "3   Media  Masculino     Propia   Casado     Cerca      Alto\n",
              "4   Media   Femenino     Propia  Soltero     Cerca      Alto"
            ]
          },
          "execution_count": 5,
          "metadata": {},
          "output_type": "execute_result"
        }
      ],
      "source": [
        "df_pre_cat = df_pre.select_dtypes(\"object\")\n",
        "df_pre_cat.head()"
      ]
    },
    {
      "cell_type": "markdown",
      "id": "def8f0f3-f10f-4ee8-a47e-b0c4d6922a76",
      "metadata": {
        "id": "def8f0f3-f10f-4ee8-a47e-b0c4d6922a76"
      },
      "source": [
        "*Consideración: Para utilizar cualquier modelo es necesario convertir nuestros datos categóricos a numéricos*"
      ]
    },
    {
      "cell_type": "markdown",
      "id": "89373a29-e3c7-4386-bc12-e2e1322ec36e",
      "metadata": {
        "id": "89373a29-e3c7-4386-bc12-e2e1322ec36e"
      },
      "source": [
        "**Variables categóricas ordinales:** Sus valores se pueden clasificar en categorías y se pueden ordenar en jerarquías"
      ]
    },
    {
      "cell_type": "code",
      "execution_count": null,
      "id": "488532f7-e8e9-419b-8f01-1281097a5763",
      "metadata": {
        "id": "488532f7-e8e9-419b-8f01-1281097a5763",
        "outputId": "05cd8303-47b1-4efd-8bd4-8be8d28e01bb"
      },
      "outputs": [
        {
          "data": {
            "text/plain": [
              "array(['Adulta', 'Media', 'Joven'], dtype=object)"
            ]
          },
          "execution_count": 6,
          "metadata": {},
          "output_type": "execute_result"
        }
      ],
      "source": [
        "df_pre_cat[\"Edad\"].unique()"
      ]
    },
    {
      "cell_type": "code",
      "execution_count": null,
      "id": "73ce9a16-e209-42ab-940e-5d5f9c81b6d9",
      "metadata": {
        "id": "73ce9a16-e209-42ab-940e-5d5f9c81b6d9"
      },
      "outputs": [],
      "source": [
        "from sklearn.preprocessing import OrdinalEncoder"
      ]
    },
    {
      "cell_type": "code",
      "execution_count": null,
      "id": "45b9d321-f8ae-4e3f-a959-c76fa684a0c8",
      "metadata": {
        "id": "45b9d321-f8ae-4e3f-a959-c76fa684a0c8"
      },
      "outputs": [],
      "source": [
        "oe = OrdinalEncoder(categories = [[\"Joven\",\"Media\",\"Adulta\"]])"
      ]
    },
    {
      "cell_type": "code",
      "execution_count": null,
      "id": "247252d0-eb26-4203-8bf0-3134bfadd99d",
      "metadata": {
        "id": "247252d0-eb26-4203-8bf0-3134bfadd99d",
        "outputId": "a765c305-103d-411f-843f-4c7308bd20a4"
      },
      "outputs": [
        {
          "data": {
            "text/html": [
              "<div>\n",
              "<style scoped>\n",
              "    .dataframe tbody tr th:only-of-type {\n",
              "        vertical-align: middle;\n",
              "    }\n",
              "\n",
              "    .dataframe tbody tr th {\n",
              "        vertical-align: top;\n",
              "    }\n",
              "\n",
              "    .dataframe thead th {\n",
              "        text-align: right;\n",
              "    }\n",
              "</style>\n",
              "<table border=\"1\" class=\"dataframe\">\n",
              "  <thead>\n",
              "    <tr style=\"text-align: right;\">\n",
              "      <th></th>\n",
              "      <th>Edad</th>\n",
              "      <th>Genero</th>\n",
              "      <th>Vivienda</th>\n",
              "      <th>Ecivil</th>\n",
              "      <th>Ubicacion</th>\n",
              "      <th>Historial</th>\n",
              "      <th>Edad_Ordinal</th>\n",
              "    </tr>\n",
              "  </thead>\n",
              "  <tbody>\n",
              "    <tr>\n",
              "      <th>0</th>\n",
              "      <td>Adulta</td>\n",
              "      <td>Femenino</td>\n",
              "      <td>Propia</td>\n",
              "      <td>Soltero</td>\n",
              "      <td>Lejos</td>\n",
              "      <td>Alto</td>\n",
              "      <td>2.0</td>\n",
              "    </tr>\n",
              "    <tr>\n",
              "      <th>1</th>\n",
              "      <td>Media</td>\n",
              "      <td>Masculino</td>\n",
              "      <td>Alquilada</td>\n",
              "      <td>Soltero</td>\n",
              "      <td>Cerca</td>\n",
              "      <td>Alto</td>\n",
              "      <td>1.0</td>\n",
              "    </tr>\n",
              "    <tr>\n",
              "      <th>2</th>\n",
              "      <td>Joven</td>\n",
              "      <td>Femenino</td>\n",
              "      <td>Alquilada</td>\n",
              "      <td>Soltero</td>\n",
              "      <td>Cerca</td>\n",
              "      <td>Bajo</td>\n",
              "      <td>0.0</td>\n",
              "    </tr>\n",
              "    <tr>\n",
              "      <th>3</th>\n",
              "      <td>Media</td>\n",
              "      <td>Masculino</td>\n",
              "      <td>Propia</td>\n",
              "      <td>Casado</td>\n",
              "      <td>Cerca</td>\n",
              "      <td>Alto</td>\n",
              "      <td>1.0</td>\n",
              "    </tr>\n",
              "    <tr>\n",
              "      <th>4</th>\n",
              "      <td>Media</td>\n",
              "      <td>Femenino</td>\n",
              "      <td>Propia</td>\n",
              "      <td>Soltero</td>\n",
              "      <td>Cerca</td>\n",
              "      <td>Alto</td>\n",
              "      <td>1.0</td>\n",
              "    </tr>\n",
              "  </tbody>\n",
              "</table>\n",
              "</div>"
            ],
            "text/plain": [
              "     Edad     Genero   Vivienda   Ecivil Ubicacion Historial  Edad_Ordinal\n",
              "0  Adulta   Femenino     Propia  Soltero     Lejos      Alto           2.0\n",
              "1   Media  Masculino  Alquilada  Soltero     Cerca      Alto           1.0\n",
              "2   Joven   Femenino  Alquilada  Soltero     Cerca      Bajo           0.0\n",
              "3   Media  Masculino     Propia   Casado     Cerca      Alto           1.0\n",
              "4   Media   Femenino     Propia  Soltero     Cerca      Alto           1.0"
            ]
          },
          "execution_count": 9,
          "metadata": {},
          "output_type": "execute_result"
        }
      ],
      "source": [
        "df_pre_cat[\"Edad_Ordinal\"] = oe.fit_transform(df_pre_cat[[\"Edad\"]])\n",
        "df_pre_cat.head()"
      ]
    },
    {
      "cell_type": "markdown",
      "id": "475646ca-294f-438c-bc8a-ddc095301ed4",
      "metadata": {
        "id": "475646ca-294f-438c-bc8a-ddc095301ed4"
      },
      "source": [
        "*Consideración: Cuando utilizas el encoding, los labels son guardados para ser usados en el momento que lo necesites.*"
      ]
    },
    {
      "cell_type": "code",
      "execution_count": null,
      "id": "753a908b-c2e4-4c29-b200-1e7e558653a5",
      "metadata": {
        "id": "753a908b-c2e4-4c29-b200-1e7e558653a5",
        "outputId": "34f68870-0ef6-4fa6-d5bd-60d4f519bc70"
      },
      "outputs": [
        {
          "data": {
            "text/plain": [
              "[array(['Joven', 'Media', 'Adulta'], dtype=object)]"
            ]
          },
          "execution_count": 10,
          "metadata": {},
          "output_type": "execute_result"
        }
      ],
      "source": [
        "oe.categories_"
      ]
    },
    {
      "cell_type": "code",
      "execution_count": null,
      "id": "814ed71c-340b-4681-bb2b-dfd7600ffdb8",
      "metadata": {
        "id": "814ed71c-340b-4681-bb2b-dfd7600ffdb8",
        "outputId": "eff0ae3d-f891-4999-eca2-8704a22a7eea"
      },
      "outputs": [
        {
          "data": {
            "text/html": [
              "<div>\n",
              "<style scoped>\n",
              "    .dataframe tbody tr th:only-of-type {\n",
              "        vertical-align: middle;\n",
              "    }\n",
              "\n",
              "    .dataframe tbody tr th {\n",
              "        vertical-align: top;\n",
              "    }\n",
              "\n",
              "    .dataframe thead th {\n",
              "        text-align: right;\n",
              "    }\n",
              "</style>\n",
              "<table border=\"1\" class=\"dataframe\">\n",
              "  <thead>\n",
              "    <tr style=\"text-align: right;\">\n",
              "      <th></th>\n",
              "      <th>Genero</th>\n",
              "      <th>Vivienda</th>\n",
              "      <th>Ecivil</th>\n",
              "      <th>Ubicacion</th>\n",
              "      <th>Historial</th>\n",
              "      <th>Edad_Ordinal</th>\n",
              "    </tr>\n",
              "  </thead>\n",
              "  <tbody>\n",
              "    <tr>\n",
              "      <th>0</th>\n",
              "      <td>Femenino</td>\n",
              "      <td>Propia</td>\n",
              "      <td>Soltero</td>\n",
              "      <td>Lejos</td>\n",
              "      <td>Alto</td>\n",
              "      <td>2.0</td>\n",
              "    </tr>\n",
              "    <tr>\n",
              "      <th>1</th>\n",
              "      <td>Masculino</td>\n",
              "      <td>Alquilada</td>\n",
              "      <td>Soltero</td>\n",
              "      <td>Cerca</td>\n",
              "      <td>Alto</td>\n",
              "      <td>1.0</td>\n",
              "    </tr>\n",
              "    <tr>\n",
              "      <th>2</th>\n",
              "      <td>Femenino</td>\n",
              "      <td>Alquilada</td>\n",
              "      <td>Soltero</td>\n",
              "      <td>Cerca</td>\n",
              "      <td>Bajo</td>\n",
              "      <td>0.0</td>\n",
              "    </tr>\n",
              "    <tr>\n",
              "      <th>3</th>\n",
              "      <td>Masculino</td>\n",
              "      <td>Propia</td>\n",
              "      <td>Casado</td>\n",
              "      <td>Cerca</td>\n",
              "      <td>Alto</td>\n",
              "      <td>1.0</td>\n",
              "    </tr>\n",
              "    <tr>\n",
              "      <th>4</th>\n",
              "      <td>Femenino</td>\n",
              "      <td>Propia</td>\n",
              "      <td>Soltero</td>\n",
              "      <td>Cerca</td>\n",
              "      <td>Alto</td>\n",
              "      <td>1.0</td>\n",
              "    </tr>\n",
              "  </tbody>\n",
              "</table>\n",
              "</div>"
            ],
            "text/plain": [
              "      Genero   Vivienda   Ecivil Ubicacion Historial  Edad_Ordinal\n",
              "0   Femenino     Propia  Soltero     Lejos      Alto           2.0\n",
              "1  Masculino  Alquilada  Soltero     Cerca      Alto           1.0\n",
              "2   Femenino  Alquilada  Soltero     Cerca      Bajo           0.0\n",
              "3  Masculino     Propia   Casado     Cerca      Alto           1.0\n",
              "4   Femenino     Propia  Soltero     Cerca      Alto           1.0"
            ]
          },
          "execution_count": 11,
          "metadata": {},
          "output_type": "execute_result"
        }
      ],
      "source": [
        "# Borramos la variable Edad\n",
        "df_pre_cat = df_pre_cat.drop(columns = [\"Edad\"])\n",
        "df_pre_cat.head()"
      ]
    },
    {
      "cell_type": "code",
      "execution_count": null,
      "id": "ad30b78e-c3f8-4bc3-8b46-d60023760598",
      "metadata": {
        "id": "ad30b78e-c3f8-4bc3-8b46-d60023760598",
        "outputId": "9fe1a3bc-60d4-4fd9-c338-efd2b3ffd6d6"
      },
      "outputs": [
        {
          "data": {
            "text/html": [
              "<div>\n",
              "<style scoped>\n",
              "    .dataframe tbody tr th:only-of-type {\n",
              "        vertical-align: middle;\n",
              "    }\n",
              "\n",
              "    .dataframe tbody tr th {\n",
              "        vertical-align: top;\n",
              "    }\n",
              "\n",
              "    .dataframe thead th {\n",
              "        text-align: right;\n",
              "    }\n",
              "</style>\n",
              "<table border=\"1\" class=\"dataframe\">\n",
              "  <thead>\n",
              "    <tr style=\"text-align: right;\">\n",
              "      <th></th>\n",
              "      <th>Genero</th>\n",
              "      <th>Vivienda</th>\n",
              "      <th>Ecivil</th>\n",
              "      <th>Ubicacion</th>\n",
              "      <th>Historial</th>\n",
              "      <th>Edad_Ordinal</th>\n",
              "      <th>Edad</th>\n",
              "    </tr>\n",
              "  </thead>\n",
              "  <tbody>\n",
              "    <tr>\n",
              "      <th>0</th>\n",
              "      <td>Femenino</td>\n",
              "      <td>Propia</td>\n",
              "      <td>Soltero</td>\n",
              "      <td>Lejos</td>\n",
              "      <td>Alto</td>\n",
              "      <td>2.0</td>\n",
              "      <td>Adulta</td>\n",
              "    </tr>\n",
              "    <tr>\n",
              "      <th>1</th>\n",
              "      <td>Masculino</td>\n",
              "      <td>Alquilada</td>\n",
              "      <td>Soltero</td>\n",
              "      <td>Cerca</td>\n",
              "      <td>Alto</td>\n",
              "      <td>1.0</td>\n",
              "      <td>Media</td>\n",
              "    </tr>\n",
              "    <tr>\n",
              "      <th>2</th>\n",
              "      <td>Femenino</td>\n",
              "      <td>Alquilada</td>\n",
              "      <td>Soltero</td>\n",
              "      <td>Cerca</td>\n",
              "      <td>Bajo</td>\n",
              "      <td>0.0</td>\n",
              "      <td>Joven</td>\n",
              "    </tr>\n",
              "    <tr>\n",
              "      <th>3</th>\n",
              "      <td>Masculino</td>\n",
              "      <td>Propia</td>\n",
              "      <td>Casado</td>\n",
              "      <td>Cerca</td>\n",
              "      <td>Alto</td>\n",
              "      <td>1.0</td>\n",
              "      <td>Media</td>\n",
              "    </tr>\n",
              "    <tr>\n",
              "      <th>4</th>\n",
              "      <td>Femenino</td>\n",
              "      <td>Propia</td>\n",
              "      <td>Soltero</td>\n",
              "      <td>Cerca</td>\n",
              "      <td>Alto</td>\n",
              "      <td>1.0</td>\n",
              "      <td>Media</td>\n",
              "    </tr>\n",
              "  </tbody>\n",
              "</table>\n",
              "</div>"
            ],
            "text/plain": [
              "      Genero   Vivienda   Ecivil Ubicacion Historial  Edad_Ordinal    Edad\n",
              "0   Femenino     Propia  Soltero     Lejos      Alto           2.0  Adulta\n",
              "1  Masculino  Alquilada  Soltero     Cerca      Alto           1.0   Media\n",
              "2   Femenino  Alquilada  Soltero     Cerca      Bajo           0.0   Joven\n",
              "3  Masculino     Propia   Casado     Cerca      Alto           1.0   Media\n",
              "4   Femenino     Propia  Soltero     Cerca      Alto           1.0   Media"
            ]
          },
          "execution_count": 12,
          "metadata": {},
          "output_type": "execute_result"
        }
      ],
      "source": [
        "# Reconstruimos la variable Edad inicial\n",
        "df_pre_cat[\"Edad\"] = pd.DataFrame(oe.inverse_transform(df_pre_cat[[\"Edad_Ordinal\"]]))\n",
        "df_pre_cat.head()"
      ]
    },
    {
      "cell_type": "code",
      "execution_count": null,
      "id": "8513831b-5e17-4d6d-a2c4-b5b6de35d944",
      "metadata": {
        "id": "8513831b-5e17-4d6d-a2c4-b5b6de35d944",
        "outputId": "95804a26-cc26-43d2-a64b-e1cbc324fa7b"
      },
      "outputs": [
        {
          "data": {
            "text/html": [
              "<div>\n",
              "<style scoped>\n",
              "    .dataframe tbody tr th:only-of-type {\n",
              "        vertical-align: middle;\n",
              "    }\n",
              "\n",
              "    .dataframe tbody tr th {\n",
              "        vertical-align: top;\n",
              "    }\n",
              "\n",
              "    .dataframe thead th {\n",
              "        text-align: right;\n",
              "    }\n",
              "</style>\n",
              "<table border=\"1\" class=\"dataframe\">\n",
              "  <thead>\n",
              "    <tr style=\"text-align: right;\">\n",
              "      <th></th>\n",
              "      <th>Genero</th>\n",
              "      <th>Vivienda</th>\n",
              "      <th>Ecivil</th>\n",
              "      <th>Ubicacion</th>\n",
              "      <th>Historial</th>\n",
              "      <th>Edad_Ordinal</th>\n",
              "    </tr>\n",
              "  </thead>\n",
              "  <tbody>\n",
              "    <tr>\n",
              "      <th>0</th>\n",
              "      <td>Femenino</td>\n",
              "      <td>Propia</td>\n",
              "      <td>Soltero</td>\n",
              "      <td>Lejos</td>\n",
              "      <td>Alto</td>\n",
              "      <td>2.0</td>\n",
              "    </tr>\n",
              "    <tr>\n",
              "      <th>1</th>\n",
              "      <td>Masculino</td>\n",
              "      <td>Alquilada</td>\n",
              "      <td>Soltero</td>\n",
              "      <td>Cerca</td>\n",
              "      <td>Alto</td>\n",
              "      <td>1.0</td>\n",
              "    </tr>\n",
              "    <tr>\n",
              "      <th>2</th>\n",
              "      <td>Femenino</td>\n",
              "      <td>Alquilada</td>\n",
              "      <td>Soltero</td>\n",
              "      <td>Cerca</td>\n",
              "      <td>Bajo</td>\n",
              "      <td>0.0</td>\n",
              "    </tr>\n",
              "    <tr>\n",
              "      <th>3</th>\n",
              "      <td>Masculino</td>\n",
              "      <td>Propia</td>\n",
              "      <td>Casado</td>\n",
              "      <td>Cerca</td>\n",
              "      <td>Alto</td>\n",
              "      <td>1.0</td>\n",
              "    </tr>\n",
              "    <tr>\n",
              "      <th>4</th>\n",
              "      <td>Femenino</td>\n",
              "      <td>Propia</td>\n",
              "      <td>Soltero</td>\n",
              "      <td>Cerca</td>\n",
              "      <td>Alto</td>\n",
              "      <td>1.0</td>\n",
              "    </tr>\n",
              "  </tbody>\n",
              "</table>\n",
              "</div>"
            ],
            "text/plain": [
              "      Genero   Vivienda   Ecivil Ubicacion Historial  Edad_Ordinal\n",
              "0   Femenino     Propia  Soltero     Lejos      Alto           2.0\n",
              "1  Masculino  Alquilada  Soltero     Cerca      Alto           1.0\n",
              "2   Femenino  Alquilada  Soltero     Cerca      Bajo           0.0\n",
              "3  Masculino     Propia   Casado     Cerca      Alto           1.0\n",
              "4   Femenino     Propia  Soltero     Cerca      Alto           1.0"
            ]
          },
          "execution_count": 13,
          "metadata": {},
          "output_type": "execute_result"
        }
      ],
      "source": [
        "# Eliminamos nuevamente la variable Edad para automatizar lo demás\n",
        "df_pre_cat = df_pre_cat.drop(columns = [\"Edad\"])\n",
        "df_pre_cat.head()"
      ]
    },
    {
      "cell_type": "markdown",
      "id": "c90e3115-2a72-41f3-b701-12178be5e30b",
      "metadata": {
        "id": "c90e3115-2a72-41f3-b701-12178be5e30b"
      },
      "source": [
        "**Variables categóricas nominales:** Sus valores se pueden clasificar en categorías y no tiene un orden específico."
      ]
    },
    {
      "cell_type": "code",
      "execution_count": null,
      "id": "3f534003-af64-4ae3-827a-753ce0199dca",
      "metadata": {
        "id": "3f534003-af64-4ae3-827a-753ce0199dca",
        "outputId": "5b924c9b-abf3-4881-bfd8-a6a26275625b"
      },
      "outputs": [
        {
          "data": {
            "text/html": [
              "<div>\n",
              "<style scoped>\n",
              "    .dataframe tbody tr th:only-of-type {\n",
              "        vertical-align: middle;\n",
              "    }\n",
              "\n",
              "    .dataframe tbody tr th {\n",
              "        vertical-align: top;\n",
              "    }\n",
              "\n",
              "    .dataframe thead th {\n",
              "        text-align: right;\n",
              "    }\n",
              "</style>\n",
              "<table border=\"1\" class=\"dataframe\">\n",
              "  <thead>\n",
              "    <tr style=\"text-align: right;\">\n",
              "      <th></th>\n",
              "      <th>Edad_Ordinal</th>\n",
              "      <th>Genero_Femenino</th>\n",
              "      <th>Genero_Masculino</th>\n",
              "      <th>Vivienda_Alquilada</th>\n",
              "      <th>Vivienda_Propia</th>\n",
              "      <th>Ecivil_Casado</th>\n",
              "      <th>Ecivil_Soltero</th>\n",
              "      <th>Ubicacion_Cerca</th>\n",
              "      <th>Ubicacion_Lejos</th>\n",
              "      <th>Historial_Alto</th>\n",
              "      <th>Historial_Bajo</th>\n",
              "      <th>Historial_Medio</th>\n",
              "    </tr>\n",
              "  </thead>\n",
              "  <tbody>\n",
              "    <tr>\n",
              "      <th>0</th>\n",
              "      <td>2.0</td>\n",
              "      <td>True</td>\n",
              "      <td>False</td>\n",
              "      <td>False</td>\n",
              "      <td>True</td>\n",
              "      <td>False</td>\n",
              "      <td>True</td>\n",
              "      <td>False</td>\n",
              "      <td>True</td>\n",
              "      <td>True</td>\n",
              "      <td>False</td>\n",
              "      <td>False</td>\n",
              "    </tr>\n",
              "    <tr>\n",
              "      <th>1</th>\n",
              "      <td>1.0</td>\n",
              "      <td>False</td>\n",
              "      <td>True</td>\n",
              "      <td>True</td>\n",
              "      <td>False</td>\n",
              "      <td>False</td>\n",
              "      <td>True</td>\n",
              "      <td>True</td>\n",
              "      <td>False</td>\n",
              "      <td>True</td>\n",
              "      <td>False</td>\n",
              "      <td>False</td>\n",
              "    </tr>\n",
              "    <tr>\n",
              "      <th>2</th>\n",
              "      <td>0.0</td>\n",
              "      <td>True</td>\n",
              "      <td>False</td>\n",
              "      <td>True</td>\n",
              "      <td>False</td>\n",
              "      <td>False</td>\n",
              "      <td>True</td>\n",
              "      <td>True</td>\n",
              "      <td>False</td>\n",
              "      <td>False</td>\n",
              "      <td>True</td>\n",
              "      <td>False</td>\n",
              "    </tr>\n",
              "    <tr>\n",
              "      <th>3</th>\n",
              "      <td>1.0</td>\n",
              "      <td>False</td>\n",
              "      <td>True</td>\n",
              "      <td>False</td>\n",
              "      <td>True</td>\n",
              "      <td>True</td>\n",
              "      <td>False</td>\n",
              "      <td>True</td>\n",
              "      <td>False</td>\n",
              "      <td>True</td>\n",
              "      <td>False</td>\n",
              "      <td>False</td>\n",
              "    </tr>\n",
              "    <tr>\n",
              "      <th>4</th>\n",
              "      <td>1.0</td>\n",
              "      <td>True</td>\n",
              "      <td>False</td>\n",
              "      <td>False</td>\n",
              "      <td>True</td>\n",
              "      <td>False</td>\n",
              "      <td>True</td>\n",
              "      <td>True</td>\n",
              "      <td>False</td>\n",
              "      <td>True</td>\n",
              "      <td>False</td>\n",
              "      <td>False</td>\n",
              "    </tr>\n",
              "    <tr>\n",
              "      <th>...</th>\n",
              "      <td>...</td>\n",
              "      <td>...</td>\n",
              "      <td>...</td>\n",
              "      <td>...</td>\n",
              "      <td>...</td>\n",
              "      <td>...</td>\n",
              "      <td>...</td>\n",
              "      <td>...</td>\n",
              "      <td>...</td>\n",
              "      <td>...</td>\n",
              "      <td>...</td>\n",
              "      <td>...</td>\n",
              "    </tr>\n",
              "    <tr>\n",
              "      <th>995</th>\n",
              "      <td>1.0</td>\n",
              "      <td>False</td>\n",
              "      <td>True</td>\n",
              "      <td>True</td>\n",
              "      <td>False</td>\n",
              "      <td>False</td>\n",
              "      <td>True</td>\n",
              "      <td>False</td>\n",
              "      <td>True</td>\n",
              "      <td>False</td>\n",
              "      <td>False</td>\n",
              "      <td>False</td>\n",
              "    </tr>\n",
              "    <tr>\n",
              "      <th>996</th>\n",
              "      <td>2.0</td>\n",
              "      <td>False</td>\n",
              "      <td>True</td>\n",
              "      <td>False</td>\n",
              "      <td>True</td>\n",
              "      <td>False</td>\n",
              "      <td>True</td>\n",
              "      <td>True</td>\n",
              "      <td>False</td>\n",
              "      <td>False</td>\n",
              "      <td>False</td>\n",
              "      <td>True</td>\n",
              "    </tr>\n",
              "    <tr>\n",
              "      <th>997</th>\n",
              "      <td>1.0</td>\n",
              "      <td>False</td>\n",
              "      <td>True</td>\n",
              "      <td>False</td>\n",
              "      <td>True</td>\n",
              "      <td>True</td>\n",
              "      <td>False</td>\n",
              "      <td>True</td>\n",
              "      <td>False</td>\n",
              "      <td>False</td>\n",
              "      <td>False</td>\n",
              "      <td>True</td>\n",
              "    </tr>\n",
              "    <tr>\n",
              "      <th>998</th>\n",
              "      <td>0.0</td>\n",
              "      <td>False</td>\n",
              "      <td>True</td>\n",
              "      <td>True</td>\n",
              "      <td>False</td>\n",
              "      <td>True</td>\n",
              "      <td>False</td>\n",
              "      <td>True</td>\n",
              "      <td>False</td>\n",
              "      <td>False</td>\n",
              "      <td>False</td>\n",
              "      <td>True</td>\n",
              "    </tr>\n",
              "    <tr>\n",
              "      <th>999</th>\n",
              "      <td>1.0</td>\n",
              "      <td>True</td>\n",
              "      <td>False</td>\n",
              "      <td>False</td>\n",
              "      <td>True</td>\n",
              "      <td>True</td>\n",
              "      <td>False</td>\n",
              "      <td>False</td>\n",
              "      <td>True</td>\n",
              "      <td>True</td>\n",
              "      <td>False</td>\n",
              "      <td>False</td>\n",
              "    </tr>\n",
              "  </tbody>\n",
              "</table>\n",
              "<p>1000 rows × 12 columns</p>\n",
              "</div>"
            ],
            "text/plain": [
              "     Edad_Ordinal  Genero_Femenino  Genero_Masculino  Vivienda_Alquilada  \\\n",
              "0             2.0             True             False               False   \n",
              "1             1.0            False              True                True   \n",
              "2             0.0             True             False                True   \n",
              "3             1.0            False              True               False   \n",
              "4             1.0             True             False               False   \n",
              "..            ...              ...               ...                 ...   \n",
              "995           1.0            False              True                True   \n",
              "996           2.0            False              True               False   \n",
              "997           1.0            False              True               False   \n",
              "998           0.0            False              True                True   \n",
              "999           1.0             True             False               False   \n",
              "\n",
              "     Vivienda_Propia  Ecivil_Casado  Ecivil_Soltero  Ubicacion_Cerca  \\\n",
              "0               True          False            True            False   \n",
              "1              False          False            True             True   \n",
              "2              False          False            True             True   \n",
              "3               True           True           False             True   \n",
              "4               True          False            True             True   \n",
              "..               ...            ...             ...              ...   \n",
              "995            False          False            True            False   \n",
              "996             True          False            True             True   \n",
              "997             True           True           False             True   \n",
              "998            False           True           False             True   \n",
              "999             True           True           False            False   \n",
              "\n",
              "     Ubicacion_Lejos  Historial_Alto  Historial_Bajo  Historial_Medio  \n",
              "0               True            True           False            False  \n",
              "1              False            True           False            False  \n",
              "2              False           False            True            False  \n",
              "3              False            True           False            False  \n",
              "4              False            True           False            False  \n",
              "..               ...             ...             ...              ...  \n",
              "995             True           False           False            False  \n",
              "996            False           False           False             True  \n",
              "997            False           False           False             True  \n",
              "998            False           False           False             True  \n",
              "999             True            True           False            False  \n",
              "\n",
              "[1000 rows x 12 columns]"
            ]
          },
          "execution_count": 14,
          "metadata": {},
          "output_type": "execute_result"
        }
      ],
      "source": [
        "pd.get_dummies(df_pre_cat)"
      ]
    },
    {
      "cell_type": "code",
      "execution_count": null,
      "id": "358a0c52-ea87-4bc4-84fe-8b8ba5c694af",
      "metadata": {
        "id": "358a0c52-ea87-4bc4-84fe-8b8ba5c694af",
        "outputId": "dbeafbc1-16ed-4cc2-be6a-5c48d11eeabe"
      },
      "outputs": [
        {
          "data": {
            "text/html": [
              "<div>\n",
              "<style scoped>\n",
              "    .dataframe tbody tr th:only-of-type {\n",
              "        vertical-align: middle;\n",
              "    }\n",
              "\n",
              "    .dataframe tbody tr th {\n",
              "        vertical-align: top;\n",
              "    }\n",
              "\n",
              "    .dataframe thead th {\n",
              "        text-align: right;\n",
              "    }\n",
              "</style>\n",
              "<table border=\"1\" class=\"dataframe\">\n",
              "  <thead>\n",
              "    <tr style=\"text-align: right;\">\n",
              "      <th></th>\n",
              "      <th>Edad_Ordinal</th>\n",
              "      <th>Genero_Masculino</th>\n",
              "      <th>Vivienda_Propia</th>\n",
              "      <th>Ecivil_Soltero</th>\n",
              "      <th>Ubicacion_Lejos</th>\n",
              "      <th>Historial_Bajo</th>\n",
              "      <th>Historial_Medio</th>\n",
              "    </tr>\n",
              "  </thead>\n",
              "  <tbody>\n",
              "    <tr>\n",
              "      <th>0</th>\n",
              "      <td>2.0</td>\n",
              "      <td>False</td>\n",
              "      <td>True</td>\n",
              "      <td>True</td>\n",
              "      <td>True</td>\n",
              "      <td>False</td>\n",
              "      <td>False</td>\n",
              "    </tr>\n",
              "    <tr>\n",
              "      <th>1</th>\n",
              "      <td>1.0</td>\n",
              "      <td>True</td>\n",
              "      <td>False</td>\n",
              "      <td>True</td>\n",
              "      <td>False</td>\n",
              "      <td>False</td>\n",
              "      <td>False</td>\n",
              "    </tr>\n",
              "    <tr>\n",
              "      <th>2</th>\n",
              "      <td>0.0</td>\n",
              "      <td>False</td>\n",
              "      <td>False</td>\n",
              "      <td>True</td>\n",
              "      <td>False</td>\n",
              "      <td>True</td>\n",
              "      <td>False</td>\n",
              "    </tr>\n",
              "    <tr>\n",
              "      <th>3</th>\n",
              "      <td>1.0</td>\n",
              "      <td>True</td>\n",
              "      <td>True</td>\n",
              "      <td>False</td>\n",
              "      <td>False</td>\n",
              "      <td>False</td>\n",
              "      <td>False</td>\n",
              "    </tr>\n",
              "    <tr>\n",
              "      <th>4</th>\n",
              "      <td>1.0</td>\n",
              "      <td>False</td>\n",
              "      <td>True</td>\n",
              "      <td>True</td>\n",
              "      <td>False</td>\n",
              "      <td>False</td>\n",
              "      <td>False</td>\n",
              "    </tr>\n",
              "    <tr>\n",
              "      <th>...</th>\n",
              "      <td>...</td>\n",
              "      <td>...</td>\n",
              "      <td>...</td>\n",
              "      <td>...</td>\n",
              "      <td>...</td>\n",
              "      <td>...</td>\n",
              "      <td>...</td>\n",
              "    </tr>\n",
              "    <tr>\n",
              "      <th>995</th>\n",
              "      <td>1.0</td>\n",
              "      <td>True</td>\n",
              "      <td>False</td>\n",
              "      <td>True</td>\n",
              "      <td>True</td>\n",
              "      <td>False</td>\n",
              "      <td>False</td>\n",
              "    </tr>\n",
              "    <tr>\n",
              "      <th>996</th>\n",
              "      <td>2.0</td>\n",
              "      <td>True</td>\n",
              "      <td>True</td>\n",
              "      <td>True</td>\n",
              "      <td>False</td>\n",
              "      <td>False</td>\n",
              "      <td>True</td>\n",
              "    </tr>\n",
              "    <tr>\n",
              "      <th>997</th>\n",
              "      <td>1.0</td>\n",
              "      <td>True</td>\n",
              "      <td>True</td>\n",
              "      <td>False</td>\n",
              "      <td>False</td>\n",
              "      <td>False</td>\n",
              "      <td>True</td>\n",
              "    </tr>\n",
              "    <tr>\n",
              "      <th>998</th>\n",
              "      <td>0.0</td>\n",
              "      <td>True</td>\n",
              "      <td>False</td>\n",
              "      <td>False</td>\n",
              "      <td>False</td>\n",
              "      <td>False</td>\n",
              "      <td>True</td>\n",
              "    </tr>\n",
              "    <tr>\n",
              "      <th>999</th>\n",
              "      <td>1.0</td>\n",
              "      <td>False</td>\n",
              "      <td>True</td>\n",
              "      <td>False</td>\n",
              "      <td>True</td>\n",
              "      <td>False</td>\n",
              "      <td>False</td>\n",
              "    </tr>\n",
              "  </tbody>\n",
              "</table>\n",
              "<p>1000 rows × 7 columns</p>\n",
              "</div>"
            ],
            "text/plain": [
              "     Edad_Ordinal  Genero_Masculino  Vivienda_Propia  Ecivil_Soltero  \\\n",
              "0             2.0             False             True            True   \n",
              "1             1.0              True            False            True   \n",
              "2             0.0             False            False            True   \n",
              "3             1.0              True             True           False   \n",
              "4             1.0             False             True            True   \n",
              "..            ...               ...              ...             ...   \n",
              "995           1.0              True            False            True   \n",
              "996           2.0              True             True            True   \n",
              "997           1.0              True             True           False   \n",
              "998           0.0              True            False           False   \n",
              "999           1.0             False             True           False   \n",
              "\n",
              "     Ubicacion_Lejos  Historial_Bajo  Historial_Medio  \n",
              "0               True           False            False  \n",
              "1              False           False            False  \n",
              "2              False            True            False  \n",
              "3              False           False            False  \n",
              "4              False           False            False  \n",
              "..               ...             ...              ...  \n",
              "995             True           False            False  \n",
              "996            False           False             True  \n",
              "997            False           False             True  \n",
              "998            False           False             True  \n",
              "999             True           False            False  \n",
              "\n",
              "[1000 rows x 7 columns]"
            ]
          },
          "execution_count": 15,
          "metadata": {},
          "output_type": "execute_result"
        }
      ],
      "source": [
        "pd.get_dummies(df_pre_cat, drop_first = True)"
      ]
    },
    {
      "cell_type": "markdown",
      "id": "82cae3a5-9399-4cfe-b843-bd439664022b",
      "metadata": {
        "id": "82cae3a5-9399-4cfe-b843-bd439664022b"
      },
      "source": [
        "## Datos Numéricos"
      ]
    },
    {
      "cell_type": "markdown",
      "id": "2dfd07e9-9a4f-4fc6-b7bb-76453cd611f3",
      "metadata": {
        "id": "2dfd07e9-9a4f-4fc6-b7bb-76453cd611f3"
      },
      "source": [
        "Analizamos nuestras variables de tipo numéricos"
      ]
    },
    {
      "cell_type": "code",
      "execution_count": null,
      "id": "df6fc7ef-31d4-41ca-ab86-0ce86ccb3e05",
      "metadata": {
        "id": "df6fc7ef-31d4-41ca-ab86-0ce86ccb3e05",
        "outputId": "fd72c1bc-1486-46b9-ea83-61acc227935b"
      },
      "outputs": [
        {
          "data": {
            "text/html": [
              "<div>\n",
              "<style scoped>\n",
              "    .dataframe tbody tr th:only-of-type {\n",
              "        vertical-align: middle;\n",
              "    }\n",
              "\n",
              "    .dataframe tbody tr th {\n",
              "        vertical-align: top;\n",
              "    }\n",
              "\n",
              "    .dataframe thead th {\n",
              "        text-align: right;\n",
              "    }\n",
              "</style>\n",
              "<table border=\"1\" class=\"dataframe\">\n",
              "  <thead>\n",
              "    <tr style=\"text-align: right;\">\n",
              "      <th></th>\n",
              "      <th>Salario</th>\n",
              "      <th>Hijos</th>\n",
              "      <th>Catalogos</th>\n",
              "      <th>Monto</th>\n",
              "    </tr>\n",
              "  </thead>\n",
              "  <tbody>\n",
              "    <tr>\n",
              "      <th>0</th>\n",
              "      <td>47500</td>\n",
              "      <td>0</td>\n",
              "      <td>6</td>\n",
              "      <td>755</td>\n",
              "    </tr>\n",
              "    <tr>\n",
              "      <th>1</th>\n",
              "      <td>63600</td>\n",
              "      <td>0</td>\n",
              "      <td>6</td>\n",
              "      <td>1318</td>\n",
              "    </tr>\n",
              "    <tr>\n",
              "      <th>2</th>\n",
              "      <td>13500</td>\n",
              "      <td>0</td>\n",
              "      <td>18</td>\n",
              "      <td>296</td>\n",
              "    </tr>\n",
              "    <tr>\n",
              "      <th>3</th>\n",
              "      <td>85600</td>\n",
              "      <td>1</td>\n",
              "      <td>18</td>\n",
              "      <td>2436</td>\n",
              "    </tr>\n",
              "    <tr>\n",
              "      <th>4</th>\n",
              "      <td>68400</td>\n",
              "      <td>0</td>\n",
              "      <td>12</td>\n",
              "      <td>1304</td>\n",
              "    </tr>\n",
              "  </tbody>\n",
              "</table>\n",
              "</div>"
            ],
            "text/plain": [
              "   Salario  Hijos  Catalogos  Monto\n",
              "0    47500      0          6    755\n",
              "1    63600      0          6   1318\n",
              "2    13500      0         18    296\n",
              "3    85600      1         18   2436\n",
              "4    68400      0         12   1304"
            ]
          },
          "execution_count": 16,
          "metadata": {},
          "output_type": "execute_result"
        }
      ],
      "source": [
        "df_pre_num = df_pre.select_dtypes(\"number\")\n",
        "df_pre_num.head()"
      ]
    },
    {
      "cell_type": "markdown",
      "id": "ed5eb2d2-5b21-4560-86bc-ea62046e4973",
      "metadata": {
        "id": "ed5eb2d2-5b21-4560-86bc-ea62046e4973"
      },
      "source": [
        "*Consideración: Las variables numéricas deben estar en la misma escala antes de ser utilizados en cualquier modelo.*"
      ]
    },
    {
      "cell_type": "markdown",
      "id": "13e528fb-af9e-4cfc-a9ba-9126859c6dbf",
      "metadata": {
        "id": "13e528fb-af9e-4cfc-a9ba-9126859c6dbf"
      },
      "source": [
        "**MinMax Scaler:** Escalamiento en función de los valores máximos y mínimos"
      ]
    },
    {
      "cell_type": "markdown",
      "id": "2590cb88-5180-4428-bc7d-48cbdf7f755b",
      "metadata": {
        "id": "2590cb88-5180-4428-bc7d-48cbdf7f755b"
      },
      "source": [
        "\\begin{equation}\n",
        "X_{scaled} = \\frac{X-X_{min}}{X_{max}-X_{min}}\n",
        "\\end{equation}"
      ]
    },
    {
      "cell_type": "code",
      "execution_count": null,
      "id": "3a861a5a-a689-442a-b72e-35275155f02b",
      "metadata": {
        "id": "3a861a5a-a689-442a-b72e-35275155f02b"
      },
      "outputs": [],
      "source": [
        "from sklearn.preprocessing import MinMaxScaler"
      ]
    },
    {
      "cell_type": "code",
      "execution_count": null,
      "id": "d821dfd8-c47b-451d-8da9-e4b5db542570",
      "metadata": {
        "id": "d821dfd8-c47b-451d-8da9-e4b5db542570"
      },
      "outputs": [],
      "source": [
        "mms = MinMaxScaler()"
      ]
    },
    {
      "cell_type": "code",
      "execution_count": null,
      "id": "3f895ac3-c4b5-451b-837c-9906a692b568",
      "metadata": {
        "id": "3f895ac3-c4b5-451b-837c-9906a692b568",
        "outputId": "aff864a1-e40e-4c6a-fd95-a479ad4b1206"
      },
      "outputs": [
        {
          "data": {
            "text/html": [
              "<style>#sk-container-id-1 {color: black;}#sk-container-id-1 pre{padding: 0;}#sk-container-id-1 div.sk-toggleable {background-color: white;}#sk-container-id-1 label.sk-toggleable__label {cursor: pointer;display: block;width: 100%;margin-bottom: 0;padding: 0.3em;box-sizing: border-box;text-align: center;}#sk-container-id-1 label.sk-toggleable__label-arrow:before {content: \"▸\";float: left;margin-right: 0.25em;color: #696969;}#sk-container-id-1 label.sk-toggleable__label-arrow:hover:before {color: black;}#sk-container-id-1 div.sk-estimator:hover label.sk-toggleable__label-arrow:before {color: black;}#sk-container-id-1 div.sk-toggleable__content {max-height: 0;max-width: 0;overflow: hidden;text-align: left;background-color: #f0f8ff;}#sk-container-id-1 div.sk-toggleable__content pre {margin: 0.2em;color: black;border-radius: 0.25em;background-color: #f0f8ff;}#sk-container-id-1 input.sk-toggleable__control:checked~div.sk-toggleable__content {max-height: 200px;max-width: 100%;overflow: auto;}#sk-container-id-1 input.sk-toggleable__control:checked~label.sk-toggleable__label-arrow:before {content: \"▾\";}#sk-container-id-1 div.sk-estimator input.sk-toggleable__control:checked~label.sk-toggleable__label {background-color: #d4ebff;}#sk-container-id-1 div.sk-label input.sk-toggleable__control:checked~label.sk-toggleable__label {background-color: #d4ebff;}#sk-container-id-1 input.sk-hidden--visually {border: 0;clip: rect(1px 1px 1px 1px);clip: rect(1px, 1px, 1px, 1px);height: 1px;margin: -1px;overflow: hidden;padding: 0;position: absolute;width: 1px;}#sk-container-id-1 div.sk-estimator {font-family: monospace;background-color: #f0f8ff;border: 1px dotted black;border-radius: 0.25em;box-sizing: border-box;margin-bottom: 0.5em;}#sk-container-id-1 div.sk-estimator:hover {background-color: #d4ebff;}#sk-container-id-1 div.sk-parallel-item::after {content: \"\";width: 100%;border-bottom: 1px solid gray;flex-grow: 1;}#sk-container-id-1 div.sk-label:hover label.sk-toggleable__label {background-color: #d4ebff;}#sk-container-id-1 div.sk-serial::before {content: \"\";position: absolute;border-left: 1px solid gray;box-sizing: border-box;top: 0;bottom: 0;left: 50%;z-index: 0;}#sk-container-id-1 div.sk-serial {display: flex;flex-direction: column;align-items: center;background-color: white;padding-right: 0.2em;padding-left: 0.2em;position: relative;}#sk-container-id-1 div.sk-item {position: relative;z-index: 1;}#sk-container-id-1 div.sk-parallel {display: flex;align-items: stretch;justify-content: center;background-color: white;position: relative;}#sk-container-id-1 div.sk-item::before, #sk-container-id-1 div.sk-parallel-item::before {content: \"\";position: absolute;border-left: 1px solid gray;box-sizing: border-box;top: 0;bottom: 0;left: 50%;z-index: -1;}#sk-container-id-1 div.sk-parallel-item {display: flex;flex-direction: column;z-index: 1;position: relative;background-color: white;}#sk-container-id-1 div.sk-parallel-item:first-child::after {align-self: flex-end;width: 50%;}#sk-container-id-1 div.sk-parallel-item:last-child::after {align-self: flex-start;width: 50%;}#sk-container-id-1 div.sk-parallel-item:only-child::after {width: 0;}#sk-container-id-1 div.sk-dashed-wrapped {border: 1px dashed gray;margin: 0 0.4em 0.5em 0.4em;box-sizing: border-box;padding-bottom: 0.4em;background-color: white;}#sk-container-id-1 div.sk-label label {font-family: monospace;font-weight: bold;display: inline-block;line-height: 1.2em;}#sk-container-id-1 div.sk-label-container {text-align: center;}#sk-container-id-1 div.sk-container {/* jupyter's `normalize.less` sets `[hidden] { display: none; }` but bootstrap.min.css set `[hidden] { display: none !important; }` so we also need the `!important` here to be able to override the default hidden behavior on the sphinx rendered scikit-learn.org. See: https://github.com/scikit-learn/scikit-learn/issues/21755 */display: inline-block !important;position: relative;}#sk-container-id-1 div.sk-text-repr-fallback {display: none;}</style><div id=\"sk-container-id-1\" class=\"sk-top-container\"><div class=\"sk-text-repr-fallback\"><pre>MinMaxScaler()</pre><b>In a Jupyter environment, please rerun this cell to show the HTML representation or trust the notebook. <br />On GitHub, the HTML representation is unable to render, please try loading this page with nbviewer.org.</b></div><div class=\"sk-container\" hidden><div class=\"sk-item\"><div class=\"sk-estimator sk-toggleable\"><input class=\"sk-toggleable__control sk-hidden--visually\" id=\"sk-estimator-id-1\" type=\"checkbox\" checked><label for=\"sk-estimator-id-1\" class=\"sk-toggleable__label sk-toggleable__label-arrow\">MinMaxScaler</label><div class=\"sk-toggleable__content\"><pre>MinMaxScaler()</pre></div></div></div></div></div>"
            ],
            "text/plain": [
              "MinMaxScaler()"
            ]
          },
          "execution_count": 19,
          "metadata": {},
          "output_type": "execute_result"
        }
      ],
      "source": [
        "mms.fit(df_pre_num)"
      ]
    },
    {
      "cell_type": "markdown",
      "id": "30fd1994-6dad-4a1b-9eaf-211f084111d7",
      "metadata": {
        "id": "30fd1994-6dad-4a1b-9eaf-211f084111d7"
      },
      "source": [
        "**Normalizer Scaler:** Escalamiento en función a la norma L2 de un vector"
      ]
    },
    {
      "cell_type": "markdown",
      "id": "fc358202-b47f-4a21-9247-d26f18a70f2d",
      "metadata": {
        "id": "fc358202-b47f-4a21-9247-d26f18a70f2d"
      },
      "source": [
        "\\begin{equation}\n",
        "X_{normalized} = \\frac{X}{\\sqrt{X_{1}^2+X_{2}^2+X_{3}^2+...+X_{n}^2}}\n",
        "\\end{equation}"
      ]
    },
    {
      "cell_type": "code",
      "execution_count": null,
      "id": "075f7c77-4456-4284-b9d3-38ca2e0d2f26",
      "metadata": {
        "id": "075f7c77-4456-4284-b9d3-38ca2e0d2f26"
      },
      "outputs": [],
      "source": [
        "from sklearn.preprocessing import Normalizer"
      ]
    },
    {
      "cell_type": "code",
      "execution_count": null,
      "id": "b1b278c7-b66f-4a0c-a48f-4152d3fb6f42",
      "metadata": {
        "id": "b1b278c7-b66f-4a0c-a48f-4152d3fb6f42"
      },
      "outputs": [],
      "source": [
        "ns = Normalizer()"
      ]
    },
    {
      "cell_type": "code",
      "execution_count": null,
      "id": "7b24e7a8-1c1d-4877-a3ac-a77d46664708",
      "metadata": {
        "id": "7b24e7a8-1c1d-4877-a3ac-a77d46664708",
        "outputId": "75d7ab4b-52e1-45f9-c5ec-13efa285eb95"
      },
      "outputs": [
        {
          "data": {
            "text/html": [
              "<style>#sk-container-id-2 {color: black;}#sk-container-id-2 pre{padding: 0;}#sk-container-id-2 div.sk-toggleable {background-color: white;}#sk-container-id-2 label.sk-toggleable__label {cursor: pointer;display: block;width: 100%;margin-bottom: 0;padding: 0.3em;box-sizing: border-box;text-align: center;}#sk-container-id-2 label.sk-toggleable__label-arrow:before {content: \"▸\";float: left;margin-right: 0.25em;color: #696969;}#sk-container-id-2 label.sk-toggleable__label-arrow:hover:before {color: black;}#sk-container-id-2 div.sk-estimator:hover label.sk-toggleable__label-arrow:before {color: black;}#sk-container-id-2 div.sk-toggleable__content {max-height: 0;max-width: 0;overflow: hidden;text-align: left;background-color: #f0f8ff;}#sk-container-id-2 div.sk-toggleable__content pre {margin: 0.2em;color: black;border-radius: 0.25em;background-color: #f0f8ff;}#sk-container-id-2 input.sk-toggleable__control:checked~div.sk-toggleable__content {max-height: 200px;max-width: 100%;overflow: auto;}#sk-container-id-2 input.sk-toggleable__control:checked~label.sk-toggleable__label-arrow:before {content: \"▾\";}#sk-container-id-2 div.sk-estimator input.sk-toggleable__control:checked~label.sk-toggleable__label {background-color: #d4ebff;}#sk-container-id-2 div.sk-label input.sk-toggleable__control:checked~label.sk-toggleable__label {background-color: #d4ebff;}#sk-container-id-2 input.sk-hidden--visually {border: 0;clip: rect(1px 1px 1px 1px);clip: rect(1px, 1px, 1px, 1px);height: 1px;margin: -1px;overflow: hidden;padding: 0;position: absolute;width: 1px;}#sk-container-id-2 div.sk-estimator {font-family: monospace;background-color: #f0f8ff;border: 1px dotted black;border-radius: 0.25em;box-sizing: border-box;margin-bottom: 0.5em;}#sk-container-id-2 div.sk-estimator:hover {background-color: #d4ebff;}#sk-container-id-2 div.sk-parallel-item::after {content: \"\";width: 100%;border-bottom: 1px solid gray;flex-grow: 1;}#sk-container-id-2 div.sk-label:hover label.sk-toggleable__label {background-color: #d4ebff;}#sk-container-id-2 div.sk-serial::before {content: \"\";position: absolute;border-left: 1px solid gray;box-sizing: border-box;top: 0;bottom: 0;left: 50%;z-index: 0;}#sk-container-id-2 div.sk-serial {display: flex;flex-direction: column;align-items: center;background-color: white;padding-right: 0.2em;padding-left: 0.2em;position: relative;}#sk-container-id-2 div.sk-item {position: relative;z-index: 1;}#sk-container-id-2 div.sk-parallel {display: flex;align-items: stretch;justify-content: center;background-color: white;position: relative;}#sk-container-id-2 div.sk-item::before, #sk-container-id-2 div.sk-parallel-item::before {content: \"\";position: absolute;border-left: 1px solid gray;box-sizing: border-box;top: 0;bottom: 0;left: 50%;z-index: -1;}#sk-container-id-2 div.sk-parallel-item {display: flex;flex-direction: column;z-index: 1;position: relative;background-color: white;}#sk-container-id-2 div.sk-parallel-item:first-child::after {align-self: flex-end;width: 50%;}#sk-container-id-2 div.sk-parallel-item:last-child::after {align-self: flex-start;width: 50%;}#sk-container-id-2 div.sk-parallel-item:only-child::after {width: 0;}#sk-container-id-2 div.sk-dashed-wrapped {border: 1px dashed gray;margin: 0 0.4em 0.5em 0.4em;box-sizing: border-box;padding-bottom: 0.4em;background-color: white;}#sk-container-id-2 div.sk-label label {font-family: monospace;font-weight: bold;display: inline-block;line-height: 1.2em;}#sk-container-id-2 div.sk-label-container {text-align: center;}#sk-container-id-2 div.sk-container {/* jupyter's `normalize.less` sets `[hidden] { display: none; }` but bootstrap.min.css set `[hidden] { display: none !important; }` so we also need the `!important` here to be able to override the default hidden behavior on the sphinx rendered scikit-learn.org. See: https://github.com/scikit-learn/scikit-learn/issues/21755 */display: inline-block !important;position: relative;}#sk-container-id-2 div.sk-text-repr-fallback {display: none;}</style><div id=\"sk-container-id-2\" class=\"sk-top-container\"><div class=\"sk-text-repr-fallback\"><pre>Normalizer()</pre><b>In a Jupyter environment, please rerun this cell to show the HTML representation or trust the notebook. <br />On GitHub, the HTML representation is unable to render, please try loading this page with nbviewer.org.</b></div><div class=\"sk-container\" hidden><div class=\"sk-item\"><div class=\"sk-estimator sk-toggleable\"><input class=\"sk-toggleable__control sk-hidden--visually\" id=\"sk-estimator-id-2\" type=\"checkbox\" checked><label for=\"sk-estimator-id-2\" class=\"sk-toggleable__label sk-toggleable__label-arrow\">Normalizer</label><div class=\"sk-toggleable__content\"><pre>Normalizer()</pre></div></div></div></div></div>"
            ],
            "text/plain": [
              "Normalizer()"
            ]
          },
          "execution_count": 22,
          "metadata": {},
          "output_type": "execute_result"
        }
      ],
      "source": [
        "ns.fit(df_pre_num)"
      ]
    },
    {
      "cell_type": "markdown",
      "id": "aab6b4e6-f296-4629-b1ed-56d1e94c4b46",
      "metadata": {
        "id": "aab6b4e6-f296-4629-b1ed-56d1e94c4b46"
      },
      "source": [
        "**Standard Scaler:** Escalamiento en función a la distribución normal estándar. Usa a la media como estadístico de centralidad"
      ]
    },
    {
      "cell_type": "markdown",
      "id": "ccb4429c-9d53-4ac3-bd82-152e4f4e9011",
      "metadata": {
        "id": "ccb4429c-9d53-4ac3-bd82-152e4f4e9011"
      },
      "source": [
        "\\begin{equation}\n",
        "X_{standard} = \\frac{X-\\bar{X}}{S}\n",
        "\\end{equation}"
      ]
    },
    {
      "cell_type": "code",
      "execution_count": null,
      "id": "02539c91-53c0-44ab-92d0-97c7e5998511",
      "metadata": {
        "id": "02539c91-53c0-44ab-92d0-97c7e5998511"
      },
      "outputs": [],
      "source": [
        "from sklearn.preprocessing import StandardScaler"
      ]
    },
    {
      "cell_type": "code",
      "execution_count": null,
      "id": "7a129945-6528-49a5-9c52-1c2d2eb24e19",
      "metadata": {
        "id": "7a129945-6528-49a5-9c52-1c2d2eb24e19"
      },
      "outputs": [],
      "source": [
        "ss = StandardScaler()"
      ]
    },
    {
      "cell_type": "code",
      "execution_count": null,
      "id": "a3e8f6fa-dd43-4603-8a26-79e74e666adc",
      "metadata": {
        "id": "a3e8f6fa-dd43-4603-8a26-79e74e666adc",
        "outputId": "04e62f2f-e18a-48d5-f255-751598ee9845"
      },
      "outputs": [
        {
          "data": {
            "text/html": [
              "<style>#sk-container-id-3 {color: black;}#sk-container-id-3 pre{padding: 0;}#sk-container-id-3 div.sk-toggleable {background-color: white;}#sk-container-id-3 label.sk-toggleable__label {cursor: pointer;display: block;width: 100%;margin-bottom: 0;padding: 0.3em;box-sizing: border-box;text-align: center;}#sk-container-id-3 label.sk-toggleable__label-arrow:before {content: \"▸\";float: left;margin-right: 0.25em;color: #696969;}#sk-container-id-3 label.sk-toggleable__label-arrow:hover:before {color: black;}#sk-container-id-3 div.sk-estimator:hover label.sk-toggleable__label-arrow:before {color: black;}#sk-container-id-3 div.sk-toggleable__content {max-height: 0;max-width: 0;overflow: hidden;text-align: left;background-color: #f0f8ff;}#sk-container-id-3 div.sk-toggleable__content pre {margin: 0.2em;color: black;border-radius: 0.25em;background-color: #f0f8ff;}#sk-container-id-3 input.sk-toggleable__control:checked~div.sk-toggleable__content {max-height: 200px;max-width: 100%;overflow: auto;}#sk-container-id-3 input.sk-toggleable__control:checked~label.sk-toggleable__label-arrow:before {content: \"▾\";}#sk-container-id-3 div.sk-estimator input.sk-toggleable__control:checked~label.sk-toggleable__label {background-color: #d4ebff;}#sk-container-id-3 div.sk-label input.sk-toggleable__control:checked~label.sk-toggleable__label {background-color: #d4ebff;}#sk-container-id-3 input.sk-hidden--visually {border: 0;clip: rect(1px 1px 1px 1px);clip: rect(1px, 1px, 1px, 1px);height: 1px;margin: -1px;overflow: hidden;padding: 0;position: absolute;width: 1px;}#sk-container-id-3 div.sk-estimator {font-family: monospace;background-color: #f0f8ff;border: 1px dotted black;border-radius: 0.25em;box-sizing: border-box;margin-bottom: 0.5em;}#sk-container-id-3 div.sk-estimator:hover {background-color: #d4ebff;}#sk-container-id-3 div.sk-parallel-item::after {content: \"\";width: 100%;border-bottom: 1px solid gray;flex-grow: 1;}#sk-container-id-3 div.sk-label:hover label.sk-toggleable__label {background-color: #d4ebff;}#sk-container-id-3 div.sk-serial::before {content: \"\";position: absolute;border-left: 1px solid gray;box-sizing: border-box;top: 0;bottom: 0;left: 50%;z-index: 0;}#sk-container-id-3 div.sk-serial {display: flex;flex-direction: column;align-items: center;background-color: white;padding-right: 0.2em;padding-left: 0.2em;position: relative;}#sk-container-id-3 div.sk-item {position: relative;z-index: 1;}#sk-container-id-3 div.sk-parallel {display: flex;align-items: stretch;justify-content: center;background-color: white;position: relative;}#sk-container-id-3 div.sk-item::before, #sk-container-id-3 div.sk-parallel-item::before {content: \"\";position: absolute;border-left: 1px solid gray;box-sizing: border-box;top: 0;bottom: 0;left: 50%;z-index: -1;}#sk-container-id-3 div.sk-parallel-item {display: flex;flex-direction: column;z-index: 1;position: relative;background-color: white;}#sk-container-id-3 div.sk-parallel-item:first-child::after {align-self: flex-end;width: 50%;}#sk-container-id-3 div.sk-parallel-item:last-child::after {align-self: flex-start;width: 50%;}#sk-container-id-3 div.sk-parallel-item:only-child::after {width: 0;}#sk-container-id-3 div.sk-dashed-wrapped {border: 1px dashed gray;margin: 0 0.4em 0.5em 0.4em;box-sizing: border-box;padding-bottom: 0.4em;background-color: white;}#sk-container-id-3 div.sk-label label {font-family: monospace;font-weight: bold;display: inline-block;line-height: 1.2em;}#sk-container-id-3 div.sk-label-container {text-align: center;}#sk-container-id-3 div.sk-container {/* jupyter's `normalize.less` sets `[hidden] { display: none; }` but bootstrap.min.css set `[hidden] { display: none !important; }` so we also need the `!important` here to be able to override the default hidden behavior on the sphinx rendered scikit-learn.org. See: https://github.com/scikit-learn/scikit-learn/issues/21755 */display: inline-block !important;position: relative;}#sk-container-id-3 div.sk-text-repr-fallback {display: none;}</style><div id=\"sk-container-id-3\" class=\"sk-top-container\"><div class=\"sk-text-repr-fallback\"><pre>StandardScaler()</pre><b>In a Jupyter environment, please rerun this cell to show the HTML representation or trust the notebook. <br />On GitHub, the HTML representation is unable to render, please try loading this page with nbviewer.org.</b></div><div class=\"sk-container\" hidden><div class=\"sk-item\"><div class=\"sk-estimator sk-toggleable\"><input class=\"sk-toggleable__control sk-hidden--visually\" id=\"sk-estimator-id-3\" type=\"checkbox\" checked><label for=\"sk-estimator-id-3\" class=\"sk-toggleable__label sk-toggleable__label-arrow\">StandardScaler</label><div class=\"sk-toggleable__content\"><pre>StandardScaler()</pre></div></div></div></div></div>"
            ],
            "text/plain": [
              "StandardScaler()"
            ]
          },
          "execution_count": 25,
          "metadata": {},
          "output_type": "execute_result"
        }
      ],
      "source": [
        "ss.fit(df_pre_num)"
      ]
    },
    {
      "cell_type": "markdown",
      "id": "a39684db-7be7-42b6-bdb6-120131adefca",
      "metadata": {
        "id": "a39684db-7be7-42b6-bdb6-120131adefca"
      },
      "source": [
        "**Robust Scaler:** Escalamiento en función a la distribución normal estándar. Usa el rango intercuartílico."
      ]
    },
    {
      "cell_type": "markdown",
      "id": "afbe59ca-2ae0-409e-b706-c41439d5a2b8",
      "metadata": {
        "id": "afbe59ca-2ae0-409e-b706-c41439d5a2b8"
      },
      "source": [
        "\\begin{equation}\n",
        "X_{robust} = \\frac{X-(Q_{3}-Q{1})}{S}\n",
        "\\end{equation}"
      ]
    },
    {
      "cell_type": "code",
      "execution_count": null,
      "id": "14bda9bd-678d-4228-b752-da1408aadf9f",
      "metadata": {
        "id": "14bda9bd-678d-4228-b752-da1408aadf9f"
      },
      "outputs": [],
      "source": [
        "from sklearn.preprocessing import RobustScaler"
      ]
    },
    {
      "cell_type": "code",
      "execution_count": null,
      "id": "c511f310-a633-4646-b1a7-f18b6be7fce7",
      "metadata": {
        "id": "c511f310-a633-4646-b1a7-f18b6be7fce7"
      },
      "outputs": [],
      "source": [
        "rs = RobustScaler()"
      ]
    },
    {
      "cell_type": "code",
      "execution_count": null,
      "id": "10d6ca26-b23f-4259-a2c3-e343053bd4fb",
      "metadata": {
        "id": "10d6ca26-b23f-4259-a2c3-e343053bd4fb",
        "outputId": "6eb647ed-b976-4dd5-90fa-e463d4961dea"
      },
      "outputs": [
        {
          "data": {
            "text/html": [
              "<style>#sk-container-id-4 {color: black;}#sk-container-id-4 pre{padding: 0;}#sk-container-id-4 div.sk-toggleable {background-color: white;}#sk-container-id-4 label.sk-toggleable__label {cursor: pointer;display: block;width: 100%;margin-bottom: 0;padding: 0.3em;box-sizing: border-box;text-align: center;}#sk-container-id-4 label.sk-toggleable__label-arrow:before {content: \"▸\";float: left;margin-right: 0.25em;color: #696969;}#sk-container-id-4 label.sk-toggleable__label-arrow:hover:before {color: black;}#sk-container-id-4 div.sk-estimator:hover label.sk-toggleable__label-arrow:before {color: black;}#sk-container-id-4 div.sk-toggleable__content {max-height: 0;max-width: 0;overflow: hidden;text-align: left;background-color: #f0f8ff;}#sk-container-id-4 div.sk-toggleable__content pre {margin: 0.2em;color: black;border-radius: 0.25em;background-color: #f0f8ff;}#sk-container-id-4 input.sk-toggleable__control:checked~div.sk-toggleable__content {max-height: 200px;max-width: 100%;overflow: auto;}#sk-container-id-4 input.sk-toggleable__control:checked~label.sk-toggleable__label-arrow:before {content: \"▾\";}#sk-container-id-4 div.sk-estimator input.sk-toggleable__control:checked~label.sk-toggleable__label {background-color: #d4ebff;}#sk-container-id-4 div.sk-label input.sk-toggleable__control:checked~label.sk-toggleable__label {background-color: #d4ebff;}#sk-container-id-4 input.sk-hidden--visually {border: 0;clip: rect(1px 1px 1px 1px);clip: rect(1px, 1px, 1px, 1px);height: 1px;margin: -1px;overflow: hidden;padding: 0;position: absolute;width: 1px;}#sk-container-id-4 div.sk-estimator {font-family: monospace;background-color: #f0f8ff;border: 1px dotted black;border-radius: 0.25em;box-sizing: border-box;margin-bottom: 0.5em;}#sk-container-id-4 div.sk-estimator:hover {background-color: #d4ebff;}#sk-container-id-4 div.sk-parallel-item::after {content: \"\";width: 100%;border-bottom: 1px solid gray;flex-grow: 1;}#sk-container-id-4 div.sk-label:hover label.sk-toggleable__label {background-color: #d4ebff;}#sk-container-id-4 div.sk-serial::before {content: \"\";position: absolute;border-left: 1px solid gray;box-sizing: border-box;top: 0;bottom: 0;left: 50%;z-index: 0;}#sk-container-id-4 div.sk-serial {display: flex;flex-direction: column;align-items: center;background-color: white;padding-right: 0.2em;padding-left: 0.2em;position: relative;}#sk-container-id-4 div.sk-item {position: relative;z-index: 1;}#sk-container-id-4 div.sk-parallel {display: flex;align-items: stretch;justify-content: center;background-color: white;position: relative;}#sk-container-id-4 div.sk-item::before, #sk-container-id-4 div.sk-parallel-item::before {content: \"\";position: absolute;border-left: 1px solid gray;box-sizing: border-box;top: 0;bottom: 0;left: 50%;z-index: -1;}#sk-container-id-4 div.sk-parallel-item {display: flex;flex-direction: column;z-index: 1;position: relative;background-color: white;}#sk-container-id-4 div.sk-parallel-item:first-child::after {align-self: flex-end;width: 50%;}#sk-container-id-4 div.sk-parallel-item:last-child::after {align-self: flex-start;width: 50%;}#sk-container-id-4 div.sk-parallel-item:only-child::after {width: 0;}#sk-container-id-4 div.sk-dashed-wrapped {border: 1px dashed gray;margin: 0 0.4em 0.5em 0.4em;box-sizing: border-box;padding-bottom: 0.4em;background-color: white;}#sk-container-id-4 div.sk-label label {font-family: monospace;font-weight: bold;display: inline-block;line-height: 1.2em;}#sk-container-id-4 div.sk-label-container {text-align: center;}#sk-container-id-4 div.sk-container {/* jupyter's `normalize.less` sets `[hidden] { display: none; }` but bootstrap.min.css set `[hidden] { display: none !important; }` so we also need the `!important` here to be able to override the default hidden behavior on the sphinx rendered scikit-learn.org. See: https://github.com/scikit-learn/scikit-learn/issues/21755 */display: inline-block !important;position: relative;}#sk-container-id-4 div.sk-text-repr-fallback {display: none;}</style><div id=\"sk-container-id-4\" class=\"sk-top-container\"><div class=\"sk-text-repr-fallback\"><pre>RobustScaler()</pre><b>In a Jupyter environment, please rerun this cell to show the HTML representation or trust the notebook. <br />On GitHub, the HTML representation is unable to render, please try loading this page with nbviewer.org.</b></div><div class=\"sk-container\" hidden><div class=\"sk-item\"><div class=\"sk-estimator sk-toggleable\"><input class=\"sk-toggleable__control sk-hidden--visually\" id=\"sk-estimator-id-4\" type=\"checkbox\" checked><label for=\"sk-estimator-id-4\" class=\"sk-toggleable__label sk-toggleable__label-arrow\">RobustScaler</label><div class=\"sk-toggleable__content\"><pre>RobustScaler()</pre></div></div></div></div></div>"
            ],
            "text/plain": [
              "RobustScaler()"
            ]
          },
          "execution_count": 28,
          "metadata": {},
          "output_type": "execute_result"
        }
      ],
      "source": [
        "rs.fit(df_pre_num)"
      ]
    },
    {
      "cell_type": "markdown",
      "id": "e8911cdd-10f0-496a-b4a7-c12e1101d123",
      "metadata": {
        "id": "e8911cdd-10f0-496a-b4a7-c12e1101d123"
      },
      "source": [
        "*Ejemplo: Veremos gráficamente las distribuciones de la variable Salario*"
      ]
    },
    {
      "cell_type": "code",
      "execution_count": null,
      "id": "ab1f88d3-0c81-4ed7-9972-29018c02c48c",
      "metadata": {
        "id": "ab1f88d3-0c81-4ed7-9972-29018c02c48c",
        "outputId": "7417eada-bc42-4d0d-9a46-a44d2958b3cc"
      },
      "outputs": [
        {
          "data": {
            "text/html": [
              "<div>\n",
              "<style scoped>\n",
              "    .dataframe tbody tr th:only-of-type {\n",
              "        vertical-align: middle;\n",
              "    }\n",
              "\n",
              "    .dataframe tbody tr th {\n",
              "        vertical-align: top;\n",
              "    }\n",
              "\n",
              "    .dataframe thead th {\n",
              "        text-align: right;\n",
              "    }\n",
              "</style>\n",
              "<table border=\"1\" class=\"dataframe\">\n",
              "  <thead>\n",
              "    <tr style=\"text-align: right;\">\n",
              "      <th></th>\n",
              "      <th>Salario</th>\n",
              "      <th>Hijos</th>\n",
              "      <th>Catalogos</th>\n",
              "      <th>Monto</th>\n",
              "      <th>MinMax_Scaler</th>\n",
              "    </tr>\n",
              "  </thead>\n",
              "  <tbody>\n",
              "    <tr>\n",
              "      <th>0</th>\n",
              "      <td>0.023504</td>\n",
              "      <td>0.000000</td>\n",
              "      <td>0.011781</td>\n",
              "      <td>0.015401</td>\n",
              "      <td>0.021405</td>\n",
              "    </tr>\n",
              "    <tr>\n",
              "      <th>1</th>\n",
              "      <td>0.031471</td>\n",
              "      <td>0.000000</td>\n",
              "      <td>0.011781</td>\n",
              "      <td>0.026885</td>\n",
              "      <td>0.030620</td>\n",
              "    </tr>\n",
              "    <tr>\n",
              "      <th>2</th>\n",
              "      <td>0.006680</td>\n",
              "      <td>0.000000</td>\n",
              "      <td>0.035343</td>\n",
              "      <td>0.006038</td>\n",
              "      <td>0.001946</td>\n",
              "    </tr>\n",
              "    <tr>\n",
              "      <th>3</th>\n",
              "      <td>0.042357</td>\n",
              "      <td>0.022496</td>\n",
              "      <td>0.035343</td>\n",
              "      <td>0.049691</td>\n",
              "      <td>0.043211</td>\n",
              "    </tr>\n",
              "    <tr>\n",
              "      <th>4</th>\n",
              "      <td>0.033846</td>\n",
              "      <td>0.000000</td>\n",
              "      <td>0.023562</td>\n",
              "      <td>0.026600</td>\n",
              "      <td>0.033367</td>\n",
              "    </tr>\n",
              "    <tr>\n",
              "      <th>...</th>\n",
              "      <td>...</td>\n",
              "      <td>...</td>\n",
              "      <td>...</td>\n",
              "      <td>...</td>\n",
              "      <td>...</td>\n",
              "    </tr>\n",
              "    <tr>\n",
              "      <th>995</th>\n",
              "      <td>0.020040</td>\n",
              "      <td>0.022496</td>\n",
              "      <td>0.035343</td>\n",
              "      <td>0.021888</td>\n",
              "      <td>0.017399</td>\n",
              "    </tr>\n",
              "    <tr>\n",
              "      <th>996</th>\n",
              "      <td>0.022168</td>\n",
              "      <td>0.000000</td>\n",
              "      <td>0.047124</td>\n",
              "      <td>0.028905</td>\n",
              "      <td>0.019860</td>\n",
              "    </tr>\n",
              "    <tr>\n",
              "      <th>997</th>\n",
              "      <td>0.039091</td>\n",
              "      <td>0.044992</td>\n",
              "      <td>0.035343</td>\n",
              "      <td>0.013687</td>\n",
              "      <td>0.039434</td>\n",
              "    </tr>\n",
              "    <tr>\n",
              "      <th>998</th>\n",
              "      <td>0.026523</td>\n",
              "      <td>0.022496</td>\n",
              "      <td>0.047124</td>\n",
              "      <td>0.019848</td>\n",
              "      <td>0.024897</td>\n",
              "    </tr>\n",
              "    <tr>\n",
              "      <th>999</th>\n",
              "      <td>0.049087</td>\n",
              "      <td>0.000000</td>\n",
              "      <td>0.047124</td>\n",
              "      <td>0.112253</td>\n",
              "      <td>0.050995</td>\n",
              "    </tr>\n",
              "  </tbody>\n",
              "</table>\n",
              "<p>1000 rows × 5 columns</p>\n",
              "</div>"
            ],
            "text/plain": [
              "      Salario     Hijos  Catalogos     Monto  MinMax_Scaler\n",
              "0    0.023504  0.000000   0.011781  0.015401       0.021405\n",
              "1    0.031471  0.000000   0.011781  0.026885       0.030620\n",
              "2    0.006680  0.000000   0.035343  0.006038       0.001946\n",
              "3    0.042357  0.022496   0.035343  0.049691       0.043211\n",
              "4    0.033846  0.000000   0.023562  0.026600       0.033367\n",
              "..        ...       ...        ...       ...            ...\n",
              "995  0.020040  0.022496   0.035343  0.021888       0.017399\n",
              "996  0.022168  0.000000   0.047124  0.028905       0.019860\n",
              "997  0.039091  0.044992   0.035343  0.013687       0.039434\n",
              "998  0.026523  0.022496   0.047124  0.019848       0.024897\n",
              "999  0.049087  0.000000   0.047124  0.112253       0.050995\n",
              "\n",
              "[1000 rows x 5 columns]"
            ]
          },
          "execution_count": 38,
          "metadata": {},
          "output_type": "execute_result"
        }
      ],
      "source": [
        "pd.DataFrame(ns.fit_transform(df_pre_num.T).T, columns = df_pre_num.columns)"
      ]
    },
    {
      "cell_type": "code",
      "execution_count": null,
      "id": "5c28e70f-c017-4803-9aa3-3ccf76b1694c",
      "metadata": {
        "id": "5c28e70f-c017-4803-9aa3-3ccf76b1694c"
      },
      "outputs": [],
      "source": [
        "df_pre_num[\"MinMax_Scaler\"] = mms.fit_transform(df_pre_num[[\"Salario\"]])\n",
        "df_pre_num[\"Normalizer_Scaler\"] = pd.DataFrame(ns.fit_transform(df_pre_num.T).T, columns = df_pre_num.columns)[\"Salario\"]\n",
        "df_pre_num[\"Standard_Scaler\"] = ss.fit_transform(df_pre_num[[\"Salario\"]])\n",
        "df_pre_num[\"Robust_Scaler\"] = rs.fit_transform(df_pre_num[[\"Salario\"]])"
      ]
    },
    {
      "cell_type": "code",
      "execution_count": null,
      "id": "25ce0147-2085-4e51-8433-1f8e53d09b2b",
      "metadata": {
        "id": "25ce0147-2085-4e51-8433-1f8e53d09b2b",
        "outputId": "f1d41e1a-9225-47d5-e1dd-27a67e4bd685"
      },
      "outputs": [
        {
          "data": {
            "image/png": "[encoded data removed]",
            "text/plain": [
              "<Figure size 1500x300 with 5 Axes>"
            ]
          },
          "metadata": {},
          "output_type": "display_data"
        }
      ],
      "source": [
        "# Creamos la maqueta donde van a ir las gráficas\n",
        "fig = plt.figure(figsize = (15,3))\n",
        "ax1 = fig.add_subplot(1,5,1)\n",
        "ax2 = fig.add_subplot(1,5,2)\n",
        "ax3 = fig.add_subplot(1,5,3)\n",
        "ax4 = fig.add_subplot(1,5,4)\n",
        "ax5 = fig.add_subplot(1,5,5)\n",
        "\n",
        "# Colocamos los datos\n",
        "ax1.set_title(\"Salario\")\n",
        "ax1.hist(df_pre_num[\"Salario\"], bins = 10, color = \"red\", edgecolor = \"black\")\n",
        "ax1.grid(linewidth=0.1)\n",
        "\n",
        "ax2.set_title(\"Salario Min Max Scaler\")\n",
        "ax2.hist(df_pre_num[\"MinMax_Scaler\"], bins = 10, color = \"red\", edgecolor = \"black\")\n",
        "ax2.grid(linewidth=0.1)\n",
        "\n",
        "ax3.set_title(\"Salario Normalizer Scaler\")\n",
        "ax3.hist(df_pre_num[\"Normalizer_Scaler\"], bins = 10, color = \"red\", edgecolor = \"black\")\n",
        "ax3.grid(linewidth=0.1)\n",
        "\n",
        "ax4.set_title(\"Salario Standard Scaler\")\n",
        "ax4.hist(df_pre_num[\"Standard_Scaler\"], bins = 10, color = \"red\", edgecolor = \"black\")\n",
        "ax4.grid(linewidth=0.1)\n",
        "\n",
        "ax5.set_title(\"Salario Robust Scaler\")\n",
        "ax5.hist(df_pre_num[\"Robust_Scaler\"], bins = 10, color = \"red\", edgecolor = \"black\")\n",
        "ax5.grid(linewidth=0.1)\n",
        "plt.show()"
      ]
    }
  ],
  "metadata": {
    "kernelspec": {
      "display_name": "Python 3 (ipykernel)",
      "language": "python",
      "name": "python3"
    },
    "language_info": {
      "codemirror_mode": {
        "name": "ipython",
        "version": 3
      },
      "file_extension": ".py",
      "mimetype": "text/x-python",
      "name": "python",
      "nbconvert_exporter": "python",
      "pygments_lexer": "ipython3",
      "version": "3.11.4"
    },
    "colab": {
      "provenance": []
    }
  },
  "nbformat": 4,
  "nbformat_minor": 5
}