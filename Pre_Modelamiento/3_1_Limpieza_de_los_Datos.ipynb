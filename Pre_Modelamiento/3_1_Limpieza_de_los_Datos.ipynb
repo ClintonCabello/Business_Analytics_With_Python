{
  "cells": [
    {
      "cell_type": "code",
      "execution_count": null,
      "id": "bcaface3",
      "metadata": {
        "id": "bcaface3"
      },
      "outputs": [],
      "source": [
        "# Importamos las librerías necesarias\n",
        "import pandas as pd\n",
        "import numpy as np\n",
        "import seaborn as sns\n",
        "import matplotlib.pyplot as plt\n",
        "import os\n",
        "import warnings\n",
        "warnings.filterwarnings(\"ignore\")"
      ]
    },
    {
      "cell_type": "code",
      "execution_count": null,
      "id": "e97c72a1",
      "metadata": {
        "id": "e97c72a1"
      },
      "outputs": [],
      "source": [
        "# Creamos variables para su posterior uso en la importación de la base\n",
        "path = \"D:\\Briam\\Clases\\Python For Data Science\\Data\".replace(\"\\\\\",\"/\")\n",
        "name = \"MarketingDirecto.csv\""
      ]
    },
    {
      "cell_type": "code",
      "execution_count": null,
      "id": "944210ee",
      "metadata": {
        "scrolled": true,
        "id": "944210ee",
        "outputId": "df3ab556-1af7-4dc6-8209-58b8422dae9e"
      },
      "outputs": [
        {
          "data": {
            "text/html": [
              "<div>\n",
              "<style scoped>\n",
              "    .dataframe tbody tr th:only-of-type {\n",
              "        vertical-align: middle;\n",
              "    }\n",
              "\n",
              "    .dataframe tbody tr th {\n",
              "        vertical-align: top;\n",
              "    }\n",
              "\n",
              "    .dataframe thead th {\n",
              "        text-align: right;\n",
              "    }\n",
              "</style>\n",
              "<table border=\"1\" class=\"dataframe\">\n",
              "  <thead>\n",
              "    <tr style=\"text-align: right;\">\n",
              "      <th></th>\n",
              "      <th>Captura</th>\n",
              "      <th>Ciudad</th>\n",
              "      <th>Edad</th>\n",
              "      <th>Genero</th>\n",
              "      <th>Vivienda</th>\n",
              "      <th>Ecivil</th>\n",
              "      <th>Ubicacion</th>\n",
              "      <th>Salario</th>\n",
              "      <th>Hijos</th>\n",
              "      <th>Historial</th>\n",
              "      <th>Catalogos</th>\n",
              "      <th>Monto</th>\n",
              "    </tr>\n",
              "  </thead>\n",
              "  <tbody>\n",
              "    <tr>\n",
              "      <th>0</th>\n",
              "      <td>REPORTE MKT</td>\n",
              "      <td>NaN</td>\n",
              "      <td>Adulta</td>\n",
              "      <td>Femenino</td>\n",
              "      <td>Propia</td>\n",
              "      <td>Soltero</td>\n",
              "      <td>Lejos</td>\n",
              "      <td>47500</td>\n",
              "      <td>0</td>\n",
              "      <td>Alto</td>\n",
              "      <td>6</td>\n",
              "      <td>755</td>\n",
              "    </tr>\n",
              "    <tr>\n",
              "      <th>1</th>\n",
              "      <td>REPORTE MKT</td>\n",
              "      <td>NaN</td>\n",
              "      <td>Media</td>\n",
              "      <td>Masculino</td>\n",
              "      <td>Alquilada</td>\n",
              "      <td>Soltero</td>\n",
              "      <td>Cerca</td>\n",
              "      <td>63600</td>\n",
              "      <td>0</td>\n",
              "      <td>Alto</td>\n",
              "      <td>6</td>\n",
              "      <td>1318</td>\n",
              "    </tr>\n",
              "    <tr>\n",
              "      <th>2</th>\n",
              "      <td>REPORTE MKT</td>\n",
              "      <td>NaN</td>\n",
              "      <td>Joven</td>\n",
              "      <td>Femenino</td>\n",
              "      <td>Alquilada</td>\n",
              "      <td>Soltero</td>\n",
              "      <td>Cerca</td>\n",
              "      <td>13500</td>\n",
              "      <td>0</td>\n",
              "      <td>Bajo</td>\n",
              "      <td>18</td>\n",
              "      <td>296</td>\n",
              "    </tr>\n",
              "    <tr>\n",
              "      <th>3</th>\n",
              "      <td>REPORTE MKT</td>\n",
              "      <td>NaN</td>\n",
              "      <td>Media</td>\n",
              "      <td>Masculino</td>\n",
              "      <td>Propia</td>\n",
              "      <td>Casado</td>\n",
              "      <td>Cerca</td>\n",
              "      <td>85600</td>\n",
              "      <td>1</td>\n",
              "      <td>Alto</td>\n",
              "      <td>18</td>\n",
              "      <td>2436</td>\n",
              "    </tr>\n",
              "    <tr>\n",
              "      <th>4</th>\n",
              "      <td>REPORTE MKT</td>\n",
              "      <td>NaN</td>\n",
              "      <td>Media</td>\n",
              "      <td>Femenino</td>\n",
              "      <td>Propia</td>\n",
              "      <td>Soltero</td>\n",
              "      <td>Cerca</td>\n",
              "      <td>68400</td>\n",
              "      <td>0</td>\n",
              "      <td>Alto</td>\n",
              "      <td>12</td>\n",
              "      <td>1304</td>\n",
              "    </tr>\n",
              "  </tbody>\n",
              "</table>\n",
              "</div>"
            ],
            "text/plain": [
              "       Captura Ciudad    Edad     Genero   Vivienda   Ecivil Ubicacion  \\\n",
              "0  REPORTE MKT    NaN  Adulta   Femenino     Propia  Soltero     Lejos   \n",
              "1  REPORTE MKT    NaN   Media  Masculino  Alquilada  Soltero     Cerca   \n",
              "2  REPORTE MKT    NaN   Joven   Femenino  Alquilada  Soltero     Cerca   \n",
              "3  REPORTE MKT    NaN   Media  Masculino     Propia   Casado     Cerca   \n",
              "4  REPORTE MKT    NaN   Media   Femenino     Propia  Soltero     Cerca   \n",
              "\n",
              "   Salario  Hijos Historial  Catalogos  Monto  \n",
              "0    47500      0      Alto          6    755  \n",
              "1    63600      0      Alto          6   1318  \n",
              "2    13500      0      Bajo         18    296  \n",
              "3    85600      1      Alto         18   2436  \n",
              "4    68400      0      Alto         12   1304  "
            ]
          },
          "execution_count": 3,
          "metadata": {},
          "output_type": "execute_result"
        }
      ],
      "source": [
        "# Importamos la base\n",
        "df = pd.read_csv(path+\"/\"+name, sep = \";\", header = 0)\n",
        "df.head()"
      ]
    },
    {
      "cell_type": "code",
      "execution_count": null,
      "id": "068639e1",
      "metadata": {
        "id": "068639e1"
      },
      "outputs": [],
      "source": [
        "df_pre = df.copy()"
      ]
    },
    {
      "cell_type": "code",
      "execution_count": null,
      "id": "8b46137b",
      "metadata": {
        "id": "8b46137b",
        "outputId": "24226f06-9b06-498d-b424-149d56eace71"
      },
      "outputs": [
        {
          "data": {
            "text/plain": [
              "(1010, 12)"
            ]
          },
          "execution_count": 5,
          "metadata": {},
          "output_type": "execute_result"
        }
      ],
      "source": [
        "df_pre.shape"
      ]
    },
    {
      "cell_type": "markdown",
      "id": "ecad4e79-4bb7-4595-8ece-759ffa4b1a3f",
      "metadata": {
        "id": "ecad4e79-4bb7-4595-8ece-759ffa4b1a3f"
      },
      "source": [
        "### Atributos con demasiados valores nulos"
      ]
    },
    {
      "cell_type": "code",
      "execution_count": null,
      "id": "c7c41d88-ac10-44d5-8a8d-e1f7bb592318",
      "metadata": {
        "id": "c7c41d88-ac10-44d5-8a8d-e1f7bb592318",
        "outputId": "d4b1aeb9-5a0a-4e81-ec17-96d99ce3d5c6"
      },
      "outputs": [
        {
          "name": "stdout",
          "output_type": "stream",
          "text": [
            "<class 'pandas.core.frame.DataFrame'>\n",
            "RangeIndex: 1010 entries, 0 to 1009\n",
            "Data columns (total 12 columns):\n",
            " #   Column     Non-Null Count  Dtype \n",
            "---  ------     --------------  ----- \n",
            " 0   Captura    1010 non-null   object\n",
            " 1   Ciudad     29 non-null     object\n",
            " 2   Edad       1010 non-null   object\n",
            " 3   Genero     1010 non-null   object\n",
            " 4   Vivienda   1010 non-null   object\n",
            " 5   Ecivil     1010 non-null   object\n",
            " 6   Ubicacion  1010 non-null   object\n",
            " 7   Salario    1010 non-null   int64 \n",
            " 8   Hijos      1010 non-null   int64 \n",
            " 9   Historial  704 non-null    object\n",
            " 10  Catalogos  1010 non-null   int64 \n",
            " 11  Monto      1010 non-null   int64 \n",
            "dtypes: int64(4), object(8)\n",
            "memory usage: 94.8+ KB\n"
          ]
        }
      ],
      "source": [
        "# ¿Cómo lo detectamos?\n",
        "df_pre.info()"
      ]
    },
    {
      "cell_type": "code",
      "execution_count": null,
      "id": "f4b77ef4-d22d-4b2a-ab16-4c7c6d275cce",
      "metadata": {
        "id": "f4b77ef4-d22d-4b2a-ab16-4c7c6d275cce",
        "outputId": "7229ba19-7cd5-42ec-bb43-4878d4e1e63e"
      },
      "outputs": [
        {
          "name": "stdout",
          "output_type": "stream",
          "text": [
            "<class 'pandas.core.frame.DataFrame'>\n",
            "RangeIndex: 1010 entries, 0 to 1009\n",
            "Data columns (total 11 columns):\n",
            " #   Column     Non-Null Count  Dtype \n",
            "---  ------     --------------  ----- \n",
            " 0   Captura    1010 non-null   object\n",
            " 1   Edad       1010 non-null   object\n",
            " 2   Genero     1010 non-null   object\n",
            " 3   Vivienda   1010 non-null   object\n",
            " 4   Ecivil     1010 non-null   object\n",
            " 5   Ubicacion  1010 non-null   object\n",
            " 6   Salario    1010 non-null   int64 \n",
            " 7   Hijos      1010 non-null   int64 \n",
            " 8   Historial  704 non-null    object\n",
            " 9   Catalogos  1010 non-null   int64 \n",
            " 10  Monto      1010 non-null   int64 \n",
            "dtypes: int64(4), object(7)\n",
            "memory usage: 86.9+ KB\n"
          ]
        }
      ],
      "source": [
        "# Solución\n",
        "df_pre = df_pre.drop(columns = [\"Ciudad\"])\n",
        "df_pre.info()"
      ]
    },
    {
      "cell_type": "markdown",
      "id": "7f441eff-b840-4a69-aa6a-b3ec89712cd7",
      "metadata": {
        "id": "7f441eff-b840-4a69-aa6a-b3ec89712cd7"
      },
      "source": [
        "### Atributos con solo un valor"
      ]
    },
    {
      "cell_type": "code",
      "execution_count": null,
      "id": "6ea9c09f-2cfc-454c-92e7-6a8f4c49b249",
      "metadata": {
        "id": "6ea9c09f-2cfc-454c-92e7-6a8f4c49b249",
        "outputId": "6fe40be2-dfe1-4fb4-e8be-b110dcdf406b"
      },
      "outputs": [
        {
          "data": {
            "text/plain": [
              "Captura\n",
              "REPORTE MKT    1010\n",
              "Name: count, dtype: int64"
            ]
          },
          "execution_count": 8,
          "metadata": {},
          "output_type": "execute_result"
        }
      ],
      "source": [
        "# ¿Cómo lo detectamos?\n",
        "pd.value_counts(df[\"Captura\"])"
      ]
    },
    {
      "cell_type": "code",
      "execution_count": null,
      "id": "2d6f34f3-42fc-41e1-a896-ea69786f1a2a",
      "metadata": {
        "id": "2d6f34f3-42fc-41e1-a896-ea69786f1a2a",
        "outputId": "0d0f55e0-90ee-460f-b895-c28af76c9d3a"
      },
      "outputs": [
        {
          "name": "stdout",
          "output_type": "stream",
          "text": [
            "<class 'pandas.core.frame.DataFrame'>\n",
            "RangeIndex: 1010 entries, 0 to 1009\n",
            "Data columns (total 10 columns):\n",
            " #   Column     Non-Null Count  Dtype \n",
            "---  ------     --------------  ----- \n",
            " 0   Edad       1010 non-null   object\n",
            " 1   Genero     1010 non-null   object\n",
            " 2   Vivienda   1010 non-null   object\n",
            " 3   Ecivil     1010 non-null   object\n",
            " 4   Ubicacion  1010 non-null   object\n",
            " 5   Salario    1010 non-null   int64 \n",
            " 6   Hijos      1010 non-null   int64 \n",
            " 7   Historial  704 non-null    object\n",
            " 8   Catalogos  1010 non-null   int64 \n",
            " 9   Monto      1010 non-null   int64 \n",
            "dtypes: int64(4), object(6)\n",
            "memory usage: 79.0+ KB\n"
          ]
        }
      ],
      "source": [
        "# Solución\n",
        "df_pre = df_pre.drop(columns = [\"Captura\"])\n",
        "df_pre.info()"
      ]
    },
    {
      "cell_type": "markdown",
      "id": "06d8cf47-f456-4d84-a789-5e72e3b4e615",
      "metadata": {
        "id": "06d8cf47-f456-4d84-a789-5e72e3b4e615"
      },
      "source": [
        "### Datos Erróneos"
      ]
    },
    {
      "cell_type": "markdown",
      "id": "eafaf549-f416-49ea-8225-bde20cf22d96",
      "metadata": {
        "id": "eafaf549-f416-49ea-8225-bde20cf22d96"
      },
      "source": [
        "¿Qué datos erróneos existen?"
      ]
    },
    {
      "cell_type": "code",
      "execution_count": null,
      "id": "3ecf6f5d-dd0b-421b-b20e-b1e66da2aa2c",
      "metadata": {
        "id": "3ecf6f5d-dd0b-421b-b20e-b1e66da2aa2c",
        "outputId": "c854a933-00aa-4e30-91c3-08faf7ef3f6b"
      },
      "outputs": [
        {
          "data": {
            "text/html": [
              "<div>\n",
              "<style scoped>\n",
              "    .dataframe tbody tr th:only-of-type {\n",
              "        vertical-align: middle;\n",
              "    }\n",
              "\n",
              "    .dataframe tbody tr th {\n",
              "        vertical-align: top;\n",
              "    }\n",
              "\n",
              "    .dataframe thead th {\n",
              "        text-align: right;\n",
              "    }\n",
              "</style>\n",
              "<table border=\"1\" class=\"dataframe\">\n",
              "  <thead>\n",
              "    <tr style=\"text-align: right;\">\n",
              "      <th></th>\n",
              "      <th>Edad</th>\n",
              "      <th>Genero</th>\n",
              "      <th>Vivienda</th>\n",
              "      <th>Ecivil</th>\n",
              "      <th>Ubicacion</th>\n",
              "      <th>Salario</th>\n",
              "      <th>Hijos</th>\n",
              "      <th>Historial</th>\n",
              "      <th>Catalogos</th>\n",
              "      <th>Monto</th>\n",
              "    </tr>\n",
              "  </thead>\n",
              "  <tbody>\n",
              "    <tr>\n",
              "      <th>0</th>\n",
              "      <td>Adulta</td>\n",
              "      <td>Femenino</td>\n",
              "      <td>Propia</td>\n",
              "      <td>Soltero</td>\n",
              "      <td>Lejos</td>\n",
              "      <td>47500</td>\n",
              "      <td>0</td>\n",
              "      <td>Alto</td>\n",
              "      <td>6</td>\n",
              "      <td>755</td>\n",
              "    </tr>\n",
              "    <tr>\n",
              "      <th>1</th>\n",
              "      <td>Media</td>\n",
              "      <td>Masculino</td>\n",
              "      <td>Alquilada</td>\n",
              "      <td>Soltero</td>\n",
              "      <td>Cerca</td>\n",
              "      <td>63600</td>\n",
              "      <td>0</td>\n",
              "      <td>Alto</td>\n",
              "      <td>6</td>\n",
              "      <td>1318</td>\n",
              "    </tr>\n",
              "    <tr>\n",
              "      <th>2</th>\n",
              "      <td>Joven</td>\n",
              "      <td>Femenino</td>\n",
              "      <td>Alquilada</td>\n",
              "      <td>Soltero</td>\n",
              "      <td>Cerca</td>\n",
              "      <td>13500</td>\n",
              "      <td>0</td>\n",
              "      <td>Bajo</td>\n",
              "      <td>18</td>\n",
              "      <td>296</td>\n",
              "    </tr>\n",
              "    <tr>\n",
              "      <th>3</th>\n",
              "      <td>Media</td>\n",
              "      <td>Masculino</td>\n",
              "      <td>Propia</td>\n",
              "      <td>Casado</td>\n",
              "      <td>Cerca</td>\n",
              "      <td>85600</td>\n",
              "      <td>1</td>\n",
              "      <td>Alto</td>\n",
              "      <td>18</td>\n",
              "      <td>2436</td>\n",
              "    </tr>\n",
              "    <tr>\n",
              "      <th>4</th>\n",
              "      <td>Media</td>\n",
              "      <td>Femenino</td>\n",
              "      <td>Propia</td>\n",
              "      <td>Soltero</td>\n",
              "      <td>Cerca</td>\n",
              "      <td>68400</td>\n",
              "      <td>0</td>\n",
              "      <td>Alto</td>\n",
              "      <td>12</td>\n",
              "      <td>1304</td>\n",
              "    </tr>\n",
              "    <tr>\n",
              "      <th>...</th>\n",
              "      <td>...</td>\n",
              "      <td>...</td>\n",
              "      <td>...</td>\n",
              "      <td>...</td>\n",
              "      <td>...</td>\n",
              "      <td>...</td>\n",
              "      <td>...</td>\n",
              "      <td>...</td>\n",
              "      <td>...</td>\n",
              "      <td>...</td>\n",
              "    </tr>\n",
              "    <tr>\n",
              "      <th>1000</th>\n",
              "      <td>Joven</td>\n",
              "      <td>Masculino</td>\n",
              "      <td>Alquilada</td>\n",
              "      <td>Casado</td>\n",
              "      <td>Cerca</td>\n",
              "      <td>53600</td>\n",
              "      <td>1</td>\n",
              "      <td>Medio</td>\n",
              "      <td>24</td>\n",
              "      <td>973</td>\n",
              "    </tr>\n",
              "    <tr>\n",
              "      <th>1001</th>\n",
              "      <td>Media</td>\n",
              "      <td>Masculino</td>\n",
              "      <td>Propia</td>\n",
              "      <td>Casado</td>\n",
              "      <td>Cerca</td>\n",
              "      <td>123800</td>\n",
              "      <td>2</td>\n",
              "      <td>NaN</td>\n",
              "      <td>18</td>\n",
              "      <td>3537</td>\n",
              "    </tr>\n",
              "    <tr>\n",
              "      <th>1002</th>\n",
              "      <td>Media</td>\n",
              "      <td>Femenino</td>\n",
              "      <td>Propia</td>\n",
              "      <td>Soltero</td>\n",
              "      <td>Cerca</td>\n",
              "      <td>36900</td>\n",
              "      <td>2</td>\n",
              "      <td>Bajo</td>\n",
              "      <td>24</td>\n",
              "      <td>514</td>\n",
              "    </tr>\n",
              "    <tr>\n",
              "      <th>1008</th>\n",
              "      <td>Adulta</td>\n",
              "      <td>Masculino</td>\n",
              "      <td>Propia</td>\n",
              "      <td>Soltero</td>\n",
              "      <td>Cerca</td>\n",
              "      <td>63200</td>\n",
              "      <td>0</td>\n",
              "      <td>Alto</td>\n",
              "      <td>24</td>\n",
              "      <td>1507</td>\n",
              "    </tr>\n",
              "    <tr>\n",
              "      <th>1009</th>\n",
              "      <td>Media</td>\n",
              "      <td>Femenino</td>\n",
              "      <td>Propia</td>\n",
              "      <td>Casado</td>\n",
              "      <td>Lejos</td>\n",
              "      <td>99200</td>\n",
              "      <td>0</td>\n",
              "      <td>Alto</td>\n",
              "      <td>24</td>\n",
              "      <td>5503</td>\n",
              "    </tr>\n",
              "  </tbody>\n",
              "</table>\n",
              "<p>1005 rows × 10 columns</p>\n",
              "</div>"
            ],
            "text/plain": [
              "        Edad     Genero   Vivienda   Ecivil Ubicacion  Salario  Hijos  \\\n",
              "0     Adulta   Femenino     Propia  Soltero     Lejos    47500      0   \n",
              "1      Media  Masculino  Alquilada  Soltero     Cerca    63600      0   \n",
              "2      Joven   Femenino  Alquilada  Soltero     Cerca    13500      0   \n",
              "3      Media  Masculino     Propia   Casado     Cerca    85600      1   \n",
              "4      Media   Femenino     Propia  Soltero     Cerca    68400      0   \n",
              "...      ...        ...        ...      ...       ...      ...    ...   \n",
              "1000   Joven  Masculino  Alquilada   Casado     Cerca    53600      1   \n",
              "1001   Media  Masculino     Propia   Casado     Cerca   123800      2   \n",
              "1002   Media   Femenino     Propia  Soltero     Cerca    36900      2   \n",
              "1008  Adulta  Masculino     Propia  Soltero     Cerca    63200      0   \n",
              "1009   Media   Femenino     Propia   Casado     Lejos    99200      0   \n",
              "\n",
              "     Historial  Catalogos  Monto  \n",
              "0         Alto          6    755  \n",
              "1         Alto          6   1318  \n",
              "2         Bajo         18    296  \n",
              "3         Alto         18   2436  \n",
              "4         Alto         12   1304  \n",
              "...        ...        ...    ...  \n",
              "1000     Medio         24    973  \n",
              "1001       NaN         18   3537  \n",
              "1002      Bajo         24    514  \n",
              "1008      Alto         24   1507  \n",
              "1009      Alto         24   5503  \n",
              "\n",
              "[1005 rows x 10 columns]"
            ]
          },
          "execution_count": 10,
          "metadata": {},
          "output_type": "execute_result"
        }
      ],
      "source": [
        "# Filtros los campos con valores coherentes para evitar posible información falsa.\n",
        "df_pre = df_pre[\n",
        "    (df_pre[\"Salario\"]>=0) &\n",
        "    (df_pre[\"Hijos\"]>=0) &\n",
        "    (df_pre[\"Hijos\"]<10) &\n",
        "    (df_pre[\"Catalogos\"]>=0) &\n",
        "    (df_pre[\"Monto\"]>=0)\n",
        "]\n",
        "df_pre"
      ]
    },
    {
      "cell_type": "markdown",
      "id": "e7a80820-0b5f-4ed5-97d8-9668b0e03960",
      "metadata": {
        "id": "e7a80820-0b5f-4ed5-97d8-9668b0e03960"
      },
      "source": [
        "## Duplicado de Información"
      ]
    },
    {
      "cell_type": "code",
      "execution_count": null,
      "id": "f2859268",
      "metadata": {
        "id": "f2859268",
        "outputId": "77c51636-3f9d-49a2-ff82-2e6a9a47d7a2"
      },
      "outputs": [
        {
          "name": "stdout",
          "output_type": "stream",
          "text": [
            "Registros duplicados: 5\n"
          ]
        },
        {
          "data": {
            "text/html": [
              "<div>\n",
              "<style scoped>\n",
              "    .dataframe tbody tr th:only-of-type {\n",
              "        vertical-align: middle;\n",
              "    }\n",
              "\n",
              "    .dataframe tbody tr th {\n",
              "        vertical-align: top;\n",
              "    }\n",
              "\n",
              "    .dataframe thead th {\n",
              "        text-align: right;\n",
              "    }\n",
              "</style>\n",
              "<table border=\"1\" class=\"dataframe\">\n",
              "  <thead>\n",
              "    <tr style=\"text-align: right;\">\n",
              "      <th></th>\n",
              "      <th>Edad</th>\n",
              "      <th>Genero</th>\n",
              "      <th>Vivienda</th>\n",
              "      <th>Ecivil</th>\n",
              "      <th>Ubicacion</th>\n",
              "      <th>Salario</th>\n",
              "      <th>Hijos</th>\n",
              "      <th>Historial</th>\n",
              "      <th>Catalogos</th>\n",
              "      <th>Monto</th>\n",
              "    </tr>\n",
              "  </thead>\n",
              "  <tbody>\n",
              "    <tr>\n",
              "      <th>993</th>\n",
              "      <td>Media</td>\n",
              "      <td>Femenino</td>\n",
              "      <td>Alquilada</td>\n",
              "      <td>Casado</td>\n",
              "      <td>Cerca</td>\n",
              "      <td>75200</td>\n",
              "      <td>1</td>\n",
              "      <td>NaN</td>\n",
              "      <td>24</td>\n",
              "      <td>2702</td>\n",
              "    </tr>\n",
              "    <tr>\n",
              "      <th>1000</th>\n",
              "      <td>Joven</td>\n",
              "      <td>Masculino</td>\n",
              "      <td>Alquilada</td>\n",
              "      <td>Casado</td>\n",
              "      <td>Cerca</td>\n",
              "      <td>53600</td>\n",
              "      <td>1</td>\n",
              "      <td>Medio</td>\n",
              "      <td>24</td>\n",
              "      <td>973</td>\n",
              "    </tr>\n",
              "    <tr>\n",
              "      <th>1001</th>\n",
              "      <td>Media</td>\n",
              "      <td>Masculino</td>\n",
              "      <td>Propia</td>\n",
              "      <td>Casado</td>\n",
              "      <td>Cerca</td>\n",
              "      <td>123800</td>\n",
              "      <td>2</td>\n",
              "      <td>NaN</td>\n",
              "      <td>18</td>\n",
              "      <td>3537</td>\n",
              "    </tr>\n",
              "    <tr>\n",
              "      <th>1002</th>\n",
              "      <td>Media</td>\n",
              "      <td>Femenino</td>\n",
              "      <td>Propia</td>\n",
              "      <td>Soltero</td>\n",
              "      <td>Cerca</td>\n",
              "      <td>36900</td>\n",
              "      <td>2</td>\n",
              "      <td>Bajo</td>\n",
              "      <td>24</td>\n",
              "      <td>514</td>\n",
              "    </tr>\n",
              "    <tr>\n",
              "      <th>1008</th>\n",
              "      <td>Adulta</td>\n",
              "      <td>Masculino</td>\n",
              "      <td>Propia</td>\n",
              "      <td>Soltero</td>\n",
              "      <td>Cerca</td>\n",
              "      <td>63200</td>\n",
              "      <td>0</td>\n",
              "      <td>Alto</td>\n",
              "      <td>24</td>\n",
              "      <td>1507</td>\n",
              "    </tr>\n",
              "  </tbody>\n",
              "</table>\n",
              "</div>"
            ],
            "text/plain": [
              "        Edad     Genero   Vivienda   Ecivil Ubicacion  Salario  Hijos  \\\n",
              "993    Media   Femenino  Alquilada   Casado     Cerca    75200      1   \n",
              "1000   Joven  Masculino  Alquilada   Casado     Cerca    53600      1   \n",
              "1001   Media  Masculino     Propia   Casado     Cerca   123800      2   \n",
              "1002   Media   Femenino     Propia  Soltero     Cerca    36900      2   \n",
              "1008  Adulta  Masculino     Propia  Soltero     Cerca    63200      0   \n",
              "\n",
              "     Historial  Catalogos  Monto  \n",
              "993        NaN         24   2702  \n",
              "1000     Medio         24    973  \n",
              "1001       NaN         18   3537  \n",
              "1002      Bajo         24    514  \n",
              "1008      Alto         24   1507  "
            ]
          },
          "execution_count": 11,
          "metadata": {},
          "output_type": "execute_result"
        }
      ],
      "source": [
        "# Información duplicada\n",
        "print(\"Registros duplicados:\",len(df_pre[df_pre.duplicated() == True]))\n",
        "df_pre_duplicados = df_pre[df_pre.duplicated() == True]\n",
        "df_pre_duplicados"
      ]
    },
    {
      "cell_type": "code",
      "execution_count": null,
      "id": "b8bdebb5",
      "metadata": {
        "id": "b8bdebb5",
        "outputId": "8de17134-dccd-46a2-e2f6-427aba8b44b4"
      },
      "outputs": [
        {
          "name": "stdout",
          "output_type": "stream",
          "text": [
            "Registros: 1000\n"
          ]
        },
        {
          "data": {
            "text/html": [
              "<div>\n",
              "<style scoped>\n",
              "    .dataframe tbody tr th:only-of-type {\n",
              "        vertical-align: middle;\n",
              "    }\n",
              "\n",
              "    .dataframe tbody tr th {\n",
              "        vertical-align: top;\n",
              "    }\n",
              "\n",
              "    .dataframe thead th {\n",
              "        text-align: right;\n",
              "    }\n",
              "</style>\n",
              "<table border=\"1\" class=\"dataframe\">\n",
              "  <thead>\n",
              "    <tr style=\"text-align: right;\">\n",
              "      <th></th>\n",
              "      <th>Edad</th>\n",
              "      <th>Genero</th>\n",
              "      <th>Vivienda</th>\n",
              "      <th>Ecivil</th>\n",
              "      <th>Ubicacion</th>\n",
              "      <th>Salario</th>\n",
              "      <th>Hijos</th>\n",
              "      <th>Historial</th>\n",
              "      <th>Catalogos</th>\n",
              "      <th>Monto</th>\n",
              "    </tr>\n",
              "  </thead>\n",
              "  <tbody>\n",
              "    <tr>\n",
              "      <th>0</th>\n",
              "      <td>Adulta</td>\n",
              "      <td>Femenino</td>\n",
              "      <td>Propia</td>\n",
              "      <td>Soltero</td>\n",
              "      <td>Lejos</td>\n",
              "      <td>47500</td>\n",
              "      <td>0</td>\n",
              "      <td>Alto</td>\n",
              "      <td>6</td>\n",
              "      <td>755</td>\n",
              "    </tr>\n",
              "    <tr>\n",
              "      <th>1</th>\n",
              "      <td>Media</td>\n",
              "      <td>Masculino</td>\n",
              "      <td>Alquilada</td>\n",
              "      <td>Soltero</td>\n",
              "      <td>Cerca</td>\n",
              "      <td>63600</td>\n",
              "      <td>0</td>\n",
              "      <td>Alto</td>\n",
              "      <td>6</td>\n",
              "      <td>1318</td>\n",
              "    </tr>\n",
              "    <tr>\n",
              "      <th>2</th>\n",
              "      <td>Joven</td>\n",
              "      <td>Femenino</td>\n",
              "      <td>Alquilada</td>\n",
              "      <td>Soltero</td>\n",
              "      <td>Cerca</td>\n",
              "      <td>13500</td>\n",
              "      <td>0</td>\n",
              "      <td>Bajo</td>\n",
              "      <td>18</td>\n",
              "      <td>296</td>\n",
              "    </tr>\n",
              "    <tr>\n",
              "      <th>3</th>\n",
              "      <td>Media</td>\n",
              "      <td>Masculino</td>\n",
              "      <td>Propia</td>\n",
              "      <td>Casado</td>\n",
              "      <td>Cerca</td>\n",
              "      <td>85600</td>\n",
              "      <td>1</td>\n",
              "      <td>Alto</td>\n",
              "      <td>18</td>\n",
              "      <td>2436</td>\n",
              "    </tr>\n",
              "    <tr>\n",
              "      <th>4</th>\n",
              "      <td>Media</td>\n",
              "      <td>Femenino</td>\n",
              "      <td>Propia</td>\n",
              "      <td>Soltero</td>\n",
              "      <td>Cerca</td>\n",
              "      <td>68400</td>\n",
              "      <td>0</td>\n",
              "      <td>Alto</td>\n",
              "      <td>12</td>\n",
              "      <td>1304</td>\n",
              "    </tr>\n",
              "    <tr>\n",
              "      <th>...</th>\n",
              "      <td>...</td>\n",
              "      <td>...</td>\n",
              "      <td>...</td>\n",
              "      <td>...</td>\n",
              "      <td>...</td>\n",
              "      <td>...</td>\n",
              "      <td>...</td>\n",
              "      <td>...</td>\n",
              "      <td>...</td>\n",
              "      <td>...</td>\n",
              "    </tr>\n",
              "    <tr>\n",
              "      <th>996</th>\n",
              "      <td>Media</td>\n",
              "      <td>Masculino</td>\n",
              "      <td>Alquilada</td>\n",
              "      <td>Soltero</td>\n",
              "      <td>Lejos</td>\n",
              "      <td>40500</td>\n",
              "      <td>1</td>\n",
              "      <td>NaN</td>\n",
              "      <td>18</td>\n",
              "      <td>1073</td>\n",
              "    </tr>\n",
              "    <tr>\n",
              "      <th>997</th>\n",
              "      <td>Adulta</td>\n",
              "      <td>Masculino</td>\n",
              "      <td>Propia</td>\n",
              "      <td>Soltero</td>\n",
              "      <td>Cerca</td>\n",
              "      <td>44800</td>\n",
              "      <td>0</td>\n",
              "      <td>Medio</td>\n",
              "      <td>24</td>\n",
              "      <td>1417</td>\n",
              "    </tr>\n",
              "    <tr>\n",
              "      <th>998</th>\n",
              "      <td>Media</td>\n",
              "      <td>Masculino</td>\n",
              "      <td>Propia</td>\n",
              "      <td>Casado</td>\n",
              "      <td>Cerca</td>\n",
              "      <td>79000</td>\n",
              "      <td>2</td>\n",
              "      <td>Medio</td>\n",
              "      <td>18</td>\n",
              "      <td>671</td>\n",
              "    </tr>\n",
              "    <tr>\n",
              "      <th>999</th>\n",
              "      <td>Joven</td>\n",
              "      <td>Masculino</td>\n",
              "      <td>Alquilada</td>\n",
              "      <td>Casado</td>\n",
              "      <td>Cerca</td>\n",
              "      <td>53600</td>\n",
              "      <td>1</td>\n",
              "      <td>Medio</td>\n",
              "      <td>24</td>\n",
              "      <td>973</td>\n",
              "    </tr>\n",
              "    <tr>\n",
              "      <th>1009</th>\n",
              "      <td>Media</td>\n",
              "      <td>Femenino</td>\n",
              "      <td>Propia</td>\n",
              "      <td>Casado</td>\n",
              "      <td>Lejos</td>\n",
              "      <td>99200</td>\n",
              "      <td>0</td>\n",
              "      <td>Alto</td>\n",
              "      <td>24</td>\n",
              "      <td>5503</td>\n",
              "    </tr>\n",
              "  </tbody>\n",
              "</table>\n",
              "<p>1000 rows × 10 columns</p>\n",
              "</div>"
            ],
            "text/plain": [
              "        Edad     Genero   Vivienda   Ecivil Ubicacion  Salario  Hijos  \\\n",
              "0     Adulta   Femenino     Propia  Soltero     Lejos    47500      0   \n",
              "1      Media  Masculino  Alquilada  Soltero     Cerca    63600      0   \n",
              "2      Joven   Femenino  Alquilada  Soltero     Cerca    13500      0   \n",
              "3      Media  Masculino     Propia   Casado     Cerca    85600      1   \n",
              "4      Media   Femenino     Propia  Soltero     Cerca    68400      0   \n",
              "...      ...        ...        ...      ...       ...      ...    ...   \n",
              "996    Media  Masculino  Alquilada  Soltero     Lejos    40500      1   \n",
              "997   Adulta  Masculino     Propia  Soltero     Cerca    44800      0   \n",
              "998    Media  Masculino     Propia   Casado     Cerca    79000      2   \n",
              "999    Joven  Masculino  Alquilada   Casado     Cerca    53600      1   \n",
              "1009   Media   Femenino     Propia   Casado     Lejos    99200      0   \n",
              "\n",
              "     Historial  Catalogos  Monto  \n",
              "0         Alto          6    755  \n",
              "1         Alto          6   1318  \n",
              "2         Bajo         18    296  \n",
              "3         Alto         18   2436  \n",
              "4         Alto         12   1304  \n",
              "...        ...        ...    ...  \n",
              "996        NaN         18   1073  \n",
              "997      Medio         24   1417  \n",
              "998      Medio         18    671  \n",
              "999      Medio         24    973  \n",
              "1009      Alto         24   5503  \n",
              "\n",
              "[1000 rows x 10 columns]"
            ]
          },
          "execution_count": 12,
          "metadata": {},
          "output_type": "execute_result"
        }
      ],
      "source": [
        "# Información sin duplicados\n",
        "print(\"Registros:\",len(df_pre[df_pre.duplicated() == False]))\n",
        "df_pre = df_pre[df_pre.duplicated() == False]\n",
        "df_pre"
      ]
    },
    {
      "cell_type": "code",
      "execution_count": null,
      "id": "11374351",
      "metadata": {
        "id": "11374351",
        "outputId": "4fa3b5e9-18ff-4a01-b582-de3608e71e2b"
      },
      "outputs": [
        {
          "data": {
            "text/html": [
              "<div>\n",
              "<style scoped>\n",
              "    .dataframe tbody tr th:only-of-type {\n",
              "        vertical-align: middle;\n",
              "    }\n",
              "\n",
              "    .dataframe tbody tr th {\n",
              "        vertical-align: top;\n",
              "    }\n",
              "\n",
              "    .dataframe thead th {\n",
              "        text-align: right;\n",
              "    }\n",
              "</style>\n",
              "<table border=\"1\" class=\"dataframe\">\n",
              "  <thead>\n",
              "    <tr style=\"text-align: right;\">\n",
              "      <th></th>\n",
              "      <th>Edad</th>\n",
              "      <th>Genero</th>\n",
              "      <th>Vivienda</th>\n",
              "      <th>Ecivil</th>\n",
              "      <th>Ubicacion</th>\n",
              "      <th>Salario</th>\n",
              "      <th>Hijos</th>\n",
              "      <th>Historial</th>\n",
              "      <th>Catalogos</th>\n",
              "      <th>Monto</th>\n",
              "    </tr>\n",
              "  </thead>\n",
              "  <tbody>\n",
              "    <tr>\n",
              "      <th>0</th>\n",
              "      <td>Adulta</td>\n",
              "      <td>Femenino</td>\n",
              "      <td>Propia</td>\n",
              "      <td>Soltero</td>\n",
              "      <td>Lejos</td>\n",
              "      <td>47500.0</td>\n",
              "      <td>0</td>\n",
              "      <td>Alto</td>\n",
              "      <td>6</td>\n",
              "      <td>755.0</td>\n",
              "    </tr>\n",
              "    <tr>\n",
              "      <th>1</th>\n",
              "      <td>Media</td>\n",
              "      <td>Masculino</td>\n",
              "      <td>Alquilada</td>\n",
              "      <td>Soltero</td>\n",
              "      <td>Cerca</td>\n",
              "      <td>63600.0</td>\n",
              "      <td>0</td>\n",
              "      <td>Alto</td>\n",
              "      <td>6</td>\n",
              "      <td>1318.0</td>\n",
              "    </tr>\n",
              "    <tr>\n",
              "      <th>2</th>\n",
              "      <td>Joven</td>\n",
              "      <td>Femenino</td>\n",
              "      <td>Alquilada</td>\n",
              "      <td>Soltero</td>\n",
              "      <td>Cerca</td>\n",
              "      <td>13500.0</td>\n",
              "      <td>0</td>\n",
              "      <td>Bajo</td>\n",
              "      <td>18</td>\n",
              "      <td>296.0</td>\n",
              "    </tr>\n",
              "    <tr>\n",
              "      <th>3</th>\n",
              "      <td>Media</td>\n",
              "      <td>Masculino</td>\n",
              "      <td>Propia</td>\n",
              "      <td>Casado</td>\n",
              "      <td>Cerca</td>\n",
              "      <td>85600.0</td>\n",
              "      <td>1</td>\n",
              "      <td>Alto</td>\n",
              "      <td>18</td>\n",
              "      <td>2436.0</td>\n",
              "    </tr>\n",
              "    <tr>\n",
              "      <th>4</th>\n",
              "      <td>Media</td>\n",
              "      <td>Femenino</td>\n",
              "      <td>Propia</td>\n",
              "      <td>Soltero</td>\n",
              "      <td>Cerca</td>\n",
              "      <td>68400.0</td>\n",
              "      <td>0</td>\n",
              "      <td>Alto</td>\n",
              "      <td>12</td>\n",
              "      <td>1304.0</td>\n",
              "    </tr>\n",
              "    <tr>\n",
              "      <th>...</th>\n",
              "      <td>...</td>\n",
              "      <td>...</td>\n",
              "      <td>...</td>\n",
              "      <td>...</td>\n",
              "      <td>...</td>\n",
              "      <td>...</td>\n",
              "      <td>...</td>\n",
              "      <td>...</td>\n",
              "      <td>...</td>\n",
              "      <td>...</td>\n",
              "    </tr>\n",
              "    <tr>\n",
              "      <th>995</th>\n",
              "      <td>Media</td>\n",
              "      <td>Masculino</td>\n",
              "      <td>Alquilada</td>\n",
              "      <td>Soltero</td>\n",
              "      <td>Lejos</td>\n",
              "      <td>40500.0</td>\n",
              "      <td>1</td>\n",
              "      <td>NaN</td>\n",
              "      <td>18</td>\n",
              "      <td>1073.0</td>\n",
              "    </tr>\n",
              "    <tr>\n",
              "      <th>996</th>\n",
              "      <td>Adulta</td>\n",
              "      <td>Masculino</td>\n",
              "      <td>Propia</td>\n",
              "      <td>Soltero</td>\n",
              "      <td>Cerca</td>\n",
              "      <td>44800.0</td>\n",
              "      <td>0</td>\n",
              "      <td>Medio</td>\n",
              "      <td>24</td>\n",
              "      <td>1417.0</td>\n",
              "    </tr>\n",
              "    <tr>\n",
              "      <th>997</th>\n",
              "      <td>Media</td>\n",
              "      <td>Masculino</td>\n",
              "      <td>Propia</td>\n",
              "      <td>Casado</td>\n",
              "      <td>Cerca</td>\n",
              "      <td>79000.0</td>\n",
              "      <td>2</td>\n",
              "      <td>Medio</td>\n",
              "      <td>18</td>\n",
              "      <td>671.0</td>\n",
              "    </tr>\n",
              "    <tr>\n",
              "      <th>998</th>\n",
              "      <td>Joven</td>\n",
              "      <td>Masculino</td>\n",
              "      <td>Alquilada</td>\n",
              "      <td>Casado</td>\n",
              "      <td>Cerca</td>\n",
              "      <td>53600.0</td>\n",
              "      <td>1</td>\n",
              "      <td>Medio</td>\n",
              "      <td>24</td>\n",
              "      <td>973.0</td>\n",
              "    </tr>\n",
              "    <tr>\n",
              "      <th>999</th>\n",
              "      <td>Media</td>\n",
              "      <td>Femenino</td>\n",
              "      <td>Propia</td>\n",
              "      <td>Casado</td>\n",
              "      <td>Lejos</td>\n",
              "      <td>99200.0</td>\n",
              "      <td>0</td>\n",
              "      <td>Alto</td>\n",
              "      <td>24</td>\n",
              "      <td>5503.0</td>\n",
              "    </tr>\n",
              "  </tbody>\n",
              "</table>\n",
              "<p>1000 rows × 10 columns</p>\n",
              "</div>"
            ],
            "text/plain": [
              "       Edad     Genero   Vivienda   Ecivil Ubicacion  Salario  Hijos  \\\n",
              "0    Adulta   Femenino     Propia  Soltero     Lejos  47500.0      0   \n",
              "1     Media  Masculino  Alquilada  Soltero     Cerca  63600.0      0   \n",
              "2     Joven   Femenino  Alquilada  Soltero     Cerca  13500.0      0   \n",
              "3     Media  Masculino     Propia   Casado     Cerca  85600.0      1   \n",
              "4     Media   Femenino     Propia  Soltero     Cerca  68400.0      0   \n",
              "..      ...        ...        ...      ...       ...      ...    ...   \n",
              "995   Media  Masculino  Alquilada  Soltero     Lejos  40500.0      1   \n",
              "996  Adulta  Masculino     Propia  Soltero     Cerca  44800.0      0   \n",
              "997   Media  Masculino     Propia   Casado     Cerca  79000.0      2   \n",
              "998   Joven  Masculino  Alquilada   Casado     Cerca  53600.0      1   \n",
              "999   Media   Femenino     Propia   Casado     Lejos  99200.0      0   \n",
              "\n",
              "    Historial  Catalogos   Monto  \n",
              "0        Alto          6   755.0  \n",
              "1        Alto          6  1318.0  \n",
              "2        Bajo         18   296.0  \n",
              "3        Alto         18  2436.0  \n",
              "4        Alto         12  1304.0  \n",
              "..        ...        ...     ...  \n",
              "995       NaN         18  1073.0  \n",
              "996     Medio         24  1417.0  \n",
              "997     Medio         18   671.0  \n",
              "998     Medio         24   973.0  \n",
              "999      Alto         24  5503.0  \n",
              "\n",
              "[1000 rows x 10 columns]"
            ]
          },
          "execution_count": 9,
          "metadata": {},
          "output_type": "execute_result"
        }
      ],
      "source": [
        "# Recodificar los índices\n",
        "df_pre = df_pre.reset_index(drop = True)\n",
        "df_pre"
      ]
    },
    {
      "cell_type": "markdown",
      "id": "701b6b13-a064-41ee-9ea9-bae49451708b",
      "metadata": {
        "id": "701b6b13-a064-41ee-9ea9-bae49451708b"
      },
      "source": [
        "Guardamos el dataset limpio"
      ]
    },
    {
      "cell_type": "code",
      "execution_count": null,
      "id": "190dfc40-91e2-479a-9b14-8197de0507ab",
      "metadata": {
        "id": "190dfc40-91e2-479a-9b14-8197de0507ab"
      },
      "outputs": [],
      "source": [
        "df_pre.to_csv(\"MarketingDirecto_limpio.csv\", index = False)"
      ]
    },
    {
      "cell_type": "markdown",
      "id": "2ea3f158-995d-4c2b-87a8-6668750d96aa",
      "metadata": {
        "id": "2ea3f158-995d-4c2b-87a8-6668750d96aa"
      },
      "source": [
        "### Valores Atípicos"
      ]
    },
    {
      "cell_type": "markdown",
      "id": "c00c44ae-3153-485a-b34e-e1cc235161d8",
      "metadata": {
        "id": "c00c44ae-3153-485a-b34e-e1cc235161d8"
      },
      "source": [
        "Analizamos de forma gráfica los valores outliers de la variable Salario"
      ]
    },
    {
      "cell_type": "code",
      "execution_count": null,
      "id": "62215104-d0c3-41e5-a76c-f2d7cf240077",
      "metadata": {
        "id": "62215104-d0c3-41e5-a76c-f2d7cf240077",
        "outputId": "5f93d912-439f-4a67-8003-2150dd25cae1"
      },
      "outputs": [
        {
          "data": {
            "image/png": "[encoded data removed]",
            "text/plain": [
              "<Figure size 640x480 with 1 Axes>"
            ]
          },
          "metadata": {},
          "output_type": "display_data"
        }
      ],
      "source": [
        "sns.boxplot(x=df_pre[\"Salario\"])\n",
        "plt.show()"
      ]
    },
    {
      "cell_type": "markdown",
      "id": "4f071c42-9f92-4894-a2b8-1659ca70d4d9",
      "metadata": {
        "id": "4f071c42-9f92-4894-a2b8-1659ca70d4d9"
      },
      "source": [
        "¿Cómo podemos detectar a qué registro pertenece ese valor  de Salario atípico?"
      ]
    },
    {
      "cell_type": "code",
      "execution_count": null,
      "id": "304eb7e8-6c08-42f6-8ac3-96acc1733c29",
      "metadata": {
        "id": "304eb7e8-6c08-42f6-8ac3-96acc1733c29"
      },
      "outputs": [],
      "source": [
        "Q1 = df_pre[\"Salario\"].quantile(0.25)\n",
        "Q2 = df_pre[\"Salario\"].quantile(0.50)\n",
        "Q3 = df_pre[\"Salario\"].quantile(0.75)\n",
        "IQR = Q3 - Q1\n",
        "LI = Q1-1.5*IQR\n",
        "LS = Q3+1.5*IQR"
      ]
    },
    {
      "cell_type": "markdown",
      "id": "730cb4e6-c86f-4b38-887a-e5b465a24ba8",
      "metadata": {
        "id": "730cb4e6-c86f-4b38-887a-e5b465a24ba8"
      },
      "source": [
        "Identificamos a los registros que tienen los valores atípicos"
      ]
    },
    {
      "cell_type": "code",
      "execution_count": null,
      "id": "df5cb495-bb22-4127-8735-ebeb4b67cef3",
      "metadata": {
        "id": "df5cb495-bb22-4127-8735-ebeb4b67cef3",
        "outputId": "95dcde40-6fea-4716-a632-32b15cfc8739"
      },
      "outputs": [
        {
          "data": {
            "text/html": [
              "<div>\n",
              "<style scoped>\n",
              "    .dataframe tbody tr th:only-of-type {\n",
              "        vertical-align: middle;\n",
              "    }\n",
              "\n",
              "    .dataframe tbody tr th {\n",
              "        vertical-align: top;\n",
              "    }\n",
              "\n",
              "    .dataframe thead th {\n",
              "        text-align: right;\n",
              "    }\n",
              "</style>\n",
              "<table border=\"1\" class=\"dataframe\">\n",
              "  <thead>\n",
              "    <tr style=\"text-align: right;\">\n",
              "      <th></th>\n",
              "      <th>Edad</th>\n",
              "      <th>Genero</th>\n",
              "      <th>Vivienda</th>\n",
              "      <th>Ecivil</th>\n",
              "      <th>Ubicacion</th>\n",
              "      <th>Salario</th>\n",
              "      <th>Hijos</th>\n",
              "      <th>Historial</th>\n",
              "      <th>Catalogos</th>\n",
              "      <th>Monto</th>\n",
              "    </tr>\n",
              "  </thead>\n",
              "  <tbody>\n",
              "    <tr>\n",
              "      <th>928</th>\n",
              "      <td>Adulta</td>\n",
              "      <td>Masculino</td>\n",
              "      <td>Propia</td>\n",
              "      <td>Casado</td>\n",
              "      <td>Cerca</td>\n",
              "      <td>168800</td>\n",
              "      <td>0</td>\n",
              "      <td>Alto</td>\n",
              "      <td>6</td>\n",
              "      <td>1512</td>\n",
              "    </tr>\n",
              "  </tbody>\n",
              "</table>\n",
              "</div>"
            ],
            "text/plain": [
              "       Edad     Genero Vivienda  Ecivil Ubicacion  Salario  Hijos Historial  \\\n",
              "928  Adulta  Masculino   Propia  Casado     Cerca   168800      0      Alto   \n",
              "\n",
              "     Catalogos  Monto  \n",
              "928          6   1512  "
            ]
          },
          "execution_count": 12,
          "metadata": {},
          "output_type": "execute_result"
        }
      ],
      "source": [
        "df_pre[\n",
        "    (df_pre[\"Salario\"]<LI) |\n",
        "    (df_pre[\"Salario\"]>LS)\n",
        "]"
      ]
    },
    {
      "cell_type": "markdown",
      "id": "ea1e331f-e35b-45a9-b47f-b96ab6cd3153",
      "metadata": {
        "id": "ea1e331f-e35b-45a9-b47f-b96ab6cd3153"
      },
      "source": [
        "Analizamos de forma gráfica los valores outliers de la variable Salario por Sexo"
      ]
    },
    {
      "cell_type": "code",
      "execution_count": null,
      "id": "6101f659-d452-4653-bf10-63a4c25750d4",
      "metadata": {
        "id": "6101f659-d452-4653-bf10-63a4c25750d4",
        "outputId": "5d5feb07-f1e2-4488-b221-c6a63b2ac172"
      },
      "outputs": [
        {
          "data": {
            "image/png": "[encoded data removed]",
            "text/plain": [
              "<Figure size 640x480 with 1 Axes>"
            ]
          },
          "metadata": {},
          "output_type": "display_data"
        }
      ],
      "source": [
        "# Analizamos de forma gráfica los valores outliers de la variable Salario abierto por Género\n",
        "sns.boxplot(x=\"Genero\",y=\"Salario\", data=df_pre)\n",
        "plt.show()"
      ]
    },
    {
      "cell_type": "code",
      "execution_count": null,
      "id": "1471ef7d-a4bc-4abd-8dbd-5cb4bddcb4cc",
      "metadata": {
        "id": "1471ef7d-a4bc-4abd-8dbd-5cb4bddcb4cc"
      },
      "outputs": [],
      "source": [
        "Q1 = df_pre[(df_pre[\"Genero\"] == \"Masculino\")][\"Salario\"].quantile(0.25)\n",
        "Q2 = df_pre[(df_pre[\"Genero\"] == \"Masculino\")][\"Salario\"].quantile(0.50)\n",
        "Q3 = df_pre[(df_pre[\"Genero\"] == \"Masculino\")][\"Salario\"].quantile(0.75)\n",
        "IQR = Q3 - Q1\n",
        "LI = Q1-1.5*IQR\n",
        "LS = Q3+1.5*IQR"
      ]
    },
    {
      "cell_type": "code",
      "execution_count": null,
      "id": "e2bbba1d-04b5-4f41-b2ba-8101e7ac22d4",
      "metadata": {
        "id": "e2bbba1d-04b5-4f41-b2ba-8101e7ac22d4",
        "outputId": "3b275242-a119-45fe-bacb-e59a000e649f"
      },
      "outputs": [
        {
          "data": {
            "text/html": [
              "<div>\n",
              "<style scoped>\n",
              "    .dataframe tbody tr th:only-of-type {\n",
              "        vertical-align: middle;\n",
              "    }\n",
              "\n",
              "    .dataframe tbody tr th {\n",
              "        vertical-align: top;\n",
              "    }\n",
              "\n",
              "    .dataframe thead th {\n",
              "        text-align: right;\n",
              "    }\n",
              "</style>\n",
              "<table border=\"1\" class=\"dataframe\">\n",
              "  <thead>\n",
              "    <tr style=\"text-align: right;\">\n",
              "      <th></th>\n",
              "      <th>Edad</th>\n",
              "      <th>Genero</th>\n",
              "      <th>Vivienda</th>\n",
              "      <th>Ecivil</th>\n",
              "      <th>Ubicacion</th>\n",
              "      <th>Salario</th>\n",
              "      <th>Hijos</th>\n",
              "      <th>Historial</th>\n",
              "      <th>Catalogos</th>\n",
              "      <th>Monto</th>\n",
              "    </tr>\n",
              "  </thead>\n",
              "  <tbody>\n",
              "    <tr>\n",
              "      <th>928</th>\n",
              "      <td>Adulta</td>\n",
              "      <td>Masculino</td>\n",
              "      <td>Propia</td>\n",
              "      <td>Casado</td>\n",
              "      <td>Cerca</td>\n",
              "      <td>168800</td>\n",
              "      <td>0</td>\n",
              "      <td>Alto</td>\n",
              "      <td>6</td>\n",
              "      <td>1512</td>\n",
              "    </tr>\n",
              "  </tbody>\n",
              "</table>\n",
              "</div>"
            ],
            "text/plain": [
              "       Edad     Genero Vivienda  Ecivil Ubicacion  Salario  Hijos Historial  \\\n",
              "928  Adulta  Masculino   Propia  Casado     Cerca   168800      0      Alto   \n",
              "\n",
              "     Catalogos  Monto  \n",
              "928          6   1512  "
            ]
          },
          "execution_count": 15,
          "metadata": {},
          "output_type": "execute_result"
        }
      ],
      "source": [
        "df_pre[\n",
        "    ((df_pre[\"Genero\"] == \"Masculino\") & (df_pre[\"Salario\"]<LI)) |\n",
        "    ((df_pre[\"Genero\"] == \"Masculino\") & (df_pre[\"Salario\"]>LS))\n",
        "]"
      ]
    },
    {
      "cell_type": "markdown",
      "id": "fc68e49d-a8f5-4dc5-8ef7-d02c64ae3fbb",
      "metadata": {
        "id": "fc68e49d-a8f5-4dc5-8ef7-d02c64ae3fbb"
      },
      "source": [
        "**Capeo de una variable:** Se aplica cuando no se desea eliminar los valores outliers, reemplazando sus valores originales por un percentil adecuado."
      ]
    },
    {
      "cell_type": "code",
      "execution_count": null,
      "id": "679574af-e0e5-4e9c-bb9a-bce5dd1779ee",
      "metadata": {
        "id": "679574af-e0e5-4e9c-bb9a-bce5dd1779ee"
      },
      "outputs": [],
      "source": [
        "df_pre[\"Salario\"] = np.where(df_pre[\"Salario\"]>LS, df_pre[\"Salario\"].quantile(0.95), df_pre[\"Salario\"])"
      ]
    },
    {
      "cell_type": "code",
      "execution_count": null,
      "id": "d640d2dd-7226-4b88-b2ff-38dd20825d8c",
      "metadata": {
        "id": "d640d2dd-7226-4b88-b2ff-38dd20825d8c",
        "outputId": "f123ca9b-c299-46b1-da35-3008bad8f388"
      },
      "outputs": [
        {
          "data": {
            "image/png": "[encoded data removed]",
            "text/plain": [
              "<Figure size 640x480 with 1 Axes>"
            ]
          },
          "metadata": {},
          "output_type": "display_data"
        }
      ],
      "source": [
        "# Analizamos de forma gráfica los valores outliers de la variable Salario abierto por Género\n",
        "sns.boxplot(x=\"Genero\",y=\"Salario\", data=df_pre)\n",
        "plt.show()"
      ]
    }
  ],
  "metadata": {
    "kernelspec": {
      "display_name": "Python 3 (ipykernel)",
      "language": "python",
      "name": "python3"
    },
    "language_info": {
      "codemirror_mode": {
        "name": "ipython",
        "version": 3
      },
      "file_extension": ".py",
      "mimetype": "text/x-python",
      "name": "python",
      "nbconvert_exporter": "python",
      "pygments_lexer": "ipython3",
      "version": "3.11.4"
    },
    "colab": {
      "provenance": []
    }
  },
  "nbformat": 4,
  "nbformat_minor": 5
}