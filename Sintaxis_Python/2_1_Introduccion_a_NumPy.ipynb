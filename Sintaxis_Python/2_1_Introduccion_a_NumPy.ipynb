{
  "cells": [
    {
      "cell_type": "markdown",
      "metadata": {
        "id": "VkguMse9ot4M"
      },
      "source": [
        "# Introducción a NumPy"
      ]
    },
    {
      "cell_type": "markdown",
      "metadata": {
        "id": "OdkbLlYvot4N"
      },
      "source": [
        "* Proporciona arrays N-dimensionales\n",
        "* Implementa funciones matemáticas sofisticadas\n",
        "* Proporciona mecanismos para facilitar la realización de tareas relacionadas con álgebra lineal o números aleatorios"
      ]
    },
    {
      "cell_type": "markdown",
      "metadata": {
        "id": "PmvHvZtGot4N"
      },
      "source": [
        "## Importar el paquete"
      ]
    },
    {
      "cell_type": "code",
      "execution_count": 1,
      "metadata": {
        "id": "i2aFcDNyot4O"
      },
      "outputs": [],
      "source": [
        "import numpy as np"
      ]
    },
    {
      "cell_type": "markdown",
      "metadata": {
        "id": "z_w9D5lkot4O"
      },
      "source": [
        "## Arrays"
      ]
    },
    {
      "cell_type": "markdown",
      "metadata": {
        "id": "uW1D4mlaot4O"
      },
      "source": [
        "Un **array** es una estructura de datos que consiste en una colección de elementos (valores o variables), cada uno identificado por al menos un índice o clave. Un array se almacena de modo que la posición de cada elemento se pueda calcular a partir de su tupla de índice mediante una fórmula matemática. El tipo más simple de array es un array lineal, también llamado array unidimensional."
      ]
    },
    {
      "cell_type": "code",
      "execution_count": 2,
      "metadata": {
        "id": "6PnxKxQqot4O",
        "outputId": "77f9049e-642a-4ae1-e85a-fb99f87ecf74",
        "colab": {
          "base_uri": "https://localhost:8080/"
        }
      },
      "outputs": [
        {
          "output_type": "execute_result",
          "data": {
            "text/plain": [
              "array([1, 2, 3])"
            ]
          },
          "metadata": {},
          "execution_count": 2
        }
      ],
      "source": [
        "# Array unidimensional:\n",
        "array_uni = np.array([1,2,3])\n",
        "array_uni"
      ]
    },
    {
      "cell_type": "code",
      "execution_count": 3,
      "metadata": {
        "id": "iQLpSj8sot4P",
        "outputId": "9180923e-5fef-41d3-fd49-4cbdbee72ca5",
        "colab": {
          "base_uri": "https://localhost:8080/"
        }
      },
      "outputs": [
        {
          "output_type": "execute_result",
          "data": {
            "text/plain": [
              "1"
            ]
          },
          "metadata": {},
          "execution_count": 3
        }
      ],
      "source": [
        "# Array con una sola dimensión\n",
        "array_uni.ndim"
      ]
    },
    {
      "cell_type": "code",
      "execution_count": 4,
      "metadata": {
        "id": "PUo0gMOhot4P",
        "outputId": "8ef4d510-e6df-4073-c7c1-87e0c1e8e5bc",
        "colab": {
          "base_uri": "https://localhost:8080/"
        }
      },
      "outputs": [
        {
          "output_type": "execute_result",
          "data": {
            "text/plain": [
              "(3,)"
            ]
          },
          "metadata": {},
          "execution_count": 4
        }
      ],
      "source": [
        "# Se lee: Array unidimensional que contiene 3 elementos\n",
        "array_uni.shape"
      ]
    },
    {
      "cell_type": "code",
      "execution_count": 5,
      "metadata": {
        "id": "RCvY-8c3ot4P",
        "outputId": "670e0dd9-2d3b-4717-9266-0339af7cc37f",
        "colab": {
          "base_uri": "https://localhost:8080/"
        }
      },
      "outputs": [
        {
          "output_type": "execute_result",
          "data": {
            "text/plain": [
              "3"
            ]
          },
          "metadata": {},
          "execution_count": 5
        }
      ],
      "source": [
        "# El tamaño del array es 3\n",
        "array_uni.size"
      ]
    },
    {
      "cell_type": "code",
      "execution_count": 6,
      "metadata": {
        "id": "1tmbb_a-ot4Q",
        "outputId": "19c59ca3-8955-4bc4-8a52-03255d918920",
        "colab": {
          "base_uri": "https://localhost:8080/"
        }
      },
      "outputs": [
        {
          "output_type": "execute_result",
          "data": {
            "text/plain": [
              "array([[1, 2, 3],\n",
              "       [4, 5, 6]])"
            ]
          },
          "metadata": {},
          "execution_count": 6
        }
      ],
      "source": [
        "# Array bidimensional n x unidimensional\n",
        "array_bi = np.array([[1,2,3],[4,5,6]])\n",
        "array_bi"
      ]
    },
    {
      "cell_type": "code",
      "execution_count": 7,
      "metadata": {
        "id": "W0Z5CgqPot4Q",
        "outputId": "bc97b0f3-7f6f-48e1-ae35-a032499e1966",
        "colab": {
          "base_uri": "https://localhost:8080/"
        }
      },
      "outputs": [
        {
          "output_type": "execute_result",
          "data": {
            "text/plain": [
              "2"
            ]
          },
          "metadata": {},
          "execution_count": 7
        }
      ],
      "source": [
        "array_bi.ndim"
      ]
    },
    {
      "cell_type": "code",
      "execution_count": 8,
      "metadata": {
        "id": "D5gQZn81ot4Q",
        "outputId": "c3f60b7f-12ae-480d-9877-fb18a9c48270",
        "colab": {
          "base_uri": "https://localhost:8080/"
        }
      },
      "outputs": [
        {
          "output_type": "execute_result",
          "data": {
            "text/plain": [
              "(2, 3)"
            ]
          },
          "metadata": {},
          "execution_count": 8
        }
      ],
      "source": [
        "array_bi.shape"
      ]
    },
    {
      "cell_type": "code",
      "execution_count": 9,
      "metadata": {
        "id": "SuXvAjfmot4Q",
        "outputId": "66856bd5-a474-41fc-808b-09c6e8d655ef",
        "colab": {
          "base_uri": "https://localhost:8080/"
        }
      },
      "outputs": [
        {
          "output_type": "execute_result",
          "data": {
            "text/plain": [
              "6"
            ]
          },
          "metadata": {},
          "execution_count": 9
        }
      ],
      "source": [
        "array_bi.size"
      ]
    },
    {
      "cell_type": "code",
      "execution_count": 10,
      "metadata": {
        "id": "jJ-7xP_Rot4Q",
        "outputId": "73655647-8442-4dab-c3a1-1bf2c9ad8949",
        "colab": {
          "base_uri": "https://localhost:8080/"
        }
      },
      "outputs": [
        {
          "output_type": "execute_result",
          "data": {
            "text/plain": [
              "array([[[1, 2, 3],\n",
              "        [4, 5, 6]],\n",
              "\n",
              "       [[1, 2, 3],\n",
              "        [4, 5, 6]]])"
            ]
          },
          "metadata": {},
          "execution_count": 10
        }
      ],
      "source": [
        "# Array tridimensional n x (filas x columnas)\n",
        "array_tri = np.array([[[1,2,3],[4,5,6]],[[1,2,3],[4,5,6]]])\n",
        "array_tri"
      ]
    },
    {
      "cell_type": "code",
      "execution_count": 11,
      "metadata": {
        "id": "h8I-Jz3xot4R",
        "colab": {
          "base_uri": "https://localhost:8080/"
        },
        "outputId": "10b9d32d-46ad-4c0e-d393-1c0efdaf89ba"
      },
      "outputs": [
        {
          "output_type": "execute_result",
          "data": {
            "text/plain": [
              "[[[1, 2, 3], [4, 5, 6]], [[1, 2, 3], [4, 5, 6]]]"
            ]
          },
          "metadata": {},
          "execution_count": 11
        }
      ],
      "source": [
        "[\n",
        "    [\n",
        "        [1,2,3],[4,5,6]\n",
        "    ],\n",
        "    [\n",
        "        [1,2,3],[4,5,6]\n",
        "    ]\n",
        "]"
      ]
    },
    {
      "cell_type": "code",
      "execution_count": 12,
      "metadata": {
        "id": "ymYDpdSkot4R",
        "outputId": "fbcd21ef-c248-4481-a78c-a54ee9273d1a",
        "colab": {
          "base_uri": "https://localhost:8080/"
        }
      },
      "outputs": [
        {
          "output_type": "execute_result",
          "data": {
            "text/plain": [
              "3"
            ]
          },
          "metadata": {},
          "execution_count": 12
        }
      ],
      "source": [
        "array_tri.ndim"
      ]
    },
    {
      "cell_type": "code",
      "execution_count": 13,
      "metadata": {
        "id": "TZulxLNwot4R",
        "outputId": "649b658f-643c-475e-df9f-ace23a6cd7a6",
        "colab": {
          "base_uri": "https://localhost:8080/"
        }
      },
      "outputs": [
        {
          "output_type": "execute_result",
          "data": {
            "text/plain": [
              "(2, 2, 3)"
            ]
          },
          "metadata": {},
          "execution_count": 13
        }
      ],
      "source": [
        "array_tri.shape"
      ]
    },
    {
      "cell_type": "code",
      "execution_count": 14,
      "metadata": {
        "id": "Vei1cUYyot4R",
        "outputId": "15bb47af-8791-4885-da26-8b190383f4e5",
        "colab": {
          "base_uri": "https://localhost:8080/"
        }
      },
      "outputs": [
        {
          "output_type": "execute_result",
          "data": {
            "text/plain": [
              "12"
            ]
          },
          "metadata": {},
          "execution_count": 14
        }
      ],
      "source": [
        "array_tri.size"
      ]
    },
    {
      "cell_type": "markdown",
      "metadata": {
        "id": "UzS70SEFot4R"
      },
      "source": [
        "### Arrays Especiales"
      ]
    },
    {
      "cell_type": "markdown",
      "metadata": {
        "id": "VUsaWpIOot4R"
      },
      "source": [
        "**1. Array zeros:** Crea un array cuyos elementos son todos ceros"
      ]
    },
    {
      "cell_type": "code",
      "execution_count": 15,
      "metadata": {
        "id": "gC6WnigYot4R",
        "outputId": "12b47155-2f26-4945-f0c6-72e5175365ca",
        "colab": {
          "base_uri": "https://localhost:8080/"
        }
      },
      "outputs": [
        {
          "output_type": "execute_result",
          "data": {
            "text/plain": [
              "array([0., 0., 0.])"
            ]
          },
          "metadata": {},
          "execution_count": 15
        }
      ],
      "source": [
        "# Unidimensional\n",
        "np.zeros(3)"
      ]
    },
    {
      "cell_type": "code",
      "execution_count": 16,
      "metadata": {
        "id": "j_aOk9mSot4R",
        "outputId": "6deef229-502b-40c9-e331-c876ea5afa36",
        "colab": {
          "base_uri": "https://localhost:8080/"
        }
      },
      "outputs": [
        {
          "output_type": "execute_result",
          "data": {
            "text/plain": [
              "array([[0., 0., 0., 0.],\n",
              "       [0., 0., 0., 0.]])"
            ]
          },
          "metadata": {},
          "execution_count": 16
        }
      ],
      "source": [
        "# Bidimensional\n",
        "np.zeros((2, 4))"
      ]
    },
    {
      "cell_type": "code",
      "execution_count": 17,
      "metadata": {
        "id": "owqcrAkuot4R",
        "outputId": "ed0f5638-fb27-4f48-d5b8-d410ec2eb210",
        "colab": {
          "base_uri": "https://localhost:8080/"
        }
      },
      "outputs": [
        {
          "output_type": "execute_result",
          "data": {
            "text/plain": [
              "array([[[0., 0., 0., 0.],\n",
              "        [0., 0., 0., 0.]],\n",
              "\n",
              "       [[0., 0., 0., 0.],\n",
              "        [0., 0., 0., 0.]],\n",
              "\n",
              "       [[0., 0., 0., 0.],\n",
              "        [0., 0., 0., 0.]]])"
            ]
          },
          "metadata": {},
          "execution_count": 17
        }
      ],
      "source": [
        "# Tridimensional\n",
        "np.zeros((3,2,4))"
      ]
    },
    {
      "cell_type": "markdown",
      "metadata": {
        "id": "2Lt-02yAot4R"
      },
      "source": [
        "**2. Array unos:** Crea un array cuyos elementos son todos unos   "
      ]
    },
    {
      "cell_type": "code",
      "execution_count": 18,
      "metadata": {
        "id": "mqCMpYmFot4R",
        "outputId": "e9dcdfef-0bab-41cf-a17f-450e40bad4d6",
        "colab": {
          "base_uri": "https://localhost:8080/"
        }
      },
      "outputs": [
        {
          "output_type": "execute_result",
          "data": {
            "text/plain": [
              "array([1., 1., 1.])"
            ]
          },
          "metadata": {},
          "execution_count": 18
        }
      ],
      "source": [
        "# Unidimensional\n",
        "np.ones(3)"
      ]
    },
    {
      "cell_type": "code",
      "execution_count": 19,
      "metadata": {
        "id": "-jMi8w-hot4S",
        "outputId": "36693fe6-43f1-4626-f97b-3d038291ac67",
        "colab": {
          "base_uri": "https://localhost:8080/"
        }
      },
      "outputs": [
        {
          "output_type": "execute_result",
          "data": {
            "text/plain": [
              "array([[1., 1., 1., 1.],\n",
              "       [1., 1., 1., 1.]])"
            ]
          },
          "metadata": {},
          "execution_count": 19
        }
      ],
      "source": [
        "# Bidimensional\n",
        "np.ones((2,4))"
      ]
    },
    {
      "cell_type": "code",
      "execution_count": 20,
      "metadata": {
        "id": "tSvnNy8tot4S",
        "outputId": "c9c785d0-6d8b-4930-8edb-3f17da9534cf",
        "colab": {
          "base_uri": "https://localhost:8080/"
        }
      },
      "outputs": [
        {
          "output_type": "execute_result",
          "data": {
            "text/plain": [
              "array([[[1., 1., 1., 1.],\n",
              "        [1., 1., 1., 1.]],\n",
              "\n",
              "       [[1., 1., 1., 1.],\n",
              "        [1., 1., 1., 1.]],\n",
              "\n",
              "       [[1., 1., 1., 1.],\n",
              "        [1., 1., 1., 1.]]])"
            ]
          },
          "metadata": {},
          "execution_count": 20
        }
      ],
      "source": [
        "# Tridimensional\n",
        "np.ones((3,2,4))"
      ]
    },
    {
      "cell_type": "markdown",
      "metadata": {
        "id": "pUt3Xcs9ot4S"
      },
      "source": [
        "**3. Array full:** Crea un array cuyos elementos son todos el valor indicado como segundo parámetro de la función."
      ]
    },
    {
      "cell_type": "code",
      "execution_count": 21,
      "metadata": {
        "id": "CrVDSA6Iot4S",
        "outputId": "ba10b29f-5068-4467-d969-31ddbbfa3c1a",
        "colab": {
          "base_uri": "https://localhost:8080/"
        }
      },
      "outputs": [
        {
          "output_type": "execute_result",
          "data": {
            "text/plain": [
              "array([8, 8, 8])"
            ]
          },
          "metadata": {},
          "execution_count": 21
        }
      ],
      "source": [
        "# Unidimensional\n",
        "np.full(3,8)"
      ]
    },
    {
      "cell_type": "code",
      "execution_count": 22,
      "metadata": {
        "id": "MoqWqNi_ot4S",
        "outputId": "98646f80-eb09-4e45-db5a-b1bb63117158",
        "colab": {
          "base_uri": "https://localhost:8080/"
        }
      },
      "outputs": [
        {
          "output_type": "execute_result",
          "data": {
            "text/plain": [
              "array([[8, 8, 8, 8],\n",
              "       [8, 8, 8, 8]])"
            ]
          },
          "metadata": {},
          "execution_count": 22
        }
      ],
      "source": [
        "# Bidimensional\n",
        "np.full((2,4),8)"
      ]
    },
    {
      "cell_type": "code",
      "execution_count": 23,
      "metadata": {
        "id": "IzbzATzBot4S",
        "outputId": "a7754c2d-db83-4971-ee01-1b8d5ff79922",
        "colab": {
          "base_uri": "https://localhost:8080/"
        }
      },
      "outputs": [
        {
          "output_type": "execute_result",
          "data": {
            "text/plain": [
              "array([[[8, 8, 8, 8],\n",
              "        [8, 8, 8, 8]],\n",
              "\n",
              "       [[8, 8, 8, 8],\n",
              "        [8, 8, 8, 8]],\n",
              "\n",
              "       [[8, 8, 8, 8],\n",
              "        [8, 8, 8, 8]]])"
            ]
          },
          "metadata": {},
          "execution_count": 23
        }
      ],
      "source": [
        "# Tridimensional\n",
        "np.full((3, 2, 4), 8)"
      ]
    },
    {
      "cell_type": "markdown",
      "metadata": {
        "id": "Jkqn-Q2lot4S"
      },
      "source": [
        "**4 Array arange:** Crea un array utilizando una función basada en rangos: mínimos, máximo y salto"
      ]
    },
    {
      "cell_type": "code",
      "execution_count": 24,
      "metadata": {
        "id": "f0goGSpIot4S",
        "outputId": "d200d64b-5673-482d-f5a8-61307738db37",
        "colab": {
          "base_uri": "https://localhost:8080/"
        }
      },
      "outputs": [
        {
          "output_type": "execute_result",
          "data": {
            "text/plain": [
              "array([ 0,  3,  6,  9, 12, 15, 18])"
            ]
          },
          "metadata": {},
          "execution_count": 24
        }
      ],
      "source": [
        "np.arange(0,20,3)"
      ]
    },
    {
      "cell_type": "markdown",
      "metadata": {
        "id": "PPhyJFCgot4S"
      },
      "source": [
        "**5. Array Linspace:** Crea un array utilizando una función basada en rangos: mínimo, máximo y nro de elementos del array."
      ]
    },
    {
      "cell_type": "code",
      "execution_count": 25,
      "metadata": {
        "id": "OlW_jIYdot4S",
        "outputId": "a1f9aba6-a4ef-4583-a4f7-f796948e2e75",
        "colab": {
          "base_uri": "https://localhost:8080/"
        }
      },
      "outputs": [
        {
          "output_type": "execute_result",
          "data": {
            "text/plain": [
              "array([ 0.,  5., 10., 15., 20.])"
            ]
          },
          "metadata": {},
          "execution_count": 25
        }
      ],
      "source": [
        "np.linspace(0, 20, 5)"
      ]
    },
    {
      "cell_type": "markdown",
      "metadata": {
        "id": "UTvtGRlmot4T"
      },
      "source": [
        "**6. Array random randint:** Crea un array utilizando una función basada en rangos: mínimo y máximo. Te arroja valores enteros entre el valor mínimo y máximo que has escogido."
      ]
    },
    {
      "cell_type": "code",
      "execution_count": 26,
      "metadata": {
        "id": "Veggg5i3ot4T",
        "outputId": "6f253bce-70a9-4930-9cd9-34047ad7613d",
        "colab": {
          "base_uri": "https://localhost:8080/"
        }
      },
      "outputs": [
        {
          "output_type": "execute_result",
          "data": {
            "text/plain": [
              "array([[9, 8, 8, 8],\n",
              "       [8, 6, 8, 7],\n",
              "       [6, 5, 9, 9]])"
            ]
          },
          "metadata": {},
          "execution_count": 26
        }
      ],
      "source": [
        "np.random.randint(5,10, size = (3,4))"
      ]
    },
    {
      "cell_type": "markdown",
      "metadata": {
        "id": "UeHbFFQBot4T"
      },
      "source": [
        "**7. Array random rand:** Crea un array cuyos elementos se distribuyen uniformemente"
      ]
    },
    {
      "cell_type": "code",
      "execution_count": 27,
      "metadata": {
        "id": "pNADFgkXot4T",
        "outputId": "5990368a-c5d7-4780-a0a9-dcf3b3f3695d",
        "colab": {
          "base_uri": "https://localhost:8080/"
        }
      },
      "outputs": [
        {
          "output_type": "execute_result",
          "data": {
            "text/plain": [
              "array([0.34227963, 0.09374166, 0.68650285, ..., 0.88622999, 0.51175045,\n",
              "       0.64074039])"
            ]
          },
          "metadata": {},
          "execution_count": 27
        }
      ],
      "source": [
        "# Unidimensional\n",
        "np.random.rand(10000)"
      ]
    },
    {
      "cell_type": "code",
      "execution_count": 28,
      "metadata": {
        "id": "uJ8w2K2Bot4T",
        "outputId": "6801dc7d-1232-4988-8459-54eef36b2b97",
        "colab": {
          "base_uri": "https://localhost:8080/",
          "height": 430
        }
      },
      "outputs": [
        {
          "output_type": "display_data",
          "data": {
            "text/plain": [
              "<Figure size 640x480 with 1 Axes>"
            ],
            "image/png": "[encoded data removed]"
          },
          "metadata": {}
        }
      ],
      "source": [
        "%matplotlib inline\n",
        "import matplotlib.pyplot as plt\n",
        "\n",
        "c = np.random.rand(100000)\n",
        "\n",
        "plt.hist(c, bins=200)\n",
        "plt.show()"
      ]
    },
    {
      "cell_type": "code",
      "execution_count": 29,
      "metadata": {
        "id": "HrPwzTbQot4T",
        "outputId": "170c994c-e936-4942-81ab-f23edd1c276d",
        "colab": {
          "base_uri": "https://localhost:8080/"
        }
      },
      "outputs": [
        {
          "output_type": "execute_result",
          "data": {
            "text/plain": [
              "array([[0.30624372, 0.74881998, 0.77720725],\n",
              "       [0.93441117, 0.62781138, 0.97724864]])"
            ]
          },
          "metadata": {},
          "execution_count": 29
        }
      ],
      "source": [
        "# Bidimensional\n",
        "np.random.rand(2, 3)"
      ]
    },
    {
      "cell_type": "code",
      "execution_count": 30,
      "metadata": {
        "id": "3P0XRyMrot4T",
        "outputId": "70d913e7-83d2-41f3-fe0d-f4f88c9daac1",
        "colab": {
          "base_uri": "https://localhost:8080/"
        }
      },
      "outputs": [
        {
          "output_type": "execute_result",
          "data": {
            "text/plain": [
              "array([[[0.61310114, 0.90947486, 0.08552778, 0.03580541],\n",
              "        [0.72940338, 0.50001287, 0.28658058, 0.91688744],\n",
              "        [0.28802126, 0.83646034, 0.49177138, 0.74440572]],\n",
              "\n",
              "       [[0.06350111, 0.56139678, 0.68969602, 0.0367549 ],\n",
              "        [0.25420671, 0.10374276, 0.29303845, 0.88307243],\n",
              "        [0.64016055, 0.13148961, 0.95504824, 0.15542973]]])"
            ]
          },
          "metadata": {},
          "execution_count": 30
        }
      ],
      "source": [
        "# Tridimensional\n",
        "np.random.rand(2,3,4)"
      ]
    },
    {
      "cell_type": "markdown",
      "metadata": {
        "id": "QdaVSRgkot4T"
      },
      "source": [
        "**8. Array random normal:** Crea un array cuyos elementos siguen una distribución normal con los parámetros de media y varianza"
      ]
    },
    {
      "cell_type": "code",
      "execution_count": 31,
      "metadata": {
        "id": "8f7azRDQot4T",
        "outputId": "eb6cce19-18b6-4863-928f-61b6400d83df",
        "colab": {
          "base_uri": "https://localhost:8080/"
        }
      },
      "outputs": [
        {
          "output_type": "execute_result",
          "data": {
            "text/plain": [
              "array([ 7.50647489,  4.58561614,  1.53818152,  6.59374264,  4.95859703,\n",
              "       10.12105004,  3.06481016,  5.38484864,  1.76651654,  9.7785591 ])"
            ]
          },
          "metadata": {},
          "execution_count": 31
        }
      ],
      "source": [
        "# Unidimensional\n",
        "np.random.normal(5,3,10)"
      ]
    },
    {
      "cell_type": "code",
      "execution_count": 32,
      "metadata": {
        "id": "GOJZPg-rot4U",
        "outputId": "b3f5ed84-0dbe-460a-aa65-de45ec710d7c",
        "colab": {
          "base_uri": "https://localhost:8080/",
          "height": 430
        }
      },
      "outputs": [
        {
          "output_type": "display_data",
          "data": {
            "text/plain": [
              "<Figure size 640x480 with 1 Axes>"
            ],
            "image/png": "[encoded data removed]"
          },
          "metadata": {}
        }
      ],
      "source": [
        "%matplotlib inline\n",
        "import matplotlib.pyplot as plt\n",
        "\n",
        "c = np.random.normal(5,3,100000)\n",
        "\n",
        "plt.hist(c, bins=200)\n",
        "plt.show()"
      ]
    },
    {
      "cell_type": "code",
      "execution_count": 33,
      "metadata": {
        "id": "x4VUl02_ot4U",
        "outputId": "c73ceade-0f62-4a93-ec20-f9f98d68e157",
        "colab": {
          "base_uri": "https://localhost:8080/"
        }
      },
      "outputs": [
        {
          "output_type": "execute_result",
          "data": {
            "text/plain": [
              "array([[-4.78136061,  2.12101463,  5.50932745],\n",
              "       [ 2.69898292,  8.70304887,  2.28897567]])"
            ]
          },
          "metadata": {},
          "execution_count": 33
        }
      ],
      "source": [
        "# Bidimensional\n",
        "np.random.normal(2,3,size = (2,3))"
      ]
    },
    {
      "cell_type": "code",
      "execution_count": 34,
      "metadata": {
        "id": "lXqdTJN6ot4U",
        "outputId": "c2e19a23-0349-4437-a3ac-f45a7f92a29c",
        "colab": {
          "base_uri": "https://localhost:8080/"
        }
      },
      "outputs": [
        {
          "output_type": "execute_result",
          "data": {
            "text/plain": [
              "array([[[ 2.69654661,  4.57377323, -5.62262435,  4.48019407],\n",
              "        [ 4.42720674,  2.69903641, -5.83305879,  1.34386447],\n",
              "        [-2.3257537 ,  1.69972884,  5.88866034,  5.70064987]],\n",
              "\n",
              "       [[ 7.00743984, -2.28510427,  3.79055865,  2.87289241],\n",
              "        [ 7.62569095,  4.23262709,  2.14788049,  5.70934575],\n",
              "        [ 2.37698932,  2.49377765,  4.31599386,  1.02095686]]])"
            ]
          },
          "metadata": {},
          "execution_count": 34
        }
      ],
      "source": [
        "# Tridimensional\n",
        "np.random.normal(2,3,size = (2,3,4))"
      ]
    },
    {
      "cell_type": "markdown",
      "metadata": {
        "id": "27qNo5Hgot4U"
      },
      "source": [
        "**9. Array random randn:** Crea un array cuyos elementos siguen una distribución normal estándar"
      ]
    },
    {
      "cell_type": "code",
      "execution_count": 35,
      "metadata": {
        "id": "BmfIlDB1ot4U",
        "outputId": "2f18877f-5265-40a0-8e32-b424fd6b575c",
        "colab": {
          "base_uri": "https://localhost:8080/"
        }
      },
      "outputs": [
        {
          "output_type": "execute_result",
          "data": {
            "text/plain": [
              "array([ 0.00653795,  2.70896653, -1.62845538, ...,  1.4776106 ,\n",
              "       -0.85882257, -0.40871752])"
            ]
          },
          "metadata": {},
          "execution_count": 35
        }
      ],
      "source": [
        "# Univariado\n",
        "np.random.randn(10000)"
      ]
    },
    {
      "cell_type": "code",
      "execution_count": 36,
      "metadata": {
        "id": "EQ93Di4xot4U",
        "outputId": "6b4c6b17-0cb2-4db4-9c9b-a476ecc11997",
        "colab": {
          "base_uri": "https://localhost:8080/",
          "height": 430
        }
      },
      "outputs": [
        {
          "output_type": "display_data",
          "data": {
            "text/plain": [
              "<Figure size 640x480 with 1 Axes>"
            ],
            "image/png": "[encoded data removed]"
          },
          "metadata": {}
        }
      ],
      "source": [
        "%matplotlib inline\n",
        "import matplotlib.pyplot as plt\n",
        "\n",
        "c = np.random.randn(10000)\n",
        "\n",
        "plt.hist(c, bins=200)\n",
        "plt.show()"
      ]
    },
    {
      "cell_type": "code",
      "execution_count": 37,
      "metadata": {
        "id": "XVEA9nFJot4U",
        "outputId": "9d20f239-1652-4382-a751-0f95c5330bbc",
        "colab": {
          "base_uri": "https://localhost:8080/"
        }
      },
      "outputs": [
        {
          "output_type": "execute_result",
          "data": {
            "text/plain": [
              "array([[-0.30450456, -0.24275377,  0.68626076],\n",
              "       [-0.22391394,  0.3168088 ,  0.68622506]])"
            ]
          },
          "metadata": {},
          "execution_count": 37
        }
      ],
      "source": [
        "# Bivariado\n",
        "np.random.randn(2, 3)"
      ]
    },
    {
      "cell_type": "code",
      "execution_count": 38,
      "metadata": {
        "id": "5JKf98fhot4U",
        "outputId": "ebb69fcb-6c5b-43e0-e2eb-e733f6209e4b",
        "colab": {
          "base_uri": "https://localhost:8080/"
        }
      },
      "outputs": [
        {
          "output_type": "execute_result",
          "data": {
            "text/plain": [
              "array([[[-0.80317575,  0.90099871,  0.17249443, -0.32509427],\n",
              "        [-0.62009312,  1.31352083, -0.98682596, -1.37886726],\n",
              "        [-0.41766055, -0.69446504, -0.99273547, -0.18846043]],\n",
              "\n",
              "       [[ 1.41921989, -0.93593464,  1.66917009, -0.23731249],\n",
              "        [ 0.7750715 ,  1.21941537,  2.72855188, -1.61483484],\n",
              "        [ 1.12559419,  1.76746503, -0.35865364, -0.52667155]]])"
            ]
          },
          "metadata": {},
          "execution_count": 38
        }
      ],
      "source": [
        "# Tridimensional\n",
        "np.random.randn(2, 3,4)"
      ]
    },
    {
      "cell_type": "markdown",
      "metadata": {
        "id": "aowOeWemot4U"
      },
      "source": [
        "### Acceso a los elementos de un array"
      ]
    },
    {
      "cell_type": "markdown",
      "metadata": {
        "id": "K528_FBkot4U"
      },
      "source": [
        "### Array unidimensional"
      ]
    },
    {
      "cell_type": "code",
      "execution_count": 39,
      "metadata": {
        "id": "MZWmOhCOot4V",
        "outputId": "8395001b-68cf-4810-ec10-c77bfd320d5b",
        "colab": {
          "base_uri": "https://localhost:8080/"
        }
      },
      "outputs": [
        {
          "output_type": "stream",
          "name": "stdout",
          "text": [
            "Shape: (6,)\n",
            "Array_uni: [ 1  3  5  7  9 11]\n"
          ]
        }
      ],
      "source": [
        "# Creación de un Array unidimensional\n",
        "array_uni = np.array([1, 3, 5, 7, 9, 11])\n",
        "print(\"Shape:\", array_uni.shape)\n",
        "print(\"Array_uni:\", array_uni)"
      ]
    },
    {
      "cell_type": "code",
      "execution_count": 40,
      "metadata": {
        "id": "Zp-v6x7pot4V",
        "outputId": "6f9b67a6-ae38-4bcd-ffb0-ab8a6e1321c0",
        "colab": {
          "base_uri": "https://localhost:8080/"
        }
      },
      "outputs": [
        {
          "output_type": "execute_result",
          "data": {
            "text/plain": [
              "9"
            ]
          },
          "metadata": {},
          "execution_count": 40
        }
      ],
      "source": [
        "# Accediendo al quinto elemento del Array\n",
        "array_uni[4]"
      ]
    },
    {
      "cell_type": "code",
      "execution_count": 41,
      "metadata": {
        "id": "_Y5fvgfjot4V",
        "outputId": "bccc8384-c6e3-4aab-f15e-d79a12326a7e",
        "colab": {
          "base_uri": "https://localhost:8080/"
        }
      },
      "outputs": [
        {
          "output_type": "execute_result",
          "data": {
            "text/plain": [
              "array([ 1,  7, 11])"
            ]
          },
          "metadata": {},
          "execution_count": 41
        }
      ],
      "source": [
        "# Accediendo a los elementos 0, 3 y 5 del Array\n",
        "array_uni[[0,3,5]]"
      ]
    },
    {
      "cell_type": "code",
      "execution_count": 42,
      "metadata": {
        "id": "hQbkfxF_ot4V",
        "outputId": "ea2abf5a-95d8-4cff-e26f-a1d93e4c3af7",
        "colab": {
          "base_uri": "https://localhost:8080/"
        }
      },
      "outputs": [
        {
          "output_type": "execute_result",
          "data": {
            "text/plain": [
              "array([5, 7])"
            ]
          },
          "metadata": {},
          "execution_count": 42
        }
      ],
      "source": [
        "# Accediendo al tercer y cuarto elemento del Array\n",
        "\n",
        "## Primera forma\n",
        "array_uni[2:4]\n",
        "\n",
        "## Segunda forma\n",
        "array_uni[range(2,4)]"
      ]
    },
    {
      "cell_type": "markdown",
      "metadata": {
        "id": "ihRZRMhCot4V"
      },
      "source": [
        "### Array multidimensional"
      ]
    },
    {
      "cell_type": "code",
      "execution_count": 43,
      "metadata": {
        "id": "Upr3OlpKot4V",
        "outputId": "7157a8e7-c6ea-466b-a8ff-80f8d771525f",
        "colab": {
          "base_uri": "https://localhost:8080/"
        }
      },
      "outputs": [
        {
          "output_type": "stream",
          "name": "stdout",
          "text": [
            "Shape: (2, 4)\n",
            "Array_multi:\n",
            " [[1 2 3 4]\n",
            " [5 6 7 8]]\n"
          ]
        }
      ],
      "source": [
        "# Creación de un Array multidimensional\n",
        "array_multi = np.array([[1, 2, 3, 4], [5, 6, 7, 8]])\n",
        "print(\"Shape:\", array_multi.shape)\n",
        "print(\"Array_multi:\\n\", array_multi)"
      ]
    },
    {
      "cell_type": "code",
      "execution_count": 44,
      "metadata": {
        "id": "IHjeICgmot4V",
        "outputId": "05a9785e-6661-419e-82a2-30292e10908b",
        "colab": {
          "base_uri": "https://localhost:8080/"
        }
      },
      "outputs": [
        {
          "output_type": "execute_result",
          "data": {
            "text/plain": [
              "4"
            ]
          },
          "metadata": {},
          "execution_count": 44
        }
      ],
      "source": [
        "# Accediendo al cuarto elemento del Array\n",
        "array_multi[0, 3]"
      ]
    },
    {
      "cell_type": "code",
      "execution_count": 45,
      "metadata": {
        "id": "PEf7tQzRot4V",
        "outputId": "2e8d44fb-d6c3-4ec8-d80d-80fc19e53b61",
        "colab": {
          "base_uri": "https://localhost:8080/"
        }
      },
      "outputs": [
        {
          "output_type": "execute_result",
          "data": {
            "text/plain": [
              "array([7, 2])"
            ]
          },
          "metadata": {},
          "execution_count": 45
        }
      ],
      "source": [
        "# Accediendo al segundo elemento de la primera fila y al tercer elemento de la segunda fila\n",
        "array_multi[[1,0],[2,1]]"
      ]
    },
    {
      "cell_type": "code",
      "execution_count": 46,
      "metadata": {
        "id": "WGv50MO7ot4V",
        "outputId": "605f2b05-0987-437f-9309-c5930fe9bc92",
        "colab": {
          "base_uri": "https://localhost:8080/"
        }
      },
      "outputs": [
        {
          "output_type": "execute_result",
          "data": {
            "text/plain": [
              "array([5, 6, 7, 8])"
            ]
          },
          "metadata": {},
          "execution_count": 46
        }
      ],
      "source": [
        "# Accediendo a la segunda fila del Array\n",
        "array_multi[1,:]"
      ]
    },
    {
      "cell_type": "code",
      "execution_count": 47,
      "metadata": {
        "id": "G8oBMPqdot4W",
        "outputId": "f92bacb4-ce8c-418a-b07a-21deb6a12627",
        "colab": {
          "base_uri": "https://localhost:8080/"
        }
      },
      "outputs": [
        {
          "output_type": "execute_result",
          "data": {
            "text/plain": [
              "array([3, 7])"
            ]
          },
          "metadata": {},
          "execution_count": 47
        }
      ],
      "source": [
        "# Accediendo al tercer elemento de las dos primeras filas del Array\n",
        "array_multi[0:2, 2]"
      ]
    },
    {
      "cell_type": "markdown",
      "metadata": {
        "id": "y9Pwhv-Zot4W"
      },
      "source": [
        "### Modificación de un Array"
      ]
    },
    {
      "cell_type": "code",
      "execution_count": 48,
      "metadata": {
        "id": "6nbPcneIot4W",
        "outputId": "cf4fc613-fab2-428d-d661-4d6661a2f096",
        "colab": {
          "base_uri": "https://localhost:8080/"
        }
      },
      "outputs": [
        {
          "output_type": "stream",
          "name": "stdout",
          "text": [
            "Shape: (28,)\n",
            "Array 1: [ 0  1  2  3  4  5  6  7  8  9 10 11 12 13 14 15 16 17 18 19 20 21 22 23\n",
            " 24 25 26 27]\n"
          ]
        }
      ],
      "source": [
        "# Creación de un Array unidimensional inicializado con el rango de elementos 0-27\n",
        "array1 = np.arange(28)\n",
        "print(\"Shape:\", array1.shape)\n",
        "print(\"Array 1:\", array1)"
      ]
    },
    {
      "cell_type": "code",
      "execution_count": 49,
      "metadata": {
        "id": "0gDGfVufot4W",
        "outputId": "5e346961-c780-45df-b8a9-1ead97bef767",
        "colab": {
          "base_uri": "https://localhost:8080/"
        }
      },
      "outputs": [
        {
          "output_type": "stream",
          "name": "stdout",
          "text": [
            "Shape: (7, 4)\n",
            "Array 1:\n",
            " [[ 0  1  2  3]\n",
            " [ 4  5  6  7]\n",
            " [ 8  9 10 11]\n",
            " [12 13 14 15]\n",
            " [16 17 18 19]\n",
            " [20 21 22 23]\n",
            " [24 25 26 27]]\n"
          ]
        }
      ],
      "source": [
        "# Cambiar las dimensiones del Array y sus longitudes\n",
        "array1.shape = (7, 4)\n",
        "print(\"Shape:\", array1.shape)\n",
        "print(\"Array 1:\\n\", array1)"
      ]
    },
    {
      "cell_type": "code",
      "execution_count": 50,
      "metadata": {
        "id": "0RZisaJ3ot4W",
        "outputId": "a819fe91-4ad3-4d42-d6a2-9af22a55d5c0",
        "colab": {
          "base_uri": "https://localhost:8080/"
        }
      },
      "outputs": [
        {
          "output_type": "stream",
          "name": "stdout",
          "text": [
            "Shape: (4, 7)\n",
            "Array 2:\n",
            " [[ 0  1  2  3  4  5  6]\n",
            " [ 7  8  9 10 11 12 13]\n",
            " [14 15 16 17 18 19 20]\n",
            " [21 22 23 24 25 26 27]]\n"
          ]
        }
      ],
      "source": [
        "# Importante: Modificaciones en un Array, modificaran el otro Array\n",
        "array2 = array1.reshape(4, 7)\n",
        "print(\"Shape:\", array2.shape)\n",
        "print(\"Array 2:\\n\", array2)"
      ]
    },
    {
      "cell_type": "code",
      "execution_count": 51,
      "metadata": {
        "id": "tEar2An2ot4W",
        "outputId": "e6b0f608-0046-45a2-d63b-cbae8e657d63",
        "colab": {
          "base_uri": "https://localhost:8080/"
        }
      },
      "outputs": [
        {
          "output_type": "execute_result",
          "data": {
            "text/plain": [
              "array([[ 0,  1,  2,  3],\n",
              "       [ 4,  5,  6,  7],\n",
              "       [ 8,  9, 10, 11],\n",
              "       [12, 13, 14, 15],\n",
              "       [16, 17, 18, 19],\n",
              "       [20, 21, 22, 23],\n",
              "       [24, 25, 26, 27]])"
            ]
          },
          "metadata": {},
          "execution_count": 51
        }
      ],
      "source": [
        "array1"
      ]
    },
    {
      "cell_type": "code",
      "execution_count": 52,
      "metadata": {
        "id": "WUCl9mf8ot4W",
        "outputId": "7b0ae407-70bd-4862-e377-13ae91f7ab21",
        "colab": {
          "base_uri": "https://localhost:8080/"
        }
      },
      "outputs": [
        {
          "output_type": "stream",
          "name": "stdout",
          "text": [
            "Array 2:\n",
            " [[ 0  1  2 20  4  5  6]\n",
            " [ 7  8  9 10 11 12 13]\n",
            " [14 15 16 17 18 19 20]\n",
            " [21 22 23 24 25 26 27]]\n"
          ]
        }
      ],
      "source": [
        "# Modificación del nuevo Array devuelto\n",
        "array2[0, 3] = 20\n",
        "print(\"Array 2:\\n\", array2)"
      ]
    },
    {
      "cell_type": "code",
      "execution_count": 53,
      "metadata": {
        "id": "N0gqpHS4ot4W",
        "outputId": "3a1f8e0c-7edf-4a30-9c10-ee9423826dff",
        "colab": {
          "base_uri": "https://localhost:8080/"
        }
      },
      "outputs": [
        {
          "output_type": "stream",
          "name": "stdout",
          "text": [
            "Array 1:\n",
            " [[ 0  1  2 20]\n",
            " [ 4  5  6  7]\n",
            " [ 8  9 10 11]\n",
            " [12 13 14 15]\n",
            " [16 17 18 19]\n",
            " [20 21 22 23]\n",
            " [24 25 26 27]]\n"
          ]
        }
      ],
      "source": [
        "print(\"Array 1:\\n\", array1)"
      ]
    },
    {
      "cell_type": "code",
      "execution_count": 54,
      "metadata": {
        "id": "eCTY7hL_ot4W"
      },
      "outputs": [],
      "source": [
        "# Solución\n",
        "array_1 = array2.copy()"
      ]
    },
    {
      "cell_type": "code",
      "execution_count": 55,
      "metadata": {
        "id": "dnj0GVniot4X",
        "outputId": "9c94175f-8cb5-4fec-f7ee-8a911622fa78",
        "colab": {
          "base_uri": "https://localhost:8080/"
        }
      },
      "outputs": [
        {
          "output_type": "execute_result",
          "data": {
            "text/plain": [
              "array([[  0,   1,   2, 100,   4,   5,   6],\n",
              "       [  7,   8,   9,  10,  11,  12,  13],\n",
              "       [ 14,  15,  16,  17,  18,  19,  20],\n",
              "       [ 21,  22,  23,  24,  25,  26,  27]])"
            ]
          },
          "metadata": {},
          "execution_count": 55
        }
      ],
      "source": [
        "array_1[0,3] = 100\n",
        "array_1"
      ]
    },
    {
      "cell_type": "code",
      "execution_count": 56,
      "metadata": {
        "id": "U03ghLDiot4X",
        "outputId": "8e29c22d-1573-4a32-d9f3-6912ee2e8def",
        "colab": {
          "base_uri": "https://localhost:8080/"
        }
      },
      "outputs": [
        {
          "output_type": "execute_result",
          "data": {
            "text/plain": [
              "array([[ 0,  1,  2, 20,  4,  5,  6],\n",
              "       [ 7,  8,  9, 10, 11, 12, 13],\n",
              "       [14, 15, 16, 17, 18, 19, 20],\n",
              "       [21, 22, 23, 24, 25, 26, 27]])"
            ]
          },
          "metadata": {},
          "execution_count": 56
        }
      ],
      "source": [
        "array2"
      ]
    },
    {
      "cell_type": "code",
      "execution_count": 57,
      "metadata": {
        "id": "gvKTYTEEot4X",
        "outputId": "4cc82fd7-3887-4c47-9ed3-20af87be240f",
        "colab": {
          "base_uri": "https://localhost:8080/"
        }
      },
      "outputs": [
        {
          "output_type": "stream",
          "name": "stdout",
          "text": [
            "Array 1: [ 0  1  2 20  4  5  6  7  8  9 10 11 12 13 14 15 16 17 18 19 20 21 22 23\n",
            " 24 25 26 27]\n"
          ]
        }
      ],
      "source": [
        "# Desenvuelve el Array, devolviendo un nuevo Array de una sola dimension\n",
        "# Importante: El nuevo array apunta a los mismos datos\n",
        "print(\"Array 1:\", array1.ravel())"
      ]
    },
    {
      "cell_type": "markdown",
      "metadata": {
        "id": "QSNWGwgdot4X"
      },
      "source": [
        "### Operaciones aritméticas con Arrays"
      ]
    },
    {
      "cell_type": "code",
      "execution_count": 58,
      "metadata": {
        "id": "5F3P--w3ot4X",
        "outputId": "7641c8ba-fa47-4260-f9e2-29779fcd3273",
        "colab": {
          "base_uri": "https://localhost:8080/"
        }
      },
      "outputs": [
        {
          "output_type": "stream",
          "name": "stdout",
          "text": [
            "Array 1: [ 2  4  6  8 10 12 14 16]\n",
            "Array 2: [0 1 2 3 4 5 6 7]\n"
          ]
        }
      ],
      "source": [
        "# Creación de dos Arrays unidimensionales\n",
        "array1 = np.arange(2, 18, 2)\n",
        "array2 = np.arange(8)\n",
        "print(\"Array 1:\", array1)\n",
        "print(\"Array 2:\", array2)"
      ]
    },
    {
      "cell_type": "code",
      "execution_count": 59,
      "metadata": {
        "id": "cVzclKmiot4X",
        "outputId": "967cb4cb-0bc9-4c12-aa85-f13a86b66845",
        "colab": {
          "base_uri": "https://localhost:8080/"
        }
      },
      "outputs": [
        {
          "output_type": "stream",
          "name": "stdout",
          "text": [
            "[ 2  5  8 11 14 17 20 23]\n"
          ]
        }
      ],
      "source": [
        "# Suma\n",
        "print(array1 + array2)"
      ]
    },
    {
      "cell_type": "code",
      "execution_count": 60,
      "metadata": {
        "id": "VS_bGY_-ot4X",
        "outputId": "5ac00844-3932-45d8-9ef7-dfe22a15648a",
        "colab": {
          "base_uri": "https://localhost:8080/"
        }
      },
      "outputs": [
        {
          "output_type": "stream",
          "name": "stdout",
          "text": [
            "[2 3 4 5 6 7 8 9]\n"
          ]
        }
      ],
      "source": [
        "# Resta\n",
        "print(array1 - array2)"
      ]
    },
    {
      "cell_type": "code",
      "execution_count": 61,
      "metadata": {
        "id": "DLrDT0r4ot4X",
        "outputId": "44a00978-ffef-49a3-cfe7-2c7c72a85589",
        "colab": {
          "base_uri": "https://localhost:8080/"
        }
      },
      "outputs": [
        {
          "output_type": "stream",
          "name": "stdout",
          "text": [
            "[  0   4  12  24  40  60  84 112]\n"
          ]
        }
      ],
      "source": [
        "# Multiplicacion\n",
        "# Importante: No es una multiplicación de matrices\n",
        "print(array1 * array2)"
      ]
    },
    {
      "cell_type": "markdown",
      "metadata": {
        "id": "m-MeKA84ot4X"
      },
      "source": [
        "### Broadcasting"
      ]
    },
    {
      "cell_type": "markdown",
      "metadata": {
        "id": "1dbJQRGFot4Y"
      },
      "source": [
        "Si se aplican operaciones aritméticas sobre Arrays que no tienen la misma forma (shape) Numpy aplica un propiedad que se denomina Broadcasting."
      ]
    },
    {
      "cell_type": "code",
      "execution_count": 62,
      "metadata": {
        "id": "ZDpIo5OIot4Y",
        "outputId": "9e1b44a7-e8b0-4b17-d526-5a10722224cc",
        "colab": {
          "base_uri": "https://localhost:8080/"
        }
      },
      "outputs": [
        {
          "output_type": "stream",
          "name": "stdout",
          "text": [
            "Shape Array 1: (5,)\n",
            "Array 1: [0 1 2 3 4]\n",
            "\n",
            "Shape Array 2: (1,)\n",
            "Array 2: [3]\n"
          ]
        }
      ],
      "source": [
        "# Creación de dos Arrays unidimensionales\n",
        "array1 = np.arange(5)\n",
        "array2 = np.array([3])\n",
        "print(\"Shape Array 1:\", array1.shape)\n",
        "print(\"Array 1:\", array1)\n",
        "print()\n",
        "print(\"Shape Array 2:\", array2.shape)\n",
        "print(\"Array 2:\", array2)"
      ]
    },
    {
      "cell_type": "code",
      "execution_count": 63,
      "metadata": {
        "id": "NyUKwmyDot4Y",
        "outputId": "8d27a015-00d0-4e29-854e-632285d40d81",
        "colab": {
          "base_uri": "https://localhost:8080/"
        }
      },
      "outputs": [
        {
          "output_type": "execute_result",
          "data": {
            "text/plain": [
              "array([3, 4, 5, 6, 7])"
            ]
          },
          "metadata": {},
          "execution_count": 63
        }
      ],
      "source": [
        "# Suma de ambos Arrays\n",
        "array1 + array2"
      ]
    },
    {
      "cell_type": "code",
      "execution_count": 64,
      "metadata": {
        "id": "xHqLBhcnot4Y",
        "outputId": "45171124-6c8b-4ab3-dadd-a2532bd524a8",
        "colab": {
          "base_uri": "https://localhost:8080/"
        }
      },
      "outputs": [
        {
          "output_type": "stream",
          "name": "stdout",
          "text": [
            "Shape Array 1: (2, 3)\n",
            "Array 1:\n",
            " [[0 1 2]\n",
            " [3 4 5]]\n",
            "\n",
            "Shape Array 2: (3,)\n",
            "Array 2: [ 6 10 14]\n"
          ]
        }
      ],
      "source": [
        "# Creación de dos Arrays multidimensional y unidimensional\n",
        "array1 = np.arange(6)\n",
        "array1.shape = (2, 3)\n",
        "array2 = np.arange(6, 18, 4)\n",
        "print(\"Shape Array 1:\", array1.shape)\n",
        "print(\"Array 1:\\n\", array1)\n",
        "print()\n",
        "print(\"Shape Array 2:\", array2.shape)\n",
        "print(\"Array 2:\", array2)"
      ]
    },
    {
      "cell_type": "code",
      "execution_count": 65,
      "metadata": {
        "id": "pghYQPpoot4Y",
        "outputId": "d71b2005-80da-411e-addc-a7a0e60f1560",
        "colab": {
          "base_uri": "https://localhost:8080/"
        }
      },
      "outputs": [
        {
          "output_type": "execute_result",
          "data": {
            "text/plain": [
              "array([[ 6, 11, 16],\n",
              "       [ 9, 14, 19]])"
            ]
          },
          "metadata": {},
          "execution_count": 65
        }
      ],
      "source": [
        "# Suma de ambos Arrays\n",
        "array1 + array2"
      ]
    },
    {
      "cell_type": "markdown",
      "metadata": {
        "id": "X0Xt9pOXot4Y"
      },
      "source": [
        "### Funciones estadísticas sobre Arrays"
      ]
    },
    {
      "cell_type": "code",
      "execution_count": 66,
      "metadata": {
        "id": "PP5C2VHgot4Y",
        "outputId": "864e4eb7-6c41-4d7a-9bad-85bd5d63e430",
        "colab": {
          "base_uri": "https://localhost:8080/"
        }
      },
      "outputs": [
        {
          "output_type": "stream",
          "name": "stdout",
          "text": [
            "Array 1: [ 1  3  5  7  9 11 13 15 17 19]\n"
          ]
        }
      ],
      "source": [
        "# Creación de un Array unidimensional\n",
        "array1 = np.arange(1, 20, 2)\n",
        "print(\"Array 1:\", array1)"
      ]
    },
    {
      "cell_type": "code",
      "execution_count": 67,
      "metadata": {
        "id": "oCsyDcKFot4Y",
        "outputId": "a1df7c6e-a67d-4d8b-d508-645e835af1de",
        "colab": {
          "base_uri": "https://localhost:8080/"
        }
      },
      "outputs": [
        {
          "output_type": "execute_result",
          "data": {
            "text/plain": [
              "10.0"
            ]
          },
          "metadata": {},
          "execution_count": 67
        }
      ],
      "source": [
        "# Media de los elementos del Array\n",
        "array1.mean()"
      ]
    },
    {
      "cell_type": "code",
      "execution_count": 68,
      "metadata": {
        "id": "f07C5pDDot4Y",
        "outputId": "769740bb-fadf-4e4e-accc-1babaca086db",
        "colab": {
          "base_uri": "https://localhost:8080/"
        }
      },
      "outputs": [
        {
          "output_type": "execute_result",
          "data": {
            "text/plain": [
              "100"
            ]
          },
          "metadata": {},
          "execution_count": 68
        }
      ],
      "source": [
        "# Suma de los elementos del Array\n",
        "array1.sum()"
      ]
    },
    {
      "cell_type": "markdown",
      "metadata": {
        "id": "2fqSq6uCot4Y"
      },
      "source": [
        "Funciones universales eficientes proporcionadas por numpy: **ufunc**"
      ]
    },
    {
      "cell_type": "code",
      "execution_count": 69,
      "metadata": {
        "id": "iDLBrzEWot4Z",
        "outputId": "dd1a7213-e20a-43ff-a378-e006a813e80b",
        "colab": {
          "base_uri": "https://localhost:8080/"
        }
      },
      "outputs": [
        {
          "output_type": "execute_result",
          "data": {
            "text/plain": [
              "array([  1,   9,  25,  49,  81, 121, 169, 225, 289, 361])"
            ]
          },
          "metadata": {},
          "execution_count": 69
        }
      ],
      "source": [
        "# Cuadrado de los elementos del Array\n",
        "np.square(array1)"
      ]
    },
    {
      "cell_type": "code",
      "execution_count": 70,
      "metadata": {
        "id": "0_nneGrCot4Z",
        "outputId": "de6835de-98f4-4c00-a30e-f970fbdc9f52",
        "colab": {
          "base_uri": "https://localhost:8080/"
        }
      },
      "outputs": [
        {
          "output_type": "execute_result",
          "data": {
            "text/plain": [
              "array([1.        , 1.73205081, 2.23606798, 2.64575131, 3.        ,\n",
              "       3.31662479, 3.60555128, 3.87298335, 4.12310563, 4.35889894])"
            ]
          },
          "metadata": {},
          "execution_count": 70
        }
      ],
      "source": [
        "# Raiz cuadrada de los elementos del Array\n",
        "np.sqrt(array1)"
      ]
    },
    {
      "cell_type": "code",
      "execution_count": 71,
      "metadata": {
        "id": "3L5_EVZtot4Z",
        "outputId": "7f928062-741a-40f1-bc90-106bd4cfa3f7",
        "colab": {
          "base_uri": "https://localhost:8080/"
        }
      },
      "outputs": [
        {
          "output_type": "execute_result",
          "data": {
            "text/plain": [
              "array([2.71828183e+00, 2.00855369e+01, 1.48413159e+02, 1.09663316e+03,\n",
              "       8.10308393e+03, 5.98741417e+04, 4.42413392e+05, 3.26901737e+06,\n",
              "       2.41549528e+07, 1.78482301e+08])"
            ]
          },
          "metadata": {},
          "execution_count": 71
        }
      ],
      "source": [
        "# Exponencial de los elementos del Array\n",
        "np.exp(array1)"
      ]
    },
    {
      "cell_type": "code",
      "execution_count": 72,
      "metadata": {
        "id": "nYqGBkA7ot4Z",
        "outputId": "31116235-399c-4f6c-c6e1-679b468b9ffe",
        "colab": {
          "base_uri": "https://localhost:8080/"
        }
      },
      "outputs": [
        {
          "output_type": "execute_result",
          "data": {
            "text/plain": [
              "array([0.        , 1.09861229, 1.60943791, 1.94591015, 2.19722458,\n",
              "       2.39789527, 2.56494936, 2.7080502 , 2.83321334, 2.94443898])"
            ]
          },
          "metadata": {},
          "execution_count": 72
        }
      ],
      "source": [
        "# log de los elementos del Array\n",
        "np.log(array1)"
      ]
    }
  ],
  "metadata": {
    "kernelspec": {
      "display_name": "Python 3 (ipykernel)",
      "language": "python",
      "name": "python3"
    },
    "language_info": {
      "codemirror_mode": {
        "name": "ipython",
        "version": 3
      },
      "file_extension": ".py",
      "mimetype": "text/x-python",
      "name": "python",
      "nbconvert_exporter": "python",
      "pygments_lexer": "ipython3",
      "version": "3.11.4"
    },
    "colab": {
      "provenance": []
    }
  },
  "nbformat": 4,
  "nbformat_minor": 0
}