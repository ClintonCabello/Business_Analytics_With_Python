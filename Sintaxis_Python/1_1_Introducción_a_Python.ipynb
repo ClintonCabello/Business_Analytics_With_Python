{
  "cells": [
    {
      "cell_type": "markdown",
      "id": "9736087a",
      "metadata": {
        "id": "9736087a"
      },
      "source": [
        "# Markdown"
      ]
    },
    {
      "cell_type": "markdown",
      "id": "4fc49519",
      "metadata": {
        "id": "4fc49519"
      },
      "source": [
        "Tipos de encabezado"
      ]
    },
    {
      "cell_type": "markdown",
      "id": "92e45bc8",
      "metadata": {
        "id": "92e45bc8"
      },
      "source": [
        "   # Encabezado de nivel 1\n",
        "   ## Encabezado de nivel  2\n",
        "   ### Encabezado de nivel  3\n",
        "   #### Encabezado de nivel  4\n",
        "   ##### Encabezado de nivel  5\n",
        "   ###### Encabezado de nivel  6"
      ]
    },
    {
      "cell_type": "markdown",
      "id": "f91b41f1",
      "metadata": {
        "id": "f91b41f1"
      },
      "source": [
        "Cursiva y negrita"
      ]
    },
    {
      "cell_type": "markdown",
      "id": "47d2b06f",
      "metadata": {
        "id": "47d2b06f"
      },
      "source": [
        "Se usan los simbolos (\\-) y (\\*) de la siguiente manera:\n",
        "\n",
        ">+ *Texto en cursiva*\n",
        ">+ _Texto en cursiva_\n",
        ">+ **Texto en negrita**\n",
        ">+ __Texto en negrita__\n",
        ">+ ***Texto en cursiva y negrita***\n",
        ">+ ___Texto en cursiva y negrita___"
      ]
    },
    {
      "cell_type": "markdown",
      "id": "b33f7f9c",
      "metadata": {
        "id": "b33f7f9c"
      },
      "source": [
        "Sangrías:\n",
        ">Este en un ejemplo de sangría.\n",
        ">>Este en un ejemplo de sangría.\n",
        ">>>Este en un ejemplo de sangría."
      ]
    },
    {
      "cell_type": "markdown",
      "id": "c464fb1d-dd74-446b-ac17-020414341e17",
      "metadata": {
        "id": "c464fb1d-dd74-446b-ac17-020414341e17"
      },
      "source": [
        "Resaltado\n",
        "\n",
        "<mark>Este texto está resaltado</mark>"
      ]
    },
    {
      "cell_type": "code",
      "source": [
        "# <mark>Este texto está resaltado</mark>"
      ],
      "metadata": {
        "id": "M6yusuZ5MaqC"
      },
      "id": "M6yusuZ5MaqC",
      "execution_count": 1,
      "outputs": []
    },
    {
      "cell_type": "markdown",
      "id": "fb127ad8-ed80-443f-8b39-225c65ed5554",
      "metadata": {
        "id": "fb127ad8-ed80-443f-8b39-225c65ed5554"
      },
      "source": [
        "# Asignación de variables"
      ]
    },
    {
      "cell_type": "code",
      "execution_count": 2,
      "id": "0933cc7c-2673-4a09-a0fc-88cc6ad4b4b3",
      "metadata": {
        "id": "0933cc7c-2673-4a09-a0fc-88cc6ad4b4b3"
      },
      "outputs": [],
      "source": [
        "mi_variable = 3"
      ]
    },
    {
      "cell_type": "markdown",
      "id": "99a600f3-cacf-411f-a2bc-a51559c944c5",
      "metadata": {
        "id": "99a600f3-cacf-411f-a2bc-a51559c944c5"
      },
      "source": [
        "De esta sentencia, podemos decir:\n",
        "\n",
        "    1. El nombre de la variable es : \"mi_variable\"\n",
        "    2. El símbolo \"=\" es un operador de asignación\n",
        "    3. El valor de la variable es \"3\""
      ]
    },
    {
      "cell_type": "code",
      "execution_count": 3,
      "id": "d5ae0a26-0f6f-4a51-9148-4c5d67cd18e7",
      "metadata": {
        "id": "d5ae0a26-0f6f-4a51-9148-4c5d67cd18e7",
        "outputId": "ec04d578-51dc-4e04-fe28-9c690b167841",
        "colab": {
          "base_uri": "https://localhost:8080/"
        }
      },
      "outputs": [
        {
          "output_type": "execute_result",
          "data": {
            "text/plain": [
              "3"
            ]
          },
          "metadata": {},
          "execution_count": 3
        }
      ],
      "source": [
        "mi_variable"
      ]
    },
    {
      "cell_type": "markdown",
      "id": "1f23119e-7a11-43ae-99c6-0916280fddd0",
      "metadata": {
        "id": "1f23119e-7a11-43ae-99c6-0916280fddd0"
      },
      "source": [
        "# Tipos de variables"
      ]
    },
    {
      "cell_type": "markdown",
      "id": "280f839d-3e93-401a-9b80-451470363f3f",
      "metadata": {
        "id": "280f839d-3e93-401a-9b80-451470363f3f"
      },
      "source": [
        "**1. Integer**"
      ]
    },
    {
      "cell_type": "code",
      "execution_count": 4,
      "id": "de2ad4af-254c-4339-8db4-cfea22d2c9ee",
      "metadata": {
        "id": "de2ad4af-254c-4339-8db4-cfea22d2c9ee",
        "outputId": "b78bfc8b-11e6-428f-d8fe-71d62c9b99ae",
        "colab": {
          "base_uri": "https://localhost:8080/"
        }
      },
      "outputs": [
        {
          "output_type": "execute_result",
          "data": {
            "text/plain": [
              "int"
            ]
          },
          "metadata": {},
          "execution_count": 4
        }
      ],
      "source": [
        "edad = 35\n",
        "type(edad)"
      ]
    },
    {
      "cell_type": "markdown",
      "id": "0772587d-d557-4423-b8ee-5904bd49b12a",
      "metadata": {
        "id": "0772587d-d557-4423-b8ee-5904bd49b12a"
      },
      "source": [
        "**2. Float**"
      ]
    },
    {
      "cell_type": "code",
      "execution_count": 5,
      "id": "39da2c82-7d4d-4bb1-b916-e5a27d4ef6aa",
      "metadata": {
        "id": "39da2c82-7d4d-4bb1-b916-e5a27d4ef6aa",
        "outputId": "702be83a-fa72-4332-9b45-9c4450463fb9",
        "colab": {
          "base_uri": "https://localhost:8080/"
        }
      },
      "outputs": [
        {
          "output_type": "execute_result",
          "data": {
            "text/plain": [
              "float"
            ]
          },
          "metadata": {},
          "execution_count": 5
        }
      ],
      "source": [
        "salario = 1250.90\n",
        "type(salario)"
      ]
    },
    {
      "cell_type": "markdown",
      "id": "6a0756e2-c131-4899-a8c3-c7e6bab81671",
      "metadata": {
        "id": "6a0756e2-c131-4899-a8c3-c7e6bab81671"
      },
      "source": [
        "**3. Complex**"
      ]
    },
    {
      "cell_type": "code",
      "execution_count": 6,
      "id": "ececfdac-88a9-4575-80cc-540866deb404",
      "metadata": {
        "id": "ececfdac-88a9-4575-80cc-540866deb404",
        "outputId": "f485fa9b-2425-4d40-8fc5-bfc8b9113301",
        "colab": {
          "base_uri": "https://localhost:8080/"
        }
      },
      "outputs": [
        {
          "output_type": "stream",
          "name": "stdout",
          "text": [
            "La parte real es: 4.0\n",
            "La parte imaginaria es: 3.0\n"
          ]
        }
      ],
      "source": [
        "resultado = 4+3j\n",
        "\n",
        "# Seleccionamos las partes del número complejo\n",
        "print(\"La parte real es:\", resultado.real)\n",
        "print(\"La parte imaginaria es:\", resultado.imag)"
      ]
    },
    {
      "cell_type": "markdown",
      "id": "8912a133-8d75-4060-916d-e7c456e50335",
      "metadata": {
        "id": "8912a133-8d75-4060-916d-e7c456e50335"
      },
      "source": [
        "**4. Booleano**"
      ]
    },
    {
      "cell_type": "code",
      "execution_count": 7,
      "id": "5d6ab771-7c98-4eb0-8952-bedbff2c2e85",
      "metadata": {
        "id": "5d6ab771-7c98-4eb0-8952-bedbff2c2e85",
        "outputId": "3a3f9558-3238-4669-b5c6-ad3421497bb7",
        "colab": {
          "base_uri": "https://localhost:8080/"
        }
      },
      "outputs": [
        {
          "output_type": "execute_result",
          "data": {
            "text/plain": [
              "bool"
            ]
          },
          "metadata": {},
          "execution_count": 7
        }
      ],
      "source": [
        "booleano1 = True\n",
        "booleano2 = False\n",
        "type(booleano1)"
      ]
    },
    {
      "cell_type": "markdown",
      "id": "eaf2816c-7ce4-4d2d-8663-e5f0bff3f30d",
      "metadata": {
        "id": "eaf2816c-7ce4-4d2d-8663-e5f0bff3f30d"
      },
      "source": [
        "*Considerar: Los tipo de variables booleanos se comportan como un número entero.*"
      ]
    },
    {
      "cell_type": "markdown",
      "id": "7f2bdcbd-9ac3-493f-88a4-b7ac28e72d51",
      "metadata": {
        "id": "7f2bdcbd-9ac3-493f-88a4-b7ac28e72d51"
      },
      "source": [
        "# Operadores numéricos"
      ]
    },
    {
      "cell_type": "markdown",
      "id": "1f893884-8174-43cb-b8d4-202873aea571",
      "metadata": {
        "id": "1f893884-8174-43cb-b8d4-202873aea571"
      },
      "source": [
        "**1. Suma**"
      ]
    },
    {
      "cell_type": "code",
      "execution_count": 8,
      "id": "003f2848",
      "metadata": {
        "id": "003f2848",
        "outputId": "633e956f-e679-44ac-ca60-18df453549e5",
        "colab": {
          "base_uri": "https://localhost:8080/"
        }
      },
      "outputs": [
        {
          "output_type": "stream",
          "name": "stdout",
          "text": [
            "70\n"
          ]
        }
      ],
      "source": [
        "cant1 = 30\n",
        "cant2 = 40\n",
        "print(cant1+cant2)"
      ]
    },
    {
      "cell_type": "markdown",
      "id": "abb7857d-ed04-4d7e-bbc9-315997861f40",
      "metadata": {
        "id": "abb7857d-ed04-4d7e-bbc9-315997861f40"
      },
      "source": [
        "**2. Resta**"
      ]
    },
    {
      "cell_type": "code",
      "execution_count": 9,
      "id": "057bfafa",
      "metadata": {
        "id": "057bfafa",
        "outputId": "c083e579-a3b1-4500-db96-67eb53065b60",
        "colab": {
          "base_uri": "https://localhost:8080/"
        }
      },
      "outputs": [
        {
          "output_type": "stream",
          "name": "stdout",
          "text": [
            "-10\n"
          ]
        }
      ],
      "source": [
        "cant1 = 30\n",
        "cant2 = 40\n",
        "print(cant1-cant2)"
      ]
    },
    {
      "cell_type": "markdown",
      "id": "d639e9c7-eb3d-42da-a33d-481ab9c4dbfc",
      "metadata": {
        "id": "d639e9c7-eb3d-42da-a33d-481ab9c4dbfc"
      },
      "source": [
        "**3. Multiplicación**"
      ]
    },
    {
      "cell_type": "code",
      "execution_count": 10,
      "id": "12f30f2b",
      "metadata": {
        "id": "12f30f2b",
        "outputId": "d9faf075-df01-484c-f5a7-ac0175841c1c",
        "colab": {
          "base_uri": "https://localhost:8080/"
        }
      },
      "outputs": [
        {
          "output_type": "stream",
          "name": "stdout",
          "text": [
            "1200\n"
          ]
        }
      ],
      "source": [
        "cant1 = 30\n",
        "cant2 = 40\n",
        "print(cant1*cant2)"
      ]
    },
    {
      "cell_type": "markdown",
      "id": "7ad8cc28-1326-4ecf-b9d2-6688209b92c2",
      "metadata": {
        "id": "7ad8cc28-1326-4ecf-b9d2-6688209b92c2"
      },
      "source": [
        "**4. División**"
      ]
    },
    {
      "cell_type": "code",
      "execution_count": 11,
      "id": "10ecc774-b235-4f49-afda-39adb1fa3280",
      "metadata": {
        "id": "10ecc774-b235-4f49-afda-39adb1fa3280",
        "outputId": "4c8126dc-e62b-4f5a-b7df-3b744770bd2c",
        "colab": {
          "base_uri": "https://localhost:8080/"
        }
      },
      "outputs": [
        {
          "output_type": "stream",
          "name": "stdout",
          "text": [
            "4.285714285714286\n"
          ]
        }
      ],
      "source": [
        "cant1 = 30\n",
        "cant2 = 7\n",
        "print(cant1/cant2)"
      ]
    },
    {
      "cell_type": "markdown",
      "id": "df52ec6f-4417-44fc-b403-5a8267a535f9",
      "metadata": {
        "id": "df52ec6f-4417-44fc-b403-5a8267a535f9"
      },
      "source": [
        "**5. División entera**"
      ]
    },
    {
      "cell_type": "code",
      "execution_count": 12,
      "id": "ca44a25c-284f-4d97-9791-a9ebe7f5a1be",
      "metadata": {
        "id": "ca44a25c-284f-4d97-9791-a9ebe7f5a1be",
        "outputId": "d79cf4e4-23f6-45c1-93fa-5f4c7507dde6",
        "colab": {
          "base_uri": "https://localhost:8080/"
        }
      },
      "outputs": [
        {
          "output_type": "stream",
          "name": "stdout",
          "text": [
            "4\n"
          ]
        }
      ],
      "source": [
        "cant1 = 30\n",
        "cant2 = 7\n",
        "print(cant1//cant2)"
      ]
    },
    {
      "cell_type": "markdown",
      "id": "b1adad0a-a4c6-46e0-9725-0c33f232d4dc",
      "metadata": {
        "id": "b1adad0a-a4c6-46e0-9725-0c33f232d4dc"
      },
      "source": [
        "**6. Módulo**"
      ]
    },
    {
      "cell_type": "code",
      "execution_count": 13,
      "id": "48375b4a-2100-464f-bc4a-73a2bcd64ed1",
      "metadata": {
        "id": "48375b4a-2100-464f-bc4a-73a2bcd64ed1",
        "outputId": "4f7d2d0b-e6b2-4751-eea1-3da7a1279902",
        "colab": {
          "base_uri": "https://localhost:8080/"
        }
      },
      "outputs": [
        {
          "output_type": "stream",
          "name": "stdout",
          "text": [
            "2\n"
          ]
        }
      ],
      "source": [
        "cant1 = 30\n",
        "cant2 = 7\n",
        "print(cant1%cant2)"
      ]
    },
    {
      "cell_type": "markdown",
      "id": "fe80eafc-0668-4b55-9f98-8ff0ecc0814d",
      "metadata": {
        "id": "fe80eafc-0668-4b55-9f98-8ff0ecc0814d"
      },
      "source": [
        "**7. Exponente**"
      ]
    },
    {
      "cell_type": "code",
      "execution_count": 14,
      "id": "4e56bc8a",
      "metadata": {
        "id": "4e56bc8a",
        "outputId": "58727442-9393-48ed-f0cd-fa10c6056579",
        "colab": {
          "base_uri": "https://localhost:8080/"
        }
      },
      "outputs": [
        {
          "output_type": "stream",
          "name": "stdout",
          "text": [
            "900\n"
          ]
        }
      ],
      "source": [
        "cant1 = 30\n",
        "cant2 = 2\n",
        "print(cant1**cant2)"
      ]
    },
    {
      "cell_type": "code",
      "execution_count": 15,
      "id": "3ae10fb4-e0de-49bf-bf55-89635f6b8e55",
      "metadata": {
        "colab": {
          "base_uri": "https://localhost:8080/"
        },
        "id": "3ae10fb4-e0de-49bf-bf55-89635f6b8e55",
        "outputId": "e9f75dc4-8956-415e-c4ff-dc8bcbaa45e8"
      },
      "outputs": [
        {
          "output_type": "stream",
          "name": "stdout",
          "text": [
            "900\n"
          ]
        }
      ],
      "source": [
        "cant1 = 30\n",
        "cant2 = 2\n",
        "print(pow(cant1,cant2))"
      ]
    },
    {
      "cell_type": "markdown",
      "id": "876b3007",
      "metadata": {
        "id": "876b3007"
      },
      "source": [
        "# Operadores relacionales"
      ]
    },
    {
      "cell_type": "markdown",
      "id": "9d239aab-25d8-4c6c-a7d7-e27e4aed2d5e",
      "metadata": {
        "id": "9d239aab-25d8-4c6c-a7d7-e27e4aed2d5e"
      },
      "source": [
        "**1. Igual que**"
      ]
    },
    {
      "cell_type": "code",
      "execution_count": 16,
      "id": "cb1b1837",
      "metadata": {
        "colab": {
          "base_uri": "https://localhost:8080/"
        },
        "id": "cb1b1837",
        "outputId": "97743ec0-fa11-48c2-d444-93dc79725805"
      },
      "outputs": [
        {
          "output_type": "execute_result",
          "data": {
            "text/plain": [
              "True"
            ]
          },
          "metadata": {},
          "execution_count": 16
        }
      ],
      "source": [
        "1 == 1"
      ]
    },
    {
      "cell_type": "markdown",
      "id": "546619bb-7cdd-4c24-b07f-82e4861204b4",
      "metadata": {
        "id": "546619bb-7cdd-4c24-b07f-82e4861204b4"
      },
      "source": [
        "**2. Distinto que**"
      ]
    },
    {
      "cell_type": "code",
      "execution_count": 17,
      "id": "f70a1d01",
      "metadata": {
        "colab": {
          "base_uri": "https://localhost:8080/"
        },
        "id": "f70a1d01",
        "outputId": "d1fc3ee4-3ce7-4f01-d28d-1835c54331fa"
      },
      "outputs": [
        {
          "output_type": "execute_result",
          "data": {
            "text/plain": [
              "False"
            ]
          },
          "metadata": {},
          "execution_count": 17
        }
      ],
      "source": [
        "1 != 1"
      ]
    },
    {
      "cell_type": "markdown",
      "id": "9852a484-347c-4b3c-b5da-2c4b28b5f352",
      "metadata": {
        "id": "9852a484-347c-4b3c-b5da-2c4b28b5f352"
      },
      "source": [
        "**3. Menor y menor igual que**"
      ]
    },
    {
      "cell_type": "code",
      "execution_count": 18,
      "id": "0a234f57",
      "metadata": {
        "id": "0a234f57",
        "outputId": "ea0b58b0-58ef-4a08-8828-4382a711e7e0",
        "colab": {
          "base_uri": "https://localhost:8080/"
        }
      },
      "outputs": [
        {
          "output_type": "stream",
          "name": "stdout",
          "text": [
            "False\n",
            "True\n"
          ]
        }
      ],
      "source": [
        "print(1<1)\n",
        "print(1<=1)"
      ]
    },
    {
      "cell_type": "markdown",
      "id": "5def48b9-f7fa-43d2-92f5-dcf2cacf4a01",
      "metadata": {
        "id": "5def48b9-f7fa-43d2-92f5-dcf2cacf4a01"
      },
      "source": [
        "**4. Mayor y mayor igual que**"
      ]
    },
    {
      "cell_type": "code",
      "execution_count": 19,
      "id": "aaa26657",
      "metadata": {
        "id": "aaa26657",
        "outputId": "24d127ab-1cd4-438b-e839-1dbe71f098f1",
        "colab": {
          "base_uri": "https://localhost:8080/"
        }
      },
      "outputs": [
        {
          "output_type": "stream",
          "name": "stdout",
          "text": [
            "False\n",
            "True\n"
          ]
        }
      ],
      "source": [
        "print(1>1)\n",
        "print(1>=1)"
      ]
    },
    {
      "cell_type": "markdown",
      "id": "a6e6fef6-8d85-48a0-a48e-cbdd7237197d",
      "metadata": {
        "id": "a6e6fef6-8d85-48a0-a48e-cbdd7237197d"
      },
      "source": [
        "**5. Is y is not**"
      ]
    },
    {
      "cell_type": "code",
      "execution_count": 20,
      "id": "3aab773c",
      "metadata": {
        "colab": {
          "base_uri": "https://localhost:8080/"
        },
        "id": "3aab773c",
        "outputId": "7e8a2d3f-b7e9-49bb-9906-8c32ab582538"
      },
      "outputs": [
        {
          "output_type": "stream",
          "name": "stdout",
          "text": [
            "False\n",
            "True\n"
          ]
        }
      ],
      "source": [
        "a = 1\n",
        "b = 2\n",
        "\n",
        "print(a is b)\n",
        "print(a is not b)"
      ]
    },
    {
      "cell_type": "markdown",
      "id": "63af1a65",
      "metadata": {
        "id": "63af1a65"
      },
      "source": [
        "# Operadores lógicos"
      ]
    },
    {
      "cell_type": "markdown",
      "id": "81b49dbd-4f2e-422d-b4a0-158b636bc513",
      "metadata": {
        "id": "81b49dbd-4f2e-422d-b4a0-158b636bc513"
      },
      "source": [
        "**1. And**"
      ]
    },
    {
      "cell_type": "code",
      "execution_count": 21,
      "id": "72e1b75f",
      "metadata": {
        "id": "72e1b75f",
        "outputId": "a72da8d6-ee9a-4342-969d-322fe85a8e27",
        "colab": {
          "base_uri": "https://localhost:8080/"
        }
      },
      "outputs": [
        {
          "output_type": "stream",
          "name": "stdout",
          "text": [
            "True\n",
            "False\n",
            "False\n",
            "False\n"
          ]
        }
      ],
      "source": [
        "print(True and True)\n",
        "print(True and False)\n",
        "print(False and True)\n",
        "print(False and False)"
      ]
    },
    {
      "cell_type": "code",
      "execution_count": 22,
      "id": "d1a3a365",
      "metadata": {
        "colab": {
          "base_uri": "https://localhost:8080/"
        },
        "id": "d1a3a365",
        "outputId": "88756f9f-782e-40c3-a6fa-fe5f134aa22a"
      },
      "outputs": [
        {
          "output_type": "stream",
          "name": "stdout",
          "text": [
            "No apto\n"
          ]
        }
      ],
      "source": [
        "edad = 20\n",
        "peso = 50\n",
        "\n",
        "if edad > 18 and peso > 60: #V AND F -> F#\n",
        "    print(\"Apto\")\n",
        "else:\n",
        "    print(\"No apto\")"
      ]
    },
    {
      "cell_type": "markdown",
      "id": "9deac2ce-a4b3-4ad6-95e0-46257756137b",
      "metadata": {
        "id": "9deac2ce-a4b3-4ad6-95e0-46257756137b"
      },
      "source": [
        "**2. Or**"
      ]
    },
    {
      "cell_type": "code",
      "execution_count": 23,
      "id": "f14a73f1",
      "metadata": {
        "id": "f14a73f1",
        "outputId": "b200dea3-94fe-46f4-832c-9cc4a5a895f8",
        "colab": {
          "base_uri": "https://localhost:8080/"
        }
      },
      "outputs": [
        {
          "output_type": "stream",
          "name": "stdout",
          "text": [
            "True\n",
            "True\n",
            "True\n",
            "False\n"
          ]
        }
      ],
      "source": [
        "print(True or True)\n",
        "print(True or False)\n",
        "print(False or True)\n",
        "print(False or False)"
      ]
    },
    {
      "cell_type": "code",
      "execution_count": 24,
      "id": "670c1d18",
      "metadata": {
        "id": "670c1d18",
        "outputId": "63345a04-74d9-43c8-b0b8-2e14ac522ef4",
        "colab": {
          "base_uri": "https://localhost:8080/"
        }
      },
      "outputs": [
        {
          "output_type": "stream",
          "name": "stdout",
          "text": [
            "Apto\n"
          ]
        }
      ],
      "source": [
        "edad = 20\n",
        "peso = 50\n",
        "\n",
        "if edad > 18 or peso > 60: #V OR F -> V#\n",
        "    print(\"Apto\")\n",
        "else:\n",
        "    print(\"No apto\")"
      ]
    },
    {
      "cell_type": "markdown",
      "id": "7315a9ff-dec9-49ce-93ed-59c16e2da2e5",
      "metadata": {
        "id": "7315a9ff-dec9-49ce-93ed-59c16e2da2e5"
      },
      "source": [
        "**3. Not**"
      ]
    },
    {
      "cell_type": "code",
      "execution_count": 25,
      "id": "df6b7616",
      "metadata": {
        "id": "df6b7616",
        "outputId": "fa9fe528-8377-46c0-e1d3-007e44fbf7ea",
        "colab": {
          "base_uri": "https://localhost:8080/"
        }
      },
      "outputs": [
        {
          "output_type": "stream",
          "name": "stdout",
          "text": [
            "False\n",
            "True\n"
          ]
        }
      ],
      "source": [
        "print(not True)\n",
        "print(not False)"
      ]
    },
    {
      "cell_type": "markdown",
      "id": "a587e1e6",
      "metadata": {
        "id": "a587e1e6"
      },
      "source": [
        "# Sentencias de control"
      ]
    },
    {
      "cell_type": "markdown",
      "id": "fb75599e",
      "metadata": {
        "id": "fb75599e"
      },
      "source": [
        "__if,elif,else__: La instrucción `if` es uno de los tipos de instrucciones de flujo de control más conocidos. Comprueba una condición que, si es cierta (se evalúa a `True`),continuará la ejecución con el código del bloque. Una instrucción `if` puede ir seguida opcionalmente por uno o más bloques `elif` y un bloque final `else` que se sólo evalúa si todas las condiciones anteriores han sido falsas (evaluadas a `False`). Si alguna de las condiciones se evalúa a `True`, no se alcanzarán los bloques `elif` o `else` posteriores."
      ]
    },
    {
      "cell_type": "code",
      "execution_count": 26,
      "id": "832d33fc",
      "metadata": {
        "id": "832d33fc",
        "outputId": "7491ff2e-cb2a-4839-8388-f59eff663a70",
        "colab": {
          "base_uri": "https://localhost:8080/"
        }
      },
      "outputs": [
        {
          "output_type": "stream",
          "name": "stdout",
          "text": [
            "Positivo y mayor o igual a 5\n"
          ]
        }
      ],
      "source": [
        "x = 7\n",
        "if x < 0:\n",
        "   print('Es negativo')\n",
        "elif x == 0:\n",
        "   print('Igual a cero')\n",
        "elif 0 < x < 5:\n",
        "   print('Positivo pero menor que 5')\n",
        "else:\n",
        "   print('Positivo y mayor o igual a 5')"
      ]
    },
    {
      "cell_type": "markdown",
      "id": "d912eeb5",
      "metadata": {
        "id": "d912eeb5"
      },
      "source": [
        "__Ejemplo:__ En un club de fans solo se permite la entrada a personas que tengan por lo menos 16 años. Se necesita crear una sentencia de control condicional que imprima \"No aceptado\" cuando el postulante no cumple con la edad mínima requerida y en caso contrario que se muestre \" Aceptado\"."
      ]
    },
    {
      "cell_type": "code",
      "execution_count": 27,
      "id": "645261a3",
      "metadata": {
        "id": "645261a3",
        "outputId": "a4ccc70d-98e3-49c2-debc-490c13bb05f1",
        "colab": {
          "base_uri": "https://localhost:8080/"
        }
      },
      "outputs": [
        {
          "output_type": "stream",
          "name": "stdout",
          "text": [
            "Por favor colocar edades verdaderas\n"
          ]
        }
      ],
      "source": [
        "edad = 1000\n",
        "if edad > 0 and edad <100:\n",
        "    if edad >=16:\n",
        "        print(\"Aceptado\")\n",
        "    else:\n",
        "        print(\"No Aceptado\")\n",
        "else:\n",
        "    print(\"Por favor colocar edades verdaderas\")"
      ]
    },
    {
      "cell_type": "markdown",
      "id": "431df036",
      "metadata": {
        "id": "431df036"
      },
      "source": [
        "__Bucle for__: Los bucles `for` permiten iterar sobre una colección (como una *lista* o *tupla*) o un *iterador*. La sintaxis estándar para un bucle `for` es:"
      ]
    },
    {
      "cell_type": "code",
      "execution_count": 28,
      "id": "430020fe",
      "metadata": {
        "id": "430020fe",
        "outputId": "9adbf26f-335d-4b4f-c0c0-7bfd8a035b5a",
        "colab": {
          "base_uri": "https://localhost:8080/"
        }
      },
      "outputs": [
        {
          "output_type": "stream",
          "name": "stdout",
          "text": [
            "0\n",
            "1\n",
            "2\n",
            "3\n",
            "4\n"
          ]
        }
      ],
      "source": [
        "for i in range(0,5):\n",
        "    print(i)"
      ]
    },
    {
      "cell_type": "code",
      "execution_count": 29,
      "id": "3c3ee4ce",
      "metadata": {
        "id": "3c3ee4ce",
        "outputId": "172958ad-3917-449f-d30f-001c04d740f8",
        "colab": {
          "base_uri": "https://localhost:8080/"
        }
      },
      "outputs": [
        {
          "output_type": "stream",
          "name": "stdout",
          "text": [
            "Carlos\n",
            "Sandra\n",
            "Verónica\n",
            "Samuel\n",
            "Pedro\n"
          ]
        }
      ],
      "source": [
        "nombres = [\"Carlos\",\"Sandra\",\"Verónica\",\"Samuel\",\"Pedro\"]\n",
        "for i in nombres:\n",
        "    print(i)"
      ]
    },
    {
      "cell_type": "markdown",
      "id": "44a66d6b",
      "metadata": {
        "id": "44a66d6b"
      },
      "source": [
        "__Ejemplo__: Mostrar los 5 primeros múltiplos de 5 sin considerar al cero"
      ]
    },
    {
      "cell_type": "code",
      "execution_count": 30,
      "id": "0615353f",
      "metadata": {
        "id": "0615353f",
        "outputId": "c488c2bf-b25e-48e1-b74a-9212378ed734",
        "colab": {
          "base_uri": "https://localhost:8080/"
        }
      },
      "outputs": [
        {
          "output_type": "stream",
          "name": "stdout",
          "text": [
            "5\n",
            "10\n",
            "15\n",
            "20\n",
            "25\n"
          ]
        }
      ],
      "source": [
        "for i in range(1,6):\n",
        "    print(i*5)"
      ]
    },
    {
      "cell_type": "markdown",
      "id": "df5d1b51",
      "metadata": {
        "id": "df5d1b51"
      },
      "source": [
        "__Bucle While__: Un bucle `while` especifica una condición y un bloque de código que se ejecutará hasta que la condición se evalúe como `False`."
      ]
    },
    {
      "cell_type": "code",
      "execution_count": 31,
      "id": "6afbb4d0-55f9-49e4-8e6a-af3193d38166",
      "metadata": {
        "id": "6afbb4d0-55f9-49e4-8e6a-af3193d38166"
      },
      "outputs": [],
      "source": [
        "x = 256\n",
        "total = 0\n",
        "while x > 0:\n",
        "    total += x\n",
        "    x = x - 1"
      ]
    },
    {
      "cell_type": "code",
      "source": [
        "x = 256\n",
        "total = 0\n",
        "while x > 0:\n",
        "    total = x + total\n",
        "    x = x - 1"
      ],
      "metadata": {
        "id": "KCJxQCnggBE0"
      },
      "id": "KCJxQCnggBE0",
      "execution_count": 32,
      "outputs": []
    },
    {
      "cell_type": "code",
      "execution_count": 33,
      "id": "4f6de31a-6860-4e5b-96c5-6da3e5c720b7",
      "metadata": {
        "colab": {
          "base_uri": "https://localhost:8080/"
        },
        "id": "4f6de31a-6860-4e5b-96c5-6da3e5c720b7",
        "outputId": "b1101e90-8751-4203-ebe3-ddf7caa88902"
      },
      "outputs": [
        {
          "output_type": "execute_result",
          "data": {
            "text/plain": [
              "32896"
            ]
          },
          "metadata": {},
          "execution_count": 33
        }
      ],
      "source": [
        "total"
      ]
    },
    {
      "cell_type": "markdown",
      "id": "a6980691",
      "metadata": {
        "id": "a6980691"
      },
      "source": [
        "# Tipos secuencia"
      ]
    },
    {
      "cell_type": "markdown",
      "id": "c41a7f86",
      "metadata": {
        "id": "c41a7f86"
      },
      "source": [
        "### 1. Cadena de texto (str)"
      ]
    },
    {
      "cell_type": "code",
      "execution_count": 34,
      "id": "5732b0f4",
      "metadata": {
        "id": "5732b0f4",
        "outputId": "0b7e29fe-1b8f-4ce7-8d3e-2e72a5366845",
        "colab": {
          "base_uri": "https://localhost:8080/"
        }
      },
      "outputs": [
        {
          "output_type": "stream",
          "name": "stdout",
          "text": [
            "<class 'str'>\n",
            "<class 'str'>\n",
            "<class 'str'>\n",
            "<class 'str'>\n"
          ]
        }
      ],
      "source": [
        "a = \"hOla\"\n",
        "b = 'hOla'\n",
        "c = \"\"\"hOla\"\"\"\n",
        "d = '''hOla'''\n",
        "\n",
        "print(type(a))\n",
        "print(type(b))\n",
        "print(type(c))\n",
        "print(type(d))"
      ]
    },
    {
      "cell_type": "code",
      "execution_count": 35,
      "id": "700e209d",
      "metadata": {
        "id": "700e209d",
        "outputId": "0f30d8c0-79ca-44c7-d440-45d45ca63233",
        "colab": {
          "base_uri": "https://localhost:8080/",
          "height": 36
        }
      },
      "outputs": [
        {
          "output_type": "execute_result",
          "data": {
            "text/plain": [
              "'Hola'"
            ],
            "application/vnd.google.colaboratory.intrinsic+json": {
              "type": "string"
            }
          },
          "metadata": {},
          "execution_count": 35
        }
      ],
      "source": [
        "# Capitaliza la cadena de texto\n",
        "a.capitalize()"
      ]
    },
    {
      "cell_type": "code",
      "execution_count": 36,
      "id": "84df14aa",
      "metadata": {
        "id": "84df14aa",
        "outputId": "0deb5a06-7dc6-4edb-9e81-f5439d82bdaa",
        "colab": {
          "base_uri": "https://localhost:8080/",
          "height": 36
        }
      },
      "outputs": [
        {
          "output_type": "execute_result",
          "data": {
            "text/plain": [
              "'hola'"
            ],
            "application/vnd.google.colaboratory.intrinsic+json": {
              "type": "string"
            }
          },
          "metadata": {},
          "execution_count": 36
        }
      ],
      "source": [
        "# El texto lo convierte en minúsculas\n",
        "a.lower()"
      ]
    },
    {
      "cell_type": "code",
      "execution_count": 37,
      "id": "3717fa3b",
      "metadata": {
        "id": "3717fa3b",
        "outputId": "c1423354-a1ac-48b3-e373-7b8aa472792c",
        "colab": {
          "base_uri": "https://localhost:8080/",
          "height": 36
        }
      },
      "outputs": [
        {
          "output_type": "execute_result",
          "data": {
            "text/plain": [
              "'HOLA'"
            ],
            "application/vnd.google.colaboratory.intrinsic+json": {
              "type": "string"
            }
          },
          "metadata": {},
          "execution_count": 37
        }
      ],
      "source": [
        "# El texto lo convierte en mayúsculas\n",
        "a.upper()"
      ]
    },
    {
      "cell_type": "code",
      "execution_count": 38,
      "id": "6ce18dbe",
      "metadata": {
        "id": "6ce18dbe",
        "outputId": "e63e3f24-6c62-4727-90ae-4b4af99aae61",
        "colab": {
          "base_uri": "https://localhost:8080/"
        }
      },
      "outputs": [
        {
          "output_type": "stream",
          "name": "stdout",
          "text": [
            "0\n",
            "-1\n"
          ]
        }
      ],
      "source": [
        "# Nos muestra la posición de alguna letra de la cadena, en caso se consulte una letra que no esté se coloca el valor de -1\n",
        "print(a.find(\"h\"))\n",
        "print(a.find(\"z\"))"
      ]
    },
    {
      "cell_type": "code",
      "execution_count": 39,
      "id": "41648f92",
      "metadata": {
        "id": "41648f92",
        "outputId": "0b06bee1-366a-44de-800e-257c1efce9ad",
        "colab": {
          "base_uri": "https://localhost:8080/",
          "height": 36
        }
      },
      "outputs": [
        {
          "output_type": "execute_result",
          "data": {
            "text/plain": [
              "'3Ola'"
            ],
            "application/vnd.google.colaboratory.intrinsic+json": {
              "type": "string"
            }
          },
          "metadata": {},
          "execution_count": 39
        }
      ],
      "source": [
        "# Esta función reemplaza una letra por otra\n",
        "a.replace(\"h\",\"3\")"
      ]
    },
    {
      "cell_type": "markdown",
      "id": "9d2b1b93",
      "metadata": {
        "id": "9d2b1b93"
      },
      "source": [
        "### 2. Rangos"
      ]
    },
    {
      "cell_type": "code",
      "execution_count": 40,
      "id": "aceff266",
      "metadata": {
        "colab": {
          "base_uri": "https://localhost:8080/"
        },
        "id": "aceff266",
        "outputId": "85189b6d-bbf1-46f8-e2f0-871a663f6977"
      },
      "outputs": [
        {
          "output_type": "execute_result",
          "data": {
            "text/plain": [
              "range(0, 10)"
            ]
          },
          "metadata": {},
          "execution_count": 40
        }
      ],
      "source": [
        "rango = range(10)\n",
        "rango"
      ]
    },
    {
      "cell_type": "code",
      "execution_count": 41,
      "id": "ef39db4d",
      "metadata": {
        "colab": {
          "base_uri": "https://localhost:8080/"
        },
        "id": "ef39db4d",
        "outputId": "0afd1420-0968-4597-a395-78a8fa20af14"
      },
      "outputs": [
        {
          "output_type": "stream",
          "name": "stdout",
          "text": [
            "0 1 2 3 4 5 6 7 8 9 "
          ]
        }
      ],
      "source": [
        "for valor in rango:\n",
        "    print(valor, end=\" \")"
      ]
    },
    {
      "cell_type": "code",
      "execution_count": 42,
      "id": "88b47ea0",
      "metadata": {
        "id": "88b47ea0",
        "outputId": "30dd41a7-a446-406d-e454-b581920b3905",
        "colab": {
          "base_uri": "https://localhost:8080/"
        }
      },
      "outputs": [
        {
          "output_type": "stream",
          "name": "stdout",
          "text": [
            "5 4 3 2 1 "
          ]
        }
      ],
      "source": [
        "rango = range(5, 0, -1)\n",
        "for valor in rango:\n",
        "    print(valor, end=\" \")"
      ]
    },
    {
      "cell_type": "code",
      "execution_count": 43,
      "id": "4593d09f",
      "metadata": {
        "colab": {
          "base_uri": "https://localhost:8080/"
        },
        "id": "4593d09f",
        "outputId": "951abef6-33a2-4f07-eee9-f20df0772078"
      },
      "outputs": [
        {
          "output_type": "stream",
          "name": "stdout",
          "text": [
            "-1 -2 -3 -4 -5 -6 -7 -8 -9 "
          ]
        }
      ],
      "source": [
        "rango = range(-1, -10, -1)\n",
        "for valor in rango:\n",
        "    print(valor, end=\" \")"
      ]
    },
    {
      "cell_type": "markdown",
      "id": "b1815356",
      "metadata": {
        "id": "b1815356"
      },
      "source": [
        "### 3. Listas"
      ]
    },
    {
      "cell_type": "code",
      "execution_count": 44,
      "id": "b7dc4a29",
      "metadata": {
        "id": "b7dc4a29"
      },
      "outputs": [],
      "source": [
        "tupla = (1,2,[\"cara\"])\n",
        "lista = [1,2]"
      ]
    },
    {
      "cell_type": "code",
      "source": [
        "lista[0] = 4\n",
        "lista"
      ],
      "metadata": {
        "colab": {
          "base_uri": "https://localhost:8080/"
        },
        "id": "vpui7DKvnVeP",
        "outputId": "5c8ffd86-6d34-4a3c-804f-baed896685d0"
      },
      "id": "vpui7DKvnVeP",
      "execution_count": 45,
      "outputs": [
        {
          "output_type": "execute_result",
          "data": {
            "text/plain": [
              "[4, 2]"
            ]
          },
          "metadata": {},
          "execution_count": 45
        }
      ]
    },
    {
      "cell_type": "code",
      "execution_count": 46,
      "id": "4cb3b384",
      "metadata": {
        "id": "4cb3b384"
      },
      "outputs": [],
      "source": [
        "lista1 = [1,2,\"a\",True,[3,4]]\n",
        "lista2 = [x for x in range(0,2)]\n",
        "lista3 = list(range(0,2))"
      ]
    },
    {
      "cell_type": "code",
      "source": [
        "lista_concatenada = lista1+lista2\n",
        "lista_concatenada"
      ],
      "metadata": {
        "colab": {
          "base_uri": "https://localhost:8080/"
        },
        "id": "gvzumNtNnd36",
        "outputId": "73bc34c6-e571-4eba-ae8f-09c35e407db1"
      },
      "id": "gvzumNtNnd36",
      "execution_count": 47,
      "outputs": [
        {
          "output_type": "execute_result",
          "data": {
            "text/plain": [
              "[1, 2, 'a', True, [3, 4], 0, 1]"
            ]
          },
          "metadata": {},
          "execution_count": 47
        }
      ]
    },
    {
      "cell_type": "code",
      "source": [
        "tupla = (1,2,3)\n",
        "lista4 = list(tupla)\n",
        "lista4"
      ],
      "metadata": {
        "colab": {
          "base_uri": "https://localhost:8080/"
        },
        "id": "UmTXo97bm3Fz",
        "outputId": "1e11af58-e2c0-41e5-f277-c586cc3131dc"
      },
      "id": "UmTXo97bm3Fz",
      "execution_count": 48,
      "outputs": [
        {
          "output_type": "execute_result",
          "data": {
            "text/plain": [
              "[1, 2, 3]"
            ]
          },
          "metadata": {},
          "execution_count": 48
        }
      ]
    },
    {
      "cell_type": "code",
      "execution_count": 49,
      "id": "f275aca0",
      "metadata": {
        "id": "f275aca0"
      },
      "outputs": [],
      "source": [
        "list(tupla)[2] = 3"
      ]
    },
    {
      "cell_type": "code",
      "execution_count": 50,
      "id": "8fab867c",
      "metadata": {
        "colab": {
          "base_uri": "https://localhost:8080/"
        },
        "id": "8fab867c",
        "outputId": "19c55a15-7223-4150-e75e-2146704889e0"
      },
      "outputs": [
        {
          "output_type": "execute_result",
          "data": {
            "text/plain": [
              "['c', 'a', 'd', 'e', 'n', 'a']"
            ]
          },
          "metadata": {},
          "execution_count": 50
        }
      ],
      "source": [
        "otra_cadena = list(\"cadena\")\n",
        "otra_cadena"
      ]
    },
    {
      "cell_type": "code",
      "execution_count": 51,
      "id": "c402b684",
      "metadata": {
        "colab": {
          "base_uri": "https://localhost:8080/",
          "height": 36
        },
        "id": "c402b684",
        "outputId": "06b72775-7116-43a5-9940-52eea56e63f8"
      },
      "outputs": [
        {
          "output_type": "execute_result",
          "data": {
            "text/plain": [
              "'c'"
            ],
            "application/vnd.google.colaboratory.intrinsic+json": {
              "type": "string"
            }
          },
          "metadata": {},
          "execution_count": 51
        }
      ],
      "source": [
        "# Acceso a los elementos, las secuencias comienzan en el índice de 0 en Python\n",
        "otra_cadena[0]"
      ]
    },
    {
      "cell_type": "code",
      "execution_count": 52,
      "id": "71c37815",
      "metadata": {
        "colab": {
          "base_uri": "https://localhost:8080/"
        },
        "id": "71c37815",
        "outputId": "d873743d-4578-4b3c-af07-bb90c36177e1"
      },
      "outputs": [
        {
          "output_type": "execute_result",
          "data": {
            "text/plain": [
              "1"
            ]
          },
          "metadata": {},
          "execution_count": 52
        }
      ],
      "source": [
        "# Acceso a los elementos de una lista dentro de otra\n",
        "una_lista = list(['foo', [1, 2], True])\n",
        "una_lista[1][0]"
      ]
    },
    {
      "cell_type": "markdown",
      "id": "dbd70887",
      "metadata": {
        "id": "dbd70887"
      },
      "source": [
        "### 4. Tuplas"
      ]
    },
    {
      "cell_type": "code",
      "execution_count": 53,
      "id": "2990a9b5",
      "metadata": {
        "colab": {
          "base_uri": "https://localhost:8080/"
        },
        "id": "2990a9b5",
        "outputId": "01754b9c-e759-406c-9dcf-bf5d3a81031f"
      },
      "outputs": [
        {
          "output_type": "stream",
          "name": "stdout",
          "text": [
            "(1, 2, 3)\n",
            "(1, 2, 3)\n",
            "(1, 2, 3)\n"
          ]
        }
      ],
      "source": [
        "a = (1,2,3)\n",
        "b = 1,2,3\n",
        "c = tuple((1,2,3))\n",
        "print(a)\n",
        "print(b)\n",
        "print(c)"
      ]
    },
    {
      "cell_type": "code",
      "execution_count": 54,
      "id": "6f5951c2",
      "metadata": {
        "colab": {
          "base_uri": "https://localhost:8080/"
        },
        "id": "6f5951c2",
        "outputId": "67000c45-aac0-400d-8688-35b80fdd25e5"
      },
      "outputs": [
        {
          "output_type": "execute_result",
          "data": {
            "text/plain": [
              "((1, 2, 3), (1, 2, 3))"
            ]
          },
          "metadata": {},
          "execution_count": 54
        }
      ],
      "source": [
        "tupla_anidada = a,b\n",
        "tupla_anidada"
      ]
    },
    {
      "cell_type": "code",
      "execution_count": 55,
      "id": "6530c1c4",
      "metadata": {
        "colab": {
          "base_uri": "https://localhost:8080/"
        },
        "id": "6530c1c4",
        "outputId": "01922595-9bb0-4dec-bf07-5ff246f1f402"
      },
      "outputs": [
        {
          "output_type": "execute_result",
          "data": {
            "text/plain": [
              "(1, 2, 3, 1, 2, 3)"
            ]
          },
          "metadata": {},
          "execution_count": 55
        }
      ],
      "source": [
        "tupla_concatenada = a+b\n",
        "tupla_concatenada"
      ]
    },
    {
      "cell_type": "code",
      "execution_count": 56,
      "id": "53727891",
      "metadata": {
        "colab": {
          "base_uri": "https://localhost:8080/"
        },
        "id": "53727891",
        "outputId": "1543f5ca-d3fc-405f-845e-96ec04cd1df1"
      },
      "outputs": [
        {
          "output_type": "execute_result",
          "data": {
            "text/plain": [
              "(1, 2, 3, 1, 2, 3, 1, 2, 3)"
            ]
          },
          "metadata": {},
          "execution_count": 56
        }
      ],
      "source": [
        "tupla_concatenadax3 = a*3\n",
        "tupla_concatenadax3"
      ]
    },
    {
      "cell_type": "code",
      "execution_count": 57,
      "id": "31c3cf1b",
      "metadata": {
        "colab": {
          "base_uri": "https://localhost:8080/"
        },
        "id": "31c3cf1b",
        "outputId": "540c3a29-faf3-4f64-d447-be54e629dbf4"
      },
      "outputs": [
        {
          "output_type": "execute_result",
          "data": {
            "text/plain": [
              "('c', 'a', 'd', 'e', 'n', 'a')"
            ]
          },
          "metadata": {},
          "execution_count": 57
        }
      ],
      "source": [
        "otra_tupla = tuple(\"cadena\")\n",
        "otra_tupla"
      ]
    },
    {
      "cell_type": "code",
      "execution_count": 58,
      "id": "4d915d6b",
      "metadata": {
        "colab": {
          "base_uri": "https://localhost:8080/",
          "height": 36
        },
        "id": "4d915d6b",
        "outputId": "f7d29a6e-f8db-4499-f5ff-7df979b7ff36"
      },
      "outputs": [
        {
          "output_type": "execute_result",
          "data": {
            "text/plain": [
              "'c'"
            ],
            "application/vnd.google.colaboratory.intrinsic+json": {
              "type": "string"
            }
          },
          "metadata": {},
          "execution_count": 58
        }
      ],
      "source": [
        "# Acceso a los elementos, las secuencias comienzan en el índice de 0 en Python\n",
        "otra_tupla[0]"
      ]
    },
    {
      "cell_type": "markdown",
      "id": "7f994e43",
      "metadata": {
        "id": "7f994e43"
      },
      "source": [
        "**Operaciones comunes en tipos secuencia mutables**"
      ]
    },
    {
      "cell_type": "markdown",
      "id": "530e97c9-4cc0-4823-8970-3cf6bc922875",
      "metadata": {
        "id": "530e97c9-4cc0-4823-8970-3cf6bc922875"
      },
      "source": [
        "**1. In, Not in**"
      ]
    },
    {
      "cell_type": "code",
      "execution_count": 59,
      "id": "e4d9b690",
      "metadata": {
        "id": "e4d9b690",
        "outputId": "33c93b38-1e47-4d35-c4bb-eba9f136cf7d",
        "colab": {
          "base_uri": "https://localhost:8080/"
        }
      },
      "outputs": [
        {
          "output_type": "stream",
          "name": "stdout",
          "text": [
            "False\n"
          ]
        }
      ],
      "source": [
        "cadena = \"Hola\"\n",
        "print(\"h\" in cadena)"
      ]
    },
    {
      "cell_type": "code",
      "execution_count": 60,
      "id": "31a139f6-87f1-415e-84e9-9d426254de90",
      "metadata": {
        "id": "31a139f6-87f1-415e-84e9-9d426254de90",
        "outputId": "c1fa1079-7604-49b0-b140-007d5b4d59ff",
        "colab": {
          "base_uri": "https://localhost:8080/"
        }
      },
      "outputs": [
        {
          "output_type": "stream",
          "name": "stdout",
          "text": [
            "False\n"
          ]
        }
      ],
      "source": [
        "rango = range(0,10)\n",
        "print(-1 in rango)"
      ]
    },
    {
      "cell_type": "code",
      "execution_count": 61,
      "id": "2f43b5ca-f1a7-4d4d-9d4f-3b16c9b8116c",
      "metadata": {
        "id": "2f43b5ca-f1a7-4d4d-9d4f-3b16c9b8116c",
        "outputId": "9272de77-28af-44ab-8fe2-13f1b352c55c",
        "colab": {
          "base_uri": "https://localhost:8080/"
        }
      },
      "outputs": [
        {
          "output_type": "stream",
          "name": "stdout",
          "text": [
            "True\n"
          ]
        }
      ],
      "source": [
        "lista = [1,2,[3,4],\"5\"]\n",
        "print(2 in lista)"
      ]
    },
    {
      "cell_type": "code",
      "execution_count": 62,
      "id": "90ab77a2-fce0-4d0a-986c-450ba31b3bdc",
      "metadata": {
        "id": "90ab77a2-fce0-4d0a-986c-450ba31b3bdc",
        "outputId": "f311f367-8b28-4325-ca7c-672dc61c8396",
        "colab": {
          "base_uri": "https://localhost:8080/"
        }
      },
      "outputs": [
        {
          "output_type": "stream",
          "name": "stdout",
          "text": [
            "True\n"
          ]
        }
      ],
      "source": [
        "tupla = (1,2,3,4,5)\n",
        "print(5 in tupla)"
      ]
    },
    {
      "cell_type": "markdown",
      "id": "aca9d70b-e028-43c4-9b76-bb7e5fc1eb24",
      "metadata": {
        "id": "aca9d70b-e028-43c4-9b76-bb7e5fc1eb24"
      },
      "source": [
        "**2. Concatenación**"
      ]
    },
    {
      "cell_type": "code",
      "execution_count": 63,
      "id": "73538f95",
      "metadata": {
        "id": "73538f95",
        "outputId": "d1db89c2-2c47-4a26-bda1-58169aa9b508",
        "colab": {
          "base_uri": "https://localhost:8080/"
        }
      },
      "outputs": [
        {
          "output_type": "stream",
          "name": "stdout",
          "text": [
            "Hola amigos\n"
          ]
        }
      ],
      "source": [
        "cadena1 = \"Hola\"\n",
        "cadena2 = \" amigos\"\n",
        "print(cadena1+cadena2)"
      ]
    },
    {
      "cell_type": "code",
      "execution_count": 64,
      "id": "d3e73bfc-c628-4655-96c6-4c89210772ae",
      "metadata": {
        "id": "d3e73bfc-c628-4655-96c6-4c89210772ae",
        "outputId": "45dc49d1-745b-4eaf-b8ac-128cbd92fb00",
        "colab": {
          "base_uri": "https://localhost:8080/"
        }
      },
      "outputs": [
        {
          "output_type": "stream",
          "name": "stdout",
          "text": [
            "[0, 1, 2, 3, 4, 5, 6, 7, 8, 9, 9, 10, 11, 12, 13, 14]\n"
          ]
        }
      ],
      "source": [
        "rango1 = range(0,10)\n",
        "rango2 = range(9,15)\n",
        "print(list(rango1)+list(rango2))"
      ]
    },
    {
      "cell_type": "code",
      "execution_count": 65,
      "id": "608db995-36ab-4f9c-8eab-4cc79c0a00a1",
      "metadata": {
        "id": "608db995-36ab-4f9c-8eab-4cc79c0a00a1",
        "outputId": "fb8bab51-92ab-4127-eb27-186b58cab037",
        "colab": {
          "base_uri": "https://localhost:8080/"
        }
      },
      "outputs": [
        {
          "output_type": "stream",
          "name": "stdout",
          "text": [
            "[1, 2, [3, 4], '5', 2, '7', 'ocho']\n"
          ]
        }
      ],
      "source": [
        "lista1 = [1,2,[3,4],\"5\"]\n",
        "lista2 = [2,\"7\",\"ocho\"]\n",
        "print(lista1+lista2)"
      ]
    },
    {
      "cell_type": "code",
      "execution_count": 66,
      "id": "d039e623-2d2d-4cfd-8b80-549728e1bc19",
      "metadata": {
        "id": "d039e623-2d2d-4cfd-8b80-549728e1bc19",
        "outputId": "a7cb9d44-1347-41a1-e234-cf67feecaca2",
        "colab": {
          "base_uri": "https://localhost:8080/"
        }
      },
      "outputs": [
        {
          "output_type": "stream",
          "name": "stdout",
          "text": [
            "(1, 2, 3, 4, 5, 6, [7, 8])\n"
          ]
        }
      ],
      "source": [
        "tupla1 = (1,2,3,4,5)\n",
        "tupla2 = (6,[7,8])\n",
        "print(tupla1+tupla2)"
      ]
    },
    {
      "cell_type": "markdown",
      "id": "d98e8509-f57a-4404-bebd-a9981163bbe0",
      "metadata": {
        "id": "d98e8509-f57a-4404-bebd-a9981163bbe0"
      },
      "source": [
        "**3. Repetir**"
      ]
    },
    {
      "cell_type": "code",
      "execution_count": 67,
      "id": "3f4c8724",
      "metadata": {
        "id": "3f4c8724",
        "outputId": "07e98fb2-51eb-4cc3-cce1-8cb40a4e3167",
        "colab": {
          "base_uri": "https://localhost:8080/"
        }
      },
      "outputs": [
        {
          "output_type": "stream",
          "name": "stdout",
          "text": [
            "HolaHola\n"
          ]
        }
      ],
      "source": [
        "cadena = \"Hola\"\n",
        "print(cadena*2)"
      ]
    },
    {
      "cell_type": "code",
      "execution_count": 68,
      "id": "a4436674-01eb-4094-8a5e-6edbd35b0edc",
      "metadata": {
        "colab": {
          "base_uri": "https://localhost:8080/"
        },
        "id": "a4436674-01eb-4094-8a5e-6edbd35b0edc",
        "outputId": "e7ebfd15-77d1-428f-d77a-09d6f6284b4f"
      },
      "outputs": [
        {
          "output_type": "stream",
          "name": "stdout",
          "text": [
            "[0, 1, 2, 3, 4, 5, 6, 7, 8, 9, 0, 1, 2, 3, 4, 5, 6, 7, 8, 9]\n"
          ]
        }
      ],
      "source": [
        "rango = range(0,10)\n",
        "print(list(rango)*2)"
      ]
    },
    {
      "cell_type": "code",
      "execution_count": 69,
      "id": "b04a6b9c-cf88-4839-8d7d-602797f0381f",
      "metadata": {
        "id": "b04a6b9c-cf88-4839-8d7d-602797f0381f",
        "outputId": "3a8c7208-4e37-4969-8c9c-b07d677801ee",
        "colab": {
          "base_uri": "https://localhost:8080/"
        }
      },
      "outputs": [
        {
          "output_type": "stream",
          "name": "stdout",
          "text": [
            "[1, 2, [3, 4], '5', 1, 2, [3, 4], '5']\n"
          ]
        }
      ],
      "source": [
        "lista = [1,2,[3,4],\"5\"]\n",
        "print(lista*2)"
      ]
    },
    {
      "cell_type": "code",
      "execution_count": 70,
      "id": "425d7b42-fbec-48fb-8f45-3834692b8971",
      "metadata": {
        "id": "425d7b42-fbec-48fb-8f45-3834692b8971",
        "outputId": "a7eafd86-f960-4dad-e362-31f46e75c296",
        "colab": {
          "base_uri": "https://localhost:8080/"
        }
      },
      "outputs": [
        {
          "output_type": "stream",
          "name": "stdout",
          "text": [
            "(1, 2, 3, 4, 5, 1, 2, 3, 4, 5)\n"
          ]
        }
      ],
      "source": [
        "tupla = (1,2,3,4,5)\n",
        "print(tupla*2)"
      ]
    },
    {
      "cell_type": "markdown",
      "id": "4e12bb59-2e33-4b82-8c6a-00bc209530c3",
      "metadata": {
        "id": "4e12bb59-2e33-4b82-8c6a-00bc209530c3"
      },
      "source": [
        "**4. Longitud de la secuencia**"
      ]
    },
    {
      "cell_type": "code",
      "execution_count": 71,
      "id": "3e3b8b85",
      "metadata": {
        "id": "3e3b8b85",
        "outputId": "63d2cf99-7de8-4b7b-e116-d4a6b2386d73",
        "colab": {
          "base_uri": "https://localhost:8080/"
        }
      },
      "outputs": [
        {
          "output_type": "stream",
          "name": "stdout",
          "text": [
            "4\n"
          ]
        }
      ],
      "source": [
        "print(len(cadena))"
      ]
    },
    {
      "cell_type": "code",
      "execution_count": 72,
      "id": "94600219-0d67-48aa-a612-b1ff00ecc35f",
      "metadata": {
        "id": "94600219-0d67-48aa-a612-b1ff00ecc35f",
        "outputId": "93466828-1e84-4b61-ed08-60b197650a8f",
        "colab": {
          "base_uri": "https://localhost:8080/"
        }
      },
      "outputs": [
        {
          "output_type": "stream",
          "name": "stdout",
          "text": [
            "10\n"
          ]
        }
      ],
      "source": [
        "print(len(rango))"
      ]
    },
    {
      "cell_type": "code",
      "execution_count": 73,
      "id": "cd95783c-aeee-4244-ae49-c61475d0052a",
      "metadata": {
        "id": "cd95783c-aeee-4244-ae49-c61475d0052a",
        "outputId": "42006ac9-42f3-47c9-d3a7-cf40c64c2f8b",
        "colab": {
          "base_uri": "https://localhost:8080/"
        }
      },
      "outputs": [
        {
          "output_type": "stream",
          "name": "stdout",
          "text": [
            "4\n"
          ]
        }
      ],
      "source": [
        "print(len(lista))"
      ]
    },
    {
      "cell_type": "code",
      "execution_count": 74,
      "id": "20d64883-8fde-42e5-8fc3-07557f1025d7",
      "metadata": {
        "id": "20d64883-8fde-42e5-8fc3-07557f1025d7",
        "outputId": "ea7396c9-546b-4931-f38f-6036ac834062",
        "colab": {
          "base_uri": "https://localhost:8080/"
        }
      },
      "outputs": [
        {
          "output_type": "stream",
          "name": "stdout",
          "text": [
            "5\n"
          ]
        }
      ],
      "source": [
        "print(len(tupla))"
      ]
    },
    {
      "cell_type": "markdown",
      "id": "b8d09ad5-c9f7-4aa3-a2b3-6d55b15a0197",
      "metadata": {
        "id": "b8d09ad5-c9f7-4aa3-a2b3-6d55b15a0197"
      },
      "source": [
        "**5. Conteo de elementos de una secuencia**"
      ]
    },
    {
      "cell_type": "code",
      "execution_count": 75,
      "id": "496f49fa",
      "metadata": {
        "id": "496f49fa",
        "outputId": "25fd8a66-d585-4fba-989d-5c78f7296b85",
        "colab": {
          "base_uri": "https://localhost:8080/"
        }
      },
      "outputs": [
        {
          "output_type": "stream",
          "name": "stdout",
          "text": [
            "2\n"
          ]
        }
      ],
      "source": [
        "cadena = \"hola amigo\"\n",
        "print(cadena.count(\"o\"))"
      ]
    },
    {
      "cell_type": "code",
      "execution_count": 76,
      "id": "76cfd04e-3a67-4bf7-a951-d4be72e0b3bf",
      "metadata": {
        "id": "76cfd04e-3a67-4bf7-a951-d4be72e0b3bf",
        "outputId": "5697c694-c422-4ef8-8522-b938fed81b55",
        "colab": {
          "base_uri": "https://localhost:8080/"
        }
      },
      "outputs": [
        {
          "output_type": "stream",
          "name": "stdout",
          "text": [
            "1\n"
          ]
        }
      ],
      "source": [
        "rango = range(0,10)\n",
        "print(rango.count(0))"
      ]
    },
    {
      "cell_type": "code",
      "execution_count": 77,
      "id": "f3447d74-72ca-403f-a2a1-73a6434704b4",
      "metadata": {
        "id": "f3447d74-72ca-403f-a2a1-73a6434704b4",
        "outputId": "a6f261d3-d1fb-4b77-abfc-7a8427a8d238",
        "colab": {
          "base_uri": "https://localhost:8080/"
        }
      },
      "outputs": [
        {
          "output_type": "stream",
          "name": "stdout",
          "text": [
            "1\n"
          ]
        }
      ],
      "source": [
        "lista = [1,2,3,4,5]\n",
        "print(lista.count(5))"
      ]
    },
    {
      "cell_type": "code",
      "execution_count": 78,
      "id": "88763b9f-b66d-4b08-bf77-efa1395dac5e",
      "metadata": {
        "id": "88763b9f-b66d-4b08-bf77-efa1395dac5e",
        "outputId": "4d8071ed-2ecd-48bc-fdc0-f59599b8e4fd",
        "colab": {
          "base_uri": "https://localhost:8080/"
        }
      },
      "outputs": [
        {
          "output_type": "stream",
          "name": "stdout",
          "text": [
            "2\n"
          ]
        }
      ],
      "source": [
        "tupla = (1,2,3,4,5,5)\n",
        "print(tupla.count(5))"
      ]
    },
    {
      "cell_type": "markdown",
      "id": "0bc9bf3f-6206-44cb-b73b-8645d91f20ff",
      "metadata": {
        "id": "0bc9bf3f-6206-44cb-b73b-8645d91f20ff"
      },
      "source": [
        "**6. Acceso a las secuencias**"
      ]
    },
    {
      "cell_type": "code",
      "execution_count": 79,
      "id": "08a4a7c8",
      "metadata": {
        "id": "08a4a7c8",
        "outputId": "5ca7ca47-9c3b-4aad-9013-71f326539dc0",
        "colab": {
          "base_uri": "https://localhost:8080/"
        }
      },
      "outputs": [
        {
          "output_type": "stream",
          "name": "stdout",
          "text": [
            "hl mg\n"
          ]
        }
      ],
      "source": [
        "cadena = \"hola amigo\"\n",
        "print(cadena[0:9:2])"
      ]
    },
    {
      "cell_type": "code",
      "execution_count": 80,
      "id": "b543f279-4f62-4c9f-b538-8d9b8354321e",
      "metadata": {
        "id": "b543f279-4f62-4c9f-b538-8d9b8354321e",
        "colab": {
          "base_uri": "https://localhost:8080/"
        },
        "outputId": "72c44b77-3c92-410d-9c35-d545025968fb"
      },
      "outputs": [
        {
          "output_type": "stream",
          "name": "stdout",
          "text": [
            "[0, 2, 4, 6, 8]\n"
          ]
        }
      ],
      "source": [
        "rango = range(0,10)\n",
        "print(list(rango[0:9:2]))"
      ]
    },
    {
      "cell_type": "code",
      "execution_count": 81,
      "id": "09b856be-adc8-4998-9fda-049b8f669d6c",
      "metadata": {
        "id": "09b856be-adc8-4998-9fda-049b8f669d6c",
        "outputId": "98ee9702-5427-4026-e310-50bc73d7189c",
        "colab": {
          "base_uri": "https://localhost:8080/"
        }
      },
      "outputs": [
        {
          "output_type": "stream",
          "name": "stdout",
          "text": [
            "[1, 4]\n"
          ]
        }
      ],
      "source": [
        "lista = [1,2,3,4,5]\n",
        "print(lista[0:5:3])"
      ]
    },
    {
      "cell_type": "code",
      "execution_count": 82,
      "id": "765d75ce-7ad1-4786-9aa9-22fb8cac2120",
      "metadata": {
        "colab": {
          "base_uri": "https://localhost:8080/"
        },
        "id": "765d75ce-7ad1-4786-9aa9-22fb8cac2120",
        "outputId": "dd9844f8-1f9e-4d50-8ae2-31e93a4a470c"
      },
      "outputs": [
        {
          "output_type": "stream",
          "name": "stdout",
          "text": [
            "(1, 3, 5)\n"
          ]
        }
      ],
      "source": [
        "tupla = (1,2,3,4,5,5)\n",
        "print(tupla[0:6:2])"
      ]
    },
    {
      "cell_type": "markdown",
      "id": "524196ea-575e-4768-9cde-4e6ef112f604",
      "metadata": {
        "id": "524196ea-575e-4768-9cde-4e6ef112f604"
      },
      "source": [
        "**7. Eliminar elementos de una lista**"
      ]
    },
    {
      "cell_type": "code",
      "execution_count": 83,
      "id": "1a8998e0",
      "metadata": {
        "id": "1a8998e0",
        "outputId": "be9e4553-04c3-4de9-aafa-e6f0b13fd177",
        "colab": {
          "base_uri": "https://localhost:8080/"
        }
      },
      "outputs": [
        {
          "output_type": "execute_result",
          "data": {
            "text/plain": [
              "[2, 3, 4, 5, 5]"
            ]
          },
          "metadata": {},
          "execution_count": 83
        }
      ],
      "source": [
        "lista = [1,2,3,4,5,5]\n",
        "del lista[0]\n",
        "lista"
      ]
    },
    {
      "cell_type": "code",
      "execution_count": 84,
      "id": "65a8637b",
      "metadata": {
        "id": "65a8637b",
        "outputId": "4bbf0ef0-f81e-48c3-a409-a3b4e061aeb6",
        "colab": {
          "base_uri": "https://localhost:8080/"
        }
      },
      "outputs": [
        {
          "output_type": "execute_result",
          "data": {
            "text/plain": [
              "[4, 5, 5]"
            ]
          },
          "metadata": {},
          "execution_count": 84
        }
      ],
      "source": [
        "lista = [1,2,3,4,5,5]\n",
        "del lista[0:3]\n",
        "lista"
      ]
    },
    {
      "cell_type": "code",
      "execution_count": 85,
      "id": "f575707b",
      "metadata": {
        "id": "f575707b",
        "outputId": "31eeaae1-f77c-4e2d-d5a0-c14fb9d71f3e",
        "colab": {
          "base_uri": "https://localhost:8080/"
        }
      },
      "outputs": [
        {
          "output_type": "execute_result",
          "data": {
            "text/plain": [
              "[2, 4, 5]"
            ]
          },
          "metadata": {},
          "execution_count": 85
        }
      ],
      "source": [
        "lista = [1,2,3,4,5,5]\n",
        "del lista[0:6:2]\n",
        "lista"
      ]
    },
    {
      "cell_type": "code",
      "execution_count": 86,
      "id": "d9e8e7ad-8b32-4cb1-84f3-8b5aecccbbbd",
      "metadata": {
        "id": "d9e8e7ad-8b32-4cb1-84f3-8b5aecccbbbd",
        "outputId": "f55bb2e5-6885-4793-f90d-c9a49fd55e0f",
        "colab": {
          "base_uri": "https://localhost:8080/"
        }
      },
      "outputs": [
        {
          "output_type": "execute_result",
          "data": {
            "text/plain": [
              "[1, 2, 3, 4, 5]"
            ]
          },
          "metadata": {},
          "execution_count": 86
        }
      ],
      "source": [
        "lista = [1,2,3,4,5,5]\n",
        "lista.remove(5)\n",
        "lista"
      ]
    },
    {
      "cell_type": "code",
      "execution_count": 87,
      "id": "0f72b1dd-c29f-4d69-8264-9538cdedb6cc",
      "metadata": {
        "id": "0f72b1dd-c29f-4d69-8264-9538cdedb6cc",
        "outputId": "5deef3f8-3f30-4fd5-a8a4-7389c165ab1b",
        "colab": {
          "base_uri": "https://localhost:8080/"
        }
      },
      "outputs": [
        {
          "output_type": "execute_result",
          "data": {
            "text/plain": [
              "[1, 2, 3, 4, 5]"
            ]
          },
          "metadata": {},
          "execution_count": 87
        }
      ],
      "source": [
        "lista = [1,2,3,4,5,5]\n",
        "lista.pop(5)\n",
        "lista"
      ]
    },
    {
      "cell_type": "code",
      "execution_count": 88,
      "id": "c7e25516",
      "metadata": {
        "id": "c7e25516",
        "outputId": "5efa8fc4-c019-4b3b-a945-e33bdce1d6c7",
        "colab": {
          "base_uri": "https://localhost:8080/"
        }
      },
      "outputs": [
        {
          "output_type": "execute_result",
          "data": {
            "text/plain": [
              "[]"
            ]
          },
          "metadata": {},
          "execution_count": 88
        }
      ],
      "source": [
        "# Eliminar todos los elementos de la lista\n",
        "lista.clear()\n",
        "lista"
      ]
    },
    {
      "cell_type": "markdown",
      "id": "100afe02-b9a3-409e-8e6d-8d6e08059953",
      "metadata": {
        "id": "100afe02-b9a3-409e-8e6d-8d6e08059953"
      },
      "source": [
        "**8. Insertar elementos**"
      ]
    },
    {
      "cell_type": "code",
      "execution_count": 89,
      "id": "aef9350f",
      "metadata": {
        "id": "aef9350f",
        "outputId": "3d782325-f133-4272-91be-ca36ffe19aaf",
        "colab": {
          "base_uri": "https://localhost:8080/"
        }
      },
      "outputs": [
        {
          "output_type": "execute_result",
          "data": {
            "text/plain": [
              "[1, 2, 7, 3, 4, 5, 5]"
            ]
          },
          "metadata": {},
          "execution_count": 89
        }
      ],
      "source": [
        "lista = [1,2,3,4,5,5]\n",
        "lista.insert(2,7)\n",
        "lista"
      ]
    },
    {
      "cell_type": "markdown",
      "id": "d7528685-f627-45b5-bfde-d89c44742dc1",
      "metadata": {
        "id": "d7528685-f627-45b5-bfde-d89c44742dc1"
      },
      "source": [
        "**9. Revertir la lista**"
      ]
    },
    {
      "cell_type": "code",
      "execution_count": 90,
      "id": "0752aaba",
      "metadata": {
        "id": "0752aaba",
        "outputId": "fb1c1446-7d37-455d-e211-fe93c737fc8f",
        "colab": {
          "base_uri": "https://localhost:8080/"
        }
      },
      "outputs": [
        {
          "output_type": "execute_result",
          "data": {
            "text/plain": [
              "[4, 5, 5, 4, 3, 2, 1]"
            ]
          },
          "metadata": {},
          "execution_count": 90
        }
      ],
      "source": [
        "lista = [1,2,3,4,5,5,4]\n",
        "lista.reverse()\n",
        "lista"
      ]
    },
    {
      "cell_type": "markdown",
      "id": "6701ecb1",
      "metadata": {
        "id": "6701ecb1"
      },
      "source": [
        "### 5. Tipos conjunto (set, frozenset)"
      ]
    },
    {
      "cell_type": "code",
      "execution_count": 91,
      "id": "f83ffe58-feaf-40fc-852f-015acf1d9d2c",
      "metadata": {
        "colab": {
          "base_uri": "https://localhost:8080/"
        },
        "id": "f83ffe58-feaf-40fc-852f-015acf1d9d2c",
        "outputId": "9cb26f69-e452-4079-b5d1-4eacede906bb"
      },
      "outputs": [
        {
          "output_type": "execute_result",
          "data": {
            "text/plain": [
              "{1, 2, 3}"
            ]
          },
          "metadata": {},
          "execution_count": 91
        }
      ],
      "source": [
        "set([2, 2, 2, 1, 3, 3])"
      ]
    },
    {
      "cell_type": "code",
      "execution_count": 92,
      "id": "eaec11a3-aec5-469b-9c96-dd3904685e10",
      "metadata": {
        "id": "eaec11a3-aec5-469b-9c96-dd3904685e10"
      },
      "outputs": [],
      "source": [
        "# Creamos dos conjuntos\n",
        "a = {1, 2, 3, 4, 5}\n",
        "b = {3, 4, 5, 6, 7, 8}"
      ]
    },
    {
      "cell_type": "markdown",
      "id": "f28d6f59-dfcd-4bc9-8831-3199cfc6ba1a",
      "metadata": {
        "id": "f28d6f59-dfcd-4bc9-8831-3199cfc6ba1a"
      },
      "source": [
        "**1. Unión:** La unión de dos conjuntos es otro conjunto cuyos elementos son los mismos de los conjuntos iniciales"
      ]
    },
    {
      "cell_type": "markdown",
      "id": "c704c2a9-6cec-40df-8f68-6327e02fa7b8",
      "metadata": {
        "id": "c704c2a9-6cec-40df-8f68-6327e02fa7b8"
      },
      "source": [
        "<figure><center>\n",
        "  <img src=\"https://upload.wikimedia.org/wikipedia/commons/thumb/3/32/SetUnion.svg/280px-SetUnion.svg.png\" width=300 height=300/>\n",
        "</figure><center>"
      ]
    },
    {
      "cell_type": "code",
      "execution_count": 93,
      "id": "3888fb97",
      "metadata": {
        "colab": {
          "base_uri": "https://localhost:8080/"
        },
        "id": "3888fb97",
        "outputId": "fc484402-986b-4688-a8e4-0e42b54a363a"
      },
      "outputs": [
        {
          "output_type": "execute_result",
          "data": {
            "text/plain": [
              "{1, 2, 3, 4, 5, 6, 7, 8}"
            ]
          },
          "metadata": {},
          "execution_count": 93
        }
      ],
      "source": [
        "a.union(b)"
      ]
    },
    {
      "cell_type": "markdown",
      "id": "032f9218-f230-4b2b-8978-b9be3afc730a",
      "metadata": {
        "id": "032f9218-f230-4b2b-8978-b9be3afc730a"
      },
      "source": [
        "**2. Intersección:** La intersección de dos conjuntos es otro conjunto cuyos elementos son comunes a los conjuntos partida"
      ]
    },
    {
      "cell_type": "markdown",
      "id": "5f483b25-29d1-4cac-afbb-977fba1bdb24",
      "metadata": {
        "id": "5f483b25-29d1-4cac-afbb-977fba1bdb24"
      },
      "source": [
        "<figure><center>\n",
        "  <img src=\"https://upload.wikimedia.org/wikipedia/commons/thumb/c/cb/SetIntersection.svg/280px-SetIntersection.svg.png\" width=300 height=300/>\n",
        "</figure><center>"
      ]
    },
    {
      "cell_type": "code",
      "execution_count": 94,
      "id": "a10483fd",
      "metadata": {
        "colab": {
          "base_uri": "https://localhost:8080/"
        },
        "id": "a10483fd",
        "outputId": "b9d7055f-bd3a-4814-9050-338527b7c3af"
      },
      "outputs": [
        {
          "output_type": "execute_result",
          "data": {
            "text/plain": [
              "{3, 4, 5}"
            ]
          },
          "metadata": {},
          "execution_count": 94
        }
      ],
      "source": [
        "a.intersection(b)"
      ]
    },
    {
      "cell_type": "markdown",
      "id": "9377a0b6-b151-4ee8-8a10-dc4339971249",
      "metadata": {
        "id": "9377a0b6-b151-4ee8-8a10-dc4339971249"
      },
      "source": [
        "**3. Diferencia:** La diferencia de dos conjuntos es otro conjunto con los elementos del primer conjunto sin los elementos del segundo conjunto."
      ]
    },
    {
      "cell_type": "markdown",
      "id": "c82d8d0a-fef5-458b-bc51-764f607a3d14",
      "metadata": {
        "id": "c82d8d0a-fef5-458b-bc51-764f607a3d14"
      },
      "source": [
        "<figure><center>\n",
        "  <img src=\"https://upload.wikimedia.org/wikipedia/commons/thumb/e/ec/SetDifferenceA.svg/280px-SetDifferenceA.svg.png\" width=300 height=300/>\n",
        "</figure><center>"
      ]
    },
    {
      "cell_type": "code",
      "execution_count": 95,
      "id": "0b38f465",
      "metadata": {
        "colab": {
          "base_uri": "https://localhost:8080/"
        },
        "id": "0b38f465",
        "outputId": "7269539d-af9a-473d-f777-2b61157d5125"
      },
      "outputs": [
        {
          "output_type": "execute_result",
          "data": {
            "text/plain": [
              "{1, 2}"
            ]
          },
          "metadata": {},
          "execution_count": 95
        }
      ],
      "source": [
        "a.difference(b)"
      ]
    },
    {
      "cell_type": "markdown",
      "id": "cf9a1d15-fd96-45c9-ab0b-d70352a1f9f9",
      "metadata": {
        "id": "cf9a1d15-fd96-45c9-ab0b-d70352a1f9f9"
      },
      "source": [
        "**4. Diferencia simétrica:** La diferencia simétrica de dos conjuntos es otro conjunto con los elementos que pertenecen a uno de los conjuntos iniciales, pero no a ambos a la vez"
      ]
    },
    {
      "cell_type": "markdown",
      "id": "888a08b3-2907-4f05-acf4-695b6ca621bf",
      "metadata": {
        "id": "888a08b3-2907-4f05-acf4-695b6ca621bf"
      },
      "source": [
        "<figure><center>\n",
        "  <img src=\"https://upload.wikimedia.org/wikipedia/commons/thumb/f/f2/SetSymmetricDifference.svg/220px-SetSymmetricDifference.svg.png\" width=300 height=300/>\n",
        "</figure><center>"
      ]
    },
    {
      "cell_type": "code",
      "execution_count": 96,
      "id": "a6016de0",
      "metadata": {
        "colab": {
          "base_uri": "https://localhost:8080/"
        },
        "id": "a6016de0",
        "outputId": "e8fe028e-15f7-4e31-edc0-9e58ba023560"
      },
      "outputs": [
        {
          "output_type": "execute_result",
          "data": {
            "text/plain": [
              "{1, 2, 6, 7, 8}"
            ]
          },
          "metadata": {},
          "execution_count": 96
        }
      ],
      "source": [
        "a.symmetric_difference(b)"
      ]
    },
    {
      "cell_type": "markdown",
      "id": "994e6493-822b-4d74-9b53-7a5aaf95412f",
      "metadata": {
        "id": "994e6493-822b-4d74-9b53-7a5aaf95412f"
      },
      "source": [
        "*Consideración: Si le agregamos un elemento común a un conjunto, el conjunto no se altera, caso contrario, sí lo hará*"
      ]
    },
    {
      "cell_type": "code",
      "execution_count": 97,
      "id": "dcba12ab-3325-4065-a1f5-45db504e26fe",
      "metadata": {
        "colab": {
          "base_uri": "https://localhost:8080/"
        },
        "id": "dcba12ab-3325-4065-a1f5-45db504e26fe",
        "outputId": "f33db98e-3ff4-49d6-aa5e-c06ddbe2e6f1"
      },
      "outputs": [
        {
          "output_type": "execute_result",
          "data": {
            "text/plain": [
              "{1, 2, 3, 4, 5}"
            ]
          },
          "metadata": {},
          "execution_count": 97
        }
      ],
      "source": [
        "# Conjunto inicial\n",
        "a"
      ]
    },
    {
      "cell_type": "code",
      "execution_count": 98,
      "id": "8f9ec188-ff67-493f-9228-636f386b612b",
      "metadata": {
        "colab": {
          "base_uri": "https://localhost:8080/"
        },
        "id": "8f9ec188-ff67-493f-9228-636f386b612b",
        "outputId": "24327618-d278-4cf7-ce68-dc87b76e416d"
      },
      "outputs": [
        {
          "output_type": "execute_result",
          "data": {
            "text/plain": [
              "{1, 2, 3, 4, 5}"
            ]
          },
          "metadata": {},
          "execution_count": 98
        }
      ],
      "source": [
        "# Agregamos un elemento común\n",
        "a.add(3)\n",
        "a"
      ]
    },
    {
      "cell_type": "code",
      "execution_count": 99,
      "id": "d30b0ab1",
      "metadata": {
        "colab": {
          "base_uri": "https://localhost:8080/"
        },
        "id": "d30b0ab1",
        "outputId": "ca4d35f5-3ff4-43cd-d172-809ff68c4cdf"
      },
      "outputs": [
        {
          "output_type": "execute_result",
          "data": {
            "text/plain": [
              "{1, 2, 3, 4, 5, 9}"
            ]
          },
          "metadata": {},
          "execution_count": 99
        }
      ],
      "source": [
        "# Agregamos un elemento diferente a un conjunto\n",
        "a.add(9)\n",
        "a"
      ]
    },
    {
      "cell_type": "markdown",
      "id": "a7f31317",
      "metadata": {
        "id": "a7f31317"
      },
      "source": [
        "### 6. Tipos mapa (dict)"
      ]
    },
    {
      "cell_type": "code",
      "execution_count": 100,
      "id": "950c1bd3",
      "metadata": {
        "id": "950c1bd3",
        "outputId": "2ffc3121-b395-42c4-9148-db80bacfaa27",
        "colab": {
          "base_uri": "https://localhost:8080/"
        }
      },
      "outputs": [
        {
          "output_type": "execute_result",
          "data": {
            "text/plain": [
              "{'a': 'un valor', 'b': [1, 2, 3, 4]}"
            ]
          },
          "metadata": {},
          "execution_count": 100
        }
      ],
      "source": [
        "un_diccionario = {'a' : 'un valor', 'b' : [1, 2, 3, 4]}\n",
        "un_diccionario"
      ]
    },
    {
      "cell_type": "code",
      "execution_count": 101,
      "id": "26912bea",
      "metadata": {
        "id": "26912bea",
        "outputId": "80b913ec-2a4e-4485-d330-ebb92659c90b",
        "colab": {
          "base_uri": "https://localhost:8080/"
        }
      },
      "outputs": [
        {
          "output_type": "execute_result",
          "data": {
            "text/plain": [
              "{'a': 'un valor', 'b': [1, 2, 3, 4], 7: 'un entero'}"
            ]
          },
          "metadata": {},
          "execution_count": 101
        }
      ],
      "source": [
        "# Se puede acceder, insertar o establecer elementos utilizando la misma sintaxis\n",
        "# que para acceder a los elementos de una lista o tupla:\n",
        "un_diccionario[7] = 'un entero'\n",
        "un_diccionario"
      ]
    },
    {
      "cell_type": "code",
      "execution_count": 102,
      "id": "ce6c9cca",
      "metadata": {
        "id": "ce6c9cca",
        "outputId": "148d9e7a-24ab-468f-faaa-fbf93199345b",
        "colab": {
          "base_uri": "https://localhost:8080/"
        }
      },
      "outputs": [
        {
          "output_type": "execute_result",
          "data": {
            "text/plain": [
              "[1, 2, 3, 4]"
            ]
          },
          "metadata": {},
          "execution_count": 102
        }
      ],
      "source": [
        "un_diccionario['b']"
      ]
    },
    {
      "cell_type": "code",
      "execution_count": 103,
      "id": "0918fee0",
      "metadata": {
        "id": "0918fee0",
        "outputId": "5f2f3e58-33f5-4a31-cabe-26ec26c72f3f",
        "colab": {
          "base_uri": "https://localhost:8080/"
        }
      },
      "outputs": [
        {
          "output_type": "execute_result",
          "data": {
            "text/plain": [
              "True"
            ]
          },
          "metadata": {},
          "execution_count": 103
        }
      ],
      "source": [
        "# Se puede verificar si un diccionario contiene una clave usando la misma sintaxis\n",
        "# que se usa para verificar si una lista o tupla contiene un valor:\n",
        "'b' in un_diccionario"
      ]
    },
    {
      "cell_type": "code",
      "execution_count": 104,
      "id": "1bd7f752",
      "metadata": {
        "id": "1bd7f752",
        "outputId": "708383d4-b04f-4373-d033-cdbf6dd390bd",
        "colab": {
          "base_uri": "https://localhost:8080/"
        }
      },
      "outputs": [
        {
          "output_type": "execute_result",
          "data": {
            "text/plain": [
              "{'a': 'un valor',\n",
              " 'b': [1, 2, 3, 4],\n",
              " 7: 'un entero',\n",
              " 5: 'un valor',\n",
              " 'dummy': 'otro valor'}"
            ]
          },
          "metadata": {},
          "execution_count": 104
        }
      ],
      "source": [
        "# Se puede eliminar valores utilizando la función del o el método pop\n",
        "un_diccionario[5] = 'un valor'\n",
        "un_diccionario['dummy'] = 'otro valor'\n",
        "un_diccionario"
      ]
    },
    {
      "cell_type": "code",
      "execution_count": 105,
      "id": "07c7bafb",
      "metadata": {
        "id": "07c7bafb",
        "outputId": "c9cad3d0-f7ed-4d8d-d2ba-28a99a4786fc",
        "colab": {
          "base_uri": "https://localhost:8080/"
        }
      },
      "outputs": [
        {
          "output_type": "execute_result",
          "data": {
            "text/plain": [
              "{'a': 'un valor', 'b': [1, 2, 3, 4], 7: 'un entero', 'dummy': 'otro valor'}"
            ]
          },
          "metadata": {},
          "execution_count": 105
        }
      ],
      "source": [
        "del un_diccionario[5]\n",
        "un_diccionario"
      ]
    },
    {
      "cell_type": "code",
      "execution_count": 106,
      "id": "ebb340d1",
      "metadata": {
        "id": "ebb340d1",
        "outputId": "2622388f-aec1-40d8-844e-a71a33859a63",
        "colab": {
          "base_uri": "https://localhost:8080/",
          "height": 36
        }
      },
      "outputs": [
        {
          "output_type": "execute_result",
          "data": {
            "text/plain": [
              "'otro valor'"
            ],
            "application/vnd.google.colaboratory.intrinsic+json": {
              "type": "string"
            }
          },
          "metadata": {},
          "execution_count": 106
        }
      ],
      "source": [
        "valor = un_diccionario.pop('dummy')\n",
        "valor"
      ]
    },
    {
      "cell_type": "code",
      "execution_count": 107,
      "id": "76388e48",
      "metadata": {
        "id": "76388e48",
        "outputId": "3cd240e3-8b13-4050-9491-ca7ea7749457",
        "colab": {
          "base_uri": "https://localhost:8080/"
        }
      },
      "outputs": [
        {
          "output_type": "execute_result",
          "data": {
            "text/plain": [
              "{'a': 'un valor', 'b': [1, 2, 3, 4], 7: 'un entero'}"
            ]
          },
          "metadata": {},
          "execution_count": 107
        }
      ],
      "source": [
        "un_diccionario"
      ]
    },
    {
      "cell_type": "markdown",
      "id": "045e261a",
      "metadata": {
        "id": "045e261a"
      },
      "source": [
        "# Funciones"
      ]
    },
    {
      "cell_type": "code",
      "execution_count": 108,
      "id": "d962574f",
      "metadata": {
        "id": "d962574f"
      },
      "outputs": [],
      "source": [
        "def mi_funcion(x, y, z):\n",
        "    # Multiplica/divide z por la suma de x e y en función del valor de z\n",
        "    if z > 1:\n",
        "        return z * (x + y)\n",
        "    else:\n",
        "        return z / (x + y)"
      ]
    },
    {
      "cell_type": "code",
      "execution_count": 109,
      "id": "5c6a568e",
      "metadata": {
        "id": "5c6a568e",
        "outputId": "0b29b5d1-f9c0-490a-c063-8211a4b0ce60",
        "colab": {
          "base_uri": "https://localhost:8080/"
        }
      },
      "outputs": [
        {
          "output_type": "execute_result",
          "data": {
            "text/plain": [
              "0.16666666666666666"
            ]
          },
          "metadata": {},
          "execution_count": 109
        }
      ],
      "source": [
        "mi_funcion(2,1,0.5)"
      ]
    },
    {
      "cell_type": "code",
      "execution_count": 110,
      "id": "08135f4e",
      "metadata": {
        "id": "08135f4e",
        "outputId": "e7e9beab-63ea-43cb-fc1e-2564d73640a5",
        "colab": {
          "base_uri": "https://localhost:8080/"
        }
      },
      "outputs": [
        {
          "output_type": "execute_result",
          "data": {
            "text/plain": [
              "4.5"
            ]
          },
          "metadata": {},
          "execution_count": 110
        }
      ],
      "source": [
        "mi_funcion(2,1,1.5)"
      ]
    },
    {
      "cell_type": "code",
      "execution_count": 111,
      "id": "4607d78d",
      "metadata": {
        "id": "4607d78d"
      },
      "outputs": [],
      "source": [
        "def doblar(x):\n",
        "    return x * 2\n",
        "doblar_anonima = lambda x: x * 2"
      ]
    },
    {
      "cell_type": "code",
      "execution_count": 112,
      "id": "f2225db0",
      "metadata": {
        "colab": {
          "base_uri": "https://localhost:8080/"
        },
        "id": "f2225db0",
        "outputId": "def6225c-7aea-4d21-ad8e-3451145a90f0"
      },
      "outputs": [
        {
          "output_type": "execute_result",
          "data": {
            "text/plain": [
              "8"
            ]
          },
          "metadata": {},
          "execution_count": 112
        }
      ],
      "source": [
        "doblar(4)"
      ]
    },
    {
      "cell_type": "code",
      "execution_count": 113,
      "id": "bc247377",
      "metadata": {
        "colab": {
          "base_uri": "https://localhost:8080/"
        },
        "id": "bc247377",
        "outputId": "b429de6a-f885-4d2f-ba46-80f0d1e4da82"
      },
      "outputs": [
        {
          "output_type": "execute_result",
          "data": {
            "text/plain": [
              "8"
            ]
          },
          "metadata": {},
          "execution_count": 113
        }
      ],
      "source": [
        "doblar_anonima(4)"
      ]
    },
    {
      "cell_type": "code",
      "execution_count": 114,
      "id": "46b4ba13",
      "metadata": {
        "id": "46b4ba13"
      },
      "outputs": [],
      "source": [
        "lista = [1,2,3,4,5,6,7]\n",
        "longitud = lambda x: len(x)"
      ]
    },
    {
      "cell_type": "code",
      "source": [
        "longitud(lista)"
      ],
      "metadata": {
        "colab": {
          "base_uri": "https://localhost:8080/"
        },
        "id": "W2FmpkDZrnv4",
        "outputId": "068be2b0-c853-46c6-eac0-914ff4243bba"
      },
      "id": "W2FmpkDZrnv4",
      "execution_count": 115,
      "outputs": [
        {
          "output_type": "execute_result",
          "data": {
            "text/plain": [
              "7"
            ]
          },
          "metadata": {},
          "execution_count": 115
        }
      ]
    }
  ],
  "metadata": {
    "kernelspec": {
      "display_name": "Python 3 (ipykernel)",
      "language": "python",
      "name": "python3"
    },
    "language_info": {
      "codemirror_mode": {
        "name": "ipython",
        "version": 3
      },
      "file_extension": ".py",
      "mimetype": "text/x-python",
      "name": "python",
      "nbconvert_exporter": "python",
      "pygments_lexer": "ipython3",
      "version": "3.11.4"
    },
    "colab": {
      "provenance": [],
      "toc_visible": true
    }
  },
  "nbformat": 4,
  "nbformat_minor": 5
}