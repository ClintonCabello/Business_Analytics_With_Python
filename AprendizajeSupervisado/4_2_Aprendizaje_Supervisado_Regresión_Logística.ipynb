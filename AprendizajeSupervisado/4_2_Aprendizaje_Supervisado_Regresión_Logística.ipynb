{
  "cells": [
    {
      "cell_type": "markdown",
      "id": "fbedcead",
      "metadata": {
        "id": "fbedcead"
      },
      "source": [
        "### Ejercicio de Regresión Logística en Python\n",
        "\n",
        "En este proyecto, trabajaremos con un conjunto de datos publicitarios, que indica si un usuario de Internet en particular hizo clic o no en un anuncio en el sitio web de una empresa. Intentaremos crear un modelo que prediga si harán clic o no en un anuncio en función de las características de ese usuario.\n",
        "\n",
        "Este conjunto de datos contiene las siguientes características:\n",
        "\n",
        "* 'Tiempo diario empleado en el sitio' (Daily Time Spent on Site): tiempo del consumidor en el sitio en minutos\n",
        "* 'Edad' (Age): edad del cliente en años\n",
        "* 'Ingresos del área' (Area Income): Prom. Ingresos del área geográfica del consumidor\n",
        "* 'Uso diario de Internet' (Daily Internet Usage): Prom. minutos al día el consumidor está en internet\n",
        "* 'Línea de tema del anuncio'(Ad Topic Line): título del anuncio\n",
        "* 'Ciudad' (City): ciudad del consumidor\n",
        "* 'Hombre' (Male): si el consumidor era o no hombre\n",
        "* 'País' (Country): país del consumidor\n",
        "* 'Marca de tiempo' (Timestamp): hora en que el consumidor hizo clic en el anuncio o en la ventana cerrada\n",
        "* 'Haga clic en el anuncio' (Clicked on Ad): 0 o 1 indicaron hacer clic en el anuncio"
      ]
    },
    {
      "cell_type": "code",
      "execution_count": null,
      "id": "1a0eec2a",
      "metadata": {
        "id": "1a0eec2a"
      },
      "outputs": [],
      "source": [
        "import pandas as pd\n",
        "import numpy as np\n",
        "import seaborn as sns\n",
        "import matplotlib.pyplot as plt\n",
        "import os\n",
        "import warnings\n",
        "warnings.filterwarnings(\"ignore\")"
      ]
    },
    {
      "cell_type": "code",
      "execution_count": null,
      "id": "a65524dc",
      "metadata": {
        "id": "a65524dc"
      },
      "outputs": [],
      "source": [
        "# Creamos variables para su posterior uso en la importación de la base\n",
        "path = \"D:\\Briam\\Clases\\Python For Data Science\\Data\".replace(\"\\\\\",\"/\")\n",
        "name = \"advertising.csv\""
      ]
    },
    {
      "cell_type": "code",
      "execution_count": null,
      "id": "5eb73be6",
      "metadata": {
        "id": "5eb73be6",
        "outputId": "08c687c2-8db3-4e9b-cd68-ae7f09907b01"
      },
      "outputs": [
        {
          "data": {
            "text/html": [
              "<div>\n",
              "<style scoped>\n",
              "    .dataframe tbody tr th:only-of-type {\n",
              "        vertical-align: middle;\n",
              "    }\n",
              "\n",
              "    .dataframe tbody tr th {\n",
              "        vertical-align: top;\n",
              "    }\n",
              "\n",
              "    .dataframe thead th {\n",
              "        text-align: right;\n",
              "    }\n",
              "</style>\n",
              "<table border=\"1\" class=\"dataframe\">\n",
              "  <thead>\n",
              "    <tr style=\"text-align: right;\">\n",
              "      <th></th>\n",
              "      <th>Daily Time Spent on Site</th>\n",
              "      <th>Age</th>\n",
              "      <th>Area Income</th>\n",
              "      <th>Daily Internet Usage</th>\n",
              "      <th>Ad Topic Line</th>\n",
              "      <th>City</th>\n",
              "      <th>Male</th>\n",
              "      <th>Country</th>\n",
              "      <th>Timestamp</th>\n",
              "      <th>Clicked on Ad</th>\n",
              "    </tr>\n",
              "  </thead>\n",
              "  <tbody>\n",
              "    <tr>\n",
              "      <th>0</th>\n",
              "      <td>68.95</td>\n",
              "      <td>35</td>\n",
              "      <td>61833.90</td>\n",
              "      <td>256.09</td>\n",
              "      <td>Cloned 5thgeneration orchestration</td>\n",
              "      <td>Wrightburgh</td>\n",
              "      <td>0</td>\n",
              "      <td>Tunisia</td>\n",
              "      <td>2016-03-27 00:53:11</td>\n",
              "      <td>0</td>\n",
              "    </tr>\n",
              "    <tr>\n",
              "      <th>1</th>\n",
              "      <td>80.23</td>\n",
              "      <td>31</td>\n",
              "      <td>68441.85</td>\n",
              "      <td>193.77</td>\n",
              "      <td>Monitored national standardization</td>\n",
              "      <td>West Jodi</td>\n",
              "      <td>1</td>\n",
              "      <td>Nauru</td>\n",
              "      <td>2016-04-04 01:39:02</td>\n",
              "      <td>0</td>\n",
              "    </tr>\n",
              "    <tr>\n",
              "      <th>2</th>\n",
              "      <td>69.47</td>\n",
              "      <td>26</td>\n",
              "      <td>59785.94</td>\n",
              "      <td>236.50</td>\n",
              "      <td>Organic bottom-line service-desk</td>\n",
              "      <td>Davidton</td>\n",
              "      <td>0</td>\n",
              "      <td>San Marino</td>\n",
              "      <td>2016-03-13 20:35:42</td>\n",
              "      <td>0</td>\n",
              "    </tr>\n",
              "    <tr>\n",
              "      <th>3</th>\n",
              "      <td>74.15</td>\n",
              "      <td>29</td>\n",
              "      <td>54806.18</td>\n",
              "      <td>245.89</td>\n",
              "      <td>Triple-buffered reciprocal time-frame</td>\n",
              "      <td>West Terrifurt</td>\n",
              "      <td>1</td>\n",
              "      <td>Italy</td>\n",
              "      <td>2016-01-10 02:31:19</td>\n",
              "      <td>0</td>\n",
              "    </tr>\n",
              "    <tr>\n",
              "      <th>4</th>\n",
              "      <td>68.37</td>\n",
              "      <td>35</td>\n",
              "      <td>73889.99</td>\n",
              "      <td>225.58</td>\n",
              "      <td>Robust logistical utilization</td>\n",
              "      <td>South Manuel</td>\n",
              "      <td>0</td>\n",
              "      <td>Iceland</td>\n",
              "      <td>2016-06-03 03:36:18</td>\n",
              "      <td>0</td>\n",
              "    </tr>\n",
              "  </tbody>\n",
              "</table>\n",
              "</div>"
            ],
            "text/plain": [
              "   Daily Time Spent on Site  Age  Area Income  Daily Internet Usage  \\\n",
              "0                     68.95   35     61833.90                256.09   \n",
              "1                     80.23   31     68441.85                193.77   \n",
              "2                     69.47   26     59785.94                236.50   \n",
              "3                     74.15   29     54806.18                245.89   \n",
              "4                     68.37   35     73889.99                225.58   \n",
              "\n",
              "                           Ad Topic Line            City  Male     Country  \\\n",
              "0     Cloned 5thgeneration orchestration     Wrightburgh     0     Tunisia   \n",
              "1     Monitored national standardization       West Jodi     1       Nauru   \n",
              "2       Organic bottom-line service-desk        Davidton     0  San Marino   \n",
              "3  Triple-buffered reciprocal time-frame  West Terrifurt     1       Italy   \n",
              "4          Robust logistical utilization    South Manuel     0     Iceland   \n",
              "\n",
              "             Timestamp  Clicked on Ad  \n",
              "0  2016-03-27 00:53:11              0  \n",
              "1  2016-04-04 01:39:02              0  \n",
              "2  2016-03-13 20:35:42              0  \n",
              "3  2016-01-10 02:31:19              0  \n",
              "4  2016-06-03 03:36:18              0  "
            ]
          },
          "execution_count": 40,
          "metadata": {},
          "output_type": "execute_result"
        }
      ],
      "source": [
        "# Importamos la base\n",
        "df = pd.read_csv(path+\"/\"+name, sep = \",\", header = 0, encoding = \"ISO-8859-1\")\n",
        "df.head()"
      ]
    },
    {
      "cell_type": "code",
      "execution_count": null,
      "id": "cb842ae0",
      "metadata": {
        "id": "cb842ae0"
      },
      "outputs": [],
      "source": [
        "df_pre = df.copy()"
      ]
    },
    {
      "cell_type": "code",
      "execution_count": null,
      "id": "475dfeb4",
      "metadata": {
        "id": "475dfeb4",
        "outputId": "417bd5b4-7087-4a77-e636-c54355ba4700"
      },
      "outputs": [
        {
          "data": {
            "text/html": [
              "<div>\n",
              "<style scoped>\n",
              "    .dataframe tbody tr th:only-of-type {\n",
              "        vertical-align: middle;\n",
              "    }\n",
              "\n",
              "    .dataframe tbody tr th {\n",
              "        vertical-align: top;\n",
              "    }\n",
              "\n",
              "    .dataframe thead th {\n",
              "        text-align: right;\n",
              "    }\n",
              "</style>\n",
              "<table border=\"1\" class=\"dataframe\">\n",
              "  <thead>\n",
              "    <tr style=\"text-align: right;\">\n",
              "      <th></th>\n",
              "      <th>Daily Time Spent on Site</th>\n",
              "      <th>Age</th>\n",
              "      <th>Area Income</th>\n",
              "      <th>Daily Internet Usage</th>\n",
              "      <th>Ad Topic Line</th>\n",
              "      <th>City</th>\n",
              "      <th>Male</th>\n",
              "      <th>Country</th>\n",
              "      <th>Timestamp</th>\n",
              "      <th>Clicked on Ad</th>\n",
              "    </tr>\n",
              "  </thead>\n",
              "  <tbody>\n",
              "    <tr>\n",
              "      <th>0</th>\n",
              "      <td>68.95</td>\n",
              "      <td>35</td>\n",
              "      <td>61833.90</td>\n",
              "      <td>256.09</td>\n",
              "      <td>Cloned 5thgeneration orchestration</td>\n",
              "      <td>Wrightburgh</td>\n",
              "      <td>0</td>\n",
              "      <td>Tunisia</td>\n",
              "      <td>2016-03-27 00:53:11</td>\n",
              "      <td>0</td>\n",
              "    </tr>\n",
              "    <tr>\n",
              "      <th>1</th>\n",
              "      <td>80.23</td>\n",
              "      <td>31</td>\n",
              "      <td>68441.85</td>\n",
              "      <td>193.77</td>\n",
              "      <td>Monitored national standardization</td>\n",
              "      <td>West Jodi</td>\n",
              "      <td>1</td>\n",
              "      <td>Nauru</td>\n",
              "      <td>2016-04-04 01:39:02</td>\n",
              "      <td>0</td>\n",
              "    </tr>\n",
              "    <tr>\n",
              "      <th>2</th>\n",
              "      <td>69.47</td>\n",
              "      <td>26</td>\n",
              "      <td>59785.94</td>\n",
              "      <td>236.50</td>\n",
              "      <td>Organic bottom-line service-desk</td>\n",
              "      <td>Davidton</td>\n",
              "      <td>0</td>\n",
              "      <td>San Marino</td>\n",
              "      <td>2016-03-13 20:35:42</td>\n",
              "      <td>0</td>\n",
              "    </tr>\n",
              "    <tr>\n",
              "      <th>3</th>\n",
              "      <td>74.15</td>\n",
              "      <td>29</td>\n",
              "      <td>54806.18</td>\n",
              "      <td>245.89</td>\n",
              "      <td>Triple-buffered reciprocal time-frame</td>\n",
              "      <td>West Terrifurt</td>\n",
              "      <td>1</td>\n",
              "      <td>Italy</td>\n",
              "      <td>2016-01-10 02:31:19</td>\n",
              "      <td>0</td>\n",
              "    </tr>\n",
              "    <tr>\n",
              "      <th>4</th>\n",
              "      <td>68.37</td>\n",
              "      <td>35</td>\n",
              "      <td>73889.99</td>\n",
              "      <td>225.58</td>\n",
              "      <td>Robust logistical utilization</td>\n",
              "      <td>South Manuel</td>\n",
              "      <td>0</td>\n",
              "      <td>Iceland</td>\n",
              "      <td>2016-06-03 03:36:18</td>\n",
              "      <td>0</td>\n",
              "    </tr>\n",
              "    <tr>\n",
              "      <th>...</th>\n",
              "      <td>...</td>\n",
              "      <td>...</td>\n",
              "      <td>...</td>\n",
              "      <td>...</td>\n",
              "      <td>...</td>\n",
              "      <td>...</td>\n",
              "      <td>...</td>\n",
              "      <td>...</td>\n",
              "      <td>...</td>\n",
              "      <td>...</td>\n",
              "    </tr>\n",
              "    <tr>\n",
              "      <th>595</th>\n",
              "      <td>49.96</td>\n",
              "      <td>55</td>\n",
              "      <td>60968.62</td>\n",
              "      <td>151.94</td>\n",
              "      <td>Multi-layered user-facing parallelism</td>\n",
              "      <td>South Cynthiashire</td>\n",
              "      <td>1</td>\n",
              "      <td>Zambia</td>\n",
              "      <td>2016-04-04 00:02:20</td>\n",
              "      <td>1</td>\n",
              "    </tr>\n",
              "    <tr>\n",
              "      <th>596</th>\n",
              "      <td>62.20</td>\n",
              "      <td>25</td>\n",
              "      <td>25408.21</td>\n",
              "      <td>161.16</td>\n",
              "      <td>Cross-platform multimedia algorithm</td>\n",
              "      <td>New Lindaberg</td>\n",
              "      <td>0</td>\n",
              "      <td>Liechtenstein</td>\n",
              "      <td>2016-04-24 13:42:15</td>\n",
              "      <td>1</td>\n",
              "    </tr>\n",
              "    <tr>\n",
              "      <th>597</th>\n",
              "      <td>56.14</td>\n",
              "      <td>38</td>\n",
              "      <td>32689.04</td>\n",
              "      <td>113.53</td>\n",
              "      <td>Devolved tangible approach</td>\n",
              "      <td>Lake Edward</td>\n",
              "      <td>1</td>\n",
              "      <td>Ireland</td>\n",
              "      <td>2016-02-03 07:59:16</td>\n",
              "      <td>1</td>\n",
              "    </tr>\n",
              "    <tr>\n",
              "      <th>598</th>\n",
              "      <td>54.43</td>\n",
              "      <td>37</td>\n",
              "      <td>75180.20</td>\n",
              "      <td>154.74</td>\n",
              "      <td>Balanced contextually-based pricing structure</td>\n",
              "      <td>Williamsmouth</td>\n",
              "      <td>1</td>\n",
              "      <td>Luxembourg</td>\n",
              "      <td>2016-05-31 09:06:29</td>\n",
              "      <td>1</td>\n",
              "    </tr>\n",
              "    <tr>\n",
              "      <th>599</th>\n",
              "      <td>49.95</td>\n",
              "      <td>39</td>\n",
              "      <td>68737.75</td>\n",
              "      <td>136.59</td>\n",
              "      <td>Cloned object-oriented benchmark</td>\n",
              "      <td>Millerbury</td>\n",
              "      <td>0</td>\n",
              "      <td>Turkmenistan</td>\n",
              "      <td>2016-03-24 09:12:52</td>\n",
              "      <td>1</td>\n",
              "    </tr>\n",
              "  </tbody>\n",
              "</table>\n",
              "<p>600 rows × 10 columns</p>\n",
              "</div>"
            ],
            "text/plain": [
              "     Daily Time Spent on Site  Age  Area Income  Daily Internet Usage  \\\n",
              "0                       68.95   35     61833.90                256.09   \n",
              "1                       80.23   31     68441.85                193.77   \n",
              "2                       69.47   26     59785.94                236.50   \n",
              "3                       74.15   29     54806.18                245.89   \n",
              "4                       68.37   35     73889.99                225.58   \n",
              "..                        ...  ...          ...                   ...   \n",
              "595                     49.96   55     60968.62                151.94   \n",
              "596                     62.20   25     25408.21                161.16   \n",
              "597                     56.14   38     32689.04                113.53   \n",
              "598                     54.43   37     75180.20                154.74   \n",
              "599                     49.95   39     68737.75                136.59   \n",
              "\n",
              "                                     Ad Topic Line                City  Male  \\\n",
              "0               Cloned 5thgeneration orchestration         Wrightburgh     0   \n",
              "1               Monitored national standardization           West Jodi     1   \n",
              "2                 Organic bottom-line service-desk            Davidton     0   \n",
              "3            Triple-buffered reciprocal time-frame      West Terrifurt     1   \n",
              "4                    Robust logistical utilization        South Manuel     0   \n",
              "..                                             ...                 ...   ...   \n",
              "595          Multi-layered user-facing parallelism  South Cynthiashire     1   \n",
              "596            Cross-platform multimedia algorithm       New Lindaberg     0   \n",
              "597                     Devolved tangible approach         Lake Edward     1   \n",
              "598  Balanced contextually-based pricing structure       Williamsmouth     1   \n",
              "599               Cloned object-oriented benchmark          Millerbury     0   \n",
              "\n",
              "           Country            Timestamp  Clicked on Ad  \n",
              "0          Tunisia  2016-03-27 00:53:11              0  \n",
              "1            Nauru  2016-04-04 01:39:02              0  \n",
              "2       San Marino  2016-03-13 20:35:42              0  \n",
              "3            Italy  2016-01-10 02:31:19              0  \n",
              "4          Iceland  2016-06-03 03:36:18              0  \n",
              "..             ...                  ...            ...  \n",
              "595         Zambia  2016-04-04 00:02:20              1  \n",
              "596  Liechtenstein  2016-04-24 13:42:15              1  \n",
              "597        Ireland  2016-02-03 07:59:16              1  \n",
              "598     Luxembourg  2016-05-31 09:06:29              1  \n",
              "599   Turkmenistan  2016-03-24 09:12:52              1  \n",
              "\n",
              "[600 rows x 10 columns]"
            ]
          },
          "execution_count": 42,
          "metadata": {},
          "output_type": "execute_result"
        }
      ],
      "source": [
        "# Armando una data desbalanceada\n",
        "df_pre_1 = df_pre[df_pre[\"Clicked on Ad\"] == 0]\n",
        "df_pre_2 = df_pre[df_pre[\"Clicked on Ad\"] == 1].sample(100)\n",
        "df_pre_new = pd.concat([df_pre_1,df_pre_2],axis = 0).reset_index(drop = True)\n",
        "df_pre_new"
      ]
    },
    {
      "cell_type": "code",
      "execution_count": null,
      "id": "3388313b",
      "metadata": {
        "id": "3388313b",
        "outputId": "630ebc70-0ca4-4837-c575-0358c33cf9de"
      },
      "outputs": [
        {
          "name": "stdout",
          "output_type": "stream",
          "text": [
            "<class 'pandas.core.frame.DataFrame'>\n",
            "RangeIndex: 600 entries, 0 to 599\n",
            "Data columns (total 10 columns):\n",
            " #   Column                    Non-Null Count  Dtype  \n",
            "---  ------                    --------------  -----  \n",
            " 0   Daily Time Spent on Site  600 non-null    float64\n",
            " 1   Age                       600 non-null    int64  \n",
            " 2   Area Income               600 non-null    float64\n",
            " 3   Daily Internet Usage      600 non-null    float64\n",
            " 4   Ad Topic Line             600 non-null    object \n",
            " 5   City                      600 non-null    object \n",
            " 6   Male                      600 non-null    int64  \n",
            " 7   Country                   600 non-null    object \n",
            " 8   Timestamp                 600 non-null    object \n",
            " 9   Clicked on Ad             600 non-null    int64  \n",
            "dtypes: float64(3), int64(3), object(4)\n",
            "memory usage: 47.0+ KB\n"
          ]
        }
      ],
      "source": [
        "# Notamos que la variable best_server tiene una cantidad significativa de valores nulos\n",
        "df_pre_new.info()"
      ]
    },
    {
      "cell_type": "code",
      "execution_count": null,
      "id": "6904175b",
      "metadata": {
        "id": "6904175b",
        "outputId": "96ac241f-90ac-4f68-b245-cd3aa18eeccb"
      },
      "outputs": [
        {
          "data": {
            "text/html": [
              "<div>\n",
              "<style scoped>\n",
              "    .dataframe tbody tr th:only-of-type {\n",
              "        vertical-align: middle;\n",
              "    }\n",
              "\n",
              "    .dataframe tbody tr th {\n",
              "        vertical-align: top;\n",
              "    }\n",
              "\n",
              "    .dataframe thead th {\n",
              "        text-align: right;\n",
              "    }\n",
              "</style>\n",
              "<table border=\"1\" class=\"dataframe\">\n",
              "  <thead>\n",
              "    <tr style=\"text-align: right;\">\n",
              "      <th></th>\n",
              "      <th>Daily Time Spent on Site</th>\n",
              "      <th>Age</th>\n",
              "      <th>Area Income</th>\n",
              "      <th>Daily Internet Usage</th>\n",
              "      <th>Male</th>\n",
              "      <th>Clicked on Ad</th>\n",
              "    </tr>\n",
              "  </thead>\n",
              "  <tbody>\n",
              "    <tr>\n",
              "      <th>0</th>\n",
              "      <td>68.95</td>\n",
              "      <td>35</td>\n",
              "      <td>61833.90</td>\n",
              "      <td>256.09</td>\n",
              "      <td>0</td>\n",
              "      <td>0</td>\n",
              "    </tr>\n",
              "    <tr>\n",
              "      <th>1</th>\n",
              "      <td>80.23</td>\n",
              "      <td>31</td>\n",
              "      <td>68441.85</td>\n",
              "      <td>193.77</td>\n",
              "      <td>1</td>\n",
              "      <td>0</td>\n",
              "    </tr>\n",
              "    <tr>\n",
              "      <th>2</th>\n",
              "      <td>69.47</td>\n",
              "      <td>26</td>\n",
              "      <td>59785.94</td>\n",
              "      <td>236.50</td>\n",
              "      <td>0</td>\n",
              "      <td>0</td>\n",
              "    </tr>\n",
              "    <tr>\n",
              "      <th>3</th>\n",
              "      <td>74.15</td>\n",
              "      <td>29</td>\n",
              "      <td>54806.18</td>\n",
              "      <td>245.89</td>\n",
              "      <td>1</td>\n",
              "      <td>0</td>\n",
              "    </tr>\n",
              "    <tr>\n",
              "      <th>4</th>\n",
              "      <td>68.37</td>\n",
              "      <td>35</td>\n",
              "      <td>73889.99</td>\n",
              "      <td>225.58</td>\n",
              "      <td>0</td>\n",
              "      <td>0</td>\n",
              "    </tr>\n",
              "  </tbody>\n",
              "</table>\n",
              "</div>"
            ],
            "text/plain": [
              "   Daily Time Spent on Site  Age  Area Income  Daily Internet Usage  Male  \\\n",
              "0                     68.95   35     61833.90                256.09     0   \n",
              "1                     80.23   31     68441.85                193.77     1   \n",
              "2                     69.47   26     59785.94                236.50     0   \n",
              "3                     74.15   29     54806.18                245.89     1   \n",
              "4                     68.37   35     73889.99                225.58     0   \n",
              "\n",
              "   Clicked on Ad  \n",
              "0              0  \n",
              "1              0  \n",
              "2              0  \n",
              "3              0  \n",
              "4              0  "
            ]
          },
          "execution_count": 44,
          "metadata": {},
          "output_type": "execute_result"
        }
      ],
      "source": [
        "\"\"\"Intuimos que las variables Ad Topic Line, City, Country y Timestamp no influyen en la decisión de\n",
        "dar click al anuncio \"\"\"\n",
        "df_pre_new = df_pre_new.drop(columns = [\"Ad Topic Line\",\"City\",\"Country\",\"Timestamp\"])\n",
        "df_pre_new.head()"
      ]
    },
    {
      "cell_type": "code",
      "execution_count": null,
      "id": "80494109",
      "metadata": {
        "scrolled": true,
        "id": "80494109",
        "outputId": "4228b07b-ef68-48cd-f9cd-3efff6758218"
      },
      "outputs": [
        {
          "data": {
            "text/plain": [
              "Clicked on Ad\n",
              "0    0.833333\n",
              "1    0.166667\n",
              "Name: count, dtype: float64"
            ]
          },
          "execution_count": 45,
          "metadata": {},
          "output_type": "execute_result"
        }
      ],
      "source": [
        "# La data está desbalanceada\n",
        "pd.value_counts(df_pre_new[\"Clicked on Ad\"])/len(df_pre_new)"
      ]
    },
    {
      "cell_type": "code",
      "execution_count": null,
      "id": "cb93bcc5",
      "metadata": {
        "id": "cb93bcc5",
        "outputId": "604314f8-9771-422d-9e9b-bd647a0b830f"
      },
      "outputs": [
        {
          "data": {
            "text/html": [
              "<div>\n",
              "<style scoped>\n",
              "    .dataframe tbody tr th:only-of-type {\n",
              "        vertical-align: middle;\n",
              "    }\n",
              "\n",
              "    .dataframe tbody tr th {\n",
              "        vertical-align: top;\n",
              "    }\n",
              "\n",
              "    .dataframe thead th {\n",
              "        text-align: right;\n",
              "    }\n",
              "</style>\n",
              "<table border=\"1\" class=\"dataframe\">\n",
              "  <thead>\n",
              "    <tr style=\"text-align: right;\">\n",
              "      <th></th>\n",
              "      <th>Daily Time Spent on Site</th>\n",
              "      <th>Age</th>\n",
              "      <th>Area Income</th>\n",
              "      <th>Daily Internet Usage</th>\n",
              "      <th>Male</th>\n",
              "    </tr>\n",
              "  </thead>\n",
              "  <tbody>\n",
              "    <tr>\n",
              "      <th>Daily Time Spent on Site</th>\n",
              "      <td>1.000000</td>\n",
              "      <td>-0.213497</td>\n",
              "      <td>0.169062</td>\n",
              "      <td>0.459667</td>\n",
              "      <td>0.007249</td>\n",
              "    </tr>\n",
              "    <tr>\n",
              "      <th>Age</th>\n",
              "      <td>-0.213497</td>\n",
              "      <td>1.000000</td>\n",
              "      <td>-0.016389</td>\n",
              "      <td>-0.238031</td>\n",
              "      <td>-0.055871</td>\n",
              "    </tr>\n",
              "    <tr>\n",
              "      <th>Area Income</th>\n",
              "      <td>0.169062</td>\n",
              "      <td>-0.016389</td>\n",
              "      <td>1.000000</td>\n",
              "      <td>0.221334</td>\n",
              "      <td>-0.060695</td>\n",
              "    </tr>\n",
              "    <tr>\n",
              "      <th>Daily Internet Usage</th>\n",
              "      <td>0.459667</td>\n",
              "      <td>-0.238031</td>\n",
              "      <td>0.221334</td>\n",
              "      <td>1.000000</td>\n",
              "      <td>0.037151</td>\n",
              "    </tr>\n",
              "    <tr>\n",
              "      <th>Male</th>\n",
              "      <td>0.007249</td>\n",
              "      <td>-0.055871</td>\n",
              "      <td>-0.060695</td>\n",
              "      <td>0.037151</td>\n",
              "      <td>1.000000</td>\n",
              "    </tr>\n",
              "  </tbody>\n",
              "</table>\n",
              "</div>"
            ],
            "text/plain": [
              "                          Daily Time Spent on Site       Age  Area Income  \\\n",
              "Daily Time Spent on Site                  1.000000 -0.213497     0.169062   \n",
              "Age                                      -0.213497  1.000000    -0.016389   \n",
              "Area Income                               0.169062 -0.016389     1.000000   \n",
              "Daily Internet Usage                      0.459667 -0.238031     0.221334   \n",
              "Male                                      0.007249 -0.055871    -0.060695   \n",
              "\n",
              "                          Daily Internet Usage      Male  \n",
              "Daily Time Spent on Site              0.459667  0.007249  \n",
              "Age                                  -0.238031 -0.055871  \n",
              "Area Income                           0.221334 -0.060695  \n",
              "Daily Internet Usage                  1.000000  0.037151  \n",
              "Male                                  0.037151  1.000000  "
            ]
          },
          "execution_count": 46,
          "metadata": {},
          "output_type": "execute_result"
        }
      ],
      "source": [
        "\"\"\" Debido a que la correlación entre las variables independientes son menores a 70, éstas pueden\n",
        "ser usadas en el modelo \"\"\"\n",
        "df_pre_new.drop(columns = [\"Clicked on Ad\"]).corr(\"pearson\")"
      ]
    },
    {
      "cell_type": "code",
      "execution_count": null,
      "id": "c0f30ef5",
      "metadata": {
        "id": "c0f30ef5"
      },
      "outputs": [],
      "source": [
        "# Escalamos a las variables numéricas\n",
        "from sklearn.preprocessing import MinMaxScaler\n",
        "scaler = MinMaxScaler()"
      ]
    },
    {
      "cell_type": "code",
      "execution_count": null,
      "id": "82c9f360",
      "metadata": {
        "id": "82c9f360",
        "outputId": "bdb93fb1-97ee-419c-e41b-fb1b629be242"
      },
      "outputs": [
        {
          "data": {
            "text/html": [
              "<div>\n",
              "<style scoped>\n",
              "    .dataframe tbody tr th:only-of-type {\n",
              "        vertical-align: middle;\n",
              "    }\n",
              "\n",
              "    .dataframe tbody tr th {\n",
              "        vertical-align: top;\n",
              "    }\n",
              "\n",
              "    .dataframe thead th {\n",
              "        text-align: right;\n",
              "    }\n",
              "</style>\n",
              "<table border=\"1\" class=\"dataframe\">\n",
              "  <thead>\n",
              "    <tr style=\"text-align: right;\">\n",
              "      <th></th>\n",
              "      <th>Daily Time Spent on Site</th>\n",
              "      <th>Age</th>\n",
              "      <th>Area Income</th>\n",
              "      <th>Daily Internet Usage</th>\n",
              "      <th>Male</th>\n",
              "      <th>Clicked on Ad</th>\n",
              "    </tr>\n",
              "  </thead>\n",
              "  <tbody>\n",
              "    <tr>\n",
              "      <th>0</th>\n",
              "      <td>0.615858</td>\n",
              "      <td>0.390244</td>\n",
              "      <td>0.723715</td>\n",
              "      <td>0.932505</td>\n",
              "      <td>0.0</td>\n",
              "      <td>0.0</td>\n",
              "    </tr>\n",
              "    <tr>\n",
              "      <th>1</th>\n",
              "      <td>0.808612</td>\n",
              "      <td>0.292683</td>\n",
              "      <td>0.827147</td>\n",
              "      <td>0.547314</td>\n",
              "      <td>1.0</td>\n",
              "      <td>0.0</td>\n",
              "    </tr>\n",
              "    <tr>\n",
              "      <th>2</th>\n",
              "      <td>0.624744</td>\n",
              "      <td>0.170732</td>\n",
              "      <td>0.691659</td>\n",
              "      <td>0.811422</td>\n",
              "      <td>0.0</td>\n",
              "      <td>0.0</td>\n",
              "    </tr>\n",
              "    <tr>\n",
              "      <th>3</th>\n",
              "      <td>0.704716</td>\n",
              "      <td>0.243902</td>\n",
              "      <td>0.613712</td>\n",
              "      <td>0.869460</td>\n",
              "      <td>1.0</td>\n",
              "      <td>0.0</td>\n",
              "    </tr>\n",
              "    <tr>\n",
              "      <th>4</th>\n",
              "      <td>0.605947</td>\n",
              "      <td>0.390244</td>\n",
              "      <td>0.912426</td>\n",
              "      <td>0.743927</td>\n",
              "      <td>0.0</td>\n",
              "      <td>0.0</td>\n",
              "    </tr>\n",
              "    <tr>\n",
              "      <th>...</th>\n",
              "      <td>...</td>\n",
              "      <td>...</td>\n",
              "      <td>...</td>\n",
              "      <td>...</td>\n",
              "      <td>...</td>\n",
              "      <td>...</td>\n",
              "    </tr>\n",
              "    <tr>\n",
              "      <th>595</th>\n",
              "      <td>0.291353</td>\n",
              "      <td>0.878049</td>\n",
              "      <td>0.710171</td>\n",
              "      <td>0.288769</td>\n",
              "      <td>1.0</td>\n",
              "      <td>1.0</td>\n",
              "    </tr>\n",
              "    <tr>\n",
              "      <th>596</th>\n",
              "      <td>0.500513</td>\n",
              "      <td>0.146341</td>\n",
              "      <td>0.153552</td>\n",
              "      <td>0.345757</td>\n",
              "      <td>0.0</td>\n",
              "      <td>1.0</td>\n",
              "    </tr>\n",
              "    <tr>\n",
              "      <th>597</th>\n",
              "      <td>0.396958</td>\n",
              "      <td>0.463415</td>\n",
              "      <td>0.267517</td>\n",
              "      <td>0.051363</td>\n",
              "      <td>1.0</td>\n",
              "      <td>1.0</td>\n",
              "    </tr>\n",
              "    <tr>\n",
              "      <th>598</th>\n",
              "      <td>0.367738</td>\n",
              "      <td>0.439024</td>\n",
              "      <td>0.932621</td>\n",
              "      <td>0.306076</td>\n",
              "      <td>1.0</td>\n",
              "      <td>1.0</td>\n",
              "    </tr>\n",
              "    <tr>\n",
              "      <th>599</th>\n",
              "      <td>0.291183</td>\n",
              "      <td>0.487805</td>\n",
              "      <td>0.831779</td>\n",
              "      <td>0.193893</td>\n",
              "      <td>0.0</td>\n",
              "      <td>1.0</td>\n",
              "    </tr>\n",
              "  </tbody>\n",
              "</table>\n",
              "<p>600 rows × 6 columns</p>\n",
              "</div>"
            ],
            "text/plain": [
              "     Daily Time Spent on Site       Age  Area Income  Daily Internet Usage  \\\n",
              "0                    0.615858  0.390244     0.723715              0.932505   \n",
              "1                    0.808612  0.292683     0.827147              0.547314   \n",
              "2                    0.624744  0.170732     0.691659              0.811422   \n",
              "3                    0.704716  0.243902     0.613712              0.869460   \n",
              "4                    0.605947  0.390244     0.912426              0.743927   \n",
              "..                        ...       ...          ...                   ...   \n",
              "595                  0.291353  0.878049     0.710171              0.288769   \n",
              "596                  0.500513  0.146341     0.153552              0.345757   \n",
              "597                  0.396958  0.463415     0.267517              0.051363   \n",
              "598                  0.367738  0.439024     0.932621              0.306076   \n",
              "599                  0.291183  0.487805     0.831779              0.193893   \n",
              "\n",
              "     Male  Clicked on Ad  \n",
              "0     0.0            0.0  \n",
              "1     1.0            0.0  \n",
              "2     0.0            0.0  \n",
              "3     1.0            0.0  \n",
              "4     0.0            0.0  \n",
              "..    ...            ...  \n",
              "595   1.0            1.0  \n",
              "596   0.0            1.0  \n",
              "597   1.0            1.0  \n",
              "598   1.0            1.0  \n",
              "599   0.0            1.0  \n",
              "\n",
              "[600 rows x 6 columns]"
            ]
          },
          "execution_count": 49,
          "metadata": {},
          "output_type": "execute_result"
        }
      ],
      "source": [
        "df_pre_escalado = scaler.fit_transform(df_pre_new)\n",
        "df_pre_escalado = pd.DataFrame(df_pre_escalado, columns = df_pre_new.columns)\n",
        "df_pre_escalado"
      ]
    },
    {
      "cell_type": "code",
      "execution_count": null,
      "id": "9aea786e",
      "metadata": {
        "id": "9aea786e"
      },
      "outputs": [],
      "source": [
        "# Seleccionamos nuestras variables predictoras y target\n",
        "x = df_pre_new.drop(columns = [\"Clicked on Ad\"])\n",
        "y = df_pre_new[\"Clicked on Ad\"]"
      ]
    },
    {
      "cell_type": "code",
      "execution_count": null,
      "id": "4a6c1b76",
      "metadata": {
        "id": "4a6c1b76"
      },
      "outputs": [],
      "source": [
        "from sklearn.model_selection import train_test_split"
      ]
    },
    {
      "cell_type": "code",
      "execution_count": null,
      "id": "24f01740",
      "metadata": {
        "id": "24f01740"
      },
      "outputs": [],
      "source": [
        "# Separamos la data en train y test\n",
        "x_train,x_test,y_train,y_test = train_test_split(x, y, test_size = 0.2, random_state = 1)"
      ]
    },
    {
      "cell_type": "code",
      "execution_count": null,
      "id": "b7a2f37b",
      "metadata": {
        "id": "b7a2f37b",
        "outputId": "949c431b-e4bc-45fe-a0ee-31159bfccaf6"
      },
      "outputs": [
        {
          "data": {
            "text/html": [
              "<style>#sk-container-id-5 {color: black;}#sk-container-id-5 pre{padding: 0;}#sk-container-id-5 div.sk-toggleable {background-color: white;}#sk-container-id-5 label.sk-toggleable__label {cursor: pointer;display: block;width: 100%;margin-bottom: 0;padding: 0.3em;box-sizing: border-box;text-align: center;}#sk-container-id-5 label.sk-toggleable__label-arrow:before {content: \"▸\";float: left;margin-right: 0.25em;color: #696969;}#sk-container-id-5 label.sk-toggleable__label-arrow:hover:before {color: black;}#sk-container-id-5 div.sk-estimator:hover label.sk-toggleable__label-arrow:before {color: black;}#sk-container-id-5 div.sk-toggleable__content {max-height: 0;max-width: 0;overflow: hidden;text-align: left;background-color: #f0f8ff;}#sk-container-id-5 div.sk-toggleable__content pre {margin: 0.2em;color: black;border-radius: 0.25em;background-color: #f0f8ff;}#sk-container-id-5 input.sk-toggleable__control:checked~div.sk-toggleable__content {max-height: 200px;max-width: 100%;overflow: auto;}#sk-container-id-5 input.sk-toggleable__control:checked~label.sk-toggleable__label-arrow:before {content: \"▾\";}#sk-container-id-5 div.sk-estimator input.sk-toggleable__control:checked~label.sk-toggleable__label {background-color: #d4ebff;}#sk-container-id-5 div.sk-label input.sk-toggleable__control:checked~label.sk-toggleable__label {background-color: #d4ebff;}#sk-container-id-5 input.sk-hidden--visually {border: 0;clip: rect(1px 1px 1px 1px);clip: rect(1px, 1px, 1px, 1px);height: 1px;margin: -1px;overflow: hidden;padding: 0;position: absolute;width: 1px;}#sk-container-id-5 div.sk-estimator {font-family: monospace;background-color: #f0f8ff;border: 1px dotted black;border-radius: 0.25em;box-sizing: border-box;margin-bottom: 0.5em;}#sk-container-id-5 div.sk-estimator:hover {background-color: #d4ebff;}#sk-container-id-5 div.sk-parallel-item::after {content: \"\";width: 100%;border-bottom: 1px solid gray;flex-grow: 1;}#sk-container-id-5 div.sk-label:hover label.sk-toggleable__label {background-color: #d4ebff;}#sk-container-id-5 div.sk-serial::before {content: \"\";position: absolute;border-left: 1px solid gray;box-sizing: border-box;top: 0;bottom: 0;left: 50%;z-index: 0;}#sk-container-id-5 div.sk-serial {display: flex;flex-direction: column;align-items: center;background-color: white;padding-right: 0.2em;padding-left: 0.2em;position: relative;}#sk-container-id-5 div.sk-item {position: relative;z-index: 1;}#sk-container-id-5 div.sk-parallel {display: flex;align-items: stretch;justify-content: center;background-color: white;position: relative;}#sk-container-id-5 div.sk-item::before, #sk-container-id-5 div.sk-parallel-item::before {content: \"\";position: absolute;border-left: 1px solid gray;box-sizing: border-box;top: 0;bottom: 0;left: 50%;z-index: -1;}#sk-container-id-5 div.sk-parallel-item {display: flex;flex-direction: column;z-index: 1;position: relative;background-color: white;}#sk-container-id-5 div.sk-parallel-item:first-child::after {align-self: flex-end;width: 50%;}#sk-container-id-5 div.sk-parallel-item:last-child::after {align-self: flex-start;width: 50%;}#sk-container-id-5 div.sk-parallel-item:only-child::after {width: 0;}#sk-container-id-5 div.sk-dashed-wrapped {border: 1px dashed gray;margin: 0 0.4em 0.5em 0.4em;box-sizing: border-box;padding-bottom: 0.4em;background-color: white;}#sk-container-id-5 div.sk-label label {font-family: monospace;font-weight: bold;display: inline-block;line-height: 1.2em;}#sk-container-id-5 div.sk-label-container {text-align: center;}#sk-container-id-5 div.sk-container {/* jupyter's `normalize.less` sets `[hidden] { display: none; }` but bootstrap.min.css set `[hidden] { display: none !important; }` so we also need the `!important` here to be able to override the default hidden behavior on the sphinx rendered scikit-learn.org. See: https://github.com/scikit-learn/scikit-learn/issues/21755 */display: inline-block !important;position: relative;}#sk-container-id-5 div.sk-text-repr-fallback {display: none;}</style><div id=\"sk-container-id-5\" class=\"sk-top-container\"><div class=\"sk-text-repr-fallback\"><pre>LogisticRegression()</pre><b>In a Jupyter environment, please rerun this cell to show the HTML representation or trust the notebook. <br />On GitHub, the HTML representation is unable to render, please try loading this page with nbviewer.org.</b></div><div class=\"sk-container\" hidden><div class=\"sk-item\"><div class=\"sk-estimator sk-toggleable\"><input class=\"sk-toggleable__control sk-hidden--visually\" id=\"sk-estimator-id-5\" type=\"checkbox\" checked><label for=\"sk-estimator-id-5\" class=\"sk-toggleable__label sk-toggleable__label-arrow\">LogisticRegression</label><div class=\"sk-toggleable__content\"><pre>LogisticRegression()</pre></div></div></div></div></div>"
            ],
            "text/plain": [
              "LogisticRegression()"
            ]
          },
          "execution_count": 54,
          "metadata": {},
          "output_type": "execute_result"
        }
      ],
      "source": [
        "# Ajustamos el modelo de Regresión Logística\n",
        "from sklearn.linear_model import LogisticRegression\n",
        "lr = LogisticRegression()\n",
        "lr.fit(x_train,y_train)"
      ]
    },
    {
      "cell_type": "code",
      "execution_count": null,
      "id": "0daffe82-2720-4b56-b325-f4698d88da4f",
      "metadata": {
        "id": "0daffe82-2720-4b56-b325-f4698d88da4f",
        "outputId": "f84a566f-3722-4475-8c3c-b5c9420803e4"
      },
      "outputs": [
        {
          "data": {
            "text/plain": [
              "<Axes: xlabel='Clicked on Ad'>"
            ]
          },
          "execution_count": 55,
          "metadata": {},
          "output_type": "execute_result"
        },
        {
          "data": {
            "image/png": "[encoded data removed]",
            "text/plain": [
              "<Figure size 640x480 with 1 Axes>"
            ]
          },
          "metadata": {},
          "output_type": "display_data"
        }
      ],
      "source": [
        "# Graficamos las frecuencias de las clases del target\n",
        "pd.value_counts(y_train).plot(kind = \"bar\", rot = 0)"
      ]
    },
    {
      "cell_type": "code",
      "execution_count": null,
      "id": "9f021ae3-84d8-4ecc-945e-f4425771615d",
      "metadata": {
        "id": "9f021ae3-84d8-4ecc-945e-f4425771615d",
        "outputId": "e1d9de27-9be0-4d10-a57b-6d2911a084f7"
      },
      "outputs": [
        {
          "name": "stdout",
          "output_type": "stream",
          "text": [
            "Optimization terminated successfully.\n",
            "         Current function value: 0.148699\n",
            "         Iterations 8\n"
          ]
        },
        {
          "data": {
            "text/html": [
              "<table class=\"simpletable\">\n",
              "<tr>\n",
              "        <td>Model:</td>              <td>Logit</td>           <td>Method:</td>          <td>MLE</td>   \n",
              "</tr>\n",
              "<tr>\n",
              "  <td>Dependent Variable:</td>   <td>Clicked on Ad</td>  <td>Pseudo R-squared:</td>    <td>0.667</td>  \n",
              "</tr>\n",
              "<tr>\n",
              "         <td>Date:</td>        <td>2023-12-03 13:23</td>       <td>AIC:</td>         <td>152.7510</td> \n",
              "</tr>\n",
              "<tr>\n",
              "   <td>No. Observations:</td>         <td>480</td>             <td>BIC:</td>         <td>173.6200</td> \n",
              "</tr>\n",
              "<tr>\n",
              "       <td>Df Model:</td>              <td>4</td>         <td>Log-Likelihood:</td>    <td>-71.376</td> \n",
              "</tr>\n",
              "<tr>\n",
              "     <td>Df Residuals:</td>           <td>475</td>           <td>LL-Null:</td>        <td>-214.65</td> \n",
              "</tr>\n",
              "<tr>\n",
              "      <td>Converged:</td>           <td>1.0000</td>        <td>LLR p-value:</td>    <td>8.6066e-61</td>\n",
              "</tr>\n",
              "<tr>\n",
              "    <td>No. Iterations:</td>        <td>8.0000</td>           <td>Scale:</td>         <td>1.0000</td>  \n",
              "</tr>\n",
              "</table>\n",
              "<table class=\"simpletable\">\n",
              "<tr>\n",
              "              <td></td>              <th>Coef.</th>  <th>Std.Err.</th>    <th>z</th>     <th>P>|z|</th> <th>[0.025</th>  <th>0.975]</th> \n",
              "</tr>\n",
              "<tr>\n",
              "  <th>Daily Time Spent on Site</th> <td>-0.0485</td>  <td>0.0152</td>  <td>-3.1975</td> <td>0.0014</td> <td>-0.0782</td> <td>-0.0188</td>\n",
              "</tr>\n",
              "<tr>\n",
              "  <th>Age</th>                      <td>0.2891</td>   <td>0.0355</td>  <td>8.1379</td>  <td>0.0000</td> <td>0.2195</td>  <td>0.3587</td> \n",
              "</tr>\n",
              "<tr>\n",
              "  <th>Area Income</th>              <td>-0.0000</td>  <td>0.0000</td>  <td>-2.8360</td> <td>0.0046</td> <td>-0.0001</td> <td>-0.0000</td>\n",
              "</tr>\n",
              "<tr>\n",
              "  <th>Daily Internet Usage</th>     <td>-0.0331</td>  <td>0.0067</td>  <td>-4.9580</td> <td>0.0000</td> <td>-0.0462</td> <td>-0.0200</td>\n",
              "</tr>\n",
              "<tr>\n",
              "  <th>Male</th>                     <td>-0.0795</td>  <td>0.4495</td>  <td>-0.1768</td> <td>0.8596</td> <td>-0.9604</td> <td>0.8014</td> \n",
              "</tr>\n",
              "</table><br/>\n"
            ],
            "text/latex": [
              "\\begin{table}\n",
              "\\caption{Results: Logit}\n",
              "\\label{}\n",
              "\\begin{center}\n",
              "\\begin{tabular}{llll}\n",
              "\\hline\n",
              "Model:              & Logit            & Method:           & MLE         \\\\\n",
              "Dependent Variable: & Clicked on Ad    & Pseudo R-squared: & 0.667       \\\\\n",
              "Date:               & 2023-12-03 13:23 & AIC:              & 152.7510    \\\\\n",
              "No. Observations:   & 480              & BIC:              & 173.6200    \\\\\n",
              "Df Model:           & 4                & Log-Likelihood:   & -71.376     \\\\\n",
              "Df Residuals:       & 475              & LL-Null:          & -214.65     \\\\\n",
              "Converged:          & 1.0000           & LLR p-value:      & 8.6066e-61  \\\\\n",
              "No. Iterations:     & 8.0000           & Scale:            & 1.0000      \\\\\n",
              "\\hline\n",
              "\\end{tabular}\n",
              "\\end{center}\n",
              "\n",
              "\\begin{center}\n",
              "\\begin{tabular}{lrrrrrr}\n",
              "\\hline\n",
              "                         &   Coef. & Std.Err. &       z & P$> |$z$|$ &  [0.025 &  0.975]  \\\\\n",
              "\\hline\n",
              "Daily Time Spent on Site & -0.0485 &   0.0152 & -3.1975 &      0.0014 & -0.0782 & -0.0188  \\\\\n",
              "Age                      &  0.2891 &   0.0355 &  8.1379 &      0.0000 &  0.2195 &  0.3587  \\\\\n",
              "Area Income              & -0.0000 &   0.0000 & -2.8360 &      0.0046 & -0.0001 & -0.0000  \\\\\n",
              "Daily Internet Usage     & -0.0331 &   0.0067 & -4.9580 &      0.0000 & -0.0462 & -0.0200  \\\\\n",
              "Male                     & -0.0795 &   0.4495 & -0.1768 &      0.8596 & -0.9604 &  0.8014  \\\\\n",
              "\\hline\n",
              "\\end{tabular}\n",
              "\\end{center}\n",
              "\\end{table}\n",
              "\\bigskip\n"
            ],
            "text/plain": [
              "<class 'statsmodels.iolib.summary2.Summary'>\n",
              "\"\"\"\n",
              "                             Results: Logit\n",
              "========================================================================\n",
              "Model:                 Logit              Method:             MLE       \n",
              "Dependent Variable:    Clicked on Ad      Pseudo R-squared:   0.667     \n",
              "Date:                  2023-12-03 13:23   AIC:                152.7510  \n",
              "No. Observations:      480                BIC:                173.6200  \n",
              "Df Model:              4                  Log-Likelihood:     -71.376   \n",
              "Df Residuals:          475                LL-Null:            -214.65   \n",
              "Converged:             1.0000             LLR p-value:        8.6066e-61\n",
              "No. Iterations:        8.0000             Scale:              1.0000    \n",
              "------------------------------------------------------------------------\n",
              "                          Coef.  Std.Err.    z    P>|z|   [0.025  0.975]\n",
              "------------------------------------------------------------------------\n",
              "Daily Time Spent on Site -0.0485   0.0152 -3.1975 0.0014 -0.0782 -0.0188\n",
              "Age                       0.2891   0.0355  8.1379 0.0000  0.2195  0.3587\n",
              "Area Income              -0.0000   0.0000 -2.8360 0.0046 -0.0001 -0.0000\n",
              "Daily Internet Usage     -0.0331   0.0067 -4.9580 0.0000 -0.0462 -0.0200\n",
              "Male                     -0.0795   0.4495 -0.1768 0.8596 -0.9604  0.8014\n",
              "========================================================================\n",
              "\n",
              "\"\"\""
            ]
          },
          "execution_count": 56,
          "metadata": {},
          "output_type": "execute_result"
        }
      ],
      "source": [
        "import statsmodels.api as sm\n",
        "logit = sm.Logit(y_train,x_train)\n",
        "model =logit.fit()\n",
        "model.summary2()"
      ]
    },
    {
      "cell_type": "markdown",
      "id": "086ba8ab",
      "metadata": {
        "id": "086ba8ab"
      },
      "source": [
        "## Balanceo de Datos"
      ]
    },
    {
      "cell_type": "code",
      "execution_count": null,
      "id": "bd3d7c75",
      "metadata": {
        "id": "bd3d7c75",
        "outputId": "07efc6b5-c19d-44f8-c1c7-dbc7985a9378"
      },
      "outputs": [
        {
          "data": {
            "text/plain": [
              "Clicked on Ad\n",
              "0    401\n",
              "1     79\n",
              "Name: count, dtype: int64"
            ]
          },
          "execution_count": 57,
          "metadata": {},
          "output_type": "execute_result"
        }
      ],
      "source": [
        "# Se tienen 401 clicks y 79 no clicks\n",
        "pd.value_counts(y_train)"
      ]
    },
    {
      "cell_type": "markdown",
      "id": "9eb112b8",
      "metadata": {
        "id": "9eb112b8"
      },
      "source": [
        "### Undersampling"
      ]
    },
    {
      "cell_type": "markdown",
      "id": "62381580",
      "metadata": {
        "id": "62381580"
      },
      "source": [
        "Aplicando regla de tres simple son sale: x = 99\n",
        "- 0.8 -> 79\n",
        "- 1.0 -> x\n",
        "\n",
        "Para calcular el n_neighbors: neighbors = 4\n",
        "- 401/99 = 4.05\n"
      ]
    },
    {
      "cell_type": "code",
      "execution_count": null,
      "id": "a56e99ca",
      "metadata": {
        "id": "a56e99ca"
      },
      "outputs": [],
      "source": [
        "from imblearn.under_sampling import NearMiss\n",
        "under = NearMiss(sampling_strategy= 0.8, n_neighbors=4)"
      ]
    },
    {
      "cell_type": "code",
      "execution_count": null,
      "id": "8b78cc3e-ad0a-4e91-83fd-ad530e6a8132",
      "metadata": {
        "id": "8b78cc3e-ad0a-4e91-83fd-ad530e6a8132"
      },
      "outputs": [],
      "source": [
        "x_train_under, y_train_under = under.fit_resample(x_train, y_train)"
      ]
    },
    {
      "cell_type": "code",
      "execution_count": null,
      "id": "aafa494a-b876-43a1-a1fc-81cdb654c890",
      "metadata": {
        "id": "aafa494a-b876-43a1-a1fc-81cdb654c890",
        "outputId": "0ff147fd-befc-42f2-bfde-29077ad1be13"
      },
      "outputs": [
        {
          "data": {
            "text/plain": [
              "<Axes: xlabel='Clicked on Ad'>"
            ]
          },
          "execution_count": 60,
          "metadata": {},
          "output_type": "execute_result"
        },
        {
          "data": {
            "image/png": "[encoded data removed]",
            "text/plain": [
              "<Figure size 640x480 with 1 Axes>"
            ]
          },
          "metadata": {},
          "output_type": "display_data"
        }
      ],
      "source": [
        "# Ahora se tiene las clases balanceadas a la clase con menor frecuencia\n",
        "pd.value_counts(y_train_under).plot(kind = \"bar\", rot = 0)"
      ]
    },
    {
      "cell_type": "code",
      "execution_count": null,
      "id": "2a94e273-896b-4c98-8861-5daf4f21e1ce",
      "metadata": {
        "id": "2a94e273-896b-4c98-8861-5daf4f21e1ce",
        "outputId": "16a314ea-081c-4e9b-def5-d41cce5c3c14"
      },
      "outputs": [
        {
          "data": {
            "text/html": [
              "<style>#sk-container-id-6 {color: black;}#sk-container-id-6 pre{padding: 0;}#sk-container-id-6 div.sk-toggleable {background-color: white;}#sk-container-id-6 label.sk-toggleable__label {cursor: pointer;display: block;width: 100%;margin-bottom: 0;padding: 0.3em;box-sizing: border-box;text-align: center;}#sk-container-id-6 label.sk-toggleable__label-arrow:before {content: \"▸\";float: left;margin-right: 0.25em;color: #696969;}#sk-container-id-6 label.sk-toggleable__label-arrow:hover:before {color: black;}#sk-container-id-6 div.sk-estimator:hover label.sk-toggleable__label-arrow:before {color: black;}#sk-container-id-6 div.sk-toggleable__content {max-height: 0;max-width: 0;overflow: hidden;text-align: left;background-color: #f0f8ff;}#sk-container-id-6 div.sk-toggleable__content pre {margin: 0.2em;color: black;border-radius: 0.25em;background-color: #f0f8ff;}#sk-container-id-6 input.sk-toggleable__control:checked~div.sk-toggleable__content {max-height: 200px;max-width: 100%;overflow: auto;}#sk-container-id-6 input.sk-toggleable__control:checked~label.sk-toggleable__label-arrow:before {content: \"▾\";}#sk-container-id-6 div.sk-estimator input.sk-toggleable__control:checked~label.sk-toggleable__label {background-color: #d4ebff;}#sk-container-id-6 div.sk-label input.sk-toggleable__control:checked~label.sk-toggleable__label {background-color: #d4ebff;}#sk-container-id-6 input.sk-hidden--visually {border: 0;clip: rect(1px 1px 1px 1px);clip: rect(1px, 1px, 1px, 1px);height: 1px;margin: -1px;overflow: hidden;padding: 0;position: absolute;width: 1px;}#sk-container-id-6 div.sk-estimator {font-family: monospace;background-color: #f0f8ff;border: 1px dotted black;border-radius: 0.25em;box-sizing: border-box;margin-bottom: 0.5em;}#sk-container-id-6 div.sk-estimator:hover {background-color: #d4ebff;}#sk-container-id-6 div.sk-parallel-item::after {content: \"\";width: 100%;border-bottom: 1px solid gray;flex-grow: 1;}#sk-container-id-6 div.sk-label:hover label.sk-toggleable__label {background-color: #d4ebff;}#sk-container-id-6 div.sk-serial::before {content: \"\";position: absolute;border-left: 1px solid gray;box-sizing: border-box;top: 0;bottom: 0;left: 50%;z-index: 0;}#sk-container-id-6 div.sk-serial {display: flex;flex-direction: column;align-items: center;background-color: white;padding-right: 0.2em;padding-left: 0.2em;position: relative;}#sk-container-id-6 div.sk-item {position: relative;z-index: 1;}#sk-container-id-6 div.sk-parallel {display: flex;align-items: stretch;justify-content: center;background-color: white;position: relative;}#sk-container-id-6 div.sk-item::before, #sk-container-id-6 div.sk-parallel-item::before {content: \"\";position: absolute;border-left: 1px solid gray;box-sizing: border-box;top: 0;bottom: 0;left: 50%;z-index: -1;}#sk-container-id-6 div.sk-parallel-item {display: flex;flex-direction: column;z-index: 1;position: relative;background-color: white;}#sk-container-id-6 div.sk-parallel-item:first-child::after {align-self: flex-end;width: 50%;}#sk-container-id-6 div.sk-parallel-item:last-child::after {align-self: flex-start;width: 50%;}#sk-container-id-6 div.sk-parallel-item:only-child::after {width: 0;}#sk-container-id-6 div.sk-dashed-wrapped {border: 1px dashed gray;margin: 0 0.4em 0.5em 0.4em;box-sizing: border-box;padding-bottom: 0.4em;background-color: white;}#sk-container-id-6 div.sk-label label {font-family: monospace;font-weight: bold;display: inline-block;line-height: 1.2em;}#sk-container-id-6 div.sk-label-container {text-align: center;}#sk-container-id-6 div.sk-container {/* jupyter's `normalize.less` sets `[hidden] { display: none; }` but bootstrap.min.css set `[hidden] { display: none !important; }` so we also need the `!important` here to be able to override the default hidden behavior on the sphinx rendered scikit-learn.org. See: https://github.com/scikit-learn/scikit-learn/issues/21755 */display: inline-block !important;position: relative;}#sk-container-id-6 div.sk-text-repr-fallback {display: none;}</style><div id=\"sk-container-id-6\" class=\"sk-top-container\"><div class=\"sk-text-repr-fallback\"><pre>LogisticRegression()</pre><b>In a Jupyter environment, please rerun this cell to show the HTML representation or trust the notebook. <br />On GitHub, the HTML representation is unable to render, please try loading this page with nbviewer.org.</b></div><div class=\"sk-container\" hidden><div class=\"sk-item\"><div class=\"sk-estimator sk-toggleable\"><input class=\"sk-toggleable__control sk-hidden--visually\" id=\"sk-estimator-id-6\" type=\"checkbox\" checked><label for=\"sk-estimator-id-6\" class=\"sk-toggleable__label sk-toggleable__label-arrow\">LogisticRegression</label><div class=\"sk-toggleable__content\"><pre>LogisticRegression()</pre></div></div></div></div></div>"
            ],
            "text/plain": [
              "LogisticRegression()"
            ]
          },
          "execution_count": 61,
          "metadata": {},
          "output_type": "execute_result"
        }
      ],
      "source": [
        "# Ajustamos el modelo de Regresión Logística\n",
        "lr_under = LogisticRegression()\n",
        "lr_under.fit(x_train_under,y_train_under)"
      ]
    },
    {
      "cell_type": "code",
      "execution_count": null,
      "id": "5118c6b2-d023-4466-9ded-841eac80954b",
      "metadata": {
        "id": "5118c6b2-d023-4466-9ded-841eac80954b",
        "outputId": "a4f62eb0-6bd5-4960-db44-c3a1021cdf62"
      },
      "outputs": [
        {
          "name": "stdout",
          "output_type": "stream",
          "text": [
            "Optimization terminated successfully.\n",
            "         Current function value: 0.193614\n",
            "         Iterations 8\n"
          ]
        },
        {
          "data": {
            "text/html": [
              "<table class=\"simpletable\">\n",
              "<tr>\n",
              "        <td>Model:</td>              <td>Logit</td>           <td>Method:</td>          <td>MLE</td>   \n",
              "</tr>\n",
              "<tr>\n",
              "  <td>Dependent Variable:</td>   <td>Clicked on Ad</td>  <td>Pseudo R-squared:</td>    <td>0.718</td>  \n",
              "</tr>\n",
              "<tr>\n",
              "         <td>Date:</td>        <td>2023-12-03 13:23</td>       <td>AIC:</td>          <td>78.5395</td> \n",
              "</tr>\n",
              "<tr>\n",
              "   <td>No. Observations:</td>         <td>177</td>             <td>BIC:</td>          <td>94.4203</td> \n",
              "</tr>\n",
              "<tr>\n",
              "       <td>Df Model:</td>              <td>4</td>         <td>Log-Likelihood:</td>    <td>-34.270</td> \n",
              "</tr>\n",
              "<tr>\n",
              "     <td>Df Residuals:</td>           <td>172</td>           <td>LL-Null:</td>        <td>-121.67</td> \n",
              "</tr>\n",
              "<tr>\n",
              "      <td>Converged:</td>           <td>1.0000</td>        <td>LLR p-value:</td>    <td>9.7954e-37</td>\n",
              "</tr>\n",
              "<tr>\n",
              "    <td>No. Iterations:</td>        <td>8.0000</td>           <td>Scale:</td>         <td>1.0000</td>  \n",
              "</tr>\n",
              "</table>\n",
              "<table class=\"simpletable\">\n",
              "<tr>\n",
              "              <td></td>              <th>Coef.</th>  <th>Std.Err.</th>    <th>z</th>     <th>P>|z|</th> <th>[0.025</th>  <th>0.975]</th> \n",
              "</tr>\n",
              "<tr>\n",
              "  <th>Daily Time Spent on Site</th> <td>-0.0639</td>  <td>0.0234</td>  <td>-2.7294</td> <td>0.0063</td> <td>-0.1098</td> <td>-0.0180</td>\n",
              "</tr>\n",
              "<tr>\n",
              "  <th>Age</th>                      <td>0.3474</td>   <td>0.0607</td>  <td>5.7267</td>  <td>0.0000</td> <td>0.2285</td>  <td>0.4663</td> \n",
              "</tr>\n",
              "<tr>\n",
              "  <th>Area Income</th>              <td>-0.0000</td>  <td>0.0000</td>  <td>-0.6136</td> <td>0.5395</td> <td>-0.0001</td> <td>0.0000</td> \n",
              "</tr>\n",
              "<tr>\n",
              "  <th>Daily Internet Usage</th>     <td>-0.0374</td>  <td>0.0097</td>  <td>-3.8350</td> <td>0.0001</td> <td>-0.0565</td> <td>-0.0183</td>\n",
              "</tr>\n",
              "<tr>\n",
              "  <th>Male</th>                     <td>0.1880</td>   <td>0.6466</td>  <td>0.2907</td>  <td>0.7713</td> <td>-1.0793</td> <td>1.4552</td> \n",
              "</tr>\n",
              "</table><br/>\n"
            ],
            "text/latex": [
              "\\begin{table}\n",
              "\\caption{Results: Logit}\n",
              "\\label{}\n",
              "\\begin{center}\n",
              "\\begin{tabular}{llll}\n",
              "\\hline\n",
              "Model:              & Logit            & Method:           & MLE         \\\\\n",
              "Dependent Variable: & Clicked on Ad    & Pseudo R-squared: & 0.718       \\\\\n",
              "Date:               & 2023-12-03 13:23 & AIC:              & 78.5395     \\\\\n",
              "No. Observations:   & 177              & BIC:              & 94.4203     \\\\\n",
              "Df Model:           & 4                & Log-Likelihood:   & -34.270     \\\\\n",
              "Df Residuals:       & 172              & LL-Null:          & -121.67     \\\\\n",
              "Converged:          & 1.0000           & LLR p-value:      & 9.7954e-37  \\\\\n",
              "No. Iterations:     & 8.0000           & Scale:            & 1.0000      \\\\\n",
              "\\hline\n",
              "\\end{tabular}\n",
              "\\end{center}\n",
              "\n",
              "\\begin{center}\n",
              "\\begin{tabular}{lrrrrrr}\n",
              "\\hline\n",
              "                         &   Coef. & Std.Err. &       z & P$> |$z$|$ &  [0.025 &  0.975]  \\\\\n",
              "\\hline\n",
              "Daily Time Spent on Site & -0.0639 &   0.0234 & -2.7294 &      0.0063 & -0.1098 & -0.0180  \\\\\n",
              "Age                      &  0.3474 &   0.0607 &  5.7267 &      0.0000 &  0.2285 &  0.4663  \\\\\n",
              "Area Income              & -0.0000 &   0.0000 & -0.6136 &      0.5395 & -0.0001 &  0.0000  \\\\\n",
              "Daily Internet Usage     & -0.0374 &   0.0097 & -3.8350 &      0.0001 & -0.0565 & -0.0183  \\\\\n",
              "Male                     &  0.1880 &   0.6466 &  0.2907 &      0.7713 & -1.0793 &  1.4552  \\\\\n",
              "\\hline\n",
              "\\end{tabular}\n",
              "\\end{center}\n",
              "\\end{table}\n",
              "\\bigskip\n"
            ],
            "text/plain": [
              "<class 'statsmodels.iolib.summary2.Summary'>\n",
              "\"\"\"\n",
              "                             Results: Logit\n",
              "========================================================================\n",
              "Model:                 Logit              Method:             MLE       \n",
              "Dependent Variable:    Clicked on Ad      Pseudo R-squared:   0.718     \n",
              "Date:                  2023-12-03 13:23   AIC:                78.5395   \n",
              "No. Observations:      177                BIC:                94.4203   \n",
              "Df Model:              4                  Log-Likelihood:     -34.270   \n",
              "Df Residuals:          172                LL-Null:            -121.67   \n",
              "Converged:             1.0000             LLR p-value:        9.7954e-37\n",
              "No. Iterations:        8.0000             Scale:              1.0000    \n",
              "------------------------------------------------------------------------\n",
              "                          Coef.  Std.Err.    z    P>|z|   [0.025  0.975]\n",
              "------------------------------------------------------------------------\n",
              "Daily Time Spent on Site -0.0639   0.0234 -2.7294 0.0063 -0.1098 -0.0180\n",
              "Age                       0.3474   0.0607  5.7267 0.0000  0.2285  0.4663\n",
              "Area Income              -0.0000   0.0000 -0.6136 0.5395 -0.0001  0.0000\n",
              "Daily Internet Usage     -0.0374   0.0097 -3.8350 0.0001 -0.0565 -0.0183\n",
              "Male                      0.1880   0.6466  0.2907 0.7713 -1.0793  1.4552\n",
              "========================================================================\n",
              "\n",
              "\"\"\""
            ]
          },
          "execution_count": 62,
          "metadata": {},
          "output_type": "execute_result"
        }
      ],
      "source": [
        "logit_under = sm.Logit(y_train_under, x_train_under)\n",
        "model_under =logit_under.fit()\n",
        "model_under.summary2()"
      ]
    },
    {
      "cell_type": "markdown",
      "id": "5fdb1852",
      "metadata": {
        "id": "5fdb1852"
      },
      "source": [
        "### Oversampling"
      ]
    },
    {
      "cell_type": "code",
      "execution_count": null,
      "id": "805b16d8",
      "metadata": {
        "id": "805b16d8"
      },
      "outputs": [],
      "source": [
        "from imblearn.over_sampling import RandomOverSampler\n",
        "over = RandomOverSampler(sampling_strategy= 0.8, random_state=0)"
      ]
    },
    {
      "cell_type": "code",
      "execution_count": null,
      "id": "951b27ff-40bb-455e-b976-e7158f8e09b7",
      "metadata": {
        "id": "951b27ff-40bb-455e-b976-e7158f8e09b7"
      },
      "outputs": [],
      "source": [
        "x_train_over, y_train_over = over.fit_resample(x_train, y_train)"
      ]
    },
    {
      "cell_type": "code",
      "execution_count": null,
      "id": "343b743c-0f8d-4673-9be2-c0706994434d",
      "metadata": {
        "id": "343b743c-0f8d-4673-9be2-c0706994434d",
        "outputId": "dd804f4d-f74d-4989-a870-9c1c5679ce0c"
      },
      "outputs": [
        {
          "data": {
            "text/plain": [
              "<Axes: xlabel='Clicked on Ad'>"
            ]
          },
          "execution_count": 65,
          "metadata": {},
          "output_type": "execute_result"
        },
        {
          "data": {
            "image/png": "[encoded data removed]",
            "text/plain": [
              "<Figure size 640x480 with 1 Axes>"
            ]
          },
          "metadata": {},
          "output_type": "display_data"
        }
      ],
      "source": [
        "# Ahora se tiene las clases balanceadas a la clase con mayor frecuencia\n",
        "pd.value_counts(y_train_over).plot(kind = \"bar\", rot = 0)"
      ]
    },
    {
      "cell_type": "code",
      "execution_count": null,
      "id": "cd34a767-3b7d-4d01-a7fb-852584f408bf",
      "metadata": {
        "id": "cd34a767-3b7d-4d01-a7fb-852584f408bf",
        "outputId": "3a0337af-bb9d-441d-e895-e71faac4d633"
      },
      "outputs": [
        {
          "data": {
            "text/html": [
              "<style>#sk-container-id-7 {color: black;}#sk-container-id-7 pre{padding: 0;}#sk-container-id-7 div.sk-toggleable {background-color: white;}#sk-container-id-7 label.sk-toggleable__label {cursor: pointer;display: block;width: 100%;margin-bottom: 0;padding: 0.3em;box-sizing: border-box;text-align: center;}#sk-container-id-7 label.sk-toggleable__label-arrow:before {content: \"▸\";float: left;margin-right: 0.25em;color: #696969;}#sk-container-id-7 label.sk-toggleable__label-arrow:hover:before {color: black;}#sk-container-id-7 div.sk-estimator:hover label.sk-toggleable__label-arrow:before {color: black;}#sk-container-id-7 div.sk-toggleable__content {max-height: 0;max-width: 0;overflow: hidden;text-align: left;background-color: #f0f8ff;}#sk-container-id-7 div.sk-toggleable__content pre {margin: 0.2em;color: black;border-radius: 0.25em;background-color: #f0f8ff;}#sk-container-id-7 input.sk-toggleable__control:checked~div.sk-toggleable__content {max-height: 200px;max-width: 100%;overflow: auto;}#sk-container-id-7 input.sk-toggleable__control:checked~label.sk-toggleable__label-arrow:before {content: \"▾\";}#sk-container-id-7 div.sk-estimator input.sk-toggleable__control:checked~label.sk-toggleable__label {background-color: #d4ebff;}#sk-container-id-7 div.sk-label input.sk-toggleable__control:checked~label.sk-toggleable__label {background-color: #d4ebff;}#sk-container-id-7 input.sk-hidden--visually {border: 0;clip: rect(1px 1px 1px 1px);clip: rect(1px, 1px, 1px, 1px);height: 1px;margin: -1px;overflow: hidden;padding: 0;position: absolute;width: 1px;}#sk-container-id-7 div.sk-estimator {font-family: monospace;background-color: #f0f8ff;border: 1px dotted black;border-radius: 0.25em;box-sizing: border-box;margin-bottom: 0.5em;}#sk-container-id-7 div.sk-estimator:hover {background-color: #d4ebff;}#sk-container-id-7 div.sk-parallel-item::after {content: \"\";width: 100%;border-bottom: 1px solid gray;flex-grow: 1;}#sk-container-id-7 div.sk-label:hover label.sk-toggleable__label {background-color: #d4ebff;}#sk-container-id-7 div.sk-serial::before {content: \"\";position: absolute;border-left: 1px solid gray;box-sizing: border-box;top: 0;bottom: 0;left: 50%;z-index: 0;}#sk-container-id-7 div.sk-serial {display: flex;flex-direction: column;align-items: center;background-color: white;padding-right: 0.2em;padding-left: 0.2em;position: relative;}#sk-container-id-7 div.sk-item {position: relative;z-index: 1;}#sk-container-id-7 div.sk-parallel {display: flex;align-items: stretch;justify-content: center;background-color: white;position: relative;}#sk-container-id-7 div.sk-item::before, #sk-container-id-7 div.sk-parallel-item::before {content: \"\";position: absolute;border-left: 1px solid gray;box-sizing: border-box;top: 0;bottom: 0;left: 50%;z-index: -1;}#sk-container-id-7 div.sk-parallel-item {display: flex;flex-direction: column;z-index: 1;position: relative;background-color: white;}#sk-container-id-7 div.sk-parallel-item:first-child::after {align-self: flex-end;width: 50%;}#sk-container-id-7 div.sk-parallel-item:last-child::after {align-self: flex-start;width: 50%;}#sk-container-id-7 div.sk-parallel-item:only-child::after {width: 0;}#sk-container-id-7 div.sk-dashed-wrapped {border: 1px dashed gray;margin: 0 0.4em 0.5em 0.4em;box-sizing: border-box;padding-bottom: 0.4em;background-color: white;}#sk-container-id-7 div.sk-label label {font-family: monospace;font-weight: bold;display: inline-block;line-height: 1.2em;}#sk-container-id-7 div.sk-label-container {text-align: center;}#sk-container-id-7 div.sk-container {/* jupyter's `normalize.less` sets `[hidden] { display: none; }` but bootstrap.min.css set `[hidden] { display: none !important; }` so we also need the `!important` here to be able to override the default hidden behavior on the sphinx rendered scikit-learn.org. See: https://github.com/scikit-learn/scikit-learn/issues/21755 */display: inline-block !important;position: relative;}#sk-container-id-7 div.sk-text-repr-fallback {display: none;}</style><div id=\"sk-container-id-7\" class=\"sk-top-container\"><div class=\"sk-text-repr-fallback\"><pre>LogisticRegression()</pre><b>In a Jupyter environment, please rerun this cell to show the HTML representation or trust the notebook. <br />On GitHub, the HTML representation is unable to render, please try loading this page with nbviewer.org.</b></div><div class=\"sk-container\" hidden><div class=\"sk-item\"><div class=\"sk-estimator sk-toggleable\"><input class=\"sk-toggleable__control sk-hidden--visually\" id=\"sk-estimator-id-7\" type=\"checkbox\" checked><label for=\"sk-estimator-id-7\" class=\"sk-toggleable__label sk-toggleable__label-arrow\">LogisticRegression</label><div class=\"sk-toggleable__content\"><pre>LogisticRegression()</pre></div></div></div></div></div>"
            ],
            "text/plain": [
              "LogisticRegression()"
            ]
          },
          "execution_count": 66,
          "metadata": {},
          "output_type": "execute_result"
        }
      ],
      "source": [
        "# Ajustamos el modelo de Regresión Logística\n",
        "lr_over = LogisticRegression()\n",
        "lr_over.fit(x_train_over, y_train_over)"
      ]
    },
    {
      "cell_type": "code",
      "execution_count": null,
      "id": "4a6d8b33-7d57-44a4-a63e-a37ee61ab59f",
      "metadata": {
        "id": "4a6d8b33-7d57-44a4-a63e-a37ee61ab59f",
        "outputId": "0fba9996-012f-4110-b96b-157982e1d52b"
      },
      "outputs": [
        {
          "name": "stdout",
          "output_type": "stream",
          "text": [
            "Optimization terminated successfully.\n",
            "         Current function value: 0.256667\n",
            "         Iterations 8\n"
          ]
        },
        {
          "data": {
            "text/html": [
              "<table class=\"simpletable\">\n",
              "<tr>\n",
              "        <td>Model:</td>              <td>Logit</td>           <td>Method:</td>          <td>MLE</td>    \n",
              "</tr>\n",
              "<tr>\n",
              "  <td>Dependent Variable:</td>   <td>Clicked on Ad</td>  <td>Pseudo R-squared:</td>    <td>0.626</td>   \n",
              "</tr>\n",
              "<tr>\n",
              "         <td>Date:</td>        <td>2023-12-03 13:23</td>       <td>AIC:</td>         <td>380.1135</td>  \n",
              "</tr>\n",
              "<tr>\n",
              "   <td>No. Observations:</td>         <td>721</td>             <td>BIC:</td>         <td>403.0167</td>  \n",
              "</tr>\n",
              "<tr>\n",
              "       <td>Df Model:</td>              <td>4</td>         <td>Log-Likelihood:</td>    <td>-185.06</td>  \n",
              "</tr>\n",
              "<tr>\n",
              "     <td>Df Residuals:</td>           <td>716</td>           <td>LL-Null:</td>        <td>-495.20</td>  \n",
              "</tr>\n",
              "<tr>\n",
              "      <td>Converged:</td>           <td>1.0000</td>        <td>LLR p-value:</td>    <td>6.3046e-133</td>\n",
              "</tr>\n",
              "<tr>\n",
              "    <td>No. Iterations:</td>        <td>8.0000</td>           <td>Scale:</td>         <td>1.0000</td>   \n",
              "</tr>\n",
              "</table>\n",
              "<table class=\"simpletable\">\n",
              "<tr>\n",
              "              <td></td>              <th>Coef.</th>  <th>Std.Err.</th>    <th>z</th>     <th>P>|z|</th> <th>[0.025</th>  <th>0.975]</th> \n",
              "</tr>\n",
              "<tr>\n",
              "  <th>Daily Time Spent on Site</th> <td>-0.0411</td>  <td>0.0094</td>  <td>-4.3567</td> <td>0.0000</td> <td>-0.0596</td> <td>-0.0226</td>\n",
              "</tr>\n",
              "<tr>\n",
              "  <th>Age</th>                      <td>0.2997</td>   <td>0.0233</td>  <td>12.8586</td> <td>0.0000</td> <td>0.2541</td>  <td>0.3454</td> \n",
              "</tr>\n",
              "<tr>\n",
              "  <th>Area Income</th>              <td>-0.0001</td>  <td>0.0000</td>  <td>-5.8308</td> <td>0.0000</td> <td>-0.0001</td> <td>-0.0000</td>\n",
              "</tr>\n",
              "<tr>\n",
              "  <th>Daily Internet Usage</th>     <td>-0.0260</td>  <td>0.0038</td>  <td>-6.7803</td> <td>0.0000</td> <td>-0.0335</td> <td>-0.0185</td>\n",
              "</tr>\n",
              "<tr>\n",
              "  <th>Male</th>                     <td>0.0852</td>   <td>0.2694</td>  <td>0.3162</td>  <td>0.7519</td> <td>-0.4428</td> <td>0.6131</td> \n",
              "</tr>\n",
              "</table><br/>\n"
            ],
            "text/latex": [
              "\\begin{table}\n",
              "\\caption{Results: Logit}\n",
              "\\label{}\n",
              "\\begin{center}\n",
              "\\begin{tabular}{llll}\n",
              "\\hline\n",
              "Model:              & Logit            & Method:           & MLE          \\\\\n",
              "Dependent Variable: & Clicked on Ad    & Pseudo R-squared: & 0.626        \\\\\n",
              "Date:               & 2023-12-03 13:23 & AIC:              & 380.1135     \\\\\n",
              "No. Observations:   & 721              & BIC:              & 403.0167     \\\\\n",
              "Df Model:           & 4                & Log-Likelihood:   & -185.06      \\\\\n",
              "Df Residuals:       & 716              & LL-Null:          & -495.20      \\\\\n",
              "Converged:          & 1.0000           & LLR p-value:      & 6.3046e-133  \\\\\n",
              "No. Iterations:     & 8.0000           & Scale:            & 1.0000       \\\\\n",
              "\\hline\n",
              "\\end{tabular}\n",
              "\\end{center}\n",
              "\n",
              "\\begin{center}\n",
              "\\begin{tabular}{lrrrrrr}\n",
              "\\hline\n",
              "                         &   Coef. & Std.Err. &       z & P$> |$z$|$ &  [0.025 &  0.975]  \\\\\n",
              "\\hline\n",
              "Daily Time Spent on Site & -0.0411 &   0.0094 & -4.3567 &      0.0000 & -0.0596 & -0.0226  \\\\\n",
              "Age                      &  0.2997 &   0.0233 & 12.8586 &      0.0000 &  0.2541 &  0.3454  \\\\\n",
              "Area Income              & -0.0001 &   0.0000 & -5.8308 &      0.0000 & -0.0001 & -0.0000  \\\\\n",
              "Daily Internet Usage     & -0.0260 &   0.0038 & -6.7803 &      0.0000 & -0.0335 & -0.0185  \\\\\n",
              "Male                     &  0.0852 &   0.2694 &  0.3162 &      0.7519 & -0.4428 &  0.6131  \\\\\n",
              "\\hline\n",
              "\\end{tabular}\n",
              "\\end{center}\n",
              "\\end{table}\n",
              "\\bigskip\n"
            ],
            "text/plain": [
              "<class 'statsmodels.iolib.summary2.Summary'>\n",
              "\"\"\"\n",
              "                             Results: Logit\n",
              "========================================================================\n",
              "Model:                Logit              Method:             MLE        \n",
              "Dependent Variable:   Clicked on Ad      Pseudo R-squared:   0.626      \n",
              "Date:                 2023-12-03 13:23   AIC:                380.1135   \n",
              "No. Observations:     721                BIC:                403.0167   \n",
              "Df Model:             4                  Log-Likelihood:     -185.06    \n",
              "Df Residuals:         716                LL-Null:            -495.20    \n",
              "Converged:            1.0000             LLR p-value:        6.3046e-133\n",
              "No. Iterations:       8.0000             Scale:              1.0000     \n",
              "------------------------------------------------------------------------\n",
              "                          Coef.  Std.Err.    z    P>|z|   [0.025  0.975]\n",
              "------------------------------------------------------------------------\n",
              "Daily Time Spent on Site -0.0411   0.0094 -4.3567 0.0000 -0.0596 -0.0226\n",
              "Age                       0.2997   0.0233 12.8586 0.0000  0.2541  0.3454\n",
              "Area Income              -0.0001   0.0000 -5.8308 0.0000 -0.0001 -0.0000\n",
              "Daily Internet Usage     -0.0260   0.0038 -6.7803 0.0000 -0.0335 -0.0185\n",
              "Male                      0.0852   0.2694  0.3162 0.7519 -0.4428  0.6131\n",
              "========================================================================\n",
              "\n",
              "\"\"\""
            ]
          },
          "execution_count": 67,
          "metadata": {},
          "output_type": "execute_result"
        }
      ],
      "source": [
        "logit_over = sm.Logit(y_train_over, x_train_over)\n",
        "model_over =logit_over.fit()\n",
        "model_over.summary2()"
      ]
    },
    {
      "cell_type": "markdown",
      "id": "cab412b2",
      "metadata": {
        "id": "cab412b2"
      },
      "source": [
        "### SMOTE"
      ]
    },
    {
      "cell_type": "code",
      "execution_count": null,
      "id": "d896ca5a",
      "metadata": {
        "id": "d896ca5a"
      },
      "outputs": [],
      "source": [
        "from imblearn.combine import SMOTETomek\n",
        "st = SMOTETomek(sampling_strategy= 0.8, random_state=0)"
      ]
    },
    {
      "cell_type": "code",
      "execution_count": null,
      "id": "0439392b-2dfa-4ed2-9c67-6563b01fc4d9",
      "metadata": {
        "id": "0439392b-2dfa-4ed2-9c67-6563b01fc4d9"
      },
      "outputs": [],
      "source": [
        "x_train_st, y_train_st = st.fit_resample(x_train, y_train)"
      ]
    },
    {
      "cell_type": "code",
      "execution_count": null,
      "id": "9705c0d0-fa9f-4706-8cfa-404734255c05",
      "metadata": {
        "id": "9705c0d0-fa9f-4706-8cfa-404734255c05",
        "outputId": "94351b7c-fa1d-4bf7-b899-1eb0476c5c89"
      },
      "outputs": [
        {
          "data": {
            "text/plain": [
              "<Axes: xlabel='Clicked on Ad'>"
            ]
          },
          "execution_count": 70,
          "metadata": {},
          "output_type": "execute_result"
        },
        {
          "data": {
            "image/png": "[encoded data removed]",
            "text/plain": [
              "<Figure size 640x480 with 1 Axes>"
            ]
          },
          "metadata": {},
          "output_type": "display_data"
        }
      ],
      "source": [
        "# Ahora se tiene las clases balanceadas\n",
        "pd.value_counts(y_train_st).plot(kind = \"bar\", rot = 0)"
      ]
    },
    {
      "cell_type": "code",
      "execution_count": null,
      "id": "ffc744fd-1167-46cd-ab88-40bc7065cf49",
      "metadata": {
        "id": "ffc744fd-1167-46cd-ab88-40bc7065cf49",
        "outputId": "39db9db9-9b03-4b77-a384-1e4f7a976a06"
      },
      "outputs": [
        {
          "data": {
            "text/html": [
              "<style>#sk-container-id-8 {color: black;}#sk-container-id-8 pre{padding: 0;}#sk-container-id-8 div.sk-toggleable {background-color: white;}#sk-container-id-8 label.sk-toggleable__label {cursor: pointer;display: block;width: 100%;margin-bottom: 0;padding: 0.3em;box-sizing: border-box;text-align: center;}#sk-container-id-8 label.sk-toggleable__label-arrow:before {content: \"▸\";float: left;margin-right: 0.25em;color: #696969;}#sk-container-id-8 label.sk-toggleable__label-arrow:hover:before {color: black;}#sk-container-id-8 div.sk-estimator:hover label.sk-toggleable__label-arrow:before {color: black;}#sk-container-id-8 div.sk-toggleable__content {max-height: 0;max-width: 0;overflow: hidden;text-align: left;background-color: #f0f8ff;}#sk-container-id-8 div.sk-toggleable__content pre {margin: 0.2em;color: black;border-radius: 0.25em;background-color: #f0f8ff;}#sk-container-id-8 input.sk-toggleable__control:checked~div.sk-toggleable__content {max-height: 200px;max-width: 100%;overflow: auto;}#sk-container-id-8 input.sk-toggleable__control:checked~label.sk-toggleable__label-arrow:before {content: \"▾\";}#sk-container-id-8 div.sk-estimator input.sk-toggleable__control:checked~label.sk-toggleable__label {background-color: #d4ebff;}#sk-container-id-8 div.sk-label input.sk-toggleable__control:checked~label.sk-toggleable__label {background-color: #d4ebff;}#sk-container-id-8 input.sk-hidden--visually {border: 0;clip: rect(1px 1px 1px 1px);clip: rect(1px, 1px, 1px, 1px);height: 1px;margin: -1px;overflow: hidden;padding: 0;position: absolute;width: 1px;}#sk-container-id-8 div.sk-estimator {font-family: monospace;background-color: #f0f8ff;border: 1px dotted black;border-radius: 0.25em;box-sizing: border-box;margin-bottom: 0.5em;}#sk-container-id-8 div.sk-estimator:hover {background-color: #d4ebff;}#sk-container-id-8 div.sk-parallel-item::after {content: \"\";width: 100%;border-bottom: 1px solid gray;flex-grow: 1;}#sk-container-id-8 div.sk-label:hover label.sk-toggleable__label {background-color: #d4ebff;}#sk-container-id-8 div.sk-serial::before {content: \"\";position: absolute;border-left: 1px solid gray;box-sizing: border-box;top: 0;bottom: 0;left: 50%;z-index: 0;}#sk-container-id-8 div.sk-serial {display: flex;flex-direction: column;align-items: center;background-color: white;padding-right: 0.2em;padding-left: 0.2em;position: relative;}#sk-container-id-8 div.sk-item {position: relative;z-index: 1;}#sk-container-id-8 div.sk-parallel {display: flex;align-items: stretch;justify-content: center;background-color: white;position: relative;}#sk-container-id-8 div.sk-item::before, #sk-container-id-8 div.sk-parallel-item::before {content: \"\";position: absolute;border-left: 1px solid gray;box-sizing: border-box;top: 0;bottom: 0;left: 50%;z-index: -1;}#sk-container-id-8 div.sk-parallel-item {display: flex;flex-direction: column;z-index: 1;position: relative;background-color: white;}#sk-container-id-8 div.sk-parallel-item:first-child::after {align-self: flex-end;width: 50%;}#sk-container-id-8 div.sk-parallel-item:last-child::after {align-self: flex-start;width: 50%;}#sk-container-id-8 div.sk-parallel-item:only-child::after {width: 0;}#sk-container-id-8 div.sk-dashed-wrapped {border: 1px dashed gray;margin: 0 0.4em 0.5em 0.4em;box-sizing: border-box;padding-bottom: 0.4em;background-color: white;}#sk-container-id-8 div.sk-label label {font-family: monospace;font-weight: bold;display: inline-block;line-height: 1.2em;}#sk-container-id-8 div.sk-label-container {text-align: center;}#sk-container-id-8 div.sk-container {/* jupyter's `normalize.less` sets `[hidden] { display: none; }` but bootstrap.min.css set `[hidden] { display: none !important; }` so we also need the `!important` here to be able to override the default hidden behavior on the sphinx rendered scikit-learn.org. See: https://github.com/scikit-learn/scikit-learn/issues/21755 */display: inline-block !important;position: relative;}#sk-container-id-8 div.sk-text-repr-fallback {display: none;}</style><div id=\"sk-container-id-8\" class=\"sk-top-container\"><div class=\"sk-text-repr-fallback\"><pre>LogisticRegression()</pre><b>In a Jupyter environment, please rerun this cell to show the HTML representation or trust the notebook. <br />On GitHub, the HTML representation is unable to render, please try loading this page with nbviewer.org.</b></div><div class=\"sk-container\" hidden><div class=\"sk-item\"><div class=\"sk-estimator sk-toggleable\"><input class=\"sk-toggleable__control sk-hidden--visually\" id=\"sk-estimator-id-8\" type=\"checkbox\" checked><label for=\"sk-estimator-id-8\" class=\"sk-toggleable__label sk-toggleable__label-arrow\">LogisticRegression</label><div class=\"sk-toggleable__content\"><pre>LogisticRegression()</pre></div></div></div></div></div>"
            ],
            "text/plain": [
              "LogisticRegression()"
            ]
          },
          "execution_count": 71,
          "metadata": {},
          "output_type": "execute_result"
        }
      ],
      "source": [
        "# Ajustamos el modelo de Regresión Logística\n",
        "lr_st = LogisticRegression()\n",
        "lr_st.fit(x_train_st, y_train_st)"
      ]
    },
    {
      "cell_type": "code",
      "execution_count": null,
      "id": "7e8e41b8-6f15-4845-9b69-d6409247684d",
      "metadata": {
        "id": "7e8e41b8-6f15-4845-9b69-d6409247684d",
        "outputId": "7bbf5b92-604d-47e8-f09a-aabdff8e5356"
      },
      "outputs": [
        {
          "data": {
            "text/plain": [
              "{'C': 1.0,\n",
              " 'class_weight': None,\n",
              " 'dual': False,\n",
              " 'fit_intercept': True,\n",
              " 'intercept_scaling': 1,\n",
              " 'l1_ratio': None,\n",
              " 'max_iter': 100,\n",
              " 'multi_class': 'auto',\n",
              " 'n_jobs': None,\n",
              " 'penalty': 'l2',\n",
              " 'random_state': None,\n",
              " 'solver': 'lbfgs',\n",
              " 'tol': 0.0001,\n",
              " 'verbose': 0,\n",
              " 'warm_start': False}"
            ]
          },
          "execution_count": 72,
          "metadata": {},
          "output_type": "execute_result"
        }
      ],
      "source": [
        "LogisticRegression().get_params()"
      ]
    },
    {
      "cell_type": "code",
      "execution_count": null,
      "id": "37752213-c9de-407c-aab7-f13a666af16e",
      "metadata": {
        "scrolled": true,
        "id": "37752213-c9de-407c-aab7-f13a666af16e",
        "outputId": "2f835802-342f-4efb-ccc5-988eb70b7913"
      },
      "outputs": [
        {
          "name": "stdout",
          "output_type": "stream",
          "text": [
            "Optimization terminated successfully.\n",
            "         Current function value: 0.181699\n",
            "         Iterations 8\n"
          ]
        },
        {
          "data": {
            "text/html": [
              "<table class=\"simpletable\">\n",
              "<tr>\n",
              "        <td>Model:</td>              <td>Logit</td>           <td>Method:</td>          <td>MLE</td>    \n",
              "</tr>\n",
              "<tr>\n",
              "  <td>Dependent Variable:</td>   <td>Clicked on Ad</td>  <td>Pseudo R-squared:</td>    <td>0.735</td>   \n",
              "</tr>\n",
              "<tr>\n",
              "         <td>Date:</td>        <td>2023-12-03 13:24</td>       <td>AIC:</td>         <td>250.9323</td>  \n",
              "</tr>\n",
              "<tr>\n",
              "   <td>No. Observations:</td>         <td>663</td>             <td>BIC:</td>         <td>273.4161</td>  \n",
              "</tr>\n",
              "<tr>\n",
              "       <td>Df Model:</td>              <td>4</td>         <td>Log-Likelihood:</td>    <td>-120.47</td>  \n",
              "</tr>\n",
              "<tr>\n",
              "     <td>Df Residuals:</td>           <td>658</td>           <td>LL-Null:</td>        <td>-454.60</td>  \n",
              "</tr>\n",
              "<tr>\n",
              "      <td>Converged:</td>           <td>1.0000</td>        <td>LLR p-value:</td>    <td>2.5963e-143</td>\n",
              "</tr>\n",
              "<tr>\n",
              "    <td>No. Iterations:</td>        <td>8.0000</td>           <td>Scale:</td>         <td>1.0000</td>   \n",
              "</tr>\n",
              "</table>\n",
              "<table class=\"simpletable\">\n",
              "<tr>\n",
              "              <td></td>              <th>Coef.</th>  <th>Std.Err.</th>    <th>z</th>     <th>P>|z|</th> <th>[0.025</th>  <th>0.975]</th> \n",
              "</tr>\n",
              "<tr>\n",
              "  <th>Daily Time Spent on Site</th> <td>-0.0187</td>  <td>0.0122</td>  <td>-1.5323</td> <td>0.1255</td> <td>-0.0426</td> <td>0.0052</td> \n",
              "</tr>\n",
              "<tr>\n",
              "  <th>Age</th>                      <td>0.3743</td>   <td>0.0330</td>  <td>11.3272</td> <td>0.0000</td> <td>0.3095</td>  <td>0.4390</td> \n",
              "</tr>\n",
              "<tr>\n",
              "  <th>Area Income</th>              <td>-0.0001</td>  <td>0.0000</td>  <td>-5.0664</td> <td>0.0000</td> <td>-0.0001</td> <td>-0.0000</td>\n",
              "</tr>\n",
              "<tr>\n",
              "  <th>Daily Internet Usage</th>     <td>-0.0459</td>  <td>0.0060</td>  <td>-7.6648</td> <td>0.0000</td> <td>-0.0576</td> <td>-0.0342</td>\n",
              "</tr>\n",
              "<tr>\n",
              "  <th>Male</th>                     <td>-1.1956</td>  <td>0.3861</td>  <td>-3.0968</td> <td>0.0020</td> <td>-1.9524</td> <td>-0.4389</td>\n",
              "</tr>\n",
              "</table><br/>\n"
            ],
            "text/latex": [
              "\\begin{table}\n",
              "\\caption{Results: Logit}\n",
              "\\label{}\n",
              "\\begin{center}\n",
              "\\begin{tabular}{llll}\n",
              "\\hline\n",
              "Model:              & Logit            & Method:           & MLE          \\\\\n",
              "Dependent Variable: & Clicked on Ad    & Pseudo R-squared: & 0.735        \\\\\n",
              "Date:               & 2023-12-03 13:24 & AIC:              & 250.9323     \\\\\n",
              "No. Observations:   & 663              & BIC:              & 273.4161     \\\\\n",
              "Df Model:           & 4                & Log-Likelihood:   & -120.47      \\\\\n",
              "Df Residuals:       & 658              & LL-Null:          & -454.60      \\\\\n",
              "Converged:          & 1.0000           & LLR p-value:      & 2.5963e-143  \\\\\n",
              "No. Iterations:     & 8.0000           & Scale:            & 1.0000       \\\\\n",
              "\\hline\n",
              "\\end{tabular}\n",
              "\\end{center}\n",
              "\n",
              "\\begin{center}\n",
              "\\begin{tabular}{lrrrrrr}\n",
              "\\hline\n",
              "                         &   Coef. & Std.Err. &       z & P$> |$z$|$ &  [0.025 &  0.975]  \\\\\n",
              "\\hline\n",
              "Daily Time Spent on Site & -0.0187 &   0.0122 & -1.5323 &      0.1255 & -0.0426 &  0.0052  \\\\\n",
              "Age                      &  0.3743 &   0.0330 & 11.3272 &      0.0000 &  0.3095 &  0.4390  \\\\\n",
              "Area Income              & -0.0001 &   0.0000 & -5.0664 &      0.0000 & -0.0001 & -0.0000  \\\\\n",
              "Daily Internet Usage     & -0.0459 &   0.0060 & -7.6648 &      0.0000 & -0.0576 & -0.0342  \\\\\n",
              "Male                     & -1.1956 &   0.3861 & -3.0968 &      0.0020 & -1.9524 & -0.4389  \\\\\n",
              "\\hline\n",
              "\\end{tabular}\n",
              "\\end{center}\n",
              "\\end{table}\n",
              "\\bigskip\n"
            ],
            "text/plain": [
              "<class 'statsmodels.iolib.summary2.Summary'>\n",
              "\"\"\"\n",
              "                             Results: Logit\n",
              "========================================================================\n",
              "Model:                Logit              Method:             MLE        \n",
              "Dependent Variable:   Clicked on Ad      Pseudo R-squared:   0.735      \n",
              "Date:                 2023-12-03 13:24   AIC:                250.9323   \n",
              "No. Observations:     663                BIC:                273.4161   \n",
              "Df Model:             4                  Log-Likelihood:     -120.47    \n",
              "Df Residuals:         658                LL-Null:            -454.60    \n",
              "Converged:            1.0000             LLR p-value:        2.5963e-143\n",
              "No. Iterations:       8.0000             Scale:              1.0000     \n",
              "------------------------------------------------------------------------\n",
              "                          Coef.  Std.Err.    z    P>|z|   [0.025  0.975]\n",
              "------------------------------------------------------------------------\n",
              "Daily Time Spent on Site -0.0187   0.0122 -1.5323 0.1255 -0.0426  0.0052\n",
              "Age                       0.3743   0.0330 11.3272 0.0000  0.3095  0.4390\n",
              "Area Income              -0.0001   0.0000 -5.0664 0.0000 -0.0001 -0.0000\n",
              "Daily Internet Usage     -0.0459   0.0060 -7.6648 0.0000 -0.0576 -0.0342\n",
              "Male                     -1.1956   0.3861 -3.0968 0.0020 -1.9524 -0.4389\n",
              "========================================================================\n",
              "\n",
              "\"\"\""
            ]
          },
          "execution_count": 94,
          "metadata": {},
          "output_type": "execute_result"
        }
      ],
      "source": [
        "logit_st = sm.Logit(y_train_st, x_train_st)\n",
        "model_st =logit_st.fit()\n",
        "model_st.summary2()"
      ]
    },
    {
      "cell_type": "markdown",
      "id": "7940dbb1-fdc8-4228-98fa-1f599ccd6249",
      "metadata": {
        "id": "7940dbb1-fdc8-4228-98fa-1f599ccd6249"
      },
      "source": [
        "Habiendo ajustado el modelo de regresión lineal, se tienen los siguientes resultados\n",
        "\n",
        "- Sin Balanceo: AIC = 133.2529\n",
        "- Balanceo Undersampling: AIC = 63.8057\n",
        "- Balanceo Oversampling: AIC = 352.5112\n",
        "- Balanceo SMOTE: AIC = 247.8671\n",
        "\n",
        "Con ello concluimos que el mejor modelo tomando como base el **Criterio de Información de Akaike** es el que utiliza el balanceo Undersampling"
      ]
    },
    {
      "cell_type": "code",
      "execution_count": null,
      "id": "dbcecc12-e53f-4982-8272-3b89d8fef23a",
      "metadata": {
        "id": "dbcecc12-e53f-4982-8272-3b89d8fef23a",
        "outputId": "c22dbb83-484d-46f6-e298-b399409a1507"
      },
      "outputs": [
        {
          "data": {
            "text/plain": [
              "array([[96,  3],\n",
              "       [ 1, 20]], dtype=int64)"
            ]
          },
          "execution_count": 95,
          "metadata": {},
          "output_type": "execute_result"
        }
      ],
      "source": [
        "from sklearn.metrics import confusion_matrix\n",
        "confusion_matrix(y_test, lr_under.predict(x_test))"
      ]
    },
    {
      "cell_type": "code",
      "execution_count": null,
      "id": "0f23242e-ecfc-496d-b703-1935d57a22b8",
      "metadata": {
        "id": "0f23242e-ecfc-496d-b703-1935d57a22b8",
        "outputId": "38fcd77c-31b5-4c10-f241-bd7309d7665d"
      },
      "outputs": [
        {
          "data": {
            "text/plain": [
              "Text(0.5, 1.0, 'Test')"
            ]
          },
          "execution_count": 96,
          "metadata": {},
          "output_type": "execute_result"
        },
        {
          "data": {
            "image/png": "[encoded data removed]",
            "text/plain": [
              "<Figure size 1700x500 with 4 Axes>"
            ]
          },
          "metadata": {},
          "output_type": "display_data"
        }
      ],
      "source": [
        "matriz_confusion_train = pd.crosstab(lr_under.predict(x_train_under),y_train_under)\n",
        "matriz_confusion_test = pd.crosstab(lr_under.predict(x_test),y_test)\n",
        "fig = plt.figure(figsize = (17,5))\n",
        "ax1 = plt.subplot(121)\n",
        "sns.heatmap(matriz_confusion_train, annot = True, cmap = \"Blues\")\n",
        "ax1.set_title(\"Train\")\n",
        "ax2 = plt.subplot(122)\n",
        "sns.heatmap(matriz_confusion_test, annot = True, cmap = \"Blues\")\n",
        "ax2.set_title(\"Test\")"
      ]
    },
    {
      "cell_type": "markdown",
      "id": "a1b976ed-e6d8-4310-a808-06ad7bd64312",
      "metadata": {
        "id": "a1b976ed-e6d8-4310-a808-06ad7bd64312"
      },
      "source": [
        "#### Calculando las métricas importantes utilizando la matriz de confusión"
      ]
    },
    {
      "cell_type": "code",
      "execution_count": null,
      "id": "5d16a5b8-e549-4233-acb8-7900720dc15a",
      "metadata": {
        "id": "5d16a5b8-e549-4233-acb8-7900720dc15a"
      },
      "outputs": [],
      "source": [
        "from sklearn.metrics import accuracy_score\n",
        "from sklearn.metrics import precision_score\n",
        "from sklearn.metrics import recall_score\n",
        "from sklearn.metrics import f1_score"
      ]
    },
    {
      "cell_type": "markdown",
      "id": "57905577-58f0-4b03-b8d6-05fa5e060fc8",
      "metadata": {
        "id": "57905577-58f0-4b03-b8d6-05fa5e060fc8"
      },
      "source": [
        "**Accuracy (Exactitud)**: Mide el porcentaje de casos acertados por el modelo  "
      ]
    },
    {
      "cell_type": "code",
      "execution_count": null,
      "id": "1e06d6ba-ccdd-4e8b-9112-6ebea7b4df68",
      "metadata": {
        "id": "1e06d6ba-ccdd-4e8b-9112-6ebea7b4df68",
        "outputId": "23a03d28-e31b-46c6-acdc-f736ee81dc47"
      },
      "outputs": [
        {
          "data": {
            "text/plain": [
              "0.9666666666666667"
            ]
          },
          "execution_count": 100,
          "metadata": {},
          "output_type": "execute_result"
        }
      ],
      "source": [
        "accuracy = np.trace(matriz_confusion_test)/matriz_confusion_test.sum().sum()\n",
        "accuracy"
      ]
    },
    {
      "cell_type": "code",
      "execution_count": null,
      "id": "2327e525-d43f-4772-8d0f-1a49ba2a6894",
      "metadata": {
        "id": "2327e525-d43f-4772-8d0f-1a49ba2a6894",
        "outputId": "04caadbe-6f9a-4ffc-9447-200d2301107b"
      },
      "outputs": [
        {
          "data": {
            "text/plain": [
              "0.9666666666666667"
            ]
          },
          "execution_count": 99,
          "metadata": {},
          "output_type": "execute_result"
        }
      ],
      "source": [
        "accuracy_score(y_test, lr_under.predict(x_test))"
      ]
    },
    {
      "cell_type": "markdown",
      "id": "15bb7f7d-bdc5-4ce3-9eff-12e4b3746724",
      "metadata": {
        "id": "15bb7f7d-bdc5-4ce3-9eff-12e4b3746724"
      },
      "source": [
        "**Recall(Exhaustividad):** Mide la capacidad de identificación del modelo."
      ]
    },
    {
      "cell_type": "code",
      "execution_count": null,
      "id": "2fbe6fc5-f63a-4cc5-b6e1-9adc657af4e2",
      "metadata": {
        "id": "2fbe6fc5-f63a-4cc5-b6e1-9adc657af4e2",
        "outputId": "ef0bf433-2fea-403d-f45a-8feaa4988b94"
      },
      "outputs": [
        {
          "data": {
            "text/plain": [
              "0.9523809523809523"
            ]
          },
          "execution_count": 106,
          "metadata": {},
          "output_type": "execute_result"
        }
      ],
      "source": [
        "recall = matriz_confusion_test[1][1]/matriz_confusion_test[1].sum()\n",
        "recall"
      ]
    },
    {
      "cell_type": "code",
      "execution_count": null,
      "id": "5089b090-16f0-4bfa-b0ca-b5f6723d2fb4",
      "metadata": {
        "id": "5089b090-16f0-4bfa-b0ca-b5f6723d2fb4",
        "outputId": "d794e325-04c7-4d9f-e0cf-724fa37c30e1"
      },
      "outputs": [
        {
          "data": {
            "text/plain": [
              "0.9523809523809523"
            ]
          },
          "execution_count": 107,
          "metadata": {},
          "output_type": "execute_result"
        }
      ],
      "source": [
        "recall_score(y_test, lr_under.predict(x_test))"
      ]
    },
    {
      "cell_type": "markdown",
      "id": "1dd10a2d-9077-417c-bbe8-c00acc4b883a",
      "metadata": {
        "id": "1dd10a2d-9077-417c-bbe8-c00acc4b883a"
      },
      "source": [
        "**Precisión:**"
      ]
    },
    {
      "cell_type": "code",
      "execution_count": null,
      "id": "a69b9b67-a788-42b7-a622-60461d9953c1",
      "metadata": {
        "scrolled": true,
        "id": "a69b9b67-a788-42b7-a622-60461d9953c1",
        "outputId": "f59ea171-48ee-4e60-c8be-2e676e53d811"
      },
      "outputs": [
        {
          "data": {
            "text/plain": [
              "0.8695652173913043"
            ]
          },
          "execution_count": 104,
          "metadata": {},
          "output_type": "execute_result"
        }
      ],
      "source": [
        "precision = matriz_confusion_test.iloc[1,1]/matriz_confusion_test.iloc[1].sum()\n",
        "precision"
      ]
    },
    {
      "cell_type": "code",
      "execution_count": null,
      "id": "9e9255fd-a4e4-4411-97e7-1b99f1457962",
      "metadata": {
        "id": "9e9255fd-a4e4-4411-97e7-1b99f1457962",
        "outputId": "48d5c016-ca90-4ddc-f9df-7af33951de86"
      },
      "outputs": [
        {
          "data": {
            "text/plain": [
              "0.8695652173913043"
            ]
          },
          "execution_count": 105,
          "metadata": {},
          "output_type": "execute_result"
        }
      ],
      "source": [
        "precision_score(y_test, lr_under.predict(x_test))"
      ]
    },
    {
      "cell_type": "markdown",
      "id": "e7633b65-db83-423e-ad06-d4f1d8a4410e",
      "metadata": {
        "id": "e7633b65-db83-423e-ad06-d4f1d8a4410e"
      },
      "source": [
        "**F1 Score:** Combina las medidas de precisión y recall en un solo valor"
      ]
    },
    {
      "cell_type": "code",
      "execution_count": null,
      "id": "37943654-435b-44e7-850f-0670327b79ec",
      "metadata": {
        "id": "37943654-435b-44e7-850f-0670327b79ec",
        "outputId": "4a5053a7-68bd-4dbe-80c1-2b17160769b7"
      },
      "outputs": [
        {
          "data": {
            "text/plain": [
              "0.8076923076923077"
            ]
          },
          "execution_count": 44,
          "metadata": {},
          "output_type": "execute_result"
        }
      ],
      "source": [
        "f1 = 2*precision*recall/(precision+recall)\n",
        "f1"
      ]
    },
    {
      "cell_type": "code",
      "execution_count": null,
      "id": "b9fe397d-f42b-4a9b-8cfc-69956e9f13da",
      "metadata": {
        "id": "b9fe397d-f42b-4a9b-8cfc-69956e9f13da",
        "outputId": "1f090624-ceb8-431a-f6cc-81d5c75ff8e6"
      },
      "outputs": [
        {
          "data": {
            "text/plain": [
              "0.8076923076923077"
            ]
          },
          "execution_count": 45,
          "metadata": {},
          "output_type": "execute_result"
        }
      ],
      "source": [
        "f1_score(y_test, lr_under.predict(x_test))"
      ]
    },
    {
      "cell_type": "code",
      "execution_count": null,
      "id": "80dd2713-e9cd-4925-9894-66a11bb722f1",
      "metadata": {
        "id": "80dd2713-e9cd-4925-9894-66a11bb722f1",
        "outputId": "c4ff313d-f78d-4064-e394-8a3be49004ff"
      },
      "outputs": [
        {
          "data": {
            "text/plain": [
              "array([0, 0, 1, 0, 0, 0, 0, 1, 0, 0, 0, 0, 0, 1, 0, 0, 0, 0, 0, 0, 0, 1,\n",
              "       0, 0, 0, 0, 0, 0, 0, 0, 0, 0, 0, 0, 0, 0, 0, 0, 1, 0, 0, 0, 0, 0,\n",
              "       0, 0, 0, 0, 0, 0, 0, 0, 0, 1, 1, 1, 1, 0, 0, 0, 0, 1, 0, 0, 0, 1,\n",
              "       0, 0, 1, 0, 0, 1, 0, 0, 0, 0, 0, 0, 1, 0, 0, 0, 0, 1, 0, 1, 0, 0,\n",
              "       0, 0, 1, 0, 1, 0, 0, 0, 0, 0, 0, 1, 1, 0, 0, 1, 0, 0, 0, 0, 0, 0,\n",
              "       0, 0, 0, 0, 0, 0, 0, 0, 0, 0], dtype=int64)"
            ]
          },
          "execution_count": 46,
          "metadata": {},
          "output_type": "execute_result"
        }
      ],
      "source": [
        "y_test.ravel()"
      ]
    },
    {
      "cell_type": "markdown",
      "id": "e6871736-1b2a-42d8-8e30-a18585bb97d3",
      "metadata": {
        "id": "e6871736-1b2a-42d8-8e30-a18585bb97d3"
      },
      "source": [
        "#### Reporte con todos los indicadores"
      ]
    },
    {
      "cell_type": "code",
      "execution_count": null,
      "id": "ff56285c-7a95-45b4-a3ad-9178d0e7e953",
      "metadata": {
        "id": "ff56285c-7a95-45b4-a3ad-9178d0e7e953"
      },
      "outputs": [],
      "source": [
        "from sklearn.metrics import classification_report"
      ]
    },
    {
      "cell_type": "code",
      "execution_count": null,
      "id": "5abd08fa-e74a-444d-8260-51f8a601ecd5",
      "metadata": {
        "id": "5abd08fa-e74a-444d-8260-51f8a601ecd5",
        "outputId": "ab36dc8d-4559-4d63-f712-66d3ad5932c6"
      },
      "outputs": [
        {
          "name": "stdout",
          "output_type": "stream",
          "text": [
            "              precision    recall  f1-score   support\n",
            "\n",
            "           0       1.00      0.90      0.95        99\n",
            "           1       0.68      1.00      0.81        21\n",
            "\n",
            "    accuracy                           0.92       120\n",
            "   macro avg       0.84      0.95      0.88       120\n",
            "weighted avg       0.94      0.92      0.92       120\n",
            "\n"
          ]
        }
      ],
      "source": [
        "print(classification_report(y_test, lr_under.predict(x_test)))"
      ]
    },
    {
      "cell_type": "code",
      "execution_count": null,
      "id": "de699b8b-9c38-4a4e-85df-627be312b3f9",
      "metadata": {
        "id": "de699b8b-9c38-4a4e-85df-627be312b3f9",
        "outputId": "f60475c6-4a07-4056-a6c6-47802dad949b"
      },
      "outputs": [
        {
          "data": {
            "image/png": "[encoded data removed]",
            "text/plain": [
              "<Figure size 640x480 with 1 Axes>"
            ]
          },
          "metadata": {},
          "output_type": "display_data"
        }
      ],
      "source": [
        "from sklearn.metrics import roc_curve\n",
        "from sklearn.metrics import precision_recall_curve\n",
        "from sklearn.metrics import roc_auc_score\n",
        "\n",
        "r_probs = [0 for _ in range(len(y_test))]\n",
        "lr_probs = lr_under.predict_proba(x_test)[:,1]\n",
        "\n",
        "r_auc = roc_auc_score(y_test, r_probs)\n",
        "lr_auc = roc_auc_score(y_test, lr_probs)\n",
        "\n",
        "r_fpr, r_tpr, _ = roc_curve(y_test, r_probs)\n",
        "lr_fpr, lr_tpr, _ = roc_curve(y_test, lr_probs)\n",
        "\n",
        "plt.plot(r_fpr, r_tpr, linestyle = \"--\", label = \"Random Prediction (AUC = %0.3f)\" % r_auc)\n",
        "plt.plot(lr_fpr, lr_tpr, marker = \".\", label  = \"Logistic Regresion (AUC = %0.3f)\" % lr_auc)\n",
        "plt.title(\"ROC Plot\")\n",
        "plt.xlabel(\"False Positive Rate\")\n",
        "plt.ylabel(\"True positive Rate\")\n",
        "plt.legend()\n",
        "plt.show()"
      ]
    }
  ],
  "metadata": {
    "kernelspec": {
      "display_name": "Python 3 (ipykernel)",
      "language": "python",
      "name": "python3"
    },
    "language_info": {
      "codemirror_mode": {
        "name": "ipython",
        "version": 3
      },
      "file_extension": ".py",
      "mimetype": "text/x-python",
      "name": "python",
      "nbconvert_exporter": "python",
      "pygments_lexer": "ipython3",
      "version": "3.11.4"
    },
    "colab": {
      "provenance": []
    }
  },
  "nbformat": 4,
  "nbformat_minor": 5
}