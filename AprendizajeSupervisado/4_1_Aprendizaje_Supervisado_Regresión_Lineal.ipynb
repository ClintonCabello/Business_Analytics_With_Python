{
  "cells": [
    {
      "cell_type": "code",
      "execution_count": null,
      "id": "91e45425",
      "metadata": {
        "id": "91e45425"
      },
      "outputs": [],
      "source": [
        "import pandas as pd\n",
        "import numpy as np\n",
        "import seaborn as sns\n",
        "import matplotlib.pyplot as plt\n",
        "import os\n",
        "import warnings\n",
        "warnings.filterwarnings(\"ignore\")"
      ]
    },
    {
      "cell_type": "markdown",
      "id": "0b06a453",
      "metadata": {
        "id": "0b06a453"
      },
      "source": [
        "# Regresión Lineal Simple"
      ]
    },
    {
      "cell_type": "code",
      "execution_count": null,
      "id": "c082d6e8",
      "metadata": {
        "id": "c082d6e8",
        "outputId": "b263b688-6eed-4627-aa33-278cdd7f2ff8"
      },
      "outputs": [
        {
          "data": {
            "text/html": [
              "<div>\n",
              "<style scoped>\n",
              "    .dataframe tbody tr th:only-of-type {\n",
              "        vertical-align: middle;\n",
              "    }\n",
              "\n",
              "    .dataframe tbody tr th {\n",
              "        vertical-align: top;\n",
              "    }\n",
              "\n",
              "    .dataframe thead th {\n",
              "        text-align: right;\n",
              "    }\n",
              "</style>\n",
              "<table border=\"1\" class=\"dataframe\">\n",
              "  <thead>\n",
              "    <tr style=\"text-align: right;\">\n",
              "      <th></th>\n",
              "      <th>exp_laboral</th>\n",
              "      <th>salario</th>\n",
              "    </tr>\n",
              "  </thead>\n",
              "  <tbody>\n",
              "    <tr>\n",
              "      <th>0</th>\n",
              "      <td>0</td>\n",
              "      <td>1000</td>\n",
              "    </tr>\n",
              "    <tr>\n",
              "      <th>1</th>\n",
              "      <td>5</td>\n",
              "      <td>5000</td>\n",
              "    </tr>\n",
              "    <tr>\n",
              "      <th>2</th>\n",
              "      <td>10</td>\n",
              "      <td>7000</td>\n",
              "    </tr>\n",
              "    <tr>\n",
              "      <th>3</th>\n",
              "      <td>15</td>\n",
              "      <td>6000</td>\n",
              "    </tr>\n",
              "    <tr>\n",
              "      <th>4</th>\n",
              "      <td>20</td>\n",
              "      <td>13000</td>\n",
              "    </tr>\n",
              "    <tr>\n",
              "      <th>5</th>\n",
              "      <td>25</td>\n",
              "      <td>12000</td>\n",
              "    </tr>\n",
              "    <tr>\n",
              "      <th>6</th>\n",
              "      <td>30</td>\n",
              "      <td>17000</td>\n",
              "    </tr>\n",
              "  </tbody>\n",
              "</table>\n",
              "</div>"
            ],
            "text/plain": [
              "   exp_laboral  salario\n",
              "0            0     1000\n",
              "1            5     5000\n",
              "2           10     7000\n",
              "3           15     6000\n",
              "4           20    13000\n",
              "5           25    12000\n",
              "6           30    17000"
            ]
          },
          "execution_count": 3,
          "metadata": {},
          "output_type": "execute_result"
        }
      ],
      "source": [
        "# Creamos una base de prueba\n",
        "exp_laboral = [0,5,10,15,20,25,30]\n",
        "salario = [1000,5000,7000,6000,13000,12000,17000]\n",
        "df = {\"exp_laboral\":exp_laboral,\"salario\":salario}\n",
        "df = pd.DataFrame(df)\n",
        "df"
      ]
    },
    {
      "cell_type": "code",
      "execution_count": null,
      "id": "cfc2f0a6",
      "metadata": {
        "id": "cfc2f0a6",
        "outputId": "9bf8c670-8017-465f-83ba-b11581308206"
      },
      "outputs": [
        {
          "data": {
            "text/plain": [
              "<matplotlib.collections.PathCollection at 0x2a8cfdeaad0>"
            ]
          },
          "execution_count": 4,
          "metadata": {},
          "output_type": "execute_result"
        },
        {
          "data": {
            "image/png": "[encoded data removed]",
            "text/plain": [
              "<Figure size 640x480 with 1 Axes>"
            ]
          },
          "metadata": {},
          "output_type": "display_data"
        }
      ],
      "source": [
        "# Graficamos un scatterplot de la base\n",
        "plt.scatter(df[\"exp_laboral\"],df[\"salario\"])"
      ]
    },
    {
      "cell_type": "code",
      "execution_count": null,
      "id": "0e6a9d2e",
      "metadata": {
        "id": "0e6a9d2e"
      },
      "outputs": [],
      "source": [
        "# Seleccionamos a la variable predictora y el target\n",
        "x = df[[\"exp_laboral\"]].values\n",
        "y = df[[\"salario\"]].values"
      ]
    },
    {
      "cell_type": "code",
      "execution_count": null,
      "id": "deb3ec20",
      "metadata": {
        "id": "deb3ec20",
        "outputId": "16665dfb-51ea-4ada-fc14-4454dae7776a"
      },
      "outputs": [
        {
          "data": {
            "text/html": [
              "<style>#sk-container-id-1 {color: black;}#sk-container-id-1 pre{padding: 0;}#sk-container-id-1 div.sk-toggleable {background-color: white;}#sk-container-id-1 label.sk-toggleable__label {cursor: pointer;display: block;width: 100%;margin-bottom: 0;padding: 0.3em;box-sizing: border-box;text-align: center;}#sk-container-id-1 label.sk-toggleable__label-arrow:before {content: \"▸\";float: left;margin-right: 0.25em;color: #696969;}#sk-container-id-1 label.sk-toggleable__label-arrow:hover:before {color: black;}#sk-container-id-1 div.sk-estimator:hover label.sk-toggleable__label-arrow:before {color: black;}#sk-container-id-1 div.sk-toggleable__content {max-height: 0;max-width: 0;overflow: hidden;text-align: left;background-color: #f0f8ff;}#sk-container-id-1 div.sk-toggleable__content pre {margin: 0.2em;color: black;border-radius: 0.25em;background-color: #f0f8ff;}#sk-container-id-1 input.sk-toggleable__control:checked~div.sk-toggleable__content {max-height: 200px;max-width: 100%;overflow: auto;}#sk-container-id-1 input.sk-toggleable__control:checked~label.sk-toggleable__label-arrow:before {content: \"▾\";}#sk-container-id-1 div.sk-estimator input.sk-toggleable__control:checked~label.sk-toggleable__label {background-color: #d4ebff;}#sk-container-id-1 div.sk-label input.sk-toggleable__control:checked~label.sk-toggleable__label {background-color: #d4ebff;}#sk-container-id-1 input.sk-hidden--visually {border: 0;clip: rect(1px 1px 1px 1px);clip: rect(1px, 1px, 1px, 1px);height: 1px;margin: -1px;overflow: hidden;padding: 0;position: absolute;width: 1px;}#sk-container-id-1 div.sk-estimator {font-family: monospace;background-color: #f0f8ff;border: 1px dotted black;border-radius: 0.25em;box-sizing: border-box;margin-bottom: 0.5em;}#sk-container-id-1 div.sk-estimator:hover {background-color: #d4ebff;}#sk-container-id-1 div.sk-parallel-item::after {content: \"\";width: 100%;border-bottom: 1px solid gray;flex-grow: 1;}#sk-container-id-1 div.sk-label:hover label.sk-toggleable__label {background-color: #d4ebff;}#sk-container-id-1 div.sk-serial::before {content: \"\";position: absolute;border-left: 1px solid gray;box-sizing: border-box;top: 0;bottom: 0;left: 50%;z-index: 0;}#sk-container-id-1 div.sk-serial {display: flex;flex-direction: column;align-items: center;background-color: white;padding-right: 0.2em;padding-left: 0.2em;position: relative;}#sk-container-id-1 div.sk-item {position: relative;z-index: 1;}#sk-container-id-1 div.sk-parallel {display: flex;align-items: stretch;justify-content: center;background-color: white;position: relative;}#sk-container-id-1 div.sk-item::before, #sk-container-id-1 div.sk-parallel-item::before {content: \"\";position: absolute;border-left: 1px solid gray;box-sizing: border-box;top: 0;bottom: 0;left: 50%;z-index: -1;}#sk-container-id-1 div.sk-parallel-item {display: flex;flex-direction: column;z-index: 1;position: relative;background-color: white;}#sk-container-id-1 div.sk-parallel-item:first-child::after {align-self: flex-end;width: 50%;}#sk-container-id-1 div.sk-parallel-item:last-child::after {align-self: flex-start;width: 50%;}#sk-container-id-1 div.sk-parallel-item:only-child::after {width: 0;}#sk-container-id-1 div.sk-dashed-wrapped {border: 1px dashed gray;margin: 0 0.4em 0.5em 0.4em;box-sizing: border-box;padding-bottom: 0.4em;background-color: white;}#sk-container-id-1 div.sk-label label {font-family: monospace;font-weight: bold;display: inline-block;line-height: 1.2em;}#sk-container-id-1 div.sk-label-container {text-align: center;}#sk-container-id-1 div.sk-container {/* jupyter's `normalize.less` sets `[hidden] { display: none; }` but bootstrap.min.css set `[hidden] { display: none !important; }` so we also need the `!important` here to be able to override the default hidden behavior on the sphinx rendered scikit-learn.org. See: https://github.com/scikit-learn/scikit-learn/issues/21755 */display: inline-block !important;position: relative;}#sk-container-id-1 div.sk-text-repr-fallback {display: none;}</style><div id=\"sk-container-id-1\" class=\"sk-top-container\"><div class=\"sk-text-repr-fallback\"><pre>LinearRegression()</pre><b>In a Jupyter environment, please rerun this cell to show the HTML representation or trust the notebook. <br />On GitHub, the HTML representation is unable to render, please try loading this page with nbviewer.org.</b></div><div class=\"sk-container\" hidden><div class=\"sk-item\"><div class=\"sk-estimator sk-toggleable\"><input class=\"sk-toggleable__control sk-hidden--visually\" id=\"sk-estimator-id-1\" type=\"checkbox\" checked><label for=\"sk-estimator-id-1\" class=\"sk-toggleable__label sk-toggleable__label-arrow\">LinearRegression</label><div class=\"sk-toggleable__content\"><pre>LinearRegression()</pre></div></div></div></div></div>"
            ],
            "text/plain": [
              "LinearRegression()"
            ]
          },
          "execution_count": 6,
          "metadata": {},
          "output_type": "execute_result"
        }
      ],
      "source": [
        "# Ajustamos el modelo de regresión lineal simple\n",
        "from sklearn.linear_model import LinearRegression\n",
        "mod_lineal = LinearRegression()\n",
        "mod_lineal.fit(x,y)"
      ]
    },
    {
      "cell_type": "code",
      "execution_count": null,
      "id": "ff192992",
      "metadata": {
        "id": "ff192992",
        "outputId": "4ee882e8-8934-4ca4-ba20-4879cdfb684f"
      },
      "outputs": [
        {
          "data": {
            "text/plain": [
              "array([1428.57142857])"
            ]
          },
          "execution_count": 8,
          "metadata": {},
          "output_type": "execute_result"
        }
      ],
      "source": [
        "# Mostramos el valor del intercepto\n",
        "mod_lineal.intercept_"
      ]
    },
    {
      "cell_type": "code",
      "execution_count": null,
      "id": "107102bb",
      "metadata": {
        "id": "107102bb",
        "outputId": "51159cbe-a522-43ea-9293-09eeedd90b90"
      },
      "outputs": [
        {
          "data": {
            "text/plain": [
              "array([[485.71428571]])"
            ]
          },
          "execution_count": 9,
          "metadata": {},
          "output_type": "execute_result"
        }
      ],
      "source": [
        "# Mostramos el valor del coeficiente\n",
        "mod_lineal.coef_"
      ]
    },
    {
      "cell_type": "markdown",
      "id": "09e69568-4f3b-4bdb-8f77-5a3380c47d87",
      "metadata": {
        "id": "09e69568-4f3b-4bdb-8f77-5a3380c47d87"
      },
      "source": [
        "Resultado: El modelo de regresión lineal es Salario = 1428.57+485.714 Experiencia Laboral"
      ]
    },
    {
      "cell_type": "code",
      "execution_count": null,
      "id": "85b5e18f",
      "metadata": {
        "id": "85b5e18f",
        "outputId": "f0e62292-cc54-4a02-e276-896a6eace640"
      },
      "outputs": [
        {
          "data": {
            "text/plain": [
              "array([[ 1428.57142857],\n",
              "       [ 3857.14285714],\n",
              "       [ 6285.71428571],\n",
              "       [ 8714.28571429],\n",
              "       [11142.85714286],\n",
              "       [13571.42857143],\n",
              "       [16000.        ]])"
            ]
          },
          "execution_count": 10,
          "metadata": {},
          "output_type": "execute_result"
        }
      ],
      "source": [
        "# Calculamos el y_estimado\n",
        "y_est = mod_lineal.intercept_ + mod_lineal.coef_*x\n",
        "y_est"
      ]
    },
    {
      "cell_type": "code",
      "execution_count": null,
      "id": "b66cf799",
      "metadata": {
        "id": "b66cf799",
        "outputId": "63425ab0-4f53-4e0d-a27b-dae8d24aaa61"
      },
      "outputs": [
        {
          "data": {
            "image/png": "[encoded data removed]",
            "text/plain": [
              "<Figure size 640x480 with 1 Axes>"
            ]
          },
          "metadata": {},
          "output_type": "display_data"
        }
      ],
      "source": [
        "# Graficamos en un mismo gráfico al y_real y y_est\n",
        "plt.scatter(x,y)\n",
        "plt.scatter(x,y_est)\n",
        "plt.plot(x,y_est)\n",
        "plt.show()"
      ]
    },
    {
      "cell_type": "markdown",
      "id": "5bf5b701",
      "metadata": {
        "id": "5bf5b701"
      },
      "source": [
        "### Bondad de ajuste"
      ]
    },
    {
      "cell_type": "code",
      "execution_count": null,
      "id": "436eddfd",
      "metadata": {
        "id": "436eddfd",
        "outputId": "1312f848-f1f8-48f3-b792-ee7d79434a20"
      },
      "outputs": [
        {
          "data": {
            "text/plain": [
              "0.9102362204724409"
            ]
          },
          "execution_count": 12,
          "metadata": {},
          "output_type": "execute_result"
        }
      ],
      "source": [
        "# Calculamos el R2\n",
        "mod_lineal.score(x,y)"
      ]
    },
    {
      "cell_type": "markdown",
      "id": "3c6bc837",
      "metadata": {
        "id": "3c6bc837"
      },
      "source": [
        "### Métricas para calcular el error"
      ]
    },
    {
      "cell_type": "code",
      "execution_count": null,
      "id": "1f89ea9f",
      "metadata": {
        "id": "1f89ea9f"
      },
      "outputs": [],
      "source": [
        "# Primero debemos obtener los residuales.\n",
        "resid = y - y_est"
      ]
    },
    {
      "cell_type": "markdown",
      "id": "9ef4351d",
      "metadata": {
        "id": "9ef4351d"
      },
      "source": [
        "#### MSE"
      ]
    },
    {
      "cell_type": "code",
      "execution_count": null,
      "id": "6a54c592",
      "metadata": {
        "id": "6a54c592",
        "outputId": "b4f49b71-265f-4c22-c6e6-e0b4fb9c137e"
      },
      "outputs": [
        {
          "data": {
            "text/plain": [
              "2326530.612244898"
            ]
          },
          "execution_count": 14,
          "metadata": {},
          "output_type": "execute_result"
        }
      ],
      "source": [
        "mse=sum(resid**2)/len(resid)\n",
        "mse[0]"
      ]
    },
    {
      "cell_type": "code",
      "execution_count": null,
      "id": "779271c0",
      "metadata": {
        "id": "779271c0"
      },
      "outputs": [],
      "source": [
        "from sklearn.metrics import mean_squared_error"
      ]
    },
    {
      "cell_type": "code",
      "execution_count": null,
      "id": "d8e27b1a",
      "metadata": {
        "id": "d8e27b1a",
        "outputId": "a67d7c65-3f52-45c1-9b97-e254110ba1e6"
      },
      "outputs": [
        {
          "data": {
            "text/plain": [
              "2326530.612244898"
            ]
          },
          "execution_count": 16,
          "metadata": {},
          "output_type": "execute_result"
        }
      ],
      "source": [
        "mean_squared_error(y,y_est)"
      ]
    },
    {
      "cell_type": "markdown",
      "id": "83f5e050",
      "metadata": {
        "id": "83f5e050"
      },
      "source": [
        "#### RMSE"
      ]
    },
    {
      "cell_type": "code",
      "execution_count": null,
      "id": "22faaf6f",
      "metadata": {
        "id": "22faaf6f",
        "outputId": "928a2e86-6ca3-4fff-a5ee-8def2e6b33f0"
      },
      "outputs": [
        {
          "data": {
            "text/plain": [
              "1525.2968931473301"
            ]
          },
          "execution_count": 17,
          "metadata": {},
          "output_type": "execute_result"
        }
      ],
      "source": [
        "import math as m\n",
        "rmse=m.sqrt(sum(resid**2)/len(resid))\n",
        "rmse"
      ]
    },
    {
      "cell_type": "code",
      "execution_count": null,
      "id": "ade4ff7d",
      "metadata": {
        "id": "ade4ff7d",
        "outputId": "717cd581-2f0c-4333-a27b-4f5cfbd93cf0"
      },
      "outputs": [
        {
          "data": {
            "text/plain": [
              "1525.2968931473301"
            ]
          },
          "execution_count": 18,
          "metadata": {},
          "output_type": "execute_result"
        }
      ],
      "source": [
        "m.sqrt(mean_squared_error(y,y_est))"
      ]
    },
    {
      "cell_type": "markdown",
      "id": "484a575f",
      "metadata": {
        "id": "484a575f"
      },
      "source": [
        "# Regresión Lineal Múltiple"
      ]
    },
    {
      "cell_type": "code",
      "execution_count": null,
      "id": "840c431a-ba13-40e7-a7fd-64945b3c3296",
      "metadata": {
        "id": "840c431a-ba13-40e7-a7fd-64945b3c3296"
      },
      "outputs": [],
      "source": [
        "import pandas as pd\n",
        "import numpy as np\n",
        "import seaborn as sns\n",
        "import matplotlib.pyplot as plt\n",
        "import os\n",
        "import warnings\n",
        "warnings.filterwarnings(\"ignore\")"
      ]
    },
    {
      "cell_type": "markdown",
      "id": "fa93e53f-d3ac-4877-90e9-7afd8fe1b3fe",
      "metadata": {
        "id": "fa93e53f-d3ac-4877-90e9-7afd8fe1b3fe"
      },
      "source": [
        "**CASO**\n",
        "\n",
        "El siguiente conjunto de datos se refiere a los costos médicos que cobra una compañía de seguros. Hay 1338 observaciones con 7 variables diferentes; 1 dependiente (cargos) y 6 independientes (edad, IMC, sexo, fumador, hijos, región). Los cargos son cuánto se cobra el seguro por los servicios médicos, que es un valor numérico. La edad, el IMC y los niños también son números enteros. Sexo y fumador son respuestas binarias (hombre o mujer y sí o no). La región es un estado categórico de ubicación. Las siguientes 6 variables afectan el monto cobrado."
      ]
    },
    {
      "cell_type": "code",
      "execution_count": null,
      "id": "cdee869f",
      "metadata": {
        "id": "cdee869f"
      },
      "outputs": [],
      "source": [
        "# Creamos variables para su posterior uso en la importación de la base\n",
        "path = \"D:\\Briam\\Clases\\Python For Data Science\\Data\".replace(\"\\\\\",\"/\")\n",
        "name = \"insurance.csv\""
      ]
    },
    {
      "cell_type": "code",
      "execution_count": null,
      "id": "07802b62",
      "metadata": {
        "id": "07802b62",
        "outputId": "72315f56-e627-4535-fa14-1ebfe9d9d19c"
      },
      "outputs": [
        {
          "data": {
            "text/html": [
              "<div>\n",
              "<style scoped>\n",
              "    .dataframe tbody tr th:only-of-type {\n",
              "        vertical-align: middle;\n",
              "    }\n",
              "\n",
              "    .dataframe tbody tr th {\n",
              "        vertical-align: top;\n",
              "    }\n",
              "\n",
              "    .dataframe thead th {\n",
              "        text-align: right;\n",
              "    }\n",
              "</style>\n",
              "<table border=\"1\" class=\"dataframe\">\n",
              "  <thead>\n",
              "    <tr style=\"text-align: right;\">\n",
              "      <th></th>\n",
              "      <th>age</th>\n",
              "      <th>sex</th>\n",
              "      <th>bmi</th>\n",
              "      <th>children</th>\n",
              "      <th>smoker</th>\n",
              "      <th>region</th>\n",
              "      <th>charges</th>\n",
              "    </tr>\n",
              "  </thead>\n",
              "  <tbody>\n",
              "    <tr>\n",
              "      <th>0</th>\n",
              "      <td>19</td>\n",
              "      <td>female</td>\n",
              "      <td>27.900</td>\n",
              "      <td>0</td>\n",
              "      <td>yes</td>\n",
              "      <td>southwest</td>\n",
              "      <td>16884.92400</td>\n",
              "    </tr>\n",
              "    <tr>\n",
              "      <th>1</th>\n",
              "      <td>18</td>\n",
              "      <td>male</td>\n",
              "      <td>33.770</td>\n",
              "      <td>1</td>\n",
              "      <td>no</td>\n",
              "      <td>southeast</td>\n",
              "      <td>1725.55230</td>\n",
              "    </tr>\n",
              "    <tr>\n",
              "      <th>2</th>\n",
              "      <td>28</td>\n",
              "      <td>male</td>\n",
              "      <td>33.000</td>\n",
              "      <td>3</td>\n",
              "      <td>no</td>\n",
              "      <td>southeast</td>\n",
              "      <td>4449.46200</td>\n",
              "    </tr>\n",
              "    <tr>\n",
              "      <th>3</th>\n",
              "      <td>33</td>\n",
              "      <td>male</td>\n",
              "      <td>22.705</td>\n",
              "      <td>0</td>\n",
              "      <td>no</td>\n",
              "      <td>northwest</td>\n",
              "      <td>21984.47061</td>\n",
              "    </tr>\n",
              "    <tr>\n",
              "      <th>4</th>\n",
              "      <td>32</td>\n",
              "      <td>male</td>\n",
              "      <td>28.880</td>\n",
              "      <td>0</td>\n",
              "      <td>no</td>\n",
              "      <td>northwest</td>\n",
              "      <td>3866.85520</td>\n",
              "    </tr>\n",
              "  </tbody>\n",
              "</table>\n",
              "</div>"
            ],
            "text/plain": [
              "   age     sex     bmi  children smoker     region      charges\n",
              "0   19  female  27.900         0    yes  southwest  16884.92400\n",
              "1   18    male  33.770         1     no  southeast   1725.55230\n",
              "2   28    male  33.000         3     no  southeast   4449.46200\n",
              "3   33    male  22.705         0     no  northwest  21984.47061\n",
              "4   32    male  28.880         0     no  northwest   3866.85520"
            ]
          },
          "execution_count": 22,
          "metadata": {},
          "output_type": "execute_result"
        }
      ],
      "source": [
        "# Importamos la base\n",
        "df = pd.read_csv(path+\"/\"+name, sep = \",\", header = 0)\n",
        "df.head()"
      ]
    },
    {
      "cell_type": "code",
      "execution_count": null,
      "id": "b135d7b0-41f1-4ed1-8d63-c9a22a159978",
      "metadata": {
        "id": "b135d7b0-41f1-4ed1-8d63-c9a22a159978"
      },
      "outputs": [],
      "source": [
        "df_pre = df.copy()"
      ]
    },
    {
      "cell_type": "code",
      "execution_count": null,
      "id": "ba199d8b",
      "metadata": {
        "id": "ba199d8b",
        "outputId": "7476ef4b-ae1f-4181-c2b8-3c07dbb93ffa"
      },
      "outputs": [
        {
          "data": {
            "text/html": [
              "<div>\n",
              "<style scoped>\n",
              "    .dataframe tbody tr th:only-of-type {\n",
              "        vertical-align: middle;\n",
              "    }\n",
              "\n",
              "    .dataframe tbody tr th {\n",
              "        vertical-align: top;\n",
              "    }\n",
              "\n",
              "    .dataframe thead th {\n",
              "        text-align: right;\n",
              "    }\n",
              "</style>\n",
              "<table border=\"1\" class=\"dataframe\">\n",
              "  <thead>\n",
              "    <tr style=\"text-align: right;\">\n",
              "      <th></th>\n",
              "      <th>age</th>\n",
              "      <th>bmi</th>\n",
              "      <th>children</th>\n",
              "      <th>charges</th>\n",
              "    </tr>\n",
              "  </thead>\n",
              "  <tbody>\n",
              "    <tr>\n",
              "      <th>age</th>\n",
              "      <td>1.000000</td>\n",
              "      <td>0.109272</td>\n",
              "      <td>0.042469</td>\n",
              "      <td>0.299008</td>\n",
              "    </tr>\n",
              "    <tr>\n",
              "      <th>bmi</th>\n",
              "      <td>0.109272</td>\n",
              "      <td>1.000000</td>\n",
              "      <td>0.012759</td>\n",
              "      <td>0.198341</td>\n",
              "    </tr>\n",
              "    <tr>\n",
              "      <th>children</th>\n",
              "      <td>0.042469</td>\n",
              "      <td>0.012759</td>\n",
              "      <td>1.000000</td>\n",
              "      <td>0.067998</td>\n",
              "    </tr>\n",
              "    <tr>\n",
              "      <th>charges</th>\n",
              "      <td>0.299008</td>\n",
              "      <td>0.198341</td>\n",
              "      <td>0.067998</td>\n",
              "      <td>1.000000</td>\n",
              "    </tr>\n",
              "  </tbody>\n",
              "</table>\n",
              "</div>"
            ],
            "text/plain": [
              "               age       bmi  children   charges\n",
              "age       1.000000  0.109272  0.042469  0.299008\n",
              "bmi       0.109272  1.000000  0.012759  0.198341\n",
              "children  0.042469  0.012759  1.000000  0.067998\n",
              "charges   0.299008  0.198341  0.067998  1.000000"
            ]
          },
          "execution_count": 24,
          "metadata": {},
          "output_type": "execute_result"
        }
      ],
      "source": [
        "# Revisando la correlación de las variables numéricas\n",
        "df.select_dtypes(include = np.number).corr(method = \"pearson\")"
      ]
    },
    {
      "cell_type": "code",
      "execution_count": null,
      "id": "d7580ea9",
      "metadata": {
        "id": "d7580ea9",
        "outputId": "79f63c4e-945e-444c-ea0f-fa32f6dc571b"
      },
      "outputs": [
        {
          "data": {
            "text/html": [
              "<div>\n",
              "<style scoped>\n",
              "    .dataframe tbody tr th:only-of-type {\n",
              "        vertical-align: middle;\n",
              "    }\n",
              "\n",
              "    .dataframe tbody tr th {\n",
              "        vertical-align: top;\n",
              "    }\n",
              "\n",
              "    .dataframe thead th {\n",
              "        text-align: right;\n",
              "    }\n",
              "</style>\n",
              "<table border=\"1\" class=\"dataframe\">\n",
              "  <thead>\n",
              "    <tr style=\"text-align: right;\">\n",
              "      <th></th>\n",
              "      <th>sex</th>\n",
              "      <th>smoker</th>\n",
              "      <th>region</th>\n",
              "    </tr>\n",
              "  </thead>\n",
              "  <tbody>\n",
              "    <tr>\n",
              "      <th>0</th>\n",
              "      <td>female</td>\n",
              "      <td>yes</td>\n",
              "      <td>southwest</td>\n",
              "    </tr>\n",
              "    <tr>\n",
              "      <th>1</th>\n",
              "      <td>male</td>\n",
              "      <td>no</td>\n",
              "      <td>southeast</td>\n",
              "    </tr>\n",
              "    <tr>\n",
              "      <th>2</th>\n",
              "      <td>male</td>\n",
              "      <td>no</td>\n",
              "      <td>southeast</td>\n",
              "    </tr>\n",
              "    <tr>\n",
              "      <th>3</th>\n",
              "      <td>male</td>\n",
              "      <td>no</td>\n",
              "      <td>northwest</td>\n",
              "    </tr>\n",
              "    <tr>\n",
              "      <th>4</th>\n",
              "      <td>male</td>\n",
              "      <td>no</td>\n",
              "      <td>northwest</td>\n",
              "    </tr>\n",
              "    <tr>\n",
              "      <th>...</th>\n",
              "      <td>...</td>\n",
              "      <td>...</td>\n",
              "      <td>...</td>\n",
              "    </tr>\n",
              "    <tr>\n",
              "      <th>1333</th>\n",
              "      <td>male</td>\n",
              "      <td>no</td>\n",
              "      <td>northwest</td>\n",
              "    </tr>\n",
              "    <tr>\n",
              "      <th>1334</th>\n",
              "      <td>female</td>\n",
              "      <td>no</td>\n",
              "      <td>northeast</td>\n",
              "    </tr>\n",
              "    <tr>\n",
              "      <th>1335</th>\n",
              "      <td>female</td>\n",
              "      <td>no</td>\n",
              "      <td>southeast</td>\n",
              "    </tr>\n",
              "    <tr>\n",
              "      <th>1336</th>\n",
              "      <td>female</td>\n",
              "      <td>no</td>\n",
              "      <td>southwest</td>\n",
              "    </tr>\n",
              "    <tr>\n",
              "      <th>1337</th>\n",
              "      <td>female</td>\n",
              "      <td>yes</td>\n",
              "      <td>northwest</td>\n",
              "    </tr>\n",
              "  </tbody>\n",
              "</table>\n",
              "<p>1338 rows × 3 columns</p>\n",
              "</div>"
            ],
            "text/plain": [
              "         sex smoker     region\n",
              "0     female    yes  southwest\n",
              "1       male     no  southeast\n",
              "2       male     no  southeast\n",
              "3       male     no  northwest\n",
              "4       male     no  northwest\n",
              "...      ...    ...        ...\n",
              "1333    male     no  northwest\n",
              "1334  female     no  northeast\n",
              "1335  female     no  southeast\n",
              "1336  female     no  southwest\n",
              "1337  female    yes  northwest\n",
              "\n",
              "[1338 rows x 3 columns]"
            ]
          },
          "execution_count": 27,
          "metadata": {},
          "output_type": "execute_result"
        }
      ],
      "source": [
        "# Revisando la correlación de las variables categóricas\n",
        "df_pre.select_dtypes(include = \"object\")"
      ]
    },
    {
      "cell_type": "code",
      "execution_count": null,
      "id": "052c4b93",
      "metadata": {
        "id": "052c4b93",
        "outputId": "f6c44fc5-eb43-4616-dff0-079b7dad353a"
      },
      "outputs": [
        {
          "name": "stdout",
          "output_type": "stream",
          "text": [
            "p-valor Prueba Chi Cuadrado:  sex  -  region : 0.9328921288772233\n",
            "p-valor Prueba Chi Cuadrado:  smoker  -  sex : 0.006548143503580697\n",
            "p-valor Prueba Chi Cuadrado:  smoker  -  region : 0.06171954839170547\n"
          ]
        }
      ],
      "source": [
        "import scipy.stats as scis\n",
        "var_cuali = df.select_dtypes(include = \"object\").columns\n",
        "for i in var_cuali:\n",
        "    for j in var_cuali:\n",
        "        if i>j:\n",
        "            prueba = scis.chi2_contingency(pd.crosstab(df[i],df[j]))\n",
        "            print(\"p-valor Prueba Chi Cuadrado: \",i,\" - \",j,\":\",prueba[1])"
      ]
    },
    {
      "cell_type": "markdown",
      "id": "2e6bcbc8-6b6c-4fb0-b3fc-bdafe3e2950a",
      "metadata": {
        "id": "2e6bcbc8-6b6c-4fb0-b3fc-bdafe3e2950a"
      },
      "source": [
        "Variables no relacionadas: Sexo y Región"
      ]
    },
    {
      "cell_type": "code",
      "execution_count": null,
      "id": "21fb97a9-f0cc-423a-847e-005bfc8d6355",
      "metadata": {
        "id": "21fb97a9-f0cc-423a-847e-005bfc8d6355",
        "outputId": "a5d581bb-cfca-4e1e-e249-6edc9f555d45"
      },
      "outputs": [
        {
          "data": {
            "text/html": [
              "<div>\n",
              "<style scoped>\n",
              "    .dataframe tbody tr th:only-of-type {\n",
              "        vertical-align: middle;\n",
              "    }\n",
              "\n",
              "    .dataframe tbody tr th {\n",
              "        vertical-align: top;\n",
              "    }\n",
              "\n",
              "    .dataframe thead th {\n",
              "        text-align: right;\n",
              "    }\n",
              "</style>\n",
              "<table border=\"1\" class=\"dataframe\">\n",
              "  <thead>\n",
              "    <tr style=\"text-align: right;\">\n",
              "      <th>region</th>\n",
              "      <th>northeast</th>\n",
              "      <th>northwest</th>\n",
              "      <th>southeast</th>\n",
              "      <th>southwest</th>\n",
              "    </tr>\n",
              "    <tr>\n",
              "      <th>sex</th>\n",
              "      <th></th>\n",
              "      <th></th>\n",
              "      <th></th>\n",
              "      <th></th>\n",
              "    </tr>\n",
              "  </thead>\n",
              "  <tbody>\n",
              "    <tr>\n",
              "      <th>female</th>\n",
              "      <td>161</td>\n",
              "      <td>164</td>\n",
              "      <td>175</td>\n",
              "      <td>162</td>\n",
              "    </tr>\n",
              "    <tr>\n",
              "      <th>male</th>\n",
              "      <td>163</td>\n",
              "      <td>161</td>\n",
              "      <td>189</td>\n",
              "      <td>163</td>\n",
              "    </tr>\n",
              "  </tbody>\n",
              "</table>\n",
              "</div>"
            ],
            "text/plain": [
              "region  northeast  northwest  southeast  southwest\n",
              "sex                                               \n",
              "female        161        164        175        162\n",
              "male          163        161        189        163"
            ]
          },
          "execution_count": 34,
          "metadata": {},
          "output_type": "execute_result"
        }
      ],
      "source": [
        "pd.crosstab(df_pre[\"sex\"],df_pre[\"region\"])"
      ]
    },
    {
      "cell_type": "code",
      "execution_count": null,
      "id": "b42486e8-18b3-4d93-b012-4a70dba3bf6a",
      "metadata": {
        "id": "b42486e8-18b3-4d93-b012-4a70dba3bf6a",
        "outputId": "a8eae0fb-78f8-4408-ee2f-640a68f7ef90"
      },
      "outputs": [
        {
          "data": {
            "text/html": [
              "<div>\n",
              "<style scoped>\n",
              "    .dataframe tbody tr th:only-of-type {\n",
              "        vertical-align: middle;\n",
              "    }\n",
              "\n",
              "    .dataframe tbody tr th {\n",
              "        vertical-align: top;\n",
              "    }\n",
              "\n",
              "    .dataframe thead th {\n",
              "        text-align: right;\n",
              "    }\n",
              "</style>\n",
              "<table border=\"1\" class=\"dataframe\">\n",
              "  <thead>\n",
              "    <tr style=\"text-align: right;\">\n",
              "      <th>region</th>\n",
              "      <th>northeast</th>\n",
              "      <th>northwest</th>\n",
              "      <th>southeast</th>\n",
              "      <th>southwest</th>\n",
              "    </tr>\n",
              "    <tr>\n",
              "      <th>smoker</th>\n",
              "      <th></th>\n",
              "      <th></th>\n",
              "      <th></th>\n",
              "      <th></th>\n",
              "    </tr>\n",
              "  </thead>\n",
              "  <tbody>\n",
              "    <tr>\n",
              "      <th>no</th>\n",
              "      <td>257</td>\n",
              "      <td>267</td>\n",
              "      <td>273</td>\n",
              "      <td>267</td>\n",
              "    </tr>\n",
              "    <tr>\n",
              "      <th>yes</th>\n",
              "      <td>67</td>\n",
              "      <td>58</td>\n",
              "      <td>91</td>\n",
              "      <td>58</td>\n",
              "    </tr>\n",
              "  </tbody>\n",
              "</table>\n",
              "</div>"
            ],
            "text/plain": [
              "region  northeast  northwest  southeast  southwest\n",
              "smoker                                            \n",
              "no            257        267        273        267\n",
              "yes            67         58         91         58"
            ]
          },
          "execution_count": 35,
          "metadata": {},
          "output_type": "execute_result"
        }
      ],
      "source": [
        "pd.crosstab(df_pre[\"smoker\"],df_pre[\"region\"])"
      ]
    },
    {
      "cell_type": "code",
      "execution_count": null,
      "id": "98977765",
      "metadata": {
        "id": "98977765",
        "outputId": "53bb7cc5-ed95-4356-f6e2-3075cbb05481"
      },
      "outputs": [
        {
          "data": {
            "text/plain": [
              "0.9328921288772233"
            ]
          },
          "execution_count": 37,
          "metadata": {},
          "output_type": "execute_result"
        }
      ],
      "source": [
        "scis.chi2_contingency(pd.crosstab(df[\"sex\"],df[\"region\"]))[1]"
      ]
    },
    {
      "cell_type": "code",
      "execution_count": null,
      "id": "d1e0bc1e",
      "metadata": {
        "id": "d1e0bc1e",
        "outputId": "9385980a-53ea-4794-a36b-699d72cc602b"
      },
      "outputs": [
        {
          "data": {
            "text/html": [
              "<div>\n",
              "<style scoped>\n",
              "    .dataframe tbody tr th:only-of-type {\n",
              "        vertical-align: middle;\n",
              "    }\n",
              "\n",
              "    .dataframe tbody tr th {\n",
              "        vertical-align: top;\n",
              "    }\n",
              "\n",
              "    .dataframe thead th {\n",
              "        text-align: right;\n",
              "    }\n",
              "</style>\n",
              "<table border=\"1\" class=\"dataframe\">\n",
              "  <thead>\n",
              "    <tr style=\"text-align: right;\">\n",
              "      <th></th>\n",
              "      <th>age</th>\n",
              "      <th>bmi</th>\n",
              "      <th>children</th>\n",
              "      <th>charges</th>\n",
              "      <th>sex_female</th>\n",
              "      <th>sex_male</th>\n",
              "      <th>smoker_no</th>\n",
              "      <th>smoker_yes</th>\n",
              "      <th>region_northeast</th>\n",
              "      <th>region_northwest</th>\n",
              "      <th>region_southeast</th>\n",
              "      <th>region_southwest</th>\n",
              "    </tr>\n",
              "  </thead>\n",
              "  <tbody>\n",
              "    <tr>\n",
              "      <th>0</th>\n",
              "      <td>19</td>\n",
              "      <td>27.900</td>\n",
              "      <td>0</td>\n",
              "      <td>16884.92400</td>\n",
              "      <td>True</td>\n",
              "      <td>False</td>\n",
              "      <td>False</td>\n",
              "      <td>True</td>\n",
              "      <td>False</td>\n",
              "      <td>False</td>\n",
              "      <td>False</td>\n",
              "      <td>True</td>\n",
              "    </tr>\n",
              "    <tr>\n",
              "      <th>1</th>\n",
              "      <td>18</td>\n",
              "      <td>33.770</td>\n",
              "      <td>1</td>\n",
              "      <td>1725.55230</td>\n",
              "      <td>False</td>\n",
              "      <td>True</td>\n",
              "      <td>True</td>\n",
              "      <td>False</td>\n",
              "      <td>False</td>\n",
              "      <td>False</td>\n",
              "      <td>True</td>\n",
              "      <td>False</td>\n",
              "    </tr>\n",
              "    <tr>\n",
              "      <th>2</th>\n",
              "      <td>28</td>\n",
              "      <td>33.000</td>\n",
              "      <td>3</td>\n",
              "      <td>4449.46200</td>\n",
              "      <td>False</td>\n",
              "      <td>True</td>\n",
              "      <td>True</td>\n",
              "      <td>False</td>\n",
              "      <td>False</td>\n",
              "      <td>False</td>\n",
              "      <td>True</td>\n",
              "      <td>False</td>\n",
              "    </tr>\n",
              "    <tr>\n",
              "      <th>3</th>\n",
              "      <td>33</td>\n",
              "      <td>22.705</td>\n",
              "      <td>0</td>\n",
              "      <td>21984.47061</td>\n",
              "      <td>False</td>\n",
              "      <td>True</td>\n",
              "      <td>True</td>\n",
              "      <td>False</td>\n",
              "      <td>False</td>\n",
              "      <td>True</td>\n",
              "      <td>False</td>\n",
              "      <td>False</td>\n",
              "    </tr>\n",
              "    <tr>\n",
              "      <th>4</th>\n",
              "      <td>32</td>\n",
              "      <td>28.880</td>\n",
              "      <td>0</td>\n",
              "      <td>3866.85520</td>\n",
              "      <td>False</td>\n",
              "      <td>True</td>\n",
              "      <td>True</td>\n",
              "      <td>False</td>\n",
              "      <td>False</td>\n",
              "      <td>True</td>\n",
              "      <td>False</td>\n",
              "      <td>False</td>\n",
              "    </tr>\n",
              "  </tbody>\n",
              "</table>\n",
              "</div>"
            ],
            "text/plain": [
              "   age     bmi  children      charges  sex_female  sex_male  smoker_no  \\\n",
              "0   19  27.900         0  16884.92400        True     False      False   \n",
              "1   18  33.770         1   1725.55230       False      True       True   \n",
              "2   28  33.000         3   4449.46200       False      True       True   \n",
              "3   33  22.705         0  21984.47061       False      True       True   \n",
              "4   32  28.880         0   3866.85520       False      True       True   \n",
              "\n",
              "   smoker_yes  region_northeast  region_northwest  region_southeast  \\\n",
              "0        True             False             False             False   \n",
              "1       False             False             False              True   \n",
              "2       False             False             False              True   \n",
              "3       False             False              True             False   \n",
              "4       False             False              True             False   \n",
              "\n",
              "   region_southwest  \n",
              "0              True  \n",
              "1             False  \n",
              "2             False  \n",
              "3             False  \n",
              "4             False  "
            ]
          },
          "execution_count": 38,
          "metadata": {},
          "output_type": "execute_result"
        }
      ],
      "source": [
        "# Creamos las variables dummies para las variables categóricas\n",
        "df_pre = pd.get_dummies(df_pre)\n",
        "df_pre.head()"
      ]
    },
    {
      "cell_type": "code",
      "execution_count": null,
      "id": "3964bed2",
      "metadata": {
        "id": "3964bed2"
      },
      "outputs": [],
      "source": [
        "# Escalamos a las variables numéricas\n",
        "from sklearn.preprocessing import MinMaxScaler\n",
        "scaler = MinMaxScaler()"
      ]
    },
    {
      "cell_type": "code",
      "execution_count": null,
      "id": "092c6ce1",
      "metadata": {
        "id": "092c6ce1",
        "outputId": "36271a9d-b889-4eba-e750-8f532031f413"
      },
      "outputs": [
        {
          "data": {
            "text/html": [
              "<div>\n",
              "<style scoped>\n",
              "    .dataframe tbody tr th:only-of-type {\n",
              "        vertical-align: middle;\n",
              "    }\n",
              "\n",
              "    .dataframe tbody tr th {\n",
              "        vertical-align: top;\n",
              "    }\n",
              "\n",
              "    .dataframe thead th {\n",
              "        text-align: right;\n",
              "    }\n",
              "</style>\n",
              "<table border=\"1\" class=\"dataframe\">\n",
              "  <thead>\n",
              "    <tr style=\"text-align: right;\">\n",
              "      <th></th>\n",
              "      <th>age</th>\n",
              "      <th>bmi</th>\n",
              "      <th>children</th>\n",
              "      <th>sex_female</th>\n",
              "      <th>sex_male</th>\n",
              "      <th>smoker_no</th>\n",
              "      <th>smoker_yes</th>\n",
              "      <th>region_northeast</th>\n",
              "      <th>region_northwest</th>\n",
              "      <th>region_southeast</th>\n",
              "      <th>region_southwest</th>\n",
              "      <th>charges</th>\n",
              "    </tr>\n",
              "  </thead>\n",
              "  <tbody>\n",
              "    <tr>\n",
              "      <th>0</th>\n",
              "      <td>0.021739</td>\n",
              "      <td>0.321227</td>\n",
              "      <td>0.0</td>\n",
              "      <td>1.0</td>\n",
              "      <td>0.0</td>\n",
              "      <td>0.0</td>\n",
              "      <td>1.0</td>\n",
              "      <td>0.0</td>\n",
              "      <td>0.0</td>\n",
              "      <td>0.0</td>\n",
              "      <td>1.0</td>\n",
              "      <td>16884.92400</td>\n",
              "    </tr>\n",
              "    <tr>\n",
              "      <th>1</th>\n",
              "      <td>0.000000</td>\n",
              "      <td>0.479150</td>\n",
              "      <td>0.2</td>\n",
              "      <td>0.0</td>\n",
              "      <td>1.0</td>\n",
              "      <td>1.0</td>\n",
              "      <td>0.0</td>\n",
              "      <td>0.0</td>\n",
              "      <td>0.0</td>\n",
              "      <td>1.0</td>\n",
              "      <td>0.0</td>\n",
              "      <td>1725.55230</td>\n",
              "    </tr>\n",
              "    <tr>\n",
              "      <th>2</th>\n",
              "      <td>0.217391</td>\n",
              "      <td>0.458434</td>\n",
              "      <td>0.6</td>\n",
              "      <td>0.0</td>\n",
              "      <td>1.0</td>\n",
              "      <td>1.0</td>\n",
              "      <td>0.0</td>\n",
              "      <td>0.0</td>\n",
              "      <td>0.0</td>\n",
              "      <td>1.0</td>\n",
              "      <td>0.0</td>\n",
              "      <td>4449.46200</td>\n",
              "    </tr>\n",
              "    <tr>\n",
              "      <th>3</th>\n",
              "      <td>0.326087</td>\n",
              "      <td>0.181464</td>\n",
              "      <td>0.0</td>\n",
              "      <td>0.0</td>\n",
              "      <td>1.0</td>\n",
              "      <td>1.0</td>\n",
              "      <td>0.0</td>\n",
              "      <td>0.0</td>\n",
              "      <td>1.0</td>\n",
              "      <td>0.0</td>\n",
              "      <td>0.0</td>\n",
              "      <td>21984.47061</td>\n",
              "    </tr>\n",
              "    <tr>\n",
              "      <th>4</th>\n",
              "      <td>0.304348</td>\n",
              "      <td>0.347592</td>\n",
              "      <td>0.0</td>\n",
              "      <td>0.0</td>\n",
              "      <td>1.0</td>\n",
              "      <td>1.0</td>\n",
              "      <td>0.0</td>\n",
              "      <td>0.0</td>\n",
              "      <td>1.0</td>\n",
              "      <td>0.0</td>\n",
              "      <td>0.0</td>\n",
              "      <td>3866.85520</td>\n",
              "    </tr>\n",
              "    <tr>\n",
              "      <th>...</th>\n",
              "      <td>...</td>\n",
              "      <td>...</td>\n",
              "      <td>...</td>\n",
              "      <td>...</td>\n",
              "      <td>...</td>\n",
              "      <td>...</td>\n",
              "      <td>...</td>\n",
              "      <td>...</td>\n",
              "      <td>...</td>\n",
              "      <td>...</td>\n",
              "      <td>...</td>\n",
              "      <td>...</td>\n",
              "    </tr>\n",
              "    <tr>\n",
              "      <th>1333</th>\n",
              "      <td>0.695652</td>\n",
              "      <td>0.403820</td>\n",
              "      <td>0.6</td>\n",
              "      <td>0.0</td>\n",
              "      <td>1.0</td>\n",
              "      <td>1.0</td>\n",
              "      <td>0.0</td>\n",
              "      <td>0.0</td>\n",
              "      <td>1.0</td>\n",
              "      <td>0.0</td>\n",
              "      <td>0.0</td>\n",
              "      <td>10600.54830</td>\n",
              "    </tr>\n",
              "    <tr>\n",
              "      <th>1334</th>\n",
              "      <td>0.000000</td>\n",
              "      <td>0.429379</td>\n",
              "      <td>0.0</td>\n",
              "      <td>1.0</td>\n",
              "      <td>0.0</td>\n",
              "      <td>1.0</td>\n",
              "      <td>0.0</td>\n",
              "      <td>1.0</td>\n",
              "      <td>0.0</td>\n",
              "      <td>0.0</td>\n",
              "      <td>0.0</td>\n",
              "      <td>2205.98080</td>\n",
              "    </tr>\n",
              "    <tr>\n",
              "      <th>1335</th>\n",
              "      <td>0.000000</td>\n",
              "      <td>0.562012</td>\n",
              "      <td>0.0</td>\n",
              "      <td>1.0</td>\n",
              "      <td>0.0</td>\n",
              "      <td>1.0</td>\n",
              "      <td>0.0</td>\n",
              "      <td>0.0</td>\n",
              "      <td>0.0</td>\n",
              "      <td>1.0</td>\n",
              "      <td>0.0</td>\n",
              "      <td>1629.83350</td>\n",
              "    </tr>\n",
              "    <tr>\n",
              "      <th>1336</th>\n",
              "      <td>0.065217</td>\n",
              "      <td>0.264730</td>\n",
              "      <td>0.0</td>\n",
              "      <td>1.0</td>\n",
              "      <td>0.0</td>\n",
              "      <td>1.0</td>\n",
              "      <td>0.0</td>\n",
              "      <td>0.0</td>\n",
              "      <td>0.0</td>\n",
              "      <td>0.0</td>\n",
              "      <td>1.0</td>\n",
              "      <td>2007.94500</td>\n",
              "    </tr>\n",
              "    <tr>\n",
              "      <th>1337</th>\n",
              "      <td>0.934783</td>\n",
              "      <td>0.352704</td>\n",
              "      <td>0.0</td>\n",
              "      <td>1.0</td>\n",
              "      <td>0.0</td>\n",
              "      <td>0.0</td>\n",
              "      <td>1.0</td>\n",
              "      <td>0.0</td>\n",
              "      <td>1.0</td>\n",
              "      <td>0.0</td>\n",
              "      <td>0.0</td>\n",
              "      <td>29141.36030</td>\n",
              "    </tr>\n",
              "  </tbody>\n",
              "</table>\n",
              "<p>1338 rows × 12 columns</p>\n",
              "</div>"
            ],
            "text/plain": [
              "           age       bmi  children  sex_female  sex_male  smoker_no  \\\n",
              "0     0.021739  0.321227       0.0         1.0       0.0        0.0   \n",
              "1     0.000000  0.479150       0.2         0.0       1.0        1.0   \n",
              "2     0.217391  0.458434       0.6         0.0       1.0        1.0   \n",
              "3     0.326087  0.181464       0.0         0.0       1.0        1.0   \n",
              "4     0.304348  0.347592       0.0         0.0       1.0        1.0   \n",
              "...        ...       ...       ...         ...       ...        ...   \n",
              "1333  0.695652  0.403820       0.6         0.0       1.0        1.0   \n",
              "1334  0.000000  0.429379       0.0         1.0       0.0        1.0   \n",
              "1335  0.000000  0.562012       0.0         1.0       0.0        1.0   \n",
              "1336  0.065217  0.264730       0.0         1.0       0.0        1.0   \n",
              "1337  0.934783  0.352704       0.0         1.0       0.0        0.0   \n",
              "\n",
              "      smoker_yes  region_northeast  region_northwest  region_southeast  \\\n",
              "0            1.0               0.0               0.0               0.0   \n",
              "1            0.0               0.0               0.0               1.0   \n",
              "2            0.0               0.0               0.0               1.0   \n",
              "3            0.0               0.0               1.0               0.0   \n",
              "4            0.0               0.0               1.0               0.0   \n",
              "...          ...               ...               ...               ...   \n",
              "1333         0.0               0.0               1.0               0.0   \n",
              "1334         0.0               1.0               0.0               0.0   \n",
              "1335         0.0               0.0               0.0               1.0   \n",
              "1336         0.0               0.0               0.0               0.0   \n",
              "1337         1.0               0.0               1.0               0.0   \n",
              "\n",
              "      region_southwest      charges  \n",
              "0                  1.0  16884.92400  \n",
              "1                  0.0   1725.55230  \n",
              "2                  0.0   4449.46200  \n",
              "3                  0.0  21984.47061  \n",
              "4                  0.0   3866.85520  \n",
              "...                ...          ...  \n",
              "1333               0.0  10600.54830  \n",
              "1334               0.0   2205.98080  \n",
              "1335               0.0   1629.83350  \n",
              "1336               1.0   2007.94500  \n",
              "1337               0.0  29141.36030  \n",
              "\n",
              "[1338 rows x 12 columns]"
            ]
          },
          "execution_count": 52,
          "metadata": {},
          "output_type": "execute_result"
        }
      ],
      "source": [
        "df_escalado = scaler.fit_transform(df_pre[df_pre.columns.drop(\"charges\")])\n",
        "df_escalado = pd.DataFrame(df_escalado, columns = df_pre.columns.drop(\"charges\"))\n",
        "df_escalado = pd.concat([df_escalado,df_pre[\"charges\"]], axis = 1)\n",
        "df_escalado"
      ]
    },
    {
      "cell_type": "code",
      "execution_count": null,
      "id": "3fb3bbf7",
      "metadata": {
        "id": "3fb3bbf7"
      },
      "outputs": [],
      "source": [
        "# Guardamos el escalador para poder desescalar cuando sea necesario\n",
        "import pickle\n",
        "with open(\"D:/Briam/Clases/Python For Data Science/Objetos guardados/escalador_rg.pkl\",\"wb\") as archivo:\n",
        "    pickle.dump(scaler, archivo)"
      ]
    },
    {
      "cell_type": "code",
      "execution_count": null,
      "id": "df9528af",
      "metadata": {
        "id": "df9528af"
      },
      "outputs": [],
      "source": [
        "# Abrimos el escalador para poder desescalara cuando sea necesario\n",
        "with open(\"D:/Briam/Clases/Python For Data Science/Objetos guardados/escalador_rg.pkl\",\"rb\") as archivo:\n",
        "    scaler = pickle.load(archivo)"
      ]
    },
    {
      "cell_type": "code",
      "execution_count": null,
      "id": "83263e09",
      "metadata": {
        "id": "83263e09",
        "outputId": "a157b6c7-f3fc-44d5-f8b3-56769256d79b"
      },
      "outputs": [
        {
          "data": {
            "text/plain": [
              "array([64.  , 53.13,  5.  ,  1.  ,  1.  ,  1.  ,  1.  ,  1.  ,  1.  ,\n",
              "        1.  ,  1.  ])"
            ]
          },
          "execution_count": 55,
          "metadata": {},
          "output_type": "execute_result"
        }
      ],
      "source": [
        "# Verificamos los valores máximos de nuestro objeto escalado\n",
        "scaler.data_max_"
      ]
    },
    {
      "cell_type": "code",
      "execution_count": null,
      "id": "664c43d8",
      "metadata": {
        "id": "664c43d8",
        "outputId": "04dbebc3-2944-492b-bff3-c9537513c52c"
      },
      "outputs": [
        {
          "data": {
            "text/plain": [
              "array([18.  , 15.96,  0.  ,  0.  ,  0.  ,  0.  ,  0.  ,  0.  ,  0.  ,\n",
              "        0.  ,  0.  ])"
            ]
          },
          "execution_count": 56,
          "metadata": {},
          "output_type": "execute_result"
        }
      ],
      "source": [
        "# Verificamos los valores mínimos de nuestro objeto escalado\n",
        "scaler.data_min_"
      ]
    },
    {
      "cell_type": "code",
      "execution_count": null,
      "id": "ddc7200d-3fce-4302-9211-fd7468f61401",
      "metadata": {
        "id": "ddc7200d-3fce-4302-9211-fd7468f61401",
        "outputId": "bd07a10a-c0b1-4287-c91e-188994838dec"
      },
      "outputs": [
        {
          "data": {
            "text/plain": [
              "array([[19.  , 27.9 ,  0.  , ...,  0.  ,  0.  ,  1.  ],\n",
              "       [18.  , 33.77,  1.  , ...,  0.  ,  1.  ,  0.  ],\n",
              "       [28.  , 33.  ,  3.  , ...,  0.  ,  1.  ,  0.  ],\n",
              "       ...,\n",
              "       [18.  , 36.85,  0.  , ...,  0.  ,  1.  ,  0.  ],\n",
              "       [21.  , 25.8 ,  0.  , ...,  0.  ,  0.  ,  1.  ],\n",
              "       [61.  , 29.07,  0.  , ...,  1.  ,  0.  ,  0.  ]])"
            ]
          },
          "execution_count": 58,
          "metadata": {},
          "output_type": "execute_result"
        }
      ],
      "source": [
        "# Desescalamos las variables\n",
        "scaler.inverse_transform(df_escalado.drop(columns = [\"charges\"]))"
      ]
    },
    {
      "cell_type": "code",
      "execution_count": null,
      "id": "39c1faa9",
      "metadata": {
        "id": "39c1faa9"
      },
      "outputs": [],
      "source": [
        "# Seleccionamos nuestras variables predictoras y target\n",
        "x = df_escalado.drop(columns = [\"charges\"])\n",
        "y = df_escalado[\"charges\"]"
      ]
    },
    {
      "cell_type": "code",
      "execution_count": null,
      "id": "ff843c91",
      "metadata": {
        "id": "ff843c91"
      },
      "outputs": [],
      "source": [
        "# Separamos la data en train y test\n",
        "from sklearn.model_selection import train_test_split\n",
        "x_train,x_test,y_train,y_test = train_test_split(x, y, test_size = 0.2, random_state = 0)"
      ]
    },
    {
      "cell_type": "code",
      "execution_count": null,
      "id": "cf006101",
      "metadata": {
        "id": "cf006101",
        "outputId": "0db3d35b-7236-4095-8cd3-c3d387a3e506"
      },
      "outputs": [
        {
          "data": {
            "text/html": [
              "<div>\n",
              "<style scoped>\n",
              "    .dataframe tbody tr th:only-of-type {\n",
              "        vertical-align: middle;\n",
              "    }\n",
              "\n",
              "    .dataframe tbody tr th {\n",
              "        vertical-align: top;\n",
              "    }\n",
              "\n",
              "    .dataframe thead th {\n",
              "        text-align: right;\n",
              "    }\n",
              "</style>\n",
              "<table border=\"1\" class=\"dataframe\">\n",
              "  <thead>\n",
              "    <tr style=\"text-align: right;\">\n",
              "      <th></th>\n",
              "      <th>age</th>\n",
              "      <th>bmi</th>\n",
              "      <th>children</th>\n",
              "      <th>sex_female</th>\n",
              "      <th>sex_male</th>\n",
              "      <th>smoker_no</th>\n",
              "      <th>smoker_yes</th>\n",
              "      <th>region_northeast</th>\n",
              "      <th>region_northwest</th>\n",
              "      <th>region_southeast</th>\n",
              "      <th>region_southwest</th>\n",
              "    </tr>\n",
              "  </thead>\n",
              "  <tbody>\n",
              "    <tr>\n",
              "      <th>621</th>\n",
              "      <td>0.413043</td>\n",
              "      <td>0.488028</td>\n",
              "      <td>0.8</td>\n",
              "      <td>0.0</td>\n",
              "      <td>1.0</td>\n",
              "      <td>0.0</td>\n",
              "      <td>1.0</td>\n",
              "      <td>0.0</td>\n",
              "      <td>0.0</td>\n",
              "      <td>0.0</td>\n",
              "      <td>1.0</td>\n",
              "    </tr>\n",
              "    <tr>\n",
              "      <th>194</th>\n",
              "      <td>0.000000</td>\n",
              "      <td>0.496906</td>\n",
              "      <td>0.0</td>\n",
              "      <td>0.0</td>\n",
              "      <td>1.0</td>\n",
              "      <td>1.0</td>\n",
              "      <td>0.0</td>\n",
              "      <td>0.0</td>\n",
              "      <td>0.0</td>\n",
              "      <td>1.0</td>\n",
              "      <td>0.0</td>\n",
              "    </tr>\n",
              "    <tr>\n",
              "      <th>240</th>\n",
              "      <td>0.108696</td>\n",
              "      <td>0.557170</td>\n",
              "      <td>0.4</td>\n",
              "      <td>1.0</td>\n",
              "      <td>0.0</td>\n",
              "      <td>0.0</td>\n",
              "      <td>1.0</td>\n",
              "      <td>1.0</td>\n",
              "      <td>0.0</td>\n",
              "      <td>0.0</td>\n",
              "      <td>0.0</td>\n",
              "    </tr>\n",
              "    <tr>\n",
              "      <th>1168</th>\n",
              "      <td>0.304348</td>\n",
              "      <td>0.517622</td>\n",
              "      <td>0.4</td>\n",
              "      <td>0.0</td>\n",
              "      <td>1.0</td>\n",
              "      <td>1.0</td>\n",
              "      <td>0.0</td>\n",
              "      <td>0.0</td>\n",
              "      <td>0.0</td>\n",
              "      <td>0.0</td>\n",
              "      <td>1.0</td>\n",
              "    </tr>\n",
              "    <tr>\n",
              "      <th>1192</th>\n",
              "      <td>0.869565</td>\n",
              "      <td>0.442158</td>\n",
              "      <td>0.2</td>\n",
              "      <td>1.0</td>\n",
              "      <td>0.0</td>\n",
              "      <td>1.0</td>\n",
              "      <td>0.0</td>\n",
              "      <td>1.0</td>\n",
              "      <td>0.0</td>\n",
              "      <td>0.0</td>\n",
              "      <td>0.0</td>\n",
              "    </tr>\n",
              "    <tr>\n",
              "      <th>...</th>\n",
              "      <td>...</td>\n",
              "      <td>...</td>\n",
              "      <td>...</td>\n",
              "      <td>...</td>\n",
              "      <td>...</td>\n",
              "      <td>...</td>\n",
              "      <td>...</td>\n",
              "      <td>...</td>\n",
              "      <td>...</td>\n",
              "      <td>...</td>\n",
              "      <td>...</td>\n",
              "    </tr>\n",
              "    <tr>\n",
              "      <th>763</th>\n",
              "      <td>0.195652</td>\n",
              "      <td>0.270917</td>\n",
              "      <td>0.0</td>\n",
              "      <td>0.0</td>\n",
              "      <td>1.0</td>\n",
              "      <td>1.0</td>\n",
              "      <td>0.0</td>\n",
              "      <td>1.0</td>\n",
              "      <td>0.0</td>\n",
              "      <td>0.0</td>\n",
              "      <td>0.0</td>\n",
              "    </tr>\n",
              "    <tr>\n",
              "      <th>835</th>\n",
              "      <td>0.521739</td>\n",
              "      <td>0.538337</td>\n",
              "      <td>0.4</td>\n",
              "      <td>0.0</td>\n",
              "      <td>1.0</td>\n",
              "      <td>1.0</td>\n",
              "      <td>0.0</td>\n",
              "      <td>0.0</td>\n",
              "      <td>0.0</td>\n",
              "      <td>1.0</td>\n",
              "      <td>0.0</td>\n",
              "    </tr>\n",
              "    <tr>\n",
              "      <th>1216</th>\n",
              "      <td>0.478261</td>\n",
              "      <td>0.245359</td>\n",
              "      <td>0.0</td>\n",
              "      <td>0.0</td>\n",
              "      <td>1.0</td>\n",
              "      <td>1.0</td>\n",
              "      <td>0.0</td>\n",
              "      <td>0.0</td>\n",
              "      <td>0.0</td>\n",
              "      <td>1.0</td>\n",
              "      <td>0.0</td>\n",
              "    </tr>\n",
              "    <tr>\n",
              "      <th>559</th>\n",
              "      <td>0.021739</td>\n",
              "      <td>0.526500</td>\n",
              "      <td>0.0</td>\n",
              "      <td>0.0</td>\n",
              "      <td>1.0</td>\n",
              "      <td>1.0</td>\n",
              "      <td>0.0</td>\n",
              "      <td>0.0</td>\n",
              "      <td>1.0</td>\n",
              "      <td>0.0</td>\n",
              "      <td>0.0</td>\n",
              "    </tr>\n",
              "    <tr>\n",
              "      <th>684</th>\n",
              "      <td>0.326087</td>\n",
              "      <td>0.068335</td>\n",
              "      <td>0.2</td>\n",
              "      <td>1.0</td>\n",
              "      <td>0.0</td>\n",
              "      <td>1.0</td>\n",
              "      <td>0.0</td>\n",
              "      <td>0.0</td>\n",
              "      <td>0.0</td>\n",
              "      <td>0.0</td>\n",
              "      <td>1.0</td>\n",
              "    </tr>\n",
              "  </tbody>\n",
              "</table>\n",
              "<p>1070 rows × 11 columns</p>\n",
              "</div>"
            ],
            "text/plain": [
              "           age       bmi  children  sex_female  sex_male  smoker_no  \\\n",
              "621   0.413043  0.488028       0.8         0.0       1.0        0.0   \n",
              "194   0.000000  0.496906       0.0         0.0       1.0        1.0   \n",
              "240   0.108696  0.557170       0.4         1.0       0.0        0.0   \n",
              "1168  0.304348  0.517622       0.4         0.0       1.0        1.0   \n",
              "1192  0.869565  0.442158       0.2         1.0       0.0        1.0   \n",
              "...        ...       ...       ...         ...       ...        ...   \n",
              "763   0.195652  0.270917       0.0         0.0       1.0        1.0   \n",
              "835   0.521739  0.538337       0.4         0.0       1.0        1.0   \n",
              "1216  0.478261  0.245359       0.0         0.0       1.0        1.0   \n",
              "559   0.021739  0.526500       0.0         0.0       1.0        1.0   \n",
              "684   0.326087  0.068335       0.2         1.0       0.0        1.0   \n",
              "\n",
              "      smoker_yes  region_northeast  region_northwest  region_southeast  \\\n",
              "621          1.0               0.0               0.0               0.0   \n",
              "194          0.0               0.0               0.0               1.0   \n",
              "240          1.0               1.0               0.0               0.0   \n",
              "1168         0.0               0.0               0.0               0.0   \n",
              "1192         0.0               1.0               0.0               0.0   \n",
              "...          ...               ...               ...               ...   \n",
              "763          0.0               1.0               0.0               0.0   \n",
              "835          0.0               0.0               0.0               1.0   \n",
              "1216         0.0               0.0               0.0               1.0   \n",
              "559          0.0               0.0               1.0               0.0   \n",
              "684          0.0               0.0               0.0               0.0   \n",
              "\n",
              "      region_southwest  \n",
              "621                1.0  \n",
              "194                0.0  \n",
              "240                0.0  \n",
              "1168               1.0  \n",
              "1192               0.0  \n",
              "...                ...  \n",
              "763                0.0  \n",
              "835                0.0  \n",
              "1216               0.0  \n",
              "559                0.0  \n",
              "684                1.0  \n",
              "\n",
              "[1070 rows x 11 columns]"
            ]
          },
          "execution_count": 61,
          "metadata": {},
          "output_type": "execute_result"
        }
      ],
      "source": [
        "# Base de entrenamiento\n",
        "x_train"
      ]
    },
    {
      "cell_type": "code",
      "execution_count": null,
      "id": "57458d98",
      "metadata": {
        "id": "57458d98",
        "outputId": "0afe5905-69e4-41e2-d44b-9663f7e9c10a"
      },
      "outputs": [
        {
          "data": {
            "text/html": [
              "<div>\n",
              "<style scoped>\n",
              "    .dataframe tbody tr th:only-of-type {\n",
              "        vertical-align: middle;\n",
              "    }\n",
              "\n",
              "    .dataframe tbody tr th {\n",
              "        vertical-align: top;\n",
              "    }\n",
              "\n",
              "    .dataframe thead th {\n",
              "        text-align: right;\n",
              "    }\n",
              "</style>\n",
              "<table border=\"1\" class=\"dataframe\">\n",
              "  <thead>\n",
              "    <tr style=\"text-align: right;\">\n",
              "      <th></th>\n",
              "      <th>age</th>\n",
              "      <th>bmi</th>\n",
              "      <th>children</th>\n",
              "      <th>sex_female</th>\n",
              "      <th>sex_male</th>\n",
              "      <th>smoker_no</th>\n",
              "      <th>smoker_yes</th>\n",
              "      <th>region_northeast</th>\n",
              "      <th>region_northwest</th>\n",
              "      <th>region_southeast</th>\n",
              "      <th>region_southwest</th>\n",
              "    </tr>\n",
              "  </thead>\n",
              "  <tbody>\n",
              "    <tr>\n",
              "      <th>578</th>\n",
              "      <td>0.739130</td>\n",
              "      <td>0.383105</td>\n",
              "      <td>0.2</td>\n",
              "      <td>0.0</td>\n",
              "      <td>1.0</td>\n",
              "      <td>1.0</td>\n",
              "      <td>0.0</td>\n",
              "      <td>0.0</td>\n",
              "      <td>0.0</td>\n",
              "      <td>0.0</td>\n",
              "      <td>1.0</td>\n",
              "    </tr>\n",
              "    <tr>\n",
              "      <th>610</th>\n",
              "      <td>0.630435</td>\n",
              "      <td>0.360775</td>\n",
              "      <td>0.2</td>\n",
              "      <td>1.0</td>\n",
              "      <td>0.0</td>\n",
              "      <td>1.0</td>\n",
              "      <td>0.0</td>\n",
              "      <td>0.0</td>\n",
              "      <td>0.0</td>\n",
              "      <td>1.0</td>\n",
              "      <td>0.0</td>\n",
              "    </tr>\n",
              "    <tr>\n",
              "      <th>569</th>\n",
              "      <td>0.652174</td>\n",
              "      <td>0.661959</td>\n",
              "      <td>0.4</td>\n",
              "      <td>0.0</td>\n",
              "      <td>1.0</td>\n",
              "      <td>0.0</td>\n",
              "      <td>1.0</td>\n",
              "      <td>0.0</td>\n",
              "      <td>1.0</td>\n",
              "      <td>0.0</td>\n",
              "      <td>0.0</td>\n",
              "    </tr>\n",
              "    <tr>\n",
              "      <th>1034</th>\n",
              "      <td>0.934783</td>\n",
              "      <td>0.603175</td>\n",
              "      <td>0.0</td>\n",
              "      <td>0.0</td>\n",
              "      <td>1.0</td>\n",
              "      <td>1.0</td>\n",
              "      <td>0.0</td>\n",
              "      <td>0.0</td>\n",
              "      <td>1.0</td>\n",
              "      <td>0.0</td>\n",
              "      <td>0.0</td>\n",
              "    </tr>\n",
              "    <tr>\n",
              "      <th>198</th>\n",
              "      <td>0.717391</td>\n",
              "      <td>0.056228</td>\n",
              "      <td>0.0</td>\n",
              "      <td>1.0</td>\n",
              "      <td>0.0</td>\n",
              "      <td>1.0</td>\n",
              "      <td>0.0</td>\n",
              "      <td>0.0</td>\n",
              "      <td>1.0</td>\n",
              "      <td>0.0</td>\n",
              "      <td>0.0</td>\n",
              "    </tr>\n",
              "    <tr>\n",
              "      <th>...</th>\n",
              "      <td>...</td>\n",
              "      <td>...</td>\n",
              "      <td>...</td>\n",
              "      <td>...</td>\n",
              "      <td>...</td>\n",
              "      <td>...</td>\n",
              "      <td>...</td>\n",
              "      <td>...</td>\n",
              "      <td>...</td>\n",
              "      <td>...</td>\n",
              "      <td>...</td>\n",
              "    </tr>\n",
              "    <tr>\n",
              "      <th>1084</th>\n",
              "      <td>0.956522</td>\n",
              "      <td>0.391041</td>\n",
              "      <td>0.4</td>\n",
              "      <td>1.0</td>\n",
              "      <td>0.0</td>\n",
              "      <td>1.0</td>\n",
              "      <td>0.0</td>\n",
              "      <td>0.0</td>\n",
              "      <td>1.0</td>\n",
              "      <td>0.0</td>\n",
              "      <td>0.0</td>\n",
              "    </tr>\n",
              "    <tr>\n",
              "      <th>726</th>\n",
              "      <td>0.500000</td>\n",
              "      <td>0.334813</td>\n",
              "      <td>0.2</td>\n",
              "      <td>0.0</td>\n",
              "      <td>1.0</td>\n",
              "      <td>1.0</td>\n",
              "      <td>0.0</td>\n",
              "      <td>0.0</td>\n",
              "      <td>1.0</td>\n",
              "      <td>0.0</td>\n",
              "      <td>0.0</td>\n",
              "    </tr>\n",
              "    <tr>\n",
              "      <th>1132</th>\n",
              "      <td>0.847826</td>\n",
              "      <td>0.654291</td>\n",
              "      <td>0.0</td>\n",
              "      <td>0.0</td>\n",
              "      <td>1.0</td>\n",
              "      <td>1.0</td>\n",
              "      <td>0.0</td>\n",
              "      <td>1.0</td>\n",
              "      <td>0.0</td>\n",
              "      <td>0.0</td>\n",
              "      <td>0.0</td>\n",
              "    </tr>\n",
              "    <tr>\n",
              "      <th>725</th>\n",
              "      <td>0.260870</td>\n",
              "      <td>0.621200</td>\n",
              "      <td>0.6</td>\n",
              "      <td>1.0</td>\n",
              "      <td>0.0</td>\n",
              "      <td>0.0</td>\n",
              "      <td>1.0</td>\n",
              "      <td>0.0</td>\n",
              "      <td>0.0</td>\n",
              "      <td>1.0</td>\n",
              "      <td>0.0</td>\n",
              "    </tr>\n",
              "    <tr>\n",
              "      <th>963</th>\n",
              "      <td>0.608696</td>\n",
              "      <td>0.237692</td>\n",
              "      <td>0.6</td>\n",
              "      <td>0.0</td>\n",
              "      <td>1.0</td>\n",
              "      <td>1.0</td>\n",
              "      <td>0.0</td>\n",
              "      <td>1.0</td>\n",
              "      <td>0.0</td>\n",
              "      <td>0.0</td>\n",
              "      <td>0.0</td>\n",
              "    </tr>\n",
              "  </tbody>\n",
              "</table>\n",
              "<p>268 rows × 11 columns</p>\n",
              "</div>"
            ],
            "text/plain": [
              "           age       bmi  children  sex_female  sex_male  smoker_no  \\\n",
              "578   0.739130  0.383105       0.2         0.0       1.0        1.0   \n",
              "610   0.630435  0.360775       0.2         1.0       0.0        1.0   \n",
              "569   0.652174  0.661959       0.4         0.0       1.0        0.0   \n",
              "1034  0.934783  0.603175       0.0         0.0       1.0        1.0   \n",
              "198   0.717391  0.056228       0.0         1.0       0.0        1.0   \n",
              "...        ...       ...       ...         ...       ...        ...   \n",
              "1084  0.956522  0.391041       0.4         1.0       0.0        1.0   \n",
              "726   0.500000  0.334813       0.2         0.0       1.0        1.0   \n",
              "1132  0.847826  0.654291       0.0         0.0       1.0        1.0   \n",
              "725   0.260870  0.621200       0.6         1.0       0.0        0.0   \n",
              "963   0.608696  0.237692       0.6         0.0       1.0        1.0   \n",
              "\n",
              "      smoker_yes  region_northeast  region_northwest  region_southeast  \\\n",
              "578          0.0               0.0               0.0               0.0   \n",
              "610          0.0               0.0               0.0               1.0   \n",
              "569          1.0               0.0               1.0               0.0   \n",
              "1034         0.0               0.0               1.0               0.0   \n",
              "198          0.0               0.0               1.0               0.0   \n",
              "...          ...               ...               ...               ...   \n",
              "1084         0.0               0.0               1.0               0.0   \n",
              "726          0.0               0.0               1.0               0.0   \n",
              "1132         0.0               1.0               0.0               0.0   \n",
              "725          1.0               0.0               0.0               1.0   \n",
              "963          0.0               1.0               0.0               0.0   \n",
              "\n",
              "      region_southwest  \n",
              "578                1.0  \n",
              "610                0.0  \n",
              "569                0.0  \n",
              "1034               0.0  \n",
              "198                0.0  \n",
              "...                ...  \n",
              "1084               0.0  \n",
              "726                0.0  \n",
              "1132               0.0  \n",
              "725                0.0  \n",
              "963                0.0  \n",
              "\n",
              "[268 rows x 11 columns]"
            ]
          },
          "execution_count": 62,
          "metadata": {},
          "output_type": "execute_result"
        }
      ],
      "source": [
        "# Base de test\n",
        "x_test"
      ]
    },
    {
      "cell_type": "code",
      "execution_count": null,
      "id": "8d58e9bd",
      "metadata": {
        "id": "8d58e9bd",
        "outputId": "290933e6-fbb3-425a-c9ce-20b4a54bd278"
      },
      "outputs": [
        {
          "data": {
            "text/html": [
              "<style>#sk-container-id-2 {color: black;}#sk-container-id-2 pre{padding: 0;}#sk-container-id-2 div.sk-toggleable {background-color: white;}#sk-container-id-2 label.sk-toggleable__label {cursor: pointer;display: block;width: 100%;margin-bottom: 0;padding: 0.3em;box-sizing: border-box;text-align: center;}#sk-container-id-2 label.sk-toggleable__label-arrow:before {content: \"▸\";float: left;margin-right: 0.25em;color: #696969;}#sk-container-id-2 label.sk-toggleable__label-arrow:hover:before {color: black;}#sk-container-id-2 div.sk-estimator:hover label.sk-toggleable__label-arrow:before {color: black;}#sk-container-id-2 div.sk-toggleable__content {max-height: 0;max-width: 0;overflow: hidden;text-align: left;background-color: #f0f8ff;}#sk-container-id-2 div.sk-toggleable__content pre {margin: 0.2em;color: black;border-radius: 0.25em;background-color: #f0f8ff;}#sk-container-id-2 input.sk-toggleable__control:checked~div.sk-toggleable__content {max-height: 200px;max-width: 100%;overflow: auto;}#sk-container-id-2 input.sk-toggleable__control:checked~label.sk-toggleable__label-arrow:before {content: \"▾\";}#sk-container-id-2 div.sk-estimator input.sk-toggleable__control:checked~label.sk-toggleable__label {background-color: #d4ebff;}#sk-container-id-2 div.sk-label input.sk-toggleable__control:checked~label.sk-toggleable__label {background-color: #d4ebff;}#sk-container-id-2 input.sk-hidden--visually {border: 0;clip: rect(1px 1px 1px 1px);clip: rect(1px, 1px, 1px, 1px);height: 1px;margin: -1px;overflow: hidden;padding: 0;position: absolute;width: 1px;}#sk-container-id-2 div.sk-estimator {font-family: monospace;background-color: #f0f8ff;border: 1px dotted black;border-radius: 0.25em;box-sizing: border-box;margin-bottom: 0.5em;}#sk-container-id-2 div.sk-estimator:hover {background-color: #d4ebff;}#sk-container-id-2 div.sk-parallel-item::after {content: \"\";width: 100%;border-bottom: 1px solid gray;flex-grow: 1;}#sk-container-id-2 div.sk-label:hover label.sk-toggleable__label {background-color: #d4ebff;}#sk-container-id-2 div.sk-serial::before {content: \"\";position: absolute;border-left: 1px solid gray;box-sizing: border-box;top: 0;bottom: 0;left: 50%;z-index: 0;}#sk-container-id-2 div.sk-serial {display: flex;flex-direction: column;align-items: center;background-color: white;padding-right: 0.2em;padding-left: 0.2em;position: relative;}#sk-container-id-2 div.sk-item {position: relative;z-index: 1;}#sk-container-id-2 div.sk-parallel {display: flex;align-items: stretch;justify-content: center;background-color: white;position: relative;}#sk-container-id-2 div.sk-item::before, #sk-container-id-2 div.sk-parallel-item::before {content: \"\";position: absolute;border-left: 1px solid gray;box-sizing: border-box;top: 0;bottom: 0;left: 50%;z-index: -1;}#sk-container-id-2 div.sk-parallel-item {display: flex;flex-direction: column;z-index: 1;position: relative;background-color: white;}#sk-container-id-2 div.sk-parallel-item:first-child::after {align-self: flex-end;width: 50%;}#sk-container-id-2 div.sk-parallel-item:last-child::after {align-self: flex-start;width: 50%;}#sk-container-id-2 div.sk-parallel-item:only-child::after {width: 0;}#sk-container-id-2 div.sk-dashed-wrapped {border: 1px dashed gray;margin: 0 0.4em 0.5em 0.4em;box-sizing: border-box;padding-bottom: 0.4em;background-color: white;}#sk-container-id-2 div.sk-label label {font-family: monospace;font-weight: bold;display: inline-block;line-height: 1.2em;}#sk-container-id-2 div.sk-label-container {text-align: center;}#sk-container-id-2 div.sk-container {/* jupyter's `normalize.less` sets `[hidden] { display: none; }` but bootstrap.min.css set `[hidden] { display: none !important; }` so we also need the `!important` here to be able to override the default hidden behavior on the sphinx rendered scikit-learn.org. See: https://github.com/scikit-learn/scikit-learn/issues/21755 */display: inline-block !important;position: relative;}#sk-container-id-2 div.sk-text-repr-fallback {display: none;}</style><div id=\"sk-container-id-2\" class=\"sk-top-container\"><div class=\"sk-text-repr-fallback\"><pre>LinearRegression()</pre><b>In a Jupyter environment, please rerun this cell to show the HTML representation or trust the notebook. <br />On GitHub, the HTML representation is unable to render, please try loading this page with nbviewer.org.</b></div><div class=\"sk-container\" hidden><div class=\"sk-item\"><div class=\"sk-estimator sk-toggleable\"><input class=\"sk-toggleable__control sk-hidden--visually\" id=\"sk-estimator-id-2\" type=\"checkbox\" checked><label for=\"sk-estimator-id-2\" class=\"sk-toggleable__label sk-toggleable__label-arrow\">LinearRegression</label><div class=\"sk-toggleable__content\"><pre>LinearRegression()</pre></div></div></div></div></div>"
            ],
            "text/plain": [
              "LinearRegression()"
            ]
          },
          "execution_count": 63,
          "metadata": {},
          "output_type": "execute_result"
        }
      ],
      "source": [
        "# Ajustamos el modelo de regresión lineal múltiple\n",
        "from sklearn.linear_model import LinearRegression\n",
        "from sklearn.linear_model import ElasticNet\n",
        "mod_lineal = LinearRegression()\n",
        "mod_lineal.fit(x_train, y_train)"
      ]
    },
    {
      "cell_type": "code",
      "execution_count": null,
      "id": "4543d1a9",
      "metadata": {
        "id": "4543d1a9"
      },
      "outputs": [],
      "source": [
        "resid_train = y_train - mod_lineal.predict(x_train)\n",
        "resid_test = y_test - mod_lineal.predict(x_test)"
      ]
    },
    {
      "cell_type": "code",
      "execution_count": null,
      "id": "1826a4dc",
      "metadata": {
        "id": "1826a4dc",
        "outputId": "6a800017-c897-4e62-c18b-6ab68cafe498"
      },
      "outputs": [
        {
          "data": {
            "text/plain": [
              "37716079.45261225"
            ]
          },
          "execution_count": 65,
          "metadata": {},
          "output_type": "execute_result"
        }
      ],
      "source": [
        "# Calculamos el error cuadrático medio de train\n",
        "mse=sum(resid_train**2)/len(resid_train)\n",
        "mse"
      ]
    },
    {
      "cell_type": "code",
      "execution_count": null,
      "id": "cde8fa41",
      "metadata": {
        "id": "cde8fa41",
        "outputId": "bf5289ce-3c5c-41d8-ee24-24a7a1a73bbb"
      },
      "outputs": [
        {
          "data": {
            "text/plain": [
              "31900618.3607631"
            ]
          },
          "execution_count": 66,
          "metadata": {},
          "output_type": "execute_result"
        }
      ],
      "source": [
        "# Calculamos el error cuadrático medio de test\n",
        "mse=sum(resid_test**2)/len(resid_test)\n",
        "mse"
      ]
    },
    {
      "cell_type": "code",
      "execution_count": null,
      "id": "286a0b6b",
      "metadata": {
        "id": "286a0b6b",
        "outputId": "5fbff441-b992-4e7d-f97f-74c205f74627"
      },
      "outputs": [
        {
          "data": {
            "text/plain": [
              "0.7369247947044296"
            ]
          },
          "execution_count": 67,
          "metadata": {},
          "output_type": "execute_result"
        }
      ],
      "source": [
        "# Calculamos el R2 para los datos de train\n",
        "mod_lineal.score(x_train,y_train)"
      ]
    },
    {
      "cell_type": "code",
      "execution_count": null,
      "id": "d674f1b8",
      "metadata": {
        "id": "d674f1b8",
        "outputId": "ae50e067-61f1-40a6-cc01-e11e955f9e41"
      },
      "outputs": [
        {
          "data": {
            "text/plain": [
              "0.7995310380568877"
            ]
          },
          "execution_count": 68,
          "metadata": {},
          "output_type": "execute_result"
        }
      ],
      "source": [
        "# Calculamos el R2 para los datos de test\n",
        "mod_lineal.score(x_test,y_test)"
      ]
    },
    {
      "cell_type": "code",
      "execution_count": null,
      "id": "7ce67b5d",
      "metadata": {
        "id": "7ce67b5d",
        "outputId": "90166e2d-5c88-48ef-f7b3-dffbf7c82787"
      },
      "outputs": [
        {
          "data": {
            "text/plain": [
              "array([33760.,  3552., 30720., ...,  6016.,  4832.,  2432.])"
            ]
          },
          "execution_count": 69,
          "metadata": {},
          "output_type": "execute_result"
        }
      ],
      "source": [
        "mod_lineal.predict(x_train)"
      ]
    },
    {
      "cell_type": "code",
      "execution_count": null,
      "id": "671a8e30",
      "metadata": {
        "id": "671a8e30",
        "outputId": "7d77392d-04ed-4871-fb32-5ac19f50eac5"
      },
      "outputs": [
        {
          "data": {
            "text/plain": [
              "array([ 1.16812311e+04,  1.23528474e+04,  2.18222446e+03, -2.99777175e+17,\n",
              "       -2.99777175e+17,  3.61871303e+16,  3.61871303e+16,  2.08533606e+16,\n",
              "        2.08533606e+16,  2.08533606e+16,  2.08533606e+16])"
            ]
          },
          "execution_count": 70,
          "metadata": {},
          "output_type": "execute_result"
        }
      ],
      "source": [
        "mod_lineal.coef_"
      ]
    },
    {
      "cell_type": "code",
      "execution_count": null,
      "id": "4d64bdad",
      "metadata": {
        "id": "4d64bdad",
        "outputId": "94313569-75e0-4f45-e70d-762eab81cabd"
      },
      "outputs": [
        {
          "name": "stdout",
          "output_type": "stream",
          "text": [
            "                            OLS Regression Results                            \n",
            "==============================================================================\n",
            "Dep. Variable:                charges   R-squared:                       0.737\n",
            "Model:                            OLS   Adj. R-squared:                  0.735\n",
            "Method:                 Least Squares   F-statistic:                     371.7\n",
            "Date:                Sun, 03 Dec 2023   Prob (F-statistic):          1.85e-301\n",
            "Time:                        12:50:13   Log-Likelihood:                -10851.\n",
            "No. Observations:                1070   AIC:                         2.172e+04\n",
            "Df Residuals:                    1061   BIC:                         2.177e+04\n",
            "Df Model:                           8                                         \n",
            "Covariance Type:            nonrobust                                         \n",
            "====================================================================================\n",
            "                       coef    std err          t      P>|t|      [0.025      0.975]\n",
            "------------------------------------------------------------------------------------\n",
            "const             4182.8616    259.639     16.110      0.000    3673.397    4692.326\n",
            "age               1.167e+04    622.384     18.751      0.000    1.04e+04    1.29e+04\n",
            "bmi               1.249e+04   1197.929     10.424      0.000    1.01e+04    1.48e+04\n",
            "children          2184.5506    782.920      2.790      0.005     648.304    3720.797\n",
            "sex_female        2099.1627    227.701      9.219      0.000    1652.366    2545.959\n",
            "sex_male          2083.6990    231.027      9.019      0.000    1630.378    2537.020\n",
            "smoker_no        -9711.0778    245.457    -39.563      0.000   -1.02e+04   -9229.441\n",
            "smoker_yes        1.389e+04    290.158     47.884      0.000    1.33e+04    1.45e+04\n",
            "region_northeast  1529.5555    339.013      4.512      0.000     864.344    2194.767\n",
            "region_northwest  1269.4227    335.723      3.781      0.000     610.667    1928.179\n",
            "region_southeast   616.2766    349.774      1.762      0.078     -70.051    1302.604\n",
            "region_southwest   767.6068    333.104      2.304      0.021     113.989    1421.224\n",
            "==============================================================================\n",
            "Omnibus:                      256.825   Durbin-Watson:                   1.994\n",
            "Prob(Omnibus):                  0.000   Jarque-Bera (JB):              620.044\n",
            "Skew:                           1.279   Prob(JB):                    2.29e-135\n",
            "Kurtosis:                       5.715   Cond. No.                     2.59e+16\n",
            "==============================================================================\n",
            "\n",
            "Notes:\n",
            "[1] Standard Errors assume that the covariance matrix of the errors is correctly specified.\n",
            "[2] The smallest eigenvalue is 4.6e-30. This might indicate that there are\n",
            "strong multicollinearity problems or that the design matrix is singular.\n"
          ]
        }
      ],
      "source": [
        "# Reporte con los resultados de la regresión Lineal\n",
        "import statsmodels.api as sm\n",
        "x_train_new = sm.add_constant(x_train, prepend=True)\n",
        "modelo = sm.OLS(endog=y_train, exog=x_train_new,)\n",
        "modelo = modelo.fit()\n",
        "print(modelo.summary())"
      ]
    },
    {
      "cell_type": "code",
      "execution_count": null,
      "id": "9bbc0b16",
      "metadata": {
        "id": "9bbc0b16",
        "outputId": "37b20715-f6e3-48e3-b27d-56445eaa95ab"
      },
      "outputs": [
        {
          "name": "stdout",
          "output_type": "stream",
          "text": [
            "                            OLS Regression Results                            \n",
            "==============================================================================\n",
            "Dep. Variable:                charges   R-squared:                       0.804\n",
            "Model:                            OLS   Adj. R-squared:                  0.798\n",
            "Method:                 Least Squares   F-statistic:                     132.7\n",
            "Date:                Sun, 03 Dec 2023   Prob (F-statistic):           4.69e-87\n",
            "Time:                        12:50:27   Log-Likelihood:                -2692.6\n",
            "No. Observations:                 268   AIC:                             5403.\n",
            "Df Residuals:                     259   BIC:                             5435.\n",
            "Df Model:                           8                                         \n",
            "Covariance Type:            nonrobust                                         \n",
            "====================================================================================\n",
            "                       coef    std err          t      P>|t|      [0.025      0.975]\n",
            "------------------------------------------------------------------------------------\n",
            "const             4080.6721    528.719      7.718      0.000    3039.537    5121.807\n",
            "age               1.238e+04   1171.245     10.569      0.000    1.01e+04    1.47e+04\n",
            "bmi               1.321e+04   2351.340      5.616      0.000    8575.644    1.78e+04\n",
            "children          3126.6953   1505.575      2.077      0.039     161.968    6091.422\n",
            "sex_female        2401.5878    452.535      5.307      0.000    1510.471    3292.705\n",
            "sex_male          1679.0843    438.193      3.832      0.000     816.210    2541.958\n",
            "smoker_no        -1.044e+04    443.438    -23.537      0.000   -1.13e+04   -9564.028\n",
            "smoker_yes        1.452e+04    578.906     25.078      0.000    1.34e+04    1.57e+04\n",
            "region_northeast  2044.0665    582.480      3.509      0.001     897.068    3191.065\n",
            "region_northwest  1316.1835    626.915      2.099      0.037      81.685    2550.682\n",
            "region_southeast   520.1991    635.904      0.818      0.414    -732.002    1772.400\n",
            "region_southwest   200.2230    695.748      0.288      0.774   -1169.820    1570.266\n",
            "==============================================================================\n",
            "Omnibus:                       49.029   Durbin-Watson:                   2.178\n",
            "Prob(Omnibus):                  0.000   Jarque-Bera (JB):              105.013\n",
            "Skew:                           0.904   Prob(JB):                     1.57e-23\n",
            "Kurtosis:                       5.477   Cond. No.                     2.37e+16\n",
            "==============================================================================\n",
            "\n",
            "Notes:\n",
            "[1] Standard Errors assume that the covariance matrix of the errors is correctly specified.\n",
            "[2] The smallest eigenvalue is 1.38e-30. This might indicate that there are\n",
            "strong multicollinearity problems or that the design matrix is singular.\n"
          ]
        }
      ],
      "source": [
        "# Reporte con los resultados de la regresión Lineal\n",
        "import statsmodels.api as sm\n",
        "x_test_new = sm.add_constant(x_test, prepend=True)\n",
        "modelo = sm.OLS(endog=y_test, exog=x_test_new,)\n",
        "modelo = modelo.fit()\n",
        "print(modelo.summary())"
      ]
    },
    {
      "cell_type": "markdown",
      "id": "0c7254ec",
      "metadata": {
        "id": "0c7254ec"
      },
      "source": [
        "### Regularización Ridge"
      ]
    },
    {
      "cell_type": "code",
      "execution_count": null,
      "id": "66db377c",
      "metadata": {
        "id": "66db377c"
      },
      "outputs": [],
      "source": [
        "from sklearn.linear_model import Ridge\n",
        "rep_r2 = []\n",
        "rep_rmse = []\n",
        "for i in np.linspace(0,1,11):\n",
        "    ridge = Ridge(alpha = i)\n",
        "    ridge.fit(x_train, y_train)\n",
        "    y_est = ridge.predict(x_train)\n",
        "    # Calculamos las métricas\n",
        "    rep_r2.append(ridge.score(x_train,y_train))\n",
        "    rep_rmse.append(m.sqrt(mean_squared_error(y_train,y_est)))"
      ]
    },
    {
      "cell_type": "code",
      "execution_count": null,
      "id": "3fdc7fed",
      "metadata": {
        "id": "3fdc7fed",
        "outputId": "40bf6c3f-6a82-4b2b-d8cd-09c1c363f2a6"
      },
      "outputs": [
        {
          "data": {
            "image/png": "[encoded data removed]",
            "text/plain": [
              "<Figure size 640x480 with 1 Axes>"
            ]
          },
          "metadata": {},
          "output_type": "display_data"
        }
      ],
      "source": [
        "# Gráfica entre el alpha y el r2\n",
        "plt.plot(np.linspace(0,1,11), rep_r2)\n",
        "plt.show()"
      ]
    },
    {
      "cell_type": "code",
      "execution_count": null,
      "id": "ed2f56e9",
      "metadata": {
        "id": "ed2f56e9",
        "outputId": "ca83dea2-ae6c-457d-a615-623534c18e28"
      },
      "outputs": [
        {
          "data": {
            "image/png": "[encoded data removed]",
            "text/plain": [
              "<Figure size 640x480 with 1 Axes>"
            ]
          },
          "metadata": {},
          "output_type": "display_data"
        }
      ],
      "source": [
        "# Gráfica entre el alpha y el rmse\n",
        "plt.plot(np.linspace(0,1,11), rep_rmse)\n",
        "plt.show()"
      ]
    },
    {
      "cell_type": "code",
      "execution_count": null,
      "id": "cdc1beaf",
      "metadata": {
        "id": "cdc1beaf",
        "outputId": "7bb77032-1eb7-407d-9e56-48f245f27402"
      },
      "outputs": [
        {
          "data": {
            "text/html": [
              "<style>#sk-container-id-4 {color: black;}#sk-container-id-4 pre{padding: 0;}#sk-container-id-4 div.sk-toggleable {background-color: white;}#sk-container-id-4 label.sk-toggleable__label {cursor: pointer;display: block;width: 100%;margin-bottom: 0;padding: 0.3em;box-sizing: border-box;text-align: center;}#sk-container-id-4 label.sk-toggleable__label-arrow:before {content: \"▸\";float: left;margin-right: 0.25em;color: #696969;}#sk-container-id-4 label.sk-toggleable__label-arrow:hover:before {color: black;}#sk-container-id-4 div.sk-estimator:hover label.sk-toggleable__label-arrow:before {color: black;}#sk-container-id-4 div.sk-toggleable__content {max-height: 0;max-width: 0;overflow: hidden;text-align: left;background-color: #f0f8ff;}#sk-container-id-4 div.sk-toggleable__content pre {margin: 0.2em;color: black;border-radius: 0.25em;background-color: #f0f8ff;}#sk-container-id-4 input.sk-toggleable__control:checked~div.sk-toggleable__content {max-height: 200px;max-width: 100%;overflow: auto;}#sk-container-id-4 input.sk-toggleable__control:checked~label.sk-toggleable__label-arrow:before {content: \"▾\";}#sk-container-id-4 div.sk-estimator input.sk-toggleable__control:checked~label.sk-toggleable__label {background-color: #d4ebff;}#sk-container-id-4 div.sk-label input.sk-toggleable__control:checked~label.sk-toggleable__label {background-color: #d4ebff;}#sk-container-id-4 input.sk-hidden--visually {border: 0;clip: rect(1px 1px 1px 1px);clip: rect(1px, 1px, 1px, 1px);height: 1px;margin: -1px;overflow: hidden;padding: 0;position: absolute;width: 1px;}#sk-container-id-4 div.sk-estimator {font-family: monospace;background-color: #f0f8ff;border: 1px dotted black;border-radius: 0.25em;box-sizing: border-box;margin-bottom: 0.5em;}#sk-container-id-4 div.sk-estimator:hover {background-color: #d4ebff;}#sk-container-id-4 div.sk-parallel-item::after {content: \"\";width: 100%;border-bottom: 1px solid gray;flex-grow: 1;}#sk-container-id-4 div.sk-label:hover label.sk-toggleable__label {background-color: #d4ebff;}#sk-container-id-4 div.sk-serial::before {content: \"\";position: absolute;border-left: 1px solid gray;box-sizing: border-box;top: 0;bottom: 0;left: 50%;z-index: 0;}#sk-container-id-4 div.sk-serial {display: flex;flex-direction: column;align-items: center;background-color: white;padding-right: 0.2em;padding-left: 0.2em;position: relative;}#sk-container-id-4 div.sk-item {position: relative;z-index: 1;}#sk-container-id-4 div.sk-parallel {display: flex;align-items: stretch;justify-content: center;background-color: white;position: relative;}#sk-container-id-4 div.sk-item::before, #sk-container-id-4 div.sk-parallel-item::before {content: \"\";position: absolute;border-left: 1px solid gray;box-sizing: border-box;top: 0;bottom: 0;left: 50%;z-index: -1;}#sk-container-id-4 div.sk-parallel-item {display: flex;flex-direction: column;z-index: 1;position: relative;background-color: white;}#sk-container-id-4 div.sk-parallel-item:first-child::after {align-self: flex-end;width: 50%;}#sk-container-id-4 div.sk-parallel-item:last-child::after {align-self: flex-start;width: 50%;}#sk-container-id-4 div.sk-parallel-item:only-child::after {width: 0;}#sk-container-id-4 div.sk-dashed-wrapped {border: 1px dashed gray;margin: 0 0.4em 0.5em 0.4em;box-sizing: border-box;padding-bottom: 0.4em;background-color: white;}#sk-container-id-4 div.sk-label label {font-family: monospace;font-weight: bold;display: inline-block;line-height: 1.2em;}#sk-container-id-4 div.sk-label-container {text-align: center;}#sk-container-id-4 div.sk-container {/* jupyter's `normalize.less` sets `[hidden] { display: none; }` but bootstrap.min.css set `[hidden] { display: none !important; }` so we also need the `!important` here to be able to override the default hidden behavior on the sphinx rendered scikit-learn.org. See: https://github.com/scikit-learn/scikit-learn/issues/21755 */display: inline-block !important;position: relative;}#sk-container-id-4 div.sk-text-repr-fallback {display: none;}</style><div id=\"sk-container-id-4\" class=\"sk-top-container\"><div class=\"sk-text-repr-fallback\"><pre>Ridge(alpha=0.1)</pre><b>In a Jupyter environment, please rerun this cell to show the HTML representation or trust the notebook. <br />On GitHub, the HTML representation is unable to render, please try loading this page with nbviewer.org.</b></div><div class=\"sk-container\" hidden><div class=\"sk-item\"><div class=\"sk-estimator sk-toggleable\"><input class=\"sk-toggleable__control sk-hidden--visually\" id=\"sk-estimator-id-4\" type=\"checkbox\" checked><label for=\"sk-estimator-id-4\" class=\"sk-toggleable__label sk-toggleable__label-arrow\">Ridge</label><div class=\"sk-toggleable__content\"><pre>Ridge(alpha=0.1)</pre></div></div></div></div></div>"
            ],
            "text/plain": [
              "Ridge(alpha=0.1)"
            ]
          },
          "execution_count": 83,
          "metadata": {},
          "output_type": "execute_result"
        }
      ],
      "source": [
        "# Ajustamos la regresión lineal con el mejor alpha\n",
        "ridge = Ridge(alpha = 0.1)\n",
        "ridge.fit(x_train,y_train)"
      ]
    },
    {
      "cell_type": "code",
      "execution_count": null,
      "id": "49f89433",
      "metadata": {
        "id": "49f89433"
      },
      "outputs": [],
      "source": [
        "resid_train = y_train - ridge.predict(x_train)\n",
        "resid_tes = y_test - ridge.predict(x_test)"
      ]
    },
    {
      "cell_type": "code",
      "execution_count": null,
      "id": "e35a7a42",
      "metadata": {
        "id": "e35a7a42",
        "outputId": "9b61964b-9a78-4d06-af8e-6ed962705a86"
      },
      "outputs": [
        {
          "data": {
            "text/plain": [
              "37701604.91109795"
            ]
          },
          "execution_count": 85,
          "metadata": {},
          "output_type": "execute_result"
        }
      ],
      "source": [
        "# Calculamos el error cuadrático medio de train\n",
        "mse=sum(resid_train**2)/len(resid_train)\n",
        "mse"
      ]
    },
    {
      "cell_type": "code",
      "execution_count": null,
      "id": "c2c69604",
      "metadata": {
        "id": "c2c69604",
        "outputId": "9a289acf-922c-4f49-f3ec-ecdbd77e13e3"
      },
      "outputs": [
        {
          "data": {
            "text/plain": [
              "31900618.3607631"
            ]
          },
          "execution_count": 86,
          "metadata": {},
          "output_type": "execute_result"
        }
      ],
      "source": [
        "# Calculamos el error cuadrático medio de test\n",
        "mse=sum(resid_test**2)/len(resid_test)\n",
        "mse"
      ]
    },
    {
      "cell_type": "code",
      "execution_count": null,
      "id": "4903ff5b",
      "metadata": {
        "id": "4903ff5b",
        "outputId": "1a7a3310-4797-40bf-fe3b-908b82a3cc2e"
      },
      "outputs": [
        {
          "data": {
            "text/plain": [
              "0.7370257567618781"
            ]
          },
          "execution_count": 87,
          "metadata": {},
          "output_type": "execute_result"
        }
      ],
      "source": [
        "# Calculamos el R2 para los datos de train\n",
        "ridge.score(x_train,y_train)"
      ]
    },
    {
      "cell_type": "code",
      "execution_count": null,
      "id": "d2ba16fa",
      "metadata": {
        "id": "d2ba16fa",
        "outputId": "f7470c51-bdb9-4325-f17d-a7ca761bdf45"
      },
      "outputs": [
        {
          "data": {
            "text/plain": [
              "0.7999494029161157"
            ]
          },
          "execution_count": 88,
          "metadata": {},
          "output_type": "execute_result"
        }
      ],
      "source": [
        "# Calculamos el R2 para los datos de test\n",
        "ridge.score(x_test,y_test)"
      ]
    },
    {
      "cell_type": "code",
      "execution_count": null,
      "id": "922575b2-95d4-463b-a538-12dcd11494d2",
      "metadata": {
        "id": "922575b2-95d4-463b-a538-12dcd11494d2",
        "outputId": "e9908c7b-d7f8-426c-cde0-17487ab1f665"
      },
      "outputs": [
        {
          "data": {
            "text/plain": [
              "array([0.        , 0.09090909, 0.18181818, 0.27272727, 0.36363636,\n",
              "       0.45454545, 0.54545455, 0.63636364, 0.72727273, 0.81818182,\n",
              "       0.90909091, 1.        ])"
            ]
          },
          "execution_count": 89,
          "metadata": {},
          "output_type": "execute_result"
        }
      ],
      "source": [
        "np.linspace(0,1,12)"
      ]
    },
    {
      "cell_type": "markdown",
      "id": "f5e90898",
      "metadata": {
        "id": "f5e90898"
      },
      "source": [
        "### Regularización Lasso"
      ]
    },
    {
      "cell_type": "code",
      "execution_count": null,
      "id": "c8064f62",
      "metadata": {
        "id": "c8064f62"
      },
      "outputs": [],
      "source": [
        "from sklearn.linear_model import Lasso\n",
        "rep_r2 = []\n",
        "rep_rmse = []\n",
        "for i in np.linspace(0,1,11):\n",
        "    lasso = Lasso(alpha = i)\n",
        "    lasso.fit(x_train, y_train)\n",
        "    y_est = lasso.predict(x_train)\n",
        "    # Calculamos las métricas\n",
        "    rep_r2.append(lasso.score(x_train,y_train))\n",
        "    rep_rmse.append(m.sqrt(mean_squared_error(y_train,y_est)))"
      ]
    },
    {
      "cell_type": "code",
      "execution_count": null,
      "id": "15e8936d",
      "metadata": {
        "id": "15e8936d",
        "outputId": "cf5a489d-7e0f-4820-a624-fcd2a616f9eb"
      },
      "outputs": [
        {
          "data": {
            "image/png": "[encoded data removed]",
            "text/plain": [
              "<Figure size 640x480 with 1 Axes>"
            ]
          },
          "metadata": {},
          "output_type": "display_data"
        }
      ],
      "source": [
        "# Gráfica entre el alpha y el r2\n",
        "plt.plot(np.linspace(0,1,11), rep_r2)\n",
        "plt.show()"
      ]
    },
    {
      "cell_type": "code",
      "execution_count": null,
      "id": "c2a12c53",
      "metadata": {
        "id": "c2a12c53",
        "outputId": "9520bc1d-d8a4-42b8-9c25-211529313905"
      },
      "outputs": [
        {
          "data": {
            "image/png": "[encoded data removed]",
            "text/plain": [
              "<Figure size 640x480 with 1 Axes>"
            ]
          },
          "metadata": {},
          "output_type": "display_data"
        }
      ],
      "source": [
        "# Gráfica entre el alpha y el rmse\n",
        "plt.plot(np.linspace(0,1,11), rep_rmse)\n",
        "plt.show()"
      ]
    },
    {
      "cell_type": "code",
      "execution_count": null,
      "id": "e22afd44",
      "metadata": {
        "id": "e22afd44",
        "outputId": "3c5421b1-b3fb-4889-9953-46a8c3d2f05f"
      },
      "outputs": [
        {
          "data": {
            "text/html": [
              "<style>#sk-container-id-5 {color: black;}#sk-container-id-5 pre{padding: 0;}#sk-container-id-5 div.sk-toggleable {background-color: white;}#sk-container-id-5 label.sk-toggleable__label {cursor: pointer;display: block;width: 100%;margin-bottom: 0;padding: 0.3em;box-sizing: border-box;text-align: center;}#sk-container-id-5 label.sk-toggleable__label-arrow:before {content: \"▸\";float: left;margin-right: 0.25em;color: #696969;}#sk-container-id-5 label.sk-toggleable__label-arrow:hover:before {color: black;}#sk-container-id-5 div.sk-estimator:hover label.sk-toggleable__label-arrow:before {color: black;}#sk-container-id-5 div.sk-toggleable__content {max-height: 0;max-width: 0;overflow: hidden;text-align: left;background-color: #f0f8ff;}#sk-container-id-5 div.sk-toggleable__content pre {margin: 0.2em;color: black;border-radius: 0.25em;background-color: #f0f8ff;}#sk-container-id-5 input.sk-toggleable__control:checked~div.sk-toggleable__content {max-height: 200px;max-width: 100%;overflow: auto;}#sk-container-id-5 input.sk-toggleable__control:checked~label.sk-toggleable__label-arrow:before {content: \"▾\";}#sk-container-id-5 div.sk-estimator input.sk-toggleable__control:checked~label.sk-toggleable__label {background-color: #d4ebff;}#sk-container-id-5 div.sk-label input.sk-toggleable__control:checked~label.sk-toggleable__label {background-color: #d4ebff;}#sk-container-id-5 input.sk-hidden--visually {border: 0;clip: rect(1px 1px 1px 1px);clip: rect(1px, 1px, 1px, 1px);height: 1px;margin: -1px;overflow: hidden;padding: 0;position: absolute;width: 1px;}#sk-container-id-5 div.sk-estimator {font-family: monospace;background-color: #f0f8ff;border: 1px dotted black;border-radius: 0.25em;box-sizing: border-box;margin-bottom: 0.5em;}#sk-container-id-5 div.sk-estimator:hover {background-color: #d4ebff;}#sk-container-id-5 div.sk-parallel-item::after {content: \"\";width: 100%;border-bottom: 1px solid gray;flex-grow: 1;}#sk-container-id-5 div.sk-label:hover label.sk-toggleable__label {background-color: #d4ebff;}#sk-container-id-5 div.sk-serial::before {content: \"\";position: absolute;border-left: 1px solid gray;box-sizing: border-box;top: 0;bottom: 0;left: 50%;z-index: 0;}#sk-container-id-5 div.sk-serial {display: flex;flex-direction: column;align-items: center;background-color: white;padding-right: 0.2em;padding-left: 0.2em;position: relative;}#sk-container-id-5 div.sk-item {position: relative;z-index: 1;}#sk-container-id-5 div.sk-parallel {display: flex;align-items: stretch;justify-content: center;background-color: white;position: relative;}#sk-container-id-5 div.sk-item::before, #sk-container-id-5 div.sk-parallel-item::before {content: \"\";position: absolute;border-left: 1px solid gray;box-sizing: border-box;top: 0;bottom: 0;left: 50%;z-index: -1;}#sk-container-id-5 div.sk-parallel-item {display: flex;flex-direction: column;z-index: 1;position: relative;background-color: white;}#sk-container-id-5 div.sk-parallel-item:first-child::after {align-self: flex-end;width: 50%;}#sk-container-id-5 div.sk-parallel-item:last-child::after {align-self: flex-start;width: 50%;}#sk-container-id-5 div.sk-parallel-item:only-child::after {width: 0;}#sk-container-id-5 div.sk-dashed-wrapped {border: 1px dashed gray;margin: 0 0.4em 0.5em 0.4em;box-sizing: border-box;padding-bottom: 0.4em;background-color: white;}#sk-container-id-5 div.sk-label label {font-family: monospace;font-weight: bold;display: inline-block;line-height: 1.2em;}#sk-container-id-5 div.sk-label-container {text-align: center;}#sk-container-id-5 div.sk-container {/* jupyter's `normalize.less` sets `[hidden] { display: none; }` but bootstrap.min.css set `[hidden] { display: none !important; }` so we also need the `!important` here to be able to override the default hidden behavior on the sphinx rendered scikit-learn.org. See: https://github.com/scikit-learn/scikit-learn/issues/21755 */display: inline-block !important;position: relative;}#sk-container-id-5 div.sk-text-repr-fallback {display: none;}</style><div id=\"sk-container-id-5\" class=\"sk-top-container\"><div class=\"sk-text-repr-fallback\"><pre>Lasso(alpha=0)</pre><b>In a Jupyter environment, please rerun this cell to show the HTML representation or trust the notebook. <br />On GitHub, the HTML representation is unable to render, please try loading this page with nbviewer.org.</b></div><div class=\"sk-container\" hidden><div class=\"sk-item\"><div class=\"sk-estimator sk-toggleable\"><input class=\"sk-toggleable__control sk-hidden--visually\" id=\"sk-estimator-id-5\" type=\"checkbox\" checked><label for=\"sk-estimator-id-5\" class=\"sk-toggleable__label sk-toggleable__label-arrow\">Lasso</label><div class=\"sk-toggleable__content\"><pre>Lasso(alpha=0)</pre></div></div></div></div></div>"
            ],
            "text/plain": [
              "Lasso(alpha=0)"
            ]
          },
          "execution_count": 93,
          "metadata": {},
          "output_type": "execute_result"
        }
      ],
      "source": [
        "# Ajustamos la regresión lineal con el mejor alpha\n",
        "lasso = Lasso(alpha = 0)\n",
        "lasso.fit(x_train,y_train)"
      ]
    },
    {
      "cell_type": "code",
      "execution_count": null,
      "id": "78f26e01",
      "metadata": {
        "id": "78f26e01"
      },
      "outputs": [],
      "source": [
        "resid_train = y_train - lasso.predict(x_train)\n",
        "resid_test = y_test - lasso.predict(x_test)"
      ]
    },
    {
      "cell_type": "code",
      "execution_count": null,
      "id": "ad3a0e7d",
      "metadata": {
        "id": "ad3a0e7d",
        "outputId": "2f0295f6-2046-4f45-ae8f-337a875e826f"
      },
      "outputs": [
        {
          "data": {
            "text/plain": [
              "37701636.56616475"
            ]
          },
          "execution_count": 104,
          "metadata": {},
          "output_type": "execute_result"
        }
      ],
      "source": [
        "# Calculamos el error cuadrático medio de train\n",
        "mse=sum(resid_train**2)/len(resid_train)\n",
        "mse"
      ]
    },
    {
      "cell_type": "code",
      "execution_count": null,
      "id": "0cc8a450",
      "metadata": {
        "id": "0cc8a450",
        "outputId": "54f50d19-c85f-454f-d015-83590c80acb4"
      },
      "outputs": [
        {
          "data": {
            "text/plain": [
              "31838305.421035457"
            ]
          },
          "execution_count": 105,
          "metadata": {},
          "output_type": "execute_result"
        }
      ],
      "source": [
        "# Calculamos el error cuadrático medio de test\n",
        "mse=sum(resid_test**2)/len(resid_test)\n",
        "mse"
      ]
    },
    {
      "cell_type": "code",
      "execution_count": null,
      "id": "70e9d9fc",
      "metadata": {
        "id": "70e9d9fc",
        "outputId": "f9c0b38a-0717-4b1d-8e4a-206c131bb280"
      },
      "outputs": [
        {
          "data": {
            "text/plain": [
              "0.7370255359631286"
            ]
          },
          "execution_count": 106,
          "metadata": {},
          "output_type": "execute_result"
        }
      ],
      "source": [
        "# Calculamos el R2 para los datos de train\n",
        "lasso.score(x_train,y_train)"
      ]
    },
    {
      "cell_type": "code",
      "execution_count": null,
      "id": "9dd6a1bb",
      "metadata": {
        "id": "9dd6a1bb",
        "outputId": "2a09ee8a-b971-44ab-c730-831ed5d002a7"
      },
      "outputs": [
        {
          "data": {
            "text/plain": [
              "0.7999226232669785"
            ]
          },
          "execution_count": 107,
          "metadata": {},
          "output_type": "execute_result"
        }
      ],
      "source": [
        "lasso.score(x_test,y_test)"
      ]
    },
    {
      "cell_type": "markdown",
      "id": "fc7c8dd0",
      "metadata": {
        "id": "fc7c8dd0"
      },
      "source": [
        "### Regularización Elastic Net"
      ]
    },
    {
      "cell_type": "code",
      "execution_count": null,
      "id": "3774b615",
      "metadata": {
        "id": "3774b615"
      },
      "outputs": [],
      "source": [
        "# Calibramos los valores de alpha y l1_ratio\n",
        "from sklearn.linear_model import ElasticNet\n",
        "from sklearn.model_selection import GridSearchCV\n",
        "from sklearn.metrics import mean_squared_error\n",
        "elastic = ElasticNet()\n",
        "GS = GridSearchCV(estimator = elastic,\n",
        "                  param_grid = {\"alpha\":[0,0.001, 0.01, 0.1, 10, 100],\n",
        "                                \"l1_ratio\":[0,0.001, 0.005, 0.03, 0.17, 1.0]},\n",
        "                  scoring = \"neg_mean_squared_error\",\n",
        "                  cv = 10)"
      ]
    },
    {
      "cell_type": "code",
      "execution_count": null,
      "id": "825234e3",
      "metadata": {
        "id": "825234e3",
        "outputId": "b9c9572a-5b9a-49f7-d34b-c86b2e0f2a23"
      },
      "outputs": [
        {
          "data": {
            "text/html": [
              "<style>#sk-container-id-10 {color: black;}#sk-container-id-10 pre{padding: 0;}#sk-container-id-10 div.sk-toggleable {background-color: white;}#sk-container-id-10 label.sk-toggleable__label {cursor: pointer;display: block;width: 100%;margin-bottom: 0;padding: 0.3em;box-sizing: border-box;text-align: center;}#sk-container-id-10 label.sk-toggleable__label-arrow:before {content: \"▸\";float: left;margin-right: 0.25em;color: #696969;}#sk-container-id-10 label.sk-toggleable__label-arrow:hover:before {color: black;}#sk-container-id-10 div.sk-estimator:hover label.sk-toggleable__label-arrow:before {color: black;}#sk-container-id-10 div.sk-toggleable__content {max-height: 0;max-width: 0;overflow: hidden;text-align: left;background-color: #f0f8ff;}#sk-container-id-10 div.sk-toggleable__content pre {margin: 0.2em;color: black;border-radius: 0.25em;background-color: #f0f8ff;}#sk-container-id-10 input.sk-toggleable__control:checked~div.sk-toggleable__content {max-height: 200px;max-width: 100%;overflow: auto;}#sk-container-id-10 input.sk-toggleable__control:checked~label.sk-toggleable__label-arrow:before {content: \"▾\";}#sk-container-id-10 div.sk-estimator input.sk-toggleable__control:checked~label.sk-toggleable__label {background-color: #d4ebff;}#sk-container-id-10 div.sk-label input.sk-toggleable__control:checked~label.sk-toggleable__label {background-color: #d4ebff;}#sk-container-id-10 input.sk-hidden--visually {border: 0;clip: rect(1px 1px 1px 1px);clip: rect(1px, 1px, 1px, 1px);height: 1px;margin: -1px;overflow: hidden;padding: 0;position: absolute;width: 1px;}#sk-container-id-10 div.sk-estimator {font-family: monospace;background-color: #f0f8ff;border: 1px dotted black;border-radius: 0.25em;box-sizing: border-box;margin-bottom: 0.5em;}#sk-container-id-10 div.sk-estimator:hover {background-color: #d4ebff;}#sk-container-id-10 div.sk-parallel-item::after {content: \"\";width: 100%;border-bottom: 1px solid gray;flex-grow: 1;}#sk-container-id-10 div.sk-label:hover label.sk-toggleable__label {background-color: #d4ebff;}#sk-container-id-10 div.sk-serial::before {content: \"\";position: absolute;border-left: 1px solid gray;box-sizing: border-box;top: 0;bottom: 0;left: 50%;z-index: 0;}#sk-container-id-10 div.sk-serial {display: flex;flex-direction: column;align-items: center;background-color: white;padding-right: 0.2em;padding-left: 0.2em;position: relative;}#sk-container-id-10 div.sk-item {position: relative;z-index: 1;}#sk-container-id-10 div.sk-parallel {display: flex;align-items: stretch;justify-content: center;background-color: white;position: relative;}#sk-container-id-10 div.sk-item::before, #sk-container-id-10 div.sk-parallel-item::before {content: \"\";position: absolute;border-left: 1px solid gray;box-sizing: border-box;top: 0;bottom: 0;left: 50%;z-index: -1;}#sk-container-id-10 div.sk-parallel-item {display: flex;flex-direction: column;z-index: 1;position: relative;background-color: white;}#sk-container-id-10 div.sk-parallel-item:first-child::after {align-self: flex-end;width: 50%;}#sk-container-id-10 div.sk-parallel-item:last-child::after {align-self: flex-start;width: 50%;}#sk-container-id-10 div.sk-parallel-item:only-child::after {width: 0;}#sk-container-id-10 div.sk-dashed-wrapped {border: 1px dashed gray;margin: 0 0.4em 0.5em 0.4em;box-sizing: border-box;padding-bottom: 0.4em;background-color: white;}#sk-container-id-10 div.sk-label label {font-family: monospace;font-weight: bold;display: inline-block;line-height: 1.2em;}#sk-container-id-10 div.sk-label-container {text-align: center;}#sk-container-id-10 div.sk-container {/* jupyter's `normalize.less` sets `[hidden] { display: none; }` but bootstrap.min.css set `[hidden] { display: none !important; }` so we also need the `!important` here to be able to override the default hidden behavior on the sphinx rendered scikit-learn.org. See: https://github.com/scikit-learn/scikit-learn/issues/21755 */display: inline-block !important;position: relative;}#sk-container-id-10 div.sk-text-repr-fallback {display: none;}</style><div id=\"sk-container-id-10\" class=\"sk-top-container\"><div class=\"sk-text-repr-fallback\"><pre>GridSearchCV(cv=10, estimator=ElasticNet(),\n",
              "             param_grid={&#x27;alpha&#x27;: [0, 0.001, 0.01, 0.1, 10, 100],\n",
              "                         &#x27;l1_ratio&#x27;: [0, 0.001, 0.005, 0.03, 0.17, 1.0]},\n",
              "             scoring=&#x27;neg_mean_squared_error&#x27;)</pre><b>In a Jupyter environment, please rerun this cell to show the HTML representation or trust the notebook. <br />On GitHub, the HTML representation is unable to render, please try loading this page with nbviewer.org.</b></div><div class=\"sk-container\" hidden><div class=\"sk-item sk-dashed-wrapped\"><div class=\"sk-label-container\"><div class=\"sk-label sk-toggleable\"><input class=\"sk-toggleable__control sk-hidden--visually\" id=\"sk-estimator-id-14\" type=\"checkbox\" ><label for=\"sk-estimator-id-14\" class=\"sk-toggleable__label sk-toggleable__label-arrow\">GridSearchCV</label><div class=\"sk-toggleable__content\"><pre>GridSearchCV(cv=10, estimator=ElasticNet(),\n",
              "             param_grid={&#x27;alpha&#x27;: [0, 0.001, 0.01, 0.1, 10, 100],\n",
              "                         &#x27;l1_ratio&#x27;: [0, 0.001, 0.005, 0.03, 0.17, 1.0]},\n",
              "             scoring=&#x27;neg_mean_squared_error&#x27;)</pre></div></div></div><div class=\"sk-parallel\"><div class=\"sk-parallel-item\"><div class=\"sk-item\"><div class=\"sk-label-container\"><div class=\"sk-label sk-toggleable\"><input class=\"sk-toggleable__control sk-hidden--visually\" id=\"sk-estimator-id-15\" type=\"checkbox\" ><label for=\"sk-estimator-id-15\" class=\"sk-toggleable__label sk-toggleable__label-arrow\">estimator: ElasticNet</label><div class=\"sk-toggleable__content\"><pre>ElasticNet()</pre></div></div></div><div class=\"sk-serial\"><div class=\"sk-item\"><div class=\"sk-estimator sk-toggleable\"><input class=\"sk-toggleable__control sk-hidden--visually\" id=\"sk-estimator-id-16\" type=\"checkbox\" ><label for=\"sk-estimator-id-16\" class=\"sk-toggleable__label sk-toggleable__label-arrow\">ElasticNet</label><div class=\"sk-toggleable__content\"><pre>ElasticNet()</pre></div></div></div></div></div></div></div></div></div></div>"
            ],
            "text/plain": [
              "GridSearchCV(cv=10, estimator=ElasticNet(),\n",
              "             param_grid={'alpha': [0, 0.001, 0.01, 0.1, 10, 100],\n",
              "                         'l1_ratio': [0, 0.001, 0.005, 0.03, 0.17, 1.0]},\n",
              "             scoring='neg_mean_squared_error')"
            ]
          },
          "execution_count": 135,
          "metadata": {},
          "output_type": "execute_result"
        }
      ],
      "source": [
        "# Entrenamos el modelo\n",
        "GS.fit(x_train,y_train)"
      ]
    },
    {
      "cell_type": "code",
      "execution_count": null,
      "id": "4876507a",
      "metadata": {
        "id": "4876507a",
        "outputId": "c29dd6a3-586f-4b3c-b651-4cd3bf0f17f8"
      },
      "outputs": [
        {
          "data": {
            "text/plain": [
              "{'alpha': 10, 'l1_ratio': 1.0}"
            ]
          },
          "execution_count": 136,
          "metadata": {},
          "output_type": "execute_result"
        }
      ],
      "source": [
        "# Mostramos el mejor modelo resultado del Grid Search\n",
        "GS.best_params_"
      ]
    },
    {
      "cell_type": "code",
      "execution_count": null,
      "id": "da427e12",
      "metadata": {
        "id": "da427e12",
        "outputId": "15e9fd83-74b3-477b-f5de-397bb33ebb99"
      },
      "outputs": [
        {
          "data": {
            "text/html": [
              "<style>#sk-container-id-11 {color: black;}#sk-container-id-11 pre{padding: 0;}#sk-container-id-11 div.sk-toggleable {background-color: white;}#sk-container-id-11 label.sk-toggleable__label {cursor: pointer;display: block;width: 100%;margin-bottom: 0;padding: 0.3em;box-sizing: border-box;text-align: center;}#sk-container-id-11 label.sk-toggleable__label-arrow:before {content: \"▸\";float: left;margin-right: 0.25em;color: #696969;}#sk-container-id-11 label.sk-toggleable__label-arrow:hover:before {color: black;}#sk-container-id-11 div.sk-estimator:hover label.sk-toggleable__label-arrow:before {color: black;}#sk-container-id-11 div.sk-toggleable__content {max-height: 0;max-width: 0;overflow: hidden;text-align: left;background-color: #f0f8ff;}#sk-container-id-11 div.sk-toggleable__content pre {margin: 0.2em;color: black;border-radius: 0.25em;background-color: #f0f8ff;}#sk-container-id-11 input.sk-toggleable__control:checked~div.sk-toggleable__content {max-height: 200px;max-width: 100%;overflow: auto;}#sk-container-id-11 input.sk-toggleable__control:checked~label.sk-toggleable__label-arrow:before {content: \"▾\";}#sk-container-id-11 div.sk-estimator input.sk-toggleable__control:checked~label.sk-toggleable__label {background-color: #d4ebff;}#sk-container-id-11 div.sk-label input.sk-toggleable__control:checked~label.sk-toggleable__label {background-color: #d4ebff;}#sk-container-id-11 input.sk-hidden--visually {border: 0;clip: rect(1px 1px 1px 1px);clip: rect(1px, 1px, 1px, 1px);height: 1px;margin: -1px;overflow: hidden;padding: 0;position: absolute;width: 1px;}#sk-container-id-11 div.sk-estimator {font-family: monospace;background-color: #f0f8ff;border: 1px dotted black;border-radius: 0.25em;box-sizing: border-box;margin-bottom: 0.5em;}#sk-container-id-11 div.sk-estimator:hover {background-color: #d4ebff;}#sk-container-id-11 div.sk-parallel-item::after {content: \"\";width: 100%;border-bottom: 1px solid gray;flex-grow: 1;}#sk-container-id-11 div.sk-label:hover label.sk-toggleable__label {background-color: #d4ebff;}#sk-container-id-11 div.sk-serial::before {content: \"\";position: absolute;border-left: 1px solid gray;box-sizing: border-box;top: 0;bottom: 0;left: 50%;z-index: 0;}#sk-container-id-11 div.sk-serial {display: flex;flex-direction: column;align-items: center;background-color: white;padding-right: 0.2em;padding-left: 0.2em;position: relative;}#sk-container-id-11 div.sk-item {position: relative;z-index: 1;}#sk-container-id-11 div.sk-parallel {display: flex;align-items: stretch;justify-content: center;background-color: white;position: relative;}#sk-container-id-11 div.sk-item::before, #sk-container-id-11 div.sk-parallel-item::before {content: \"\";position: absolute;border-left: 1px solid gray;box-sizing: border-box;top: 0;bottom: 0;left: 50%;z-index: -1;}#sk-container-id-11 div.sk-parallel-item {display: flex;flex-direction: column;z-index: 1;position: relative;background-color: white;}#sk-container-id-11 div.sk-parallel-item:first-child::after {align-self: flex-end;width: 50%;}#sk-container-id-11 div.sk-parallel-item:last-child::after {align-self: flex-start;width: 50%;}#sk-container-id-11 div.sk-parallel-item:only-child::after {width: 0;}#sk-container-id-11 div.sk-dashed-wrapped {border: 1px dashed gray;margin: 0 0.4em 0.5em 0.4em;box-sizing: border-box;padding-bottom: 0.4em;background-color: white;}#sk-container-id-11 div.sk-label label {font-family: monospace;font-weight: bold;display: inline-block;line-height: 1.2em;}#sk-container-id-11 div.sk-label-container {text-align: center;}#sk-container-id-11 div.sk-container {/* jupyter's `normalize.less` sets `[hidden] { display: none; }` but bootstrap.min.css set `[hidden] { display: none !important; }` so we also need the `!important` here to be able to override the default hidden behavior on the sphinx rendered scikit-learn.org. See: https://github.com/scikit-learn/scikit-learn/issues/21755 */display: inline-block !important;position: relative;}#sk-container-id-11 div.sk-text-repr-fallback {display: none;}</style><div id=\"sk-container-id-11\" class=\"sk-top-container\"><div class=\"sk-text-repr-fallback\"><pre>ElasticNet(alpha=10, l1_ratio=1)</pre><b>In a Jupyter environment, please rerun this cell to show the HTML representation or trust the notebook. <br />On GitHub, the HTML representation is unable to render, please try loading this page with nbviewer.org.</b></div><div class=\"sk-container\" hidden><div class=\"sk-item\"><div class=\"sk-estimator sk-toggleable\"><input class=\"sk-toggleable__control sk-hidden--visually\" id=\"sk-estimator-id-17\" type=\"checkbox\" checked><label for=\"sk-estimator-id-17\" class=\"sk-toggleable__label sk-toggleable__label-arrow\">ElasticNet</label><div class=\"sk-toggleable__content\"><pre>ElasticNet(alpha=10, l1_ratio=1)</pre></div></div></div></div></div>"
            ],
            "text/plain": [
              "ElasticNet(alpha=10, l1_ratio=1)"
            ]
          },
          "execution_count": 137,
          "metadata": {},
          "output_type": "execute_result"
        }
      ],
      "source": [
        "# Ajustamos el modelo con los mejores valores de alpha y l1_ratio\n",
        "elastic = ElasticNet(alpha = 10, l1_ratio = 1)\n",
        "elastic.fit(x_train,y_train)"
      ]
    },
    {
      "cell_type": "code",
      "execution_count": null,
      "id": "88113215",
      "metadata": {
        "id": "88113215"
      },
      "outputs": [],
      "source": [
        "resid_train = y_train - elastic.predict(x_train)\n",
        "resid_test = y_test - elastic.predict(x_test)"
      ]
    },
    {
      "cell_type": "code",
      "execution_count": null,
      "id": "706f866f",
      "metadata": {
        "id": "706f866f",
        "outputId": "d7f7a690-955b-4b06-d379-980e5358feaf"
      },
      "outputs": [
        {
          "data": {
            "text/plain": [
              "37711404.18051278"
            ]
          },
          "execution_count": 139,
          "metadata": {},
          "output_type": "execute_result"
        }
      ],
      "source": [
        "# Calculamos el error cuadrático medio de test\n",
        "mse=sum(resid_train**2)/len(resid_train)\n",
        "mse"
      ]
    },
    {
      "cell_type": "code",
      "execution_count": null,
      "id": "9e77e558",
      "metadata": {
        "id": "9e77e558",
        "outputId": "b132a2be-5553-47b0-c5d2-15217bcc8835"
      },
      "outputs": [
        {
          "data": {
            "text/plain": [
              "31931879.620711792"
            ]
          },
          "execution_count": 140,
          "metadata": {},
          "output_type": "execute_result"
        }
      ],
      "source": [
        "# Calculamos el error cuadrático medio de test\n",
        "mse=sum(resid_test**2)/len(resid_test)\n",
        "mse"
      ]
    },
    {
      "cell_type": "code",
      "execution_count": null,
      "id": "4f9d6f0b",
      "metadata": {
        "id": "4f9d6f0b",
        "outputId": "27460c9c-8015-4279-be73-d0d867fac2fa"
      },
      "outputs": [
        {
          "data": {
            "text/plain": [
              "0.7369574054154377"
            ]
          },
          "execution_count": 141,
          "metadata": {},
          "output_type": "execute_result"
        }
      ],
      "source": [
        "# Calculamos el R2 para los datos de train\n",
        "elastic.score(x_train,y_train)"
      ]
    },
    {
      "cell_type": "code",
      "execution_count": null,
      "id": "3ddd47c4",
      "metadata": {
        "id": "3ddd47c4",
        "outputId": "114aba13-1669-47b1-a34c-2c75ec76f5a5"
      },
      "outputs": [
        {
          "data": {
            "text/plain": [
              "0.7993345869329603"
            ]
          },
          "execution_count": 142,
          "metadata": {},
          "output_type": "execute_result"
        }
      ],
      "source": [
        "# Calculamos el R2 para los datos de test\n",
        "elastic.score(x_test,y_test)"
      ]
    },
    {
      "cell_type": "code",
      "execution_count": null,
      "id": "181d7ae5",
      "metadata": {
        "id": "181d7ae5",
        "outputId": "85f7e237-5f82-480b-c8fe-bc31366e14b0"
      },
      "outputs": [
        {
          "data": {
            "text/html": [
              "<div>\n",
              "<style scoped>\n",
              "    .dataframe tbody tr th:only-of-type {\n",
              "        vertical-align: middle;\n",
              "    }\n",
              "\n",
              "    .dataframe tbody tr th {\n",
              "        vertical-align: top;\n",
              "    }\n",
              "\n",
              "    .dataframe thead th {\n",
              "        text-align: right;\n",
              "    }\n",
              "</style>\n",
              "<table border=\"1\" class=\"dataframe\">\n",
              "  <thead>\n",
              "    <tr style=\"text-align: right;\">\n",
              "      <th></th>\n",
              "      <th>r2_lineal</th>\n",
              "      <th>r2_ridge</th>\n",
              "      <th>r2_lasso</th>\n",
              "      <th>r2_elasticnet</th>\n",
              "    </tr>\n",
              "  </thead>\n",
              "  <tbody>\n",
              "    <tr>\n",
              "      <th>train</th>\n",
              "      <td>0.736925</td>\n",
              "      <td>0.737026</td>\n",
              "      <td>0.737026</td>\n",
              "      <td>0.736957</td>\n",
              "    </tr>\n",
              "    <tr>\n",
              "      <th>test</th>\n",
              "      <td>0.799531</td>\n",
              "      <td>0.799949</td>\n",
              "      <td>0.799923</td>\n",
              "      <td>0.799335</td>\n",
              "    </tr>\n",
              "  </tbody>\n",
              "</table>\n",
              "</div>"
            ],
            "text/plain": [
              "       r2_lineal  r2_ridge  r2_lasso  r2_elasticnet\n",
              "train   0.736925  0.737026  0.737026       0.736957\n",
              "test    0.799531  0.799949  0.799923       0.799335"
            ]
          },
          "execution_count": 143,
          "metadata": {},
          "output_type": "execute_result"
        }
      ],
      "source": [
        "reporte = {\"r2_lineal\":[mod_lineal.score(x_train,y_train),mod_lineal.score(x_test,y_test)],\n",
        "              \"r2_ridge\":[ridge.score(x_train,y_train),ridge.score(x_test,y_test)],\n",
        "              \"r2_lasso\":[lasso.score(x_train,y_train),lasso.score(x_test,y_test)],\n",
        "              \"r2_elasticnet\":[elastic.score(x_train,y_train),elastic.score(x_test,y_test)]}\n",
        "reporte = pd.DataFrame(reporte, index = [\"train\",\"test\"])\n",
        "reporte"
      ]
    }
  ],
  "metadata": {
    "kernelspec": {
      "display_name": "Python 3 (ipykernel)",
      "language": "python",
      "name": "python3"
    },
    "language_info": {
      "codemirror_mode": {
        "name": "ipython",
        "version": 3
      },
      "file_extension": ".py",
      "mimetype": "text/x-python",
      "name": "python",
      "nbconvert_exporter": "python",
      "pygments_lexer": "ipython3",
      "version": "3.11.4"
    },
    "colab": {
      "provenance": []
    }
  },
  "nbformat": 4,
  "nbformat_minor": 5
}